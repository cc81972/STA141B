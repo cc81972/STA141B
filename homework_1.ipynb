{
 "cells": [
  {
   "cell_type": "markdown",
   "metadata": {
    "tags": [
     "header"
    ]
   },
   "source": [
    "# STA 141B Assignment 1\n",
    "\n",
    "Due __January 26, 2024__ by __11:59pm__. Submit your work by uploading it to Gradescope through Canvas.\n",
    "\n",
    "Instructions:\n",
    "\n",
    "1. Provide your solutions in new cells following each exercise description. Create as many new cells as necessary. Use code cells for your Python scripts and Markdown cells for explanatory text or answers to non-coding questions. Answer all textual questions in complete sentences.\n",
    "2. The use of assistive tools is permitted, but must be indicated. You will be graded on you proficiency in coding. Produce high quality code by adhering to proper programming principles. \n",
    "3. Export the .jpynb as .pdf and submit it on Gradescope in time. To facilitate grading, indicate the area of the solution on the submission. Submissions without indication will be marked down. No late submissions accepted. \n",
    "4. The total number of points is 10. "
   ]
  },
  {
   "cell_type": "markdown",
   "metadata": {
    "tags": [
     "exercise"
    ]
   },
   "source": [
    "__Exercise 1__\n",
    "\n",
    "This exercise will review basic concepts of programming. Only use pure python code and no methods (like `str.find`) that are optimized in, e.g., `C`. Likewise, do not use any packages except those suitable for parallelization in part (c). \n",
    "\n",
    "\n",
    "\n",
    "__(a)__ Write a recursive function `seq_count(x, ...)` that returns length of the longest subsequence of identical elements in the sequence object `x`. Run: \n",
    "```\n",
    "seq_count([[1], [1], [1], 1, 3, 3, 2, 2, 4, 0])\n",
    "seq_count(('G', 'g', 'a', \"a\", \"a\", '''a''', 2, 's', 's'))\n",
    "seq_count([3, 1, int(True), 1, 1, 1, 3, 3])\n",
    "seq_count((1, 3, None, 3, 3, 1, 3, 3, 4, 0))\n",
    "```"
   ]
  },
  {
   "cell_type": "code",
   "execution_count": 1,
   "metadata": {},
   "outputs": [],
   "source": [
    "\n",
    "\n",
    "def seq_count(x):\n",
    "    if x:\n",
    "        counter = 1\n",
    "        if x[0] == x[1]:\n",
    "            counter += 1\n",
    "        else:\n",
    "            counter = 1\n",
    "# def seq_count(x):\n",
    "#     counter = 1\n",
    "#     counter_history = [1]\n",
    "#     curr_char = x[0]\n",
    "#     for i in x[1:]:\n",
    "#         if i == curr_char:\n",
    "#             counter += 1\n",
    "#         else:\n",
    "#             counter_history.append(counter)\n",
    "#             counter = 1\n",
    "#     return max(counter_history)"
   ]
  },
  {
   "cell_type": "code",
   "execution_count": 3,
   "metadata": {
    "tags": [
     "test"
    ]
   },
   "outputs": [
    {
     "data": {
      "text/plain": [
       "2"
      ]
     },
     "execution_count": 3,
     "metadata": {},
     "output_type": "execute_result"
    }
   ],
   "source": [
    "seq_count([[1], [1], [1], 1, 3, 3, 2, 2, 4, 0])\n",
    "seq_count(('G', 'g', 'a', \"a\", \"a\", '''a''', 2, 's', 's'))\n",
    "seq_count([3, 1, int(True), 1, 1, 1, 3, 3])\n",
    "seq_count((1, 3, None, 3, 3, 1, 3, 3, 4, 0))"
   ]
  },
  {
   "cell_type": "code",
   "execution_count": 3,
   "metadata": {
    "tags": [
     "test"
    ]
   },
   "outputs": [
    {
     "data": {
      "text/plain": [
       "3"
      ]
     },
     "execution_count": 3,
     "metadata": {},
     "output_type": "execute_result"
    }
   ],
   "source": [
    "seq_count((1, 3, 1, 1, 1, '1', 1, [3, 3, 3, 3], 3, 4, 0))"
   ]
  },
  {
   "cell_type": "markdown",
   "metadata": {
    "tags": [
     "exercise"
    ]
   },
   "source": [
    "__(b)__ Write a function `pattern_count(x, pattern, ...)` that takes the two iterable objects `x` and `pattern` and returns the length of the longest subsequence of `pattern`. Run: \n",
    "```\n",
    "pattern_count('CGGACTACTAGACT', 'ACT')\n",
    "pattern_count((1, (1, 1, 1, 1), 2, 1, 1, 1), [1, 1])\n",
    "pattern_count(['ab', 'ab', 'a', 'a', 'b'], ('ab',))\n",
    "```"
   ]
  },
  {
   "cell_type": "code",
   "execution_count": null,
   "metadata": {},
   "outputs": [],
   "source": [
    "def pattern_count(x, pattern):\n",
    "    "
   ]
  },
  {
   "cell_type": "code",
   "execution_count": 9,
   "metadata": {
    "tags": [
     "test"
    ]
   },
   "outputs": [
    {
     "data": {
      "text/plain": [
       "3"
      ]
     },
     "execution_count": 9,
     "metadata": {},
     "output_type": "execute_result"
    }
   ],
   "source": [
    "pattern_count([0, 1, 2, 1, 2, 3, 1, 2, 1, 2, 1, 2, 4, 1, 2], (1, 2))"
   ]
  },
  {
   "cell_type": "code",
   "execution_count": 10,
   "metadata": {
    "tags": [
     "test"
    ]
   },
   "outputs": [
    {
     "data": {
      "text/plain": [
       "0"
      ]
     },
     "execution_count": 10,
     "metadata": {},
     "output_type": "execute_result"
    }
   ],
   "source": [
    "pattern_count([], [2])"
   ]
  },
  {
   "cell_type": "code",
   "execution_count": 11,
   "metadata": {
    "tags": [
     "test"
    ]
   },
   "outputs": [
    {
     "data": {
      "text/plain": [
       "1"
      ]
     },
     "execution_count": 11,
     "metadata": {},
     "output_type": "execute_result"
    }
   ],
   "source": [
    "pattern_count(['ab', 'ab', 'a', 'a', 'b'], 'ab') # elements in pattern must be identical to elements in x! "
   ]
  },
  {
   "cell_type": "markdown",
   "metadata": {
    "tags": [
     "exercise"
    ]
   },
   "source": [
    "__(c)__ For a long string, write code that takes strings `x`, `pattern`, and an integer `n_splits`, and uses a suitable concurrency method to search for repeating patterns using `pattern_count` from (b). \n",
    "To this end, partition `x` into `n_splits` parts and search each of them individually. Make sure not to split where a pattern is present! Run: \n",
    "```\n",
    "from random import choices, seed\n",
    "\n",
    "seed(2024)\n",
    "x = \"\".join(choices('01', k = 5_000))\n",
    "pattern = \"01\"\n",
    "n_splits = 50\n",
    "\n",
    "# here is your code \n",
    "```\n",
    "\n",
    "_Hint: You can use the fast `x.find(pattern)` to check your code._"
   ]
  },
  {
   "cell_type": "code",
   "execution_count": null,
   "metadata": {},
   "outputs": [],
   "source": [
    "from random import choices, seed\n",
    "\n",
    "seed(2024)\n",
    "x = \"\".join(choices('01', k=5_000))\n",
    "pattern = \"01\"\n",
    "n_splits = 50\n",
    "\n"
   ]
  },
  {
   "cell_type": "markdown",
   "metadata": {
    "tags": [
     "exercise"
    ]
   },
   "source": [
    "__Exercise 2__\n",
    "\n",
    "In this exercise, we will generate (pseudo-)random numbers using the inversion and accept-reject method. In order to generate the random numbers you are only allowed draw from the Uniform distribution and use\n",
    "```\n",
    "from random import uniform\n",
    "from scipy.special import binom\n",
    "from numpy import sqrt, pi, exp, tan, cumsum\n",
    "from scipy.stats import probplot\n",
    "import pandas as pd\n",
    "import matplotlib.pyplot as plt\n",
    "```\n",
    "\n",
    "_Inversion method: Let $F$ be a distribution function from which we want to draw. Define the quantile function $F^{-1}(u) = \\inf\\{x\\colon F(x)\\geq u, 0\\leq u\\leq 1\\}$. Then, if $U\\sim Unif[0,1]$, $F^{-1}(U)$ has distribution function $F$._\n",
    "\n",
    "_Accept-reject: Let $f$ be a density function from which we want to draw and there exists a density $g$ from which we can draw (e.g., via the inversion method) and for which there exists a constant $c$ such that $f(x)\\leq cg(x)$ for all $x$. The following algorithm generates a random variable $X$ with density function $f$._\n",
    "\n",
    "1. Generate a random variable $X$ from density $g$\n",
    "2. Generate a random variable $U\\sim Unif[0,1]$ (independent from $X$)\n",
    "3. If $Ucg(X) \\leq f(X)$, return $X$, otherwise repeat 1.-3.\n",
    "\n",
    "_The number of iterations needed to successfully generate $X$ is itself a random variable,\n",
    "which is geometrically distributed with the success (acceptance) probability $p = P(Ucg(X)\\leq f(X))$. Hence, the expected number of iterations is $1/p$. Some calculations show that $p = 1/c$._\n",
    "\n",
    "\n",
    "__(a)__ Generate $10 000$ samples from $Bin(10, 0.4)$ using __(i)__ the inversion method directly and __(ii)__ using the inversion method to draw corresponding Bernoulli distributed samples. __(iii)__ Plot the resulting empirical distribution functions and add the theoretical distribution function in one figure. "
   ]
  },
  {
   "cell_type": "markdown",
   "metadata": {
    "tags": [
     "exercise"
    ]
   },
   "source": [
    "__(b)__ Generate $10000$ samples from the standard normal distribution using the accept-reject method with candidate density $g(x) = (\\pi(1+x^2))^{-1}$ with distribution funciton $G(x) = \\tan^{-1}(x)/\\pi$ from the standard Cauchy distribution. To this end, __(i)__ determine (mathematically or via simulation) the value of $c\\geq1$ closest to one so that $f(x)\\leq cg(x)$ for all $x$. __(ii)__ Obtain $10000$ standard normal random variables using the accept-reject method, generating Cauchy distributed random variables using inversion method. \n",
    "__(iii)__ Compare estimated and theoretical acceptance probabilities. \n",
    "__(iv)__ Generate a QQ-plot of the generated sample. "
   ]
  },
  {
   "cell_type": "markdown",
   "metadata": {
    "tags": [
     "exercise"
    ]
   },
   "source": [
    "__Exercise 3__\n",
    "\n",
    "The demographic makeup of regions can offer crucial insights into various socio-economic factors. For policymakers, understanding age distributions can be particularly useful, as it can provide direction for initiatives ranging from educational policy to elderly care. In this section, we will work with a dataset detailing the age distribution across United States counties, broken down into specific age bins.\n",
    "\n",
    "The files `county_age_dist.csv`, `fips_state.csv` and `fips_county.csv` contain information about the age distribution of counties in selected brackets as well as names and [FIPS](https://transition.fcc.gov/oet/info/maps/census/fips/fips.txt) codes and additional information. \n",
    "\n",
    "__(a, i)__ Merge all three data frames into one `pandas.DataFrame` object names `data` with appropriate column names. __(ii)__ Remove the `info` column. Standardize column names and entries to be capitalized according to spelling rules. Remove any preceding whitespace if present for any entries. Run: \n",
    "```\n",
    "data.head(4)\n",
    "```"
   ]
  },
  {
   "cell_type": "markdown",
   "metadata": {
    "tags": [
     "exercise"
    ]
   },
   "source": [
    "__(b)__ For each county and state, compute the proportion of elderly `CPE` and `SPE` (65 and older) to the total population as well as the proportion of young people `CPY` and `SPY` (24 or younger). Add those values to the data frame. You may ignore all FIPS regions that are not in states. Run: \n",
    "```\n",
    "data.head(4)\n",
    "```"
   ]
  },
  {
   "cell_type": "code",
   "execution_count": 28,
   "metadata": {
    "tags": [
     "test"
    ]
   },
   "outputs": [
    {
     "data": {
      "text/html": [
       "<div>\n",
       "<style scoped>\n",
       "    .dataframe tbody tr th:only-of-type {\n",
       "        vertical-align: middle;\n",
       "    }\n",
       "\n",
       "    .dataframe tbody tr th {\n",
       "        vertical-align: top;\n",
       "    }\n",
       "\n",
       "    .dataframe thead th {\n",
       "        text-align: right;\n",
       "    }\n",
       "</style>\n",
       "<table border=\"1\" class=\"dataframe\">\n",
       "  <thead>\n",
       "    <tr style=\"text-align: right;\">\n",
       "      <th></th>\n",
       "      <th>FIPS</th>\n",
       "      <th>0-17</th>\n",
       "      <th>18-24</th>\n",
       "      <th>25-34</th>\n",
       "      <th>35-44</th>\n",
       "      <th>45-54</th>\n",
       "      <th>55-64</th>\n",
       "      <th>65-74</th>\n",
       "      <th>75-84</th>\n",
       "      <th>85+</th>\n",
       "      <th>County</th>\n",
       "      <th>State</th>\n",
       "      <th>CPY</th>\n",
       "      <th>CPE</th>\n",
       "      <th>SPY</th>\n",
       "      <th>SPE</th>\n",
       "    </tr>\n",
       "  </thead>\n",
       "  <tbody>\n",
       "    <tr>\n",
       "      <th>1000</th>\n",
       "      <td>21015</td>\n",
       "      <td>59756</td>\n",
       "      <td>23101</td>\n",
       "      <td>28431</td>\n",
       "      <td>30991</td>\n",
       "      <td>30735</td>\n",
       "      <td>27651</td>\n",
       "      <td>18464</td>\n",
       "      <td>8927</td>\n",
       "      <td>3291</td>\n",
       "      <td>Boone County</td>\n",
       "      <td>Kentucky</td>\n",
       "      <td>0.258296</td>\n",
       "      <td>0.052812</td>\n",
       "      <td>0.224512</td>\n",
       "      <td>0.072382</td>\n",
       "    </tr>\n",
       "    <tr>\n",
       "      <th>1001</th>\n",
       "      <td>21017</td>\n",
       "      <td>8817</td>\n",
       "      <td>4008</td>\n",
       "      <td>4419</td>\n",
       "      <td>4414</td>\n",
       "      <td>5382</td>\n",
       "      <td>5203</td>\n",
       "      <td>4145</td>\n",
       "      <td>2505</td>\n",
       "      <td>928</td>\n",
       "      <td>Bourbon County</td>\n",
       "      <td>Kentucky</td>\n",
       "      <td>0.221416</td>\n",
       "      <td>0.086211</td>\n",
       "      <td>0.224512</td>\n",
       "      <td>0.072382</td>\n",
       "    </tr>\n",
       "    <tr>\n",
       "      <th>1002</th>\n",
       "      <td>21019</td>\n",
       "      <td>20700</td>\n",
       "      <td>9781</td>\n",
       "      <td>11381</td>\n",
       "      <td>11861</td>\n",
       "      <td>12383</td>\n",
       "      <td>13059</td>\n",
       "      <td>9861</td>\n",
       "      <td>5498</td>\n",
       "      <td>2987</td>\n",
       "      <td>Boyd County</td>\n",
       "      <td>Kentucky</td>\n",
       "      <td>0.212284</td>\n",
       "      <td>0.087016</td>\n",
       "      <td>0.224512</td>\n",
       "      <td>0.072382</td>\n",
       "    </tr>\n",
       "    <tr>\n",
       "      <th>1003</th>\n",
       "      <td>21021</td>\n",
       "      <td>11693</td>\n",
       "      <td>8112</td>\n",
       "      <td>5945</td>\n",
       "      <td>6435</td>\n",
       "      <td>7132</td>\n",
       "      <td>7345</td>\n",
       "      <td>5766</td>\n",
       "      <td>3434</td>\n",
       "      <td>1599</td>\n",
       "      <td>Boyle County</td>\n",
       "      <td>Kentucky</td>\n",
       "      <td>0.203495</td>\n",
       "      <td>0.087590</td>\n",
       "      <td>0.224512</td>\n",
       "      <td>0.072382</td>\n",
       "    </tr>\n",
       "  </tbody>\n",
       "</table>\n",
       "</div>"
      ],
      "text/plain": [
       "       FIPS   0-17  18-24  25-34  35-44  45-54  55-64  65-74  75-84   85+  \\\n",
       "1000  21015  59756  23101  28431  30991  30735  27651  18464   8927  3291   \n",
       "1001  21017   8817   4008   4419   4414   5382   5203   4145   2505   928   \n",
       "1002  21019  20700   9781  11381  11861  12383  13059   9861   5498  2987   \n",
       "1003  21021  11693   8112   5945   6435   7132   7345   5766   3434  1599   \n",
       "\n",
       "              County     State       CPY       CPE       SPY       SPE  \n",
       "1000    Boone County  Kentucky  0.258296  0.052812  0.224512  0.072382  \n",
       "1001  Bourbon County  Kentucky  0.221416  0.086211  0.224512  0.072382  \n",
       "1002     Boyd County  Kentucky  0.212284  0.087016  0.224512  0.072382  \n",
       "1003    Boyle County  Kentucky  0.203495  0.087590  0.224512  0.072382  "
      ]
     },
     "execution_count": 28,
     "metadata": {},
     "output_type": "execute_result"
    }
   ],
   "source": [
    "data.iloc[1000:1004,:]"
   ]
  }
 ],
 "metadata": {
  "celltoolbar": "Tags",
  "kernelspec": {
   "display_name": "Python 3",
   "language": "python",
   "name": "python3"
  },
  "language_info": {
   "codemirror_mode": {
    "name": "ipython",
    "version": 3
   },
   "file_extension": ".py",
   "mimetype": "text/x-python",
   "name": "python",
   "nbconvert_exporter": "python",
   "pygments_lexer": "ipython3",
   "version": "3.11.6"
  },
  "vscode": {
   "interpreter": {
    "hash": "b0fa6594d8f4cbf19f97940f81e996739fb7646882a419484c72d19e05852a7e"
   }
  }
 },
 "nbformat": 4,
 "nbformat_minor": 2
}
