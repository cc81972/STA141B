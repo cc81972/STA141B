{
 "cells": [
  {
   "cell_type": "markdown",
   "metadata": {},
   "source": [
    "### Basics (15 points)"
   ]
  },
  {
   "cell_type": "markdown",
   "metadata": {},
   "source": [
    "(a) Explain the code below. What does it return? What objects are x and y?"
   ]
  },
  {
   "cell_type": "code",
   "execution_count": 1,
   "metadata": {},
   "outputs": [
    {
     "name": "stdout",
     "output_type": "stream",
     "text": [
      "[8]\n",
      "[1, 1, 2, 3, 5]\n"
     ]
    }
   ],
   "source": [
    "x = [1, 1, 2, 3, 5]\n",
    "x.append([8])\n",
    "y = x.pop()\n",
    "\n",
    "print(y)\n",
    "print(x)"
   ]
  },
  {
   "cell_type": "markdown",
   "metadata": {},
   "source": [
    "(b) Explain the code below. What does it output? Use Python terminology."
   ]
  },
  {
   "cell_type": "code",
   "execution_count": 2,
   "metadata": {},
   "outputs": [
    {
     "data": {
      "text/plain": [
       "[0, 1, 4]"
      ]
     },
     "execution_count": 2,
     "metadata": {},
     "output_type": "execute_result"
    }
   ],
   "source": [
    "x = [[x, x**2] for x in range(3)]\n",
    "[e[1] for i, e in enumerate(x) if i is e[0]]"
   ]
  },
  {
   "cell_type": "markdown",
   "metadata": {},
   "source": [
    "(c) Explain the code below and discuss its output. How, if at all, can the first entry of x be\n",
    "returned?"
   ]
  },
  {
   "cell_type": "code",
   "execution_count": 41,
   "metadata": {},
   "outputs": [
    {
     "name": "stdout",
     "output_type": "stream",
     "text": [
      "1\n",
      "False\n",
      "{'1': 1, 1: False}\n"
     ]
    }
   ],
   "source": [
    "x = {'1': 1, 1: [1], 1.0: not 1} #the key 1.0 overwrites the previous 1\n",
    "\n",
    "print(x['1'])\n",
    "print(x[1]) \n",
    "print(x)"
   ]
  },
  {
   "cell_type": "markdown",
   "metadata": {},
   "source": [
    "(d) What does the code below return? Explain?"
   ]
  },
  {
   "cell_type": "code",
   "execution_count": 43,
   "metadata": {},
   "outputs": [
    {
     "name": "stdout",
     "output_type": "stream",
     "text": [
      "{'1': 1, 1: False, range(0, 4): 4}\n",
      "hep!\n"
     ]
    }
   ],
   "source": [
    "try: x[range(4)] = 4\n",
    "except: print(\"hip!\")\n",
    "print(x)\n",
    "try: x[[4]] = 4\n",
    "except: print(\"hep!\")"
   ]
  },
  {
   "cell_type": "markdown",
   "metadata": {},
   "source": [
    "(e) What does the code below output? Explain."
   ]
  },
  {
   "cell_type": "code",
   "execution_count": 16,
   "metadata": {},
   "outputs": [
    {
     "name": "stdout",
     "output_type": "stream",
     "text": [
      "Help on function f in module __main__:\n",
      "\n",
      "f(n)\n",
      "\n",
      "[3, 5]\n"
     ]
    },
    {
     "data": {
      "text/plain": [
       "[<function __main__.f.<locals>.<lambda>(x, m=2)>,\n",
       " <function __main__.f.<locals>.<lambda>(x, m=2)>]"
      ]
     },
     "execution_count": 16,
     "metadata": {},
     "output_type": "execute_result"
    }
   ],
   "source": [
    "def f(n):\n",
    "# Takes in a number x, returns the n-th power of n\n",
    "    return lambda x, m = 2: x**n + m\n",
    "g = [f(i) for i in range(2)]\n",
    "h = [i(3) for i in g]\n",
    "\n",
    "help(f)\n",
    "print(h)"
   ]
  },
  {
   "cell_type": "markdown",
   "metadata": {},
   "source": [
    "### Memory (11 points)"
   ]
  },
  {
   "cell_type": "markdown",
   "metadata": {},
   "source": [
    "(a) Discuss the relative value of the output of code below. If relevant, what is the influence\n",
    "of a?"
   ]
  },
  {
   "cell_type": "code",
   "execution_count": 27,
   "metadata": {},
   "outputs": [
    {
     "name": "stdout",
     "output_type": "stream",
     "text": [
      "64\n",
      "40\n"
     ]
    }
   ],
   "source": [
    "import sys\n",
    "lol = ['hi']\n",
    "hi = ()\n",
    "print(sys.getsizeof(lol))\n",
    "print(sys.getsizeof(hi))\n"
   ]
  },
  {
   "cell_type": "code",
   "execution_count": 17,
   "metadata": {},
   "outputs": [
    {
     "name": "stdout",
     "output_type": "stream",
     "text": [
      "80\n",
      "64\n",
      "64\n"
     ]
    }
   ],
   "source": [
    "import sys\n",
    "a = sys.intern('why do pangolins dream of quiche') #does not change the size, rather only changing the pointer\n",
    "x = [100**100, 'hello', 'why do pangolins dream of quiche']\n",
    "y = (100**100, 'hello', a)\n",
    "\n",
    "z = (100, 'hello', 'hello')\n",
    "\n",
    "print(sys.getsizeof(x))\n",
    "print(sys.getsizeof(y))\n",
    "print(sys.getsizeof(z))"
   ]
  },
  {
   "cell_type": "markdown",
   "metadata": {},
   "source": [
    "(b) Explain the code below and discuss the output. What kind of objects are y and z?"
   ]
  },
  {
   "cell_type": "code",
   "execution_count": 18,
   "metadata": {},
   "outputs": [
    {
     "name": "stdout",
     "output_type": "stream",
     "text": [
      "[-1.0, 'hello', 'why do pangolins dream of quiche']\n",
      "100000000000000000000000000000000000000000000000000000000000000000000000000000000000000000000000000000000000000000000000000000000000000000000000000000000000000000000000000000000000000000000000000000000\n"
     ]
    }
   ],
   "source": [
    "a = [i for i in y] #[100*100, 'hello', 'why do...']\n",
    "x = [100, 'hello', a] #[100, 'hello', [100*100, 'hello', 'why do...']]\n",
    "y = x[2] #[100*100, 'hello', 'why do...']\n",
    "z = x[2][0] #100*100\n",
    "x[2][0] = -1.0 #[100, 'hello', [-1, 'hello', 'why do...']]\n",
    "\n",
    "print(y)\n",
    "print(z)"
   ]
  },
  {
   "cell_type": "markdown",
   "metadata": {},
   "source": [
    "(c) Explain the code below and discuss its output."
   ]
  },
  {
   "cell_type": "code",
   "execution_count": 29,
   "metadata": {},
   "outputs": [
    {
     "name": "stdout",
     "output_type": "stream",
     "text": [
      "<generator object <genexpr> at 0x134baaf60>\n",
      "[0, 2, 8]\n",
      "0\n"
     ]
    }
   ],
   "source": [
    "x = (x**2 for x in range(3))\n",
    "y = [2*y for y in x]\n",
    "z = sum(x)\n",
    "print(x)\n",
    "print(y)\n",
    "print(z)"
   ]
  },
  {
   "cell_type": "markdown",
   "metadata": {},
   "source": [
    "### Numpy and Pandas (10 points)"
   ]
  },
  {
   "cell_type": "markdown",
   "metadata": {},
   "source": [
    "(a) What does the code below return? Explain."
   ]
  },
  {
   "cell_type": "code",
   "execution_count": 30,
   "metadata": {},
   "outputs": [
    {
     "data": {
      "text/plain": [
       "[False, True]"
      ]
     },
     "execution_count": 30,
     "metadata": {},
     "output_type": "execute_result"
    }
   ],
   "source": [
    "import numpy as np\n",
    "\n",
    "x = [1, 'hi']\n",
    "y = np.array(x)\n",
    "\n",
    "[a == b for a, b in zip(x, y)]"
   ]
  },
  {
   "cell_type": "markdown",
   "metadata": {},
   "source": [
    "(b) What does the code below return? Explain."
   ]
  },
  {
   "cell_type": "code",
   "execution_count": 34,
   "metadata": {},
   "outputs": [
    {
     "name": "stdout",
     "output_type": "stream",
     "text": [
      "[[1. 2.]\n",
      " [3. 4.]\n",
      " [1. 2.]]\n",
      "(3, 2)\n",
      "6\n",
      "float64\n"
     ]
    }
   ],
   "source": [
    "x = np.matrix([[1, 2], [3, 4.0], [1, 2]])\n",
    "print(x)\n",
    "print(x.shape)\n",
    "print(x.size)\n",
    "print(x.dtype)"
   ]
  },
  {
   "cell_type": "markdown",
   "metadata": {},
   "source": [
    "(c) What does the code below return? Explain."
   ]
  },
  {
   "cell_type": "code",
   "execution_count": 35,
   "metadata": {},
   "outputs": [
    {
     "name": "stdout",
     "output_type": "stream",
     "text": [
      "hop!\n"
     ]
    }
   ],
   "source": [
    "try: (x - 3) + x\n",
    "except: print('hep!')\n",
    "try: x + [[1, 2.0], [3, 4], [3, 4]]\n",
    "except: print('hip!')\n",
    "try: x[:,0] @ [1, 2.0] #@ is dot product\n",
    "except: print('hop!')"
   ]
  },
  {
   "cell_type": "markdown",
   "metadata": {},
   "source": [
    "(d) What does the code below return? Explain."
   ]
  },
  {
   "cell_type": "code",
   "execution_count": 37,
   "metadata": {},
   "outputs": [
    {
     "name": "stdout",
     "output_type": "stream",
     "text": [
      "1\n",
      "3\n",
      "1\n",
      "2    1\n",
      "1    2\n",
      "0    3\n",
      "dtype: int64\n"
     ]
    }
   ],
   "source": [
    "import pandas as pd\n",
    "\n",
    "x = pd.Series([1,2,3], index = [2, 1, 0])\n",
    "\n",
    "print(x[2])\n",
    "print(x.iloc[2])\n",
    "print(x.loc[2])\n",
    "print(x)"
   ]
  },
  {
   "cell_type": "markdown",
   "metadata": {},
   "source": [
    "(e) What does the code below return? Explain."
   ]
  },
  {
   "cell_type": "code",
   "execution_count": 39,
   "metadata": {},
   "outputs": [
    {
     "name": "stdout",
     "output_type": "stream",
     "text": [
      "0    1\n",
      "1    2\n",
      "2    3\n",
      "dtype: int64\n",
      "0    3\n",
      "1    4\n",
      "2    3\n",
      "dtype: int64\n"
     ]
    }
   ],
   "source": [
    "x = pd.Series([1,2,3], index = [2, 1, 0])\n",
    "y = pd.Series([1,2,3])\n",
    "print(y)\n",
    "try:\n",
    "    z = y * x\n",
    "    print(z)\n",
    "except:\n",
    "    print('hep!')"
   ]
  },
  {
   "cell_type": "code",
   "execution_count": null,
   "metadata": {},
   "outputs": [],
   "source": []
  }
 ],
 "metadata": {
  "kernelspec": {
   "display_name": "Python 3",
   "language": "python",
   "name": "python3"
  },
  "language_info": {
   "codemirror_mode": {
    "name": "ipython",
    "version": 3
   },
   "file_extension": ".py",
   "mimetype": "text/x-python",
   "name": "python",
   "nbconvert_exporter": "python",
   "pygments_lexer": "ipython3",
   "version": "3.11.6"
  },
  "vscode": {
   "interpreter": {
    "hash": "b0fa6594d8f4cbf19f97940f81e996739fb7646882a419484c72d19e05852a7e"
   }
  }
 },
 "nbformat": 4,
 "nbformat_minor": 2
}
