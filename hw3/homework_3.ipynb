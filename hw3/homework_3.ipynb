{
 "cells": [
  {
   "cell_type": "markdown",
   "id": "7b4bee3a",
   "metadata": {
    "tags": [
     "header"
    ]
   },
   "source": [
    "# STA 141B Assignment 3\n",
    "\n",
    "Due __XXXXX, 2024__ by __11:59pm__. Submit your work by uploading it to Gradescope through Canvas.\n",
    "\n",
    "Instructions:\n",
    "\n",
    "1. Provide your solutions in new cells following each exercise description. Create as many new cells as necessary. Use code cells for your Python scripts and Markdown cells for explanatory text or answers to non-coding questions. Answer all textual questions in complete sentences.\n",
    "2. The use of assistive tools is permitted, but must be indicated. You will be graded on you proficiency in coding. Produce high quality code by adhering to proper programming principles. \n",
    "3. Export the .jpynb as .pdf and submit it on Gradescope in time. To facilitate grading, indicate the area of the solution on the submission. Submissions without indication will be marked down. No late submissions accepted. \n",
    "4. If test cases are given, your solution must be in the same format. \n",
    "5. The total number of points is 10. "
   ]
  },
  {
   "cell_type": "markdown",
   "id": "ec303493",
   "metadata": {
    "tags": [
     "exercise"
    ]
   },
   "source": [
    "__Exercise 1__\n",
    "\n",
    "We will compute the [PageRank](https://en.wikipedia.org/wiki/PageRank) of the articles of the [Hawaiian](https://en.wikipedia.org/wiki/Hawaiian_language) wikipedia, which is available at [haw.wikipedia.org](https://haw.wikipedia.org/wiki/Ka_papa_kinohi). Additional information of the Hawaiian wiki can be found [here](https://meta.wikimedia.org/wiki/List_of_Wikipedias). \n",
    "\n",
    "_Hints: If you don't speak Hawaiian, you might want to learn the wiki logic from the English wikipedia, and translate your findings. Also, caching is recommended._"
   ]
  },
  {
   "cell_type": "markdown",
   "id": "ef02d940",
   "metadata": {
    "tags": [
     "exercise"
    ]
   },
   "source": [
    "__(a)__ Use the special [AllPages](https://haw.wikipedia.org/wiki/Papa_nui:AllPages) page and understand its logic to retrieve the url of all articles in the Hawaiian wikipedia. Make sure to skip redirections.\n",
    "\n",
    "_How many articles did you find? (I found a bit more than 2541.)_"
   ]
  },
  {
   "cell_type": "code",
   "execution_count": 2,
   "id": "405ee97d",
   "metadata": {
    "tags": [
     "solution"
    ]
   },
   "outputs": [],
   "source": [
    "# a) \n",
    "import requests\n",
    "import requests_cache\n",
    "import lxml.html as lx\n",
    "import re"
   ]
  },
  {
   "cell_type": "code",
   "execution_count": 18,
   "id": "0c4c3108-e2ae-4047-b3ef-f5dbf390f152",
   "metadata": {},
   "outputs": [
    {
     "data": {
      "text/plain": [
       "2627"
      ]
     },
     "execution_count": 18,
     "metadata": {},
     "output_type": "execute_result"
    }
   ],
   "source": [
    "requests_cache.install_cache(\"hawaii_wiki_cache\")\n",
    "curr_link = \"https://haw.wikipedia.org/wiki/Papa_nui:AllPages\"\n",
    "response = requests.get(curr_link)\n",
    "page = lx.fromstring(response.text)\n",
    "next_page = 1\n",
    "visited_links = set()\n",
    "next_pages = set()\n",
    "while next_page not in next_pages:\n",
    "    next_pages.add(next_page)\n",
    "    response = requests.get(curr_link)\n",
    "    page = lx.fromstring(response.text)\n",
    "    next_page = page.xpath('//*[@id=\"mw-content-text\"]/div[2]/a[last()]/@href')[0]\n",
    "    next_page = f'https://haw.wikipedia.org{next_page}'\n",
    "    links = page.xpath('//*[@id=\"mw-content-text\"]/div[3]/ul/li[not(contains(@class, \"allpagesredirect\"))]/a/@href')\n",
    "    for link in links:\n",
    "        if link.startswith('/wiki'):\n",
    "            link = f'https://haw.wikipedia.org{link}'\n",
    "        visited_links.add(link)\n",
    "    \n",
    "    curr_link = next_page\n",
    "len(visited_links)"
   ]
  },
  {
   "cell_type": "markdown",
   "id": "2af5d5a6",
   "metadata": {},
   "source": [
    "#ANSWER\n",
    "I got 2627 total links from the allpages\n"
   ]
  },
  {
   "cell_type": "markdown",
   "id": "4a738826",
   "metadata": {
    "tags": [
     "exercise"
    ]
   },
   "source": [
    "__(b, i)__ Write a function that scans an article given by its url and retrieves all links to other articles in the Hawaiian wikipedia. Avoid links to special pages, images or the ones that point to another website. Only count the proper article for links that point to a specific section. Use regular expressions to manage these cases. \n",
    "__(ii)__ Make sure to match redirections to their correct destiation article. To this end, find how wikipedia treats redirections and retrieve the true article. _(Help: Try searching for 'uc davis' on en.wikipedia.org')_\n",
    "To this end, I used the collection or article urls obtained in (a), which I stored in a dict object to allow for fast lookups. Then, for each new found link I checked whether that link appeared in the dict. If not, It might be a re-direction and receive special attention.  \n",
    "__(iii)__ Request all articles and obtain all links to other articles. \n",
    "\n",
    "_How many links to other articles are there? (I found 9,000-10,000.)_"
   ]
  },
  {
   "cell_type": "code",
   "execution_count": 14,
   "id": "cd545aee",
   "metadata": {},
   "outputs": [],
   "source": [
    "requests_cache.install_cache(\"hawaii_wiki_cache\")\n",
    "def scan_article(urls):\n",
    "    link_list = []\n",
    "    for url in urls:\n",
    "        response = requests.get(url)\n",
    "        page = lx.fromstring(response.text)\n",
    "        valid_links = page.xpath('//*[@id=\"mw-content-text\"]//a[not(@class=\"mw-file-description\") and contains(@href, \"/wiki/\") and not(@class=\"mw-redirect\") and not(@class=\"extiw\") and not(contains(@href, \"/Wikipedia:\"))]/@href')\n",
    "        redirects = page.xpath('//*[@id=\"mw-content-text\"]//a[@class=\"mw-redirect\"]/@href')\n",
    "        for link in valid_links:\n",
    "            link = f'https://haw.wikipedia.org{link}'\n",
    "            if link in visited_links and link not in url:\n",
    "                link_list.append(link)\n",
    "        link_list += [str(lx.fromstring(requests.get(url = \"https://haw.wikipedia.org\" + link).content).xpath(\"//link[contains(@rel, 'canonical')]\")[0].attrib['href']) for link in redirects if \n",
    "                     (str(lx.fromstring(requests.get(url = \"https://haw.wikipedia.org\" + link).content).xpath(\"//link[contains(@rel, 'canonical')]\")[0].attrib['href']) in visited_links and \n",
    "                      str(lx.fromstring(requests.get(url = \"https://haw.wikipedia.org\" + link).content).xpath(\"//link[contains(@rel, 'canonical')]\")[0].attrib['href']) != url)]    \n",
    " \n",
    "    return link_list"
   ]
  },
  {
   "cell_type": "code",
   "execution_count": 19,
   "id": "37843f10",
   "metadata": {},
   "outputs": [],
   "source": [
    "total = scan_article(visited_links)"
   ]
  },
  {
   "cell_type": "code",
   "execution_count": 17,
   "id": "46826204",
   "metadata": {},
   "outputs": [
    {
     "data": {
      "text/plain": [
       "17360"
      ]
     },
     "execution_count": 17,
     "metadata": {},
     "output_type": "execute_result"
    }
   ],
   "source": [
    "len(total)"
   ]
  },
  {
   "cell_type": "markdown",
   "id": "cb7651d4",
   "metadata": {
    "tags": [
     "exercise"
    ]
   },
   "source": [
    "__(c)__ Compute the transition matrix (see [here](https://en.wikipedia.org/wiki/Google_matrix) and [here](https://www.amsi.org.au/teacher_modules/pdfs/Maths_delivers/Pagerank5.pdf) for step-by-step instructions). Make sure to tread dangling nodes. You may want to use: \n",
    "```\n",
    "import numpy as np\n",
    "from scipy.sparse import csr_matrix\n",
    "```"
   ]
  },
  {
   "cell_type": "code",
   "execution_count": null,
   "id": "33e8b220",
   "metadata": {},
   "outputs": [],
   "source": [
    "import numpy as np\n",
    "from scipy.sparse import csr_matrix\n",
    "\n",
    "def transition_matrix(orig_matrix):\n",
    "    num_nodes = len(orig_matrix[0]) #get the number of nodes in one row\n",
    "    new_matrix = np.zeros((num_nodes, num_nodes))\n",
    "    curr_row = 0\n",
    "    for row in orig_matrix:\n",
    "        row_sum = sum(row)\n",
    "        if row_sum == 0:\n",
    "            new_matrix[curr_row] = [(1/num_nodes) * num_nodes]\n",
    "        else:\n",
    "            for i in range(num_nodes):\n",
    "                if i == 1:\n",
    "                    new_matrix[curr_row][i] = 1/row_sum\n",
    "    return csr_matrix(new_matrix)\n",
    "\n"
   ]
  },
  {
   "cell_type": "markdown",
   "id": "a0caa3a1",
   "metadata": {
    "tags": [
     "exercise"
    ]
   },
   "source": [
    "__(d, i)__ Set the damping factor to `0.85` and compute the PageRank for each article, using fourty iterations and starting with a vector with equal entries. __(ii)__ Obtain the top ten articles in terms of PageRank, and, retrieving the articles again, find the correponding English article, if available. \n",
    "\n",
    "_Return the corresponding English article titles of the top ten articles from the Hawaiian wikipedia._"
   ]
  },
  {
   "cell_type": "code",
   "execution_count": null,
   "id": "33f8185c",
   "metadata": {},
   "outputs": [],
   "source": []
  },
  {
   "cell_type": "code",
   "execution_count": 15,
   "id": "9e4b2270",
   "metadata": {
    "tags": [
     "comments"
    ]
   },
   "outputs": [
    {
     "data": {
      "image/png": "[encoded data removed]",
      "text/plain": [
       "<Figure size 640x480 with 1 Axes>"
      ]
     },
     "metadata": {},
     "output_type": "display_data"
    }
   ],
   "source": [
    "import matplotlib.pyplot as plt\n",
    "plt.plot(range(n), v, label = \"PageRank\") \n",
    "plt.legend() \n",
    "plt.show()"
   ]
  }
 ],
 "metadata": {
  "celltoolbar": "Tags",
  "kernelspec": {
   "display_name": "Python 3 (ipykernel)",
   "language": "python",
   "name": "python3"
  },
  "language_info": {
   "codemirror_mode": {
    "name": "ipython",
    "version": 3
   },
   "file_extension": ".py",
   "mimetype": "text/x-python",
   "name": "python",
   "nbconvert_exporter": "python",
   "pygments_lexer": "ipython3",
   "version": "3.11.6"
  },
  "vscode": {
   "interpreter": {
    "hash": "9a6f6de4d8afe0ca01d20dfdc98a6258415054431dfe21163eb1f023bb742319"
   }
  }
 },
 "nbformat": 4,
 "nbformat_minor": 5
}
