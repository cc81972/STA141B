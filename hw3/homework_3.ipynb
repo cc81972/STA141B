{
 "cells": [
  {
   "cell_type": "markdown",
   "id": "7b4bee3a",
   "metadata": {
    "tags": [
     "header"
    ]
   },
   "source": [
    "# STA 141B Assignment 3\n",
    "\n",
    "Due __XXXXX, 2024__ by __11:59pm__. Submit your work by uploading it to Gradescope through Canvas.\n",
    "\n",
    "Instructions:\n",
    "\n",
    "1. Provide your solutions in new cells following each exercise description. Create as many new cells as necessary. Use code cells for your Python scripts and Markdown cells for explanatory text or answers to non-coding questions. Answer all textual questions in complete sentences.\n",
    "2. The use of assistive tools is permitted, but must be indicated. You will be graded on you proficiency in coding. Produce high quality code by adhering to proper programming principles. \n",
    "3. Export the .jpynb as .pdf and submit it on Gradescope in time. To facilitate grading, indicate the area of the solution on the submission. Submissions without indication will be marked down. No late submissions accepted. \n",
    "4. If test cases are given, your solution must be in the same format. \n",
    "5. The total number of points is 10. "
   ]
  },
  {
   "cell_type": "markdown",
   "id": "ec303493",
   "metadata": {
    "tags": [
     "exercise"
    ]
   },
   "source": [
    "__Exercise 1__\n",
    "\n",
    "We will compute the [PageRank](https://en.wikipedia.org/wiki/PageRank) of the articles of the [Hawaiian](https://en.wikipedia.org/wiki/Hawaiian_language) wikipedia, which is available at [haw.wikipedia.org](https://haw.wikipedia.org/wiki/Ka_papa_kinohi). Additional information of the Hawaiian wiki can be found [here](https://meta.wikimedia.org/wiki/List_of_Wikipedias). \n",
    "\n",
    "_Hints: If you don't speak Hawaiian, you might want to learn the wiki logic from the English wikipedia, and translate your findings. Also, caching is recommended._"
   ]
  },
  {
   "cell_type": "markdown",
   "id": "ef02d940",
   "metadata": {
    "tags": [
     "exercise"
    ]
   },
   "source": [
    "__(a)__ Use the special [AllPages](https://haw.wikipedia.org/wiki/Papa_nui:AllPages) page and understand its logic to retrieve the url of all articles in the Hawaiian wikipedia. Make sure to skip redirections.\n",
    "\n",
    "_How many articles did you find? (I found a bit more than 2541.)_"
   ]
  },
  {
   "cell_type": "code",
   "execution_count": 3,
   "id": "405ee97d",
   "metadata": {
    "tags": [
     "solution"
    ]
   },
   "outputs": [],
   "source": [
    "# a) \n",
    "import requests\n",
    "import requests_cache\n",
    "import lxml.html as lx\n",
    "import re"
   ]
  },
  {
   "cell_type": "code",
   "execution_count": 4,
   "id": "0c4c3108-e2ae-4047-b3ef-f5dbf390f152",
   "metadata": {},
   "outputs": [
    {
     "data": {
      "text/plain": [
       "2629"
      ]
     },
     "execution_count": 4,
     "metadata": {},
     "output_type": "execute_result"
    }
   ],
   "source": [
    "requests_cache.install_cache(\"hawaii_wiki_cache\")\n",
    "curr_link = \"https://haw.wikipedia.org/wiki/Papa_nui:AllPages\"\n",
    "response = requests.get(curr_link)\n",
    "page = lx.fromstring(response.text)\n",
    "next_page = 1\n",
    "visited_links = {}\n",
    "next_pages = set()\n",
    "while next_page not in next_pages:\n",
    "    next_pages.add(next_page)\n",
    "    response = requests.get(curr_link)\n",
    "    page = lx.fromstring(response.text)\n",
    "    next_page = page.xpath('//*[@id=\"mw-content-text\"]/div[2]/a[last()]/@href')[0]\n",
    "    next_page = f'https://haw.wikipedia.org{next_page}'\n",
    "    links = page.xpath('//*[@id=\"mw-content-text\"]/div[3]/ul/li[not(contains(@class, \"allpagesredirect\"))]/a/@href')\n",
    "    for link in links:\n",
    "        if link.startswith('/wiki'):\n",
    "            link = f'https://haw.wikipedia.org{link}'\n",
    "        visited_links[link] = []\n",
    "    curr_link = next_page\n",
    "len(visited_links)"
   ]
  },
  {
   "cell_type": "markdown",
   "id": "2af5d5a6",
   "metadata": {},
   "source": [
    "# ANSWER\n",
    "I got 2629 total links from the allpages\n"
   ]
  },
  {
   "cell_type": "markdown",
   "id": "4a738826",
   "metadata": {
    "tags": [
     "exercise"
    ]
   },
   "source": [
    "__(b, i)__ Write a function that scans an article given by its url and retrieves all links to other articles in the Hawaiian wikipedia. Avoid links to special pages, images or the ones that point to another website. Only count the proper article for links that point to a specific section. Use regular expressions to manage these cases. \n",
    "__(ii)__ Make sure to match redirections to their correct destiation article. To this end, find how wikipedia treats redirections and retrieve the true article. _(Help: Try searching for 'uc davis' on en.wikipedia.org')_\n",
    "To this end, I used the collection or article urls obtained in (a), which I stored in a dict object to allow for fast lookups. Then, for each new found link I checked whether that link appeared in the dict. If not, It might be a re-direction and receive special attention.  \n",
    "__(iii)__ Request all articles and obtain all links to other articles. \n",
    "\n",
    "_How many links to other articles are there? (I found 9,000-10,000.)_"
   ]
  },
  {
   "cell_type": "code",
   "execution_count": 24,
   "id": "6792a887",
   "metadata": {},
   "outputs": [
    {
     "data": {
      "text/plain": [
       "['/wiki/%CA%BBAlepa']"
      ]
     },
     "execution_count": 24,
     "metadata": {},
     "output_type": "execute_result"
    }
   ],
   "source": [
    "link = 'https://haw.wikipedia.org/w/index.php?title=%27Alepa&redirect=no'\n",
    "response = requests.get(link)\n",
    "page = lx.fromstring(response.content)\n",
    "redirects = page.xpath('//*[@id=\"mw-content-text\"]//ul[@class=\"redirectText\"]//a/@href')\n",
    "redirects"
   ]
  },
  {
   "cell_type": "code",
   "execution_count": 3,
   "id": "13b4bfcb",
   "metadata": {},
   "outputs": [],
   "source": [
    "requests_cache.install_cache(\"hawaii_wiki_cache\")\n",
    "def scan_article(urls):\n",
    "    counter = 0\n",
    "    article_matches = re.compile(r'^/wiki/[^:#]+$')\n",
    "    for url in urls:\n",
    "        response = requests.get(url)\n",
    "        page = lx.fromstring(response.text)\n",
    "        valid_links = page.xpath('//*[@id=\"mw-content-text\"]//a[not(@class=\"mw-file-description\") and contains(@href, \"/wiki/\") and not(@class=\"mw-redirect\") and not(@class=\"extiw\") and not(contains(@href, \"/Wikipedia:\"))]/@href')\n",
    "        redirects = page.xpath('//*[@id=\"mw-content-text\"]//a[@class=\"mw-redirect\"]/@href')\n",
    "        for link in valid_links:\n",
    "            link = f'https://haw.wikipedia.org{link}'\n",
    "        for redirect in redirects:\n",
    "            redirect = f'https://haw.wikipedia.org{redirect}'\n",
    "            if redirect in urls:\n",
    "                valid_links.append(redirect)\n",
    "            else:\n",
    "                response = requests.get(redirect)\n",
    "                new_page = lx.fromstring(response.text)\n",
    "                secondary_redirect = new_page.xpath('//*[@id=\"mw-content-text\"]//ul[@class=\"redirectText\"]//a/@href')\n",
    "                for sec_redirect in secondary_redirect:\n",
    "                    valid_links.append(sec_redirect)\n",
    "        for link in valid_links:\n",
    "            if article_matches.match(link):\n",
    "                link  = f'https://haw.wikipedia.org{link}'\n",
    "                urls[url].append(link)\n",
    "        counter += len(valid_links)      \n",
    "            \n",
    "\n",
    "    return counter, urls\n",
    "        "
   ]
  },
  {
   "cell_type": "code",
   "execution_count": 4,
   "id": "655def96",
   "metadata": {},
   "outputs": [],
   "source": [
    "total, returned_links = scan_article(visited_links)"
   ]
  },
  {
   "cell_type": "code",
   "execution_count": 5,
   "id": "46826204",
   "metadata": {},
   "outputs": [
    {
     "data": {
      "text/plain": [
       "17834"
      ]
     },
     "execution_count": 5,
     "metadata": {},
     "output_type": "execute_result"
    }
   ],
   "source": [
    "total#hw3/hawaii_wiki_cache.sqlite"
   ]
  },
  {
   "cell_type": "markdown",
   "id": "ff72870b",
   "metadata": {},
   "source": [
    "# ANSWER\n",
    "I got about 17800 total "
   ]
  },
  {
   "cell_type": "markdown",
   "id": "cb7651d4",
   "metadata": {
    "tags": [
     "exercise"
    ]
   },
   "source": [
    "__(c)__ Compute the transition matrix (see [here](https://en.wikipedia.org/wiki/Google_matrix) and [here](https://www.amsi.org.au/teacher_modules/pdfs/Maths_delivers/Pagerank5.pdf) for step-by-step instructions). Make sure to tread dangling nodes. You may want to use: \n",
    "```\n",
    "import numpy as np\n",
    "from scipy.sparse import csr_matrix\n",
    "```"
   ]
  },
  {
   "cell_type": "code",
   "execution_count": 6,
   "id": "e062dc44",
   "metadata": {},
   "outputs": [],
   "source": [
    "import numpy as np\n",
    "from scipy.sparse import csr_matrix\n",
    "\n",
    "link_keys = list(returned_links.keys())\n",
    "link_indexing = {}\n",
    "for i in range(len(link_keys)):\n",
    "    link_indexing[link_keys[i]] = i"
   ]
  },
  {
   "cell_type": "code",
   "execution_count": 7,
   "id": "926514be",
   "metadata": {},
   "outputs": [
    {
     "name": "stderr",
     "output_type": "stream",
     "text": [
      "c:\\Python311\\Lib\\site-packages\\scipy\\sparse\\_index.py:100: SparseEfficiencyWarning: Changing the sparsity structure of a csr_matrix is expensive. lil_matrix is more efficient.\n",
      "  self._set_intXint(row, col, x.flat[0])\n",
      "c:\\Python311\\Lib\\site-packages\\scipy\\sparse\\_index.py:143: SparseEfficiencyWarning: Changing the sparsity structure of a csr_matrix is expensive. lil_matrix is more efficient.\n",
      "  self._set_arrayXarray(i, j, x)\n"
     ]
    }
   ],
   "source": [
    "transition_matrix = csr_matrix((len(link_keys), len(link_keys)))\n",
    "for i in link_keys:\n",
    "    outgoing_links = returned_links[i]\n",
    "    if outgoing_links == []:\n",
    "        transition_matrix[link_indexing[i], 0:-1] = 1/(len(link_keys))\n",
    "    else:\n",
    "        for outgoing in outgoing_links:\n",
    "            transition_matrix[link_indexing[i], link_indexing[outgoing]] = 1/len(outgoing_links)"
   ]
  },
  {
   "cell_type": "markdown",
   "id": "a0caa3a1",
   "metadata": {
    "tags": [
     "exercise"
    ]
   },
   "source": [
    "__(d, i)__ Set the damping factor to `0.85` and compute the PageRank for each article, using fourty iterations and starting with a vector with equal entries. __(ii)__ Obtain the top ten articles in terms of PageRank, and, retrieving the articles again, find the correponding English article, if available. \n",
    "\n",
    "_Return the corresponding English article titles of the top ten articles from the Hawaiian wikipedia._"
   ]
  },
  {
   "cell_type": "code",
   "execution_count": 16,
   "id": "fc426e88",
   "metadata": {},
   "outputs": [
    {
     "data": {
      "text/plain": [
       "1"
      ]
     },
     "execution_count": 16,
     "metadata": {},
     "output_type": "execute_result"
    }
   ],
   "source": [
    "first_equal_entry = 0\n",
    "while transition_matrix[first_equal_entry,].nnz != len(link_keys) - 1:\n",
    "    first_equal_entry += 1\n",
    "first_equal_entry"
   ]
  },
  {
   "cell_type": "code",
   "execution_count": null,
   "id": "4860829d",
   "metadata": {},
   "outputs": [],
   "source": [
    "d = 0.85\n",
    "n = transition_matrix.shape[0]\n",
    "page_ranks = [0] * len(link_keys)\n",
    "for i in range(len(link_keys)):\n",
    "    article = link_keys[(first_equal_entry + i) % len(link_keys)]\n",
    "    matrix_row = link_indexing[article]\n",
    "    c = transition_matrix.getrow(matrix_row)\n",
    "    v = d * (c @ transition_matrix) + (1-d) * np.mean(c)\n",
    "    page_ranks[(first_equal_entry + i) % len(link_keys)] = v"
   ]
  },
  {
   "cell_type": "code",
   "execution_count": 28,
   "id": "8a8f5748",
   "metadata": {},
   "outputs": [
    {
     "ename": "ValueError",
     "evalue": "inconsistent shapes",
     "output_type": "error",
     "traceback": [
      "\u001b[1;31m---------------------------------------------------------------------------\u001b[0m",
      "\u001b[1;31mValueError\u001b[0m                                Traceback (most recent call last)",
      "Cell \u001b[1;32mIn[28], line 17\u001b[0m\n\u001b[0;32m     15\u001b[0m \u001b[38;5;66;03m# Perform 40 iterations for each i\u001b[39;00m\n\u001b[0;32m     16\u001b[0m \u001b[38;5;28;01mfor\u001b[39;00m _ \u001b[38;5;129;01min\u001b[39;00m \u001b[38;5;28mrange\u001b[39m(\u001b[38;5;241m40\u001b[39m):\n\u001b[1;32m---> 17\u001b[0m     \u001b[43mv\u001b[49m\u001b[43m \u001b[49m\u001b[38;5;241;43m+\u001b[39;49m\u001b[38;5;241;43m=\u001b[39;49m\u001b[43m \u001b[49m\u001b[43md\u001b[49m\u001b[43m \u001b[49m\u001b[38;5;241;43m*\u001b[39;49m\u001b[43m \u001b[49m\u001b[43m(\u001b[49m\u001b[43mc\u001b[49m\u001b[43m \u001b[49m\u001b[38;5;241;43m@\u001b[39;49m\u001b[43m \u001b[49m\u001b[43mtransition_matrix\u001b[49m\u001b[43m)\u001b[49m\u001b[43m \u001b[49m\u001b[38;5;241;43m+\u001b[39;49m\u001b[43m \u001b[49m\u001b[43m(\u001b[49m\u001b[38;5;241;43m1\u001b[39;49m\u001b[38;5;241;43m-\u001b[39;49m\u001b[43md\u001b[49m\u001b[43m)\u001b[49m\u001b[43m \u001b[49m\u001b[38;5;241;43m*\u001b[39;49m\u001b[43m \u001b[49m\u001b[43mmean_matrix\u001b[49m\n\u001b[0;32m     19\u001b[0m page_ranks[(first_equal_entry \u001b[38;5;241m+\u001b[39m i) \u001b[38;5;241m%\u001b[39m \u001b[38;5;28mlen\u001b[39m(link_keys)] \u001b[38;5;241m=\u001b[39m v\n",
      "File \u001b[1;32mc:\\Python311\\Lib\\site-packages\\scipy\\sparse\\_base.py:466\u001b[0m, in \u001b[0;36m_spbase.__add__\u001b[1;34m(self, other)\u001b[0m\n\u001b[0;32m    464\u001b[0m \u001b[38;5;28;01melif\u001b[39;00m issparse(other):\n\u001b[0;32m    465\u001b[0m     \u001b[38;5;28;01mif\u001b[39;00m other\u001b[38;5;241m.\u001b[39mshape \u001b[38;5;241m!=\u001b[39m \u001b[38;5;28mself\u001b[39m\u001b[38;5;241m.\u001b[39mshape:\n\u001b[1;32m--> 466\u001b[0m         \u001b[38;5;28;01mraise\u001b[39;00m \u001b[38;5;167;01mValueError\u001b[39;00m(\u001b[38;5;124m\"\u001b[39m\u001b[38;5;124minconsistent shapes\u001b[39m\u001b[38;5;124m\"\u001b[39m)\n\u001b[0;32m    467\u001b[0m     \u001b[38;5;28;01mreturn\u001b[39;00m \u001b[38;5;28mself\u001b[39m\u001b[38;5;241m.\u001b[39m_add_sparse(other)\n\u001b[0;32m    468\u001b[0m \u001b[38;5;28;01melif\u001b[39;00m isdense(other):\n",
      "\u001b[1;31mValueError\u001b[0m: inconsistent shapes"
     ]
    },
    {
     "ename": "",
     "evalue": "",
     "output_type": "error",
     "traceback": [
      "\u001b[1;31mThe Kernel crashed while executing code in the current cell or a previous cell. \n",
      "\u001b[1;31mPlease review the code in the cell(s) to identify a possible cause of the failure. \n",
      "\u001b[1;31mClick <a href='https://aka.ms/vscodeJupyterKernelCrash'>here</a> for more info. \n",
      "\u001b[1;31mView Jupyter <a href='command:jupyter.viewOutput'>log</a> for further details."
     ]
    }
   ],
   "source": [
    "\n",
    "d = 0.85\n",
    "n = transition_matrix.shape[0]\n",
    "page_ranks = [0] * len(link_keys)\n",
    "for i in range(len(link_keys)):\n",
    "    article = link_keys[(first_equal_entry + i) % len(link_keys)]\n",
    "    matrix_row = link_indexing[article]\n",
    "    c = transition_matrix.getrow(matrix_row)\n",
    "    mean_value = np.mean(c.data)  # Calculate the mean value of non-zero elements in c\n",
    "    mean_matrix = csr_matrix((c.shape[0], c.shape[1]), dtype=float)  # Create a sparse matrix filled with the mean value\n",
    "    mean_matrix.data[:] = mean_value  # Assign the mean value to all elements of the matrix\n",
    "    \n",
    "    # Initialize v with zeros\n",
    "    v = csr_matrix((n, 1), dtype=float)\n",
    "    \n",
    "    # Perform 40 iterations for each i\n",
    "    for _ in range(40):\n",
    "        v += d * (c @ transition_matrix) + (1-d) * mean_matrix\n",
    "    \n",
    "    page_ranks[(first_equal_entry + i) % len(link_keys)] = v"
   ]
  },
  {
   "cell_type": "code",
   "execution_count": 22,
   "id": "33f8185c",
   "metadata": {},
   "outputs": [],
   "source": [
    "#d is dampening factor, M is transition matrix\n",
    "#repeat update rule 40 times\n",
    "#define the function vh - lambda c : 0.85 * (c @ H) + 0.15 * np.mean\n",
    "def compute_pagerank()\n",
    "d = 0.85\n",
    "N = transition_matrix.shape[0]\n",
    "page_rank = ((1-d)/len(link_keys)) + d"
   ]
  },
  {
   "cell_type": "code",
   "execution_count": 27,
   "id": "f61f89a9",
   "metadata": {},
   "outputs": [
    {
     "data": {
      "image/png": "[encoded data removed]",
      "text/plain": [
       "<Figure size 640x480 with 1 Axes>"
      ]
     },
     "metadata": {},
     "output_type": "display_data"
    }
   ],
   "source": [
    "import matplotlib.pyplot as plt\n",
    "page_ranks_values = [v.toarray()[0][0] for v in page_ranks]\n",
    "plt.plot(range(n), page_ranks_values, label = \"PageRank\") \n",
    "plt.legend() \n",
    "plt.show()\n",
    "#nothing\n"
   ]
  },
  {
   "cell_type": "code",
   "execution_count": 15,
   "id": "9e4b2270",
   "metadata": {
    "tags": [
     "comments"
    ]
   },
   "outputs": [
    {
     "data": {
      "image/png": "[encoded data removed]",
      "text/plain": [
       "<Figure size 640x480 with 1 Axes>"
      ]
     },
     "metadata": {},
     "output_type": "display_data"
    }
   ],
   "source": [
    "import matplotlib.pyplot as plt\n",
    "plt.plot(range(n), v, label = \"PageRank\") \n",
    "plt.legend() \n",
    "plt.show()"
   ]
  }
 ],
 "metadata": {
  "celltoolbar": "Tags",
  "kernelspec": {
   "display_name": "Python 3 (ipykernel)",
   "language": "python",
   "name": "python3"
  },
  "language_info": {
   "codemirror_mode": {
    "name": "ipython",
    "version": 3
   },
   "file_extension": ".py",
   "mimetype": "text/x-python",
   "name": "python",
   "nbconvert_exporter": "python",
   "pygments_lexer": "ipython3",
   "version": "3.11.4"
  },
  "vscode": {
   "interpreter": {
    "hash": "9a6f6de4d8afe0ca01d20dfdc98a6258415054431dfe21163eb1f023bb742319"
   }
  }
 },
 "nbformat": 4,
 "nbformat_minor": 5
}
