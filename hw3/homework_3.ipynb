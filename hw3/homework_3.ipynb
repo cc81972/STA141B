{
 "cells": [
  {
   "cell_type": "markdown",
   "id": "7b4bee3a",
   "metadata": {
    "tags": [
     "header"
    ]
   },
   "source": [
    "# STA 141B Assignment 3\n",
    "\n",
    "Due __XXXXX, 2024__ by __11:59pm__. Submit your work by uploading it to Gradescope through Canvas.\n",
    "\n",
    "Instructions:\n",
    "\n",
    "1. Provide your solutions in new cells following each exercise description. Create as many new cells as necessary. Use code cells for your Python scripts and Markdown cells for explanatory text or answers to non-coding questions. Answer all textual questions in complete sentences.\n",
    "2. The use of assistive tools is permitted, but must be indicated. You will be graded on you proficiency in coding. Produce high quality code by adhering to proper programming principles. \n",
    "3. Export the .jpynb as .pdf and submit it on Gradescope in time. To facilitate grading, indicate the area of the solution on the submission. Submissions without indication will be marked down. No late submissions accepted. \n",
    "4. If test cases are given, your solution must be in the same format. \n",
    "5. The total number of points is 10. "
   ]
  },
  {
   "cell_type": "markdown",
   "id": "ec303493",
   "metadata": {
    "tags": [
     "exercise"
    ]
   },
   "source": [
    "__Exercise 1__\n",
    "\n",
    "We will compute the [PageRank](https://en.wikipedia.org/wiki/PageRank) of the articles of the [Hawaiian](https://en.wikipedia.org/wiki/Hawaiian_language) wikipedia, which is available at [haw.wikipedia.org](https://haw.wikipedia.org/wiki/Ka_papa_kinohi). Additional information of the Hawaiian wiki can be found [here](https://meta.wikimedia.org/wiki/List_of_Wikipedias). \n",
    "\n",
    "_Hints: If you don't speak Hawaiian, you might want to learn the wiki logic from the English wikipedia, and translate your findings. Also, caching is recommended._"
   ]
  },
  {
   "cell_type": "markdown",
   "id": "ef02d940",
   "metadata": {
    "tags": [
     "exercise"
    ]
   },
   "source": [
    "__(a)__ Use the special [AllPages](https://haw.wikipedia.org/wiki/Papa_nui:AllPages) page and understand its logic to retrieve the url of all articles in the Hawaiian wikipedia. Make sure to skip redirections.\n",
    "\n",
    "_How many articles did you find? (I found a bit more than 2541.)_"
   ]
  },
  {
   "cell_type": "code",
   "execution_count": 23,
   "id": "405ee97d",
   "metadata": {
    "tags": [
     "solution"
    ]
   },
   "outputs": [],
   "source": [
    "# a) \n",
    "import requests\n",
    "import requests_cache\n",
    "import lxml.html as lx\n",
    "import re"
   ]
  },
  {
   "cell_type": "code",
   "execution_count": 51,
   "id": "0c4c3108-e2ae-4047-b3ef-f5dbf390f152",
   "metadata": {},
   "outputs": [
    {
     "data": {
      "text/plain": [
       "2629"
      ]
     },
     "execution_count": 51,
     "metadata": {},
     "output_type": "execute_result"
    }
   ],
   "source": [
    "requests_cache.install_cache(\"hawaii_wiki_cache\")\n",
    "curr_link = \"https://haw.wikipedia.org/wiki/Papa_nui:AllPages\"\n",
    "response = requests.get(curr_link)\n",
    "page = lx.fromstring(response.text)\n",
    "next_page = 1\n",
    "visited_links = {}\n",
    "next_pages = set()\n",
    "while next_page not in next_pages:\n",
    "    next_pages.add(next_page)\n",
    "    response = requests.get(curr_link)\n",
    "    page = lx.fromstring(response.text)\n",
    "    next_page = page.xpath('//*[@id=\"mw-content-text\"]/div[2]/a[last()]/@href')[0]\n",
    "    next_page = f'https://haw.wikipedia.org{next_page}'\n",
    "    links = page.xpath('//*[@id=\"mw-content-text\"]/div[3]/ul/li[not(contains(@class, \"allpagesredirect\"))]/a/@href')\n",
    "    for link in links:\n",
    "        if link.startswith('/wiki'):\n",
    "            link = f'https://haw.wikipedia.org{link}'\n",
    "        visited_links[link] = []\n",
    "    curr_link = next_page\n",
    "len(visited_links)"
   ]
  },
  {
   "cell_type": "markdown",
   "id": "2af5d5a6",
   "metadata": {},
   "source": [
    "# ANSWER\n",
    "I got 2629 total links from the allpages\n"
   ]
  },
  {
   "cell_type": "markdown",
   "id": "4a738826",
   "metadata": {
    "tags": [
     "exercise"
    ]
   },
   "source": [
    "__(b, i)__ Write a function that scans an article given by its url and retrieves all links to other articles in the Hawaiian wikipedia. Avoid links to special pages, images or the ones that point to another website. Only count the proper article for links that point to a specific section. Use regular expressions to manage these cases. \n",
    "__(ii)__ Make sure to match redirections to their correct destiation article. To this end, find how wikipedia treats redirections and retrieve the true article. _(Help: Try searching for 'uc davis' on en.wikipedia.org')_\n",
    "To this end, I used the collection or article urls obtained in (a), which I stored in a dict object to allow for fast lookups. Then, for each new found link I checked whether that link appeared in the dict. If not, It might be a re-direction and receive special attention.  \n",
    "__(iii)__ Request all articles and obtain all links to other articles. \n",
    "\n",
    "_How many links to other articles are there? (I found 9,000-10,000.)_"
   ]
  },
  {
   "cell_type": "code",
   "execution_count": 24,
   "id": "6792a887",
   "metadata": {},
   "outputs": [
    {
     "data": {
      "text/plain": [
       "['/wiki/%CA%BBAlepa']"
      ]
     },
     "execution_count": 24,
     "metadata": {},
     "output_type": "execute_result"
    }
   ],
   "source": [
    "link = 'https://haw.wikipedia.org/w/index.php?title=%27Alepa&redirect=no'\n",
    "response = requests.get(link)\n",
    "page = lx.fromstring(response.content)\n",
    "redirects = page.xpath('//*[@id=\"mw-content-text\"]//ul[@class=\"redirectText\"]//a/@href')\n",
    "redirects"
   ]
  },
  {
   "cell_type": "code",
   "execution_count": 52,
   "id": "13b4bfcb",
   "metadata": {},
   "outputs": [],
   "source": [
    "requests_cache.install_cache(\"hawaii_wiki_cache\")\n",
    "def scan_article(urls):\n",
    "    counter = 0\n",
    "    article_matches = re.compile(r'^/wiki/[^:#]+$')\n",
    "    for url in urls:\n",
    "        response = requests.get(url)\n",
    "        page = lx.fromstring(response.text)\n",
    "        valid_links = page.xpath('//*[@id=\"mw-content-text\"]//a[not(parent::td) and not(@class=\"mw-file-description\") and contains(@href, \"/wiki/\") and not(@class=\"mw-redirect\") and not(@class=\"extiw\") and not(contains(@href, \"/Wikipedia:\"))]/@href'\n",
    ")\n",
    "        redirects = page.xpath('//*[@id=\"mw-content-text\"]//a[@class=\"mw-redirect\"]/@href')\n",
    "        for link in valid_links:\n",
    "            link = f'https://haw.wikipedia.org{link}'\n",
    "        for redirect in redirects:\n",
    "            redirect = f'https://haw.wikipedia.org{redirect}'\n",
    "            if redirect in urls:\n",
    "                valid_links.append(redirect)\n",
    "            else:\n",
    "                response = requests.get(redirect)\n",
    "                new_page = lx.fromstring(response.text)\n",
    "                secondary_redirect = new_page.xpath('//*[@id=\"mw-content-text\"]//ul[@class=\"redirectText\"]//a/@href')\n",
    "                for sec_redirect in secondary_redirect:\n",
    "                    valid_links.append(sec_redirect)\n",
    "        valid_links = set(valid_links)\n",
    "        valid_links = list(valid_links)\n",
    "        for link in valid_links:\n",
    "            if article_matches.match(link):\n",
    "                link  = f'https://haw.wikipedia.org{link}'\n",
    "                urls[url].append(link)\n",
    "        counter += len(valid_links)      \n",
    "            \n",
    "\n",
    "    return counter, urls\n",
    "        "
   ]
  },
  {
   "cell_type": "code",
   "execution_count": 53,
   "id": "655def96",
   "metadata": {},
   "outputs": [],
   "source": [
    "total, returned_links = scan_article(visited_links)"
   ]
  },
  {
   "cell_type": "code",
   "execution_count": 54,
   "id": "46826204",
   "metadata": {},
   "outputs": [
    {
     "data": {
      "text/plain": [
       "9110"
      ]
     },
     "execution_count": 54,
     "metadata": {},
     "output_type": "execute_result"
    }
   ],
   "source": [
    "total"
   ]
  },
  {
   "cell_type": "markdown",
   "id": "ff72870b",
   "metadata": {},
   "source": [
    "# ANSWER\n",
    "I got about 17800 total "
   ]
  },
  {
   "cell_type": "markdown",
   "id": "cb7651d4",
   "metadata": {
    "tags": [
     "exercise"
    ]
   },
   "source": [
    "__(c)__ Compute the transition matrix (see [here](https://en.wikipedia.org/wiki/Google_matrix) and [here](https://www.amsi.org.au/teacher_modules/pdfs/Maths_delivers/Pagerank5.pdf) for step-by-step instructions). Make sure to tread dangling nodes. You may want to use: \n",
    "```\n",
    "import numpy as np\n",
    "from scipy.sparse import csr_matrix\n",
    "```"
   ]
  },
  {
   "cell_type": "code",
   "execution_count": 55,
   "id": "e062dc44",
   "metadata": {},
   "outputs": [],
   "source": [
    "import numpy as np\n",
    "from scipy.sparse import csr_matrix\n",
    "link_keys = list(returned_links.keys())\n",
    "link_indexing = {}\n",
    "for i in range(len(link_keys)):\n",
    "    link_indexing[link_keys[i]] = i"
   ]
  },
  {
   "cell_type": "code",
   "execution_count": 56,
   "id": "926514be",
   "metadata": {},
   "outputs": [
    {
     "name": "stderr",
     "output_type": "stream",
     "text": [
      "/Users/coreychen/Desktop/STA 141B/venv/lib/python3.11/site-packages/scipy/sparse/_index.py:102: SparseEfficiencyWarning: Changing the sparsity structure of a csr_matrix is expensive. lil_matrix is more efficient.\n",
      "  self._set_intXint(row, col, x.flat[0])\n",
      "/Users/coreychen/Desktop/STA 141B/venv/lib/python3.11/site-packages/scipy/sparse/_index.py:145: SparseEfficiencyWarning: Changing the sparsity structure of a csr_matrix is expensive. lil_matrix is more efficient.\n",
      "  self._set_arrayXarray(i, j, x)\n"
     ]
    }
   ],
   "source": [
    "transition_matrix = csr_matrix((len(link_keys), len(link_keys)))\n",
    "for i in link_keys:\n",
    "    outgoing_links = returned_links[i]\n",
    "    if outgoing_links == []:\n",
    "        transition_matrix[link_indexing[i], 0:-1] = 1/(len(link_keys))\n",
    "    else:\n",
    "        for outgoing in outgoing_links:\n",
    "            transition_matrix[link_indexing[i], link_indexing[outgoing]] = 1/len(outgoing_links)"
   ]
  },
  {
   "cell_type": "markdown",
   "id": "a0caa3a1",
   "metadata": {
    "tags": [
     "exercise"
    ]
   },
   "source": [
    "__(d, i)__ Set the damping factor to `0.85` and compute the PageRank for each article, using fourty iterations and starting with a vector with equal entries. __(ii)__ Obtain the top ten articles in terms of PageRank, and, retrieving the articles again, find the correponding English article, if available. \n",
    "\n",
    "_Return the corresponding English article titles of the top ten articles from the Hawaiian wikipedia._"
   ]
  },
  {
   "cell_type": "code",
   "execution_count": 57,
   "id": "10283f29",
   "metadata": {},
   "outputs": [],
   "source": [
    "d = 0.85\n",
    "equal_matrix = np.matrix(np.ones((len(link_keys), len(link_keys))))\n",
    "equal_matrix = 1/len(link_keys) * equal_matrix\n",
    "page_rank_matrix = (d * transition_matrix) + ((1-d) * equal_matrix)\n",
    "equal_vector = (1/len(link_keys)) * np.ones((1, len(link_keys)))"
   ]
  },
  {
   "cell_type": "code",
   "execution_count": 58,
   "id": "fc426e88",
   "metadata": {},
   "outputs": [],
   "source": [
    "def page_rank_calc(vector, matrix, count = 1):\n",
    "    while count != 40:\n",
    "        vector = vector * matrix\n",
    "        return page_rank_calc(vector, matrix, count + 1)\n",
    "    return(vector * matrix)\n",
    "rank_vector = page_rank_calc(equal_vector, page_rank_matrix).A1"
   ]
  },
  {
   "cell_type": "code",
   "execution_count": 22,
   "id": "33f8185c",
   "metadata": {},
   "outputs": [],
   "source": [
    "#d is dampening factor, M is transition matrix\n",
    "#repeat update rule 40 times\n",
    "#define the function vh - lambda c : 0.85 * (c @ H) + 0.15 * np.mean\n",
    "def compute_pagerank()\n",
    "d = 0.85\n",
    "N = transition_matrix.shape[0]\n",
    "page_rank = ((1-d)/len(link_keys)) + d"
   ]
  },
  {
   "cell_type": "code",
   "execution_count": 59,
   "id": "f61f89a9",
   "metadata": {},
   "outputs": [
    {
     "data": {
      "image/png": "[encoded data removed]",
      "text/plain": [
       "<Figure size 640x480 with 1 Axes>"
      ]
     },
     "metadata": {},
     "output_type": "display_data"
    }
   ],
   "source": [
    "import matplotlib.pyplot as plt\n",
    "x_val = np.arange(len(link_keys))\n",
    "plt.plot(x_val, rank_vector, label = \"PageRank\")\n",
    "plt.legend()\n",
    "plt.show()\n"
   ]
  },
  {
   "cell_type": "code",
   "execution_count": 67,
   "id": "283f3319",
   "metadata": {},
   "outputs": [
    {
     "data": {
      "text/plain": [
       "['https://haw.wikipedia.org/wiki/Aupuni_kiwik%C4%81',\n",
       " 'https://haw.wikipedia.org/wiki/Castille_a_Leon',\n",
       " 'https://haw.wikipedia.org/wiki/Hawai%CA%BBi',\n",
       " 'https://haw.wikipedia.org/wiki/Honua',\n",
       " 'https://haw.wikipedia.org/wiki/Kapikala',\n",
       " 'https://haw.wikipedia.org/wiki/Kaumoku%CA%BB%C4%81ina',\n",
       " 'https://haw.wikipedia.org/wiki/Palakila',\n",
       " 'https://haw.wikipedia.org/wiki/%CA%BBAmelika_Hui_P%C5%AB_%CA%BBia',\n",
       " 'https://haw.wikipedia.org/wiki/%CA%BBEulopa',\n",
       " 'https://haw.wikipedia.org/wiki/%CA%BB%C5%8Clelo_Pelekania']"
      ]
     },
     "execution_count": 67,
     "metadata": {},
     "output_type": "execute_result"
    }
   ],
   "source": [
    "sorted_indices = np.argsort(rank_vector)[::-1]\n",
    "top_indices = sorted_indices[:10]\n",
    "top_articles = []\n",
    "for key, value in link_indexing.items():\n",
    "    if value in top_indices:\n",
    "        top_articles.append(key) \n",
    "top_articles"
   ]
  },
  {
   "cell_type": "code",
   "execution_count": 73,
   "id": "f738c5c6",
   "metadata": {},
   "outputs": [
    {
     "name": "stdout",
     "output_type": "stream",
     "text": [
      "[]\n",
      "[]\n",
      "[]\n",
      "[]\n",
      "[]\n",
      "[]\n",
      "[]\n",
      "[]\n",
      "[]\n",
      "[]\n"
     ]
    },
    {
     "data": {
      "text/plain": [
       "[]"
      ]
     },
     "execution_count": 73,
     "metadata": {},
     "output_type": "execute_result"
    }
   ],
   "source": [
    "en_articles = []\n",
    "for article in top_articles:\n",
    "    new_link = article.replace('haw', 'en')\n",
    "    response = requests.get(new_link)\n",
    "    print(page.xpath('//div[@class=\"noarticletext\"]'))\n",
    "    if not page.xpath('//div[@class=\"noarticletext\"]'):\n",
    "        continue\n",
    "    else:\n",
    "        en_articles.append(new_link)\n",
    "en_articles\n",
    "    "
   ]
  },
  {
   "cell_type": "code",
   "execution_count": 15,
   "id": "9e4b2270",
   "metadata": {
    "tags": [
     "comments"
    ]
   },
   "outputs": [
    {
     "data": {
      "image/png": "[encoded data removed]",
      "text/plain": [
       "<Figure size 640x480 with 1 Axes>"
      ]
     },
     "metadata": {},
     "output_type": "display_data"
    }
   ],
   "source": [
    "import matplotlib.pyplot as plt\n",
    "plt.plot(range(n), v, label = \"PageRank\") \n",
    "plt.legend() \n",
    "plt.show()"
   ]
  }
 ],
 "metadata": {
  "celltoolbar": "Tags",
  "kernelspec": {
   "display_name": "Python 3 (ipykernel)",
   "language": "python",
   "name": "python3"
  },
  "language_info": {
   "codemirror_mode": {
    "name": "ipython",
    "version": 3
   },
   "file_extension": ".py",
   "mimetype": "text/x-python",
   "name": "python",
   "nbconvert_exporter": "python",
   "pygments_lexer": "ipython3",
   "version": "3.11.4"
  },
  "vscode": {
   "interpreter": {
    "hash": "9a6f6de4d8afe0ca01d20dfdc98a6258415054431dfe21163eb1f023bb742319"
   }
  }
 },
 "nbformat": 4,
 "nbformat_minor": 5
}
