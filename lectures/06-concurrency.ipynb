{
 "cells": [
  {
   "cell_type": "markdown",
   "id": "ff704263",
   "metadata": {
    "slideshow": {
     "slide_type": "slide"
    }
   },
   "source": [
    "# STA 141B Data & Web Technologies for Data Analysis\n",
    "\n",
    "### Lecture 6, 25/1/24, Concurrency\n"
   ]
  },
  {
   "cell_type": "markdown",
   "id": "d720fbd5",
   "metadata": {
    "slideshow": {
     "slide_type": "slide"
    }
   },
   "source": [
    "### Announcements\n",
    "\n",
    " - Homework 1 due tomorrow. \n",
    " - Midterm next Tuesday. "
   ]
  },
  {
   "cell_type": "markdown",
   "id": "d6d6f0bf",
   "metadata": {
    "slideshow": {
     "slide_type": "slide"
    }
   },
   "source": [
    "### Today's Topics\n",
    "\n",
    " - Concurrency\n",
    "     - Threads and Processes\n",
    "     - I/O-Concurrency\n",
    "         - `threading`\n",
    "     - CPU-Concurrency (Parallelization)\n",
    "         - `multiprocessing` \n",
    "         - `Spark`\n",
    " \n",
    "### References\n",
    "- [SuperFastPython](https://superfastpython.com/thread-vs-process/) by Jason Brownlee\n",
    "- [An introduction to parallel programming](https://sebastianraschka.com/Articles/2014_multiprocessing.html) by Sebastian Raschka\n",
    "- [Speed Up Your Python Program With Concurrency](https://realpython.com/python-concurrency/) by Jim Anderson\n",
    "- [An Intro to Threading in Python](https://realpython.com/intro-to-python-threading/) by Jim Anderson\n",
    "- [3 Methods for Parallelization in Spark](https://towardsdatascience.com/3-methods-for-parallelization-in-spark-6a1a4333b473) by Ben Weber"
   ]
  },
  {
   "cell_type": "markdown",
   "id": "b44dc81e",
   "metadata": {
    "slideshow": {
     "slide_type": "slide"
    }
   },
   "source": [
    "### Threads and Processes\n",
    "\n",
    "A computer can have multiple CPUs, each CPU has multiple cores (e.g., two quad-core CPUs). \n",
    "All the CPUs are connected to memory (e.g., 64G memory). \n",
    "CPU cores can execute in parallel. \n",
    "\n",
    "<div>\n",
    "<img src=\"../images/fig1.png\" alt=\"Drawing\" style=\"width: 1000px;\"/>\n",
    "</div>"
   ]
  },
  {
   "cell_type": "markdown",
   "id": "58803ce1",
   "metadata": {
    "slideshow": {
     "slide_type": "slide"
    }
   },
   "source": [
    "A __process__ is the *operating system’s spawned and controlled entity that encapsulates an executing application* ([Breshears: The Art of Concurrency](https://amzn.to/3J74TRr)). \n",
    "\n",
    "A __thread__ is a path of execution which belongs to a process. \n",
    "\n",
    "Each thread belongs to a process. In single-threaded processes, the process contains one thread. In multithreaded processes, the process contains more than one thread, and the process is accomplishing a number of things at the same time. "
   ]
  },
  {
   "cell_type": "markdown",
   "id": "0ed164f3",
   "metadata": {
    "slideshow": {
     "slide_type": "slide"
    }
   },
   "source": [
    "Threads can share memory within a process. This means that functions executed in new threads can access the same data and state. These might be global variables or data shared via function arguments. As such, sharing state between threads is straightforward.\n",
    "\n",
    "Threads are sometimes called lightweight processes because they have their own stack but can access shared data. \n",
    "\n",
    "<div>\n",
    "<img src=\"../images/fig3.png\" alt=\"Drawing\" style=\"width: 1000px;\"/>\n",
    "</div>"
   ]
  },
  {
   "cell_type": "markdown",
   "id": "171f70e3",
   "metadata": {
    "slideshow": {
     "slide_type": "slide"
    }
   },
   "source": [
    "On the other hand, processes are 'share nothing', i.e., they independently execute without sharing memory or state. This makes it easier to turn into a distributed application, but typically, sharing data between processes requires explicit mechanisms.\n",
    "\n",
    "<div>\n",
    "<img src=\"../images/fig4.png\" alt=\"Drawing\" style=\"width: 1000px;\"/>\n",
    "</div>"
   ]
  },
  {
   "cell_type": "markdown",
   "id": "0677f060",
   "metadata": {
    "slideshow": {
     "slide_type": "slide"
    }
   },
   "source": [
    "Python allows to execute code using the principle of global interpreter lock (GIL). This means that only one thread can be executed at a time. This simplifies implementation, but makes it more difficult to execute code concurrently. \n",
    "\n",
    "Today, we will explore the advantages of executing multiple processes and threads and discuss under what circumstances which approach is most adequate. "
   ]
  },
  {
   "cell_type": "markdown",
   "id": "352750d9",
   "metadata": {
    "slideshow": {
     "slide_type": "slide"
    }
   },
   "source": [
    "There are two major kind of tasks, that will slow down your program: CPU-bound and I/O-bound.\n",
    "\n",
    "I/O-bound tasks cause your program to slow down because it frequently must wait for input/output (I/O) from some external resource. They arise when your program interacts with other sources, i.e., when your are *requesting* data from another source. "
   ]
  },
  {
   "cell_type": "markdown",
   "id": "9acafebe",
   "metadata": {},
   "source": [
    "<div>\n",
    "<img src=https://files.realpython.com/media/IOBound.4810a888b457.png style=\"width: 1700px;\"/>\n",
    "</div>"
   ]
  },
  {
   "cell_type": "markdown",
   "id": "d4d51c2e",
   "metadata": {
    "slideshow": {
     "slide_type": "slide"
    }
   },
   "source": [
    "CPU-bound tasks are those that require a lot of *computational* effort to complete. "
   ]
  },
  {
   "cell_type": "markdown",
   "id": "9792b789",
   "metadata": {},
   "source": [
    "<div>\n",
    "<img src=https://files.realpython.com/media/CPUBound.d2d32cb2626c.png style=\"width: 1700px;\"/>\n",
    "</div>"
   ]
  },
  {
   "cell_type": "markdown",
   "id": "2fc078db",
   "metadata": {
    "slideshow": {
     "slide_type": "-"
    }
   },
   "source": [
    "We will use threads and the module `threading` for I/O-bound tasks and processes and the module `multiprocessing` for CPU-bound tasks."
   ]
  },
  {
   "cell_type": "markdown",
   "id": "6e1b8610",
   "metadata": {
    "slideshow": {
     "slide_type": "slide"
    }
   },
   "source": [
    "### I/O-Concurrency\n",
    "\n",
    "We’ll start with a non-concurrent version of this a I/O-bound task. Namely, we will use `request` to request data from a [website](https://anson.ucdavis.edu/~kramling/). For `requets.Session`, see [here](https://requests.readthedocs.io/en/latest/user/advanced/) and [docs](https://requests.readthedocs.io/en/latest/api/?#requests.Session). "
   ]
  },
  {
   "cell_type": "code",
   "execution_count": 23,
   "id": "b4a93301",
   "metadata": {
    "scrolled": true
   },
   "outputs": [],
   "source": [
    "import requests, time\n",
    "\n",
    "def download_site(url, session):\n",
    "    session.get(url) # fetch information from url \n",
    "    # ... do something ... \n",
    "    \n",
    "def download_all_sites(sites):\n",
    "    session = requests.Session()\n",
    "    [download_site(url, session) for url in sites]\n",
    "        \n",
    "def task(): \n",
    "    sites = [\"https://anson.ucdavis.edu/~kramling/\"] * 80\n",
    "    start_time = time.time()\n",
    "    download_all_sites(sites)\n",
    "    print(time.time() - start_time)"
   ]
  },
  {
   "cell_type": "code",
   "execution_count": 24,
   "id": "b3bbfd47",
   "metadata": {
    "scrolled": true
   },
   "outputs": [
    {
     "name": "stdout",
     "output_type": "stream",
     "text": [
      "1.943566083908081\n"
     ]
    }
   ],
   "source": [
    "task()"
   ]
  },
  {
   "cell_type": "code",
   "execution_count": 4,
   "id": "c7550e9b",
   "metadata": {},
   "outputs": [
    {
     "data": {
      "text/plain": [
       "<Response [200]>"
      ]
     },
     "execution_count": 4,
     "metadata": {},
     "output_type": "execute_result"
    }
   ],
   "source": [
    "requests.get(\"https://anson.ucdavis.edu/~kramling/\")"
   ]
  },
  {
   "cell_type": "markdown",
   "id": "c4079ebd",
   "metadata": {
    "slideshow": {
     "slide_type": "subslide"
    }
   },
   "source": [
    "We will now use concurrent threads that accomplish the same task, retrieving information by executing `requests.get` more efficient. "
   ]
  },
  {
   "cell_type": "code",
   "execution_count": 17,
   "id": "284bab80",
   "metadata": {
    "scrolled": true
   },
   "outputs": [],
   "source": [
    "import concurrent.futures, threading\n",
    "\n",
    "thread_local = threading.local() # instantiates thread to create local data (here: session-attr.)\n",
    "\n",
    "def download_site(url):\n",
    "    session = get_session()\n",
    "    session.get(url)\n",
    "    # ... do something ... \n",
    "\n",
    "def download_all_sites(sites):\n",
    "    with concurrent.futures.ThreadPoolExecutor(max_workers=1) as executor:\n",
    "        executor.map(download_site, sites)\n",
    "\n",
    "def get_session():\n",
    "    '''Create a new requests.Session if there is none in thread_local'''\n",
    "    if not hasattr(thread_local, \"session\"): \n",
    "        thread_local.session = requests.Session()\n",
    "    return thread_local.session"
   ]
  },
  {
   "cell_type": "code",
   "execution_count": 18,
   "id": "1a96540c",
   "metadata": {
    "scrolled": true
   },
   "outputs": [
    {
     "name": "stdout",
     "output_type": "stream",
     "text": [
      "0.44705700874328613\n"
     ]
    }
   ],
   "source": [
    "task()"
   ]
  },
  {
   "cell_type": "markdown",
   "id": "a22615b2",
   "metadata": {
    "slideshow": {
     "slide_type": "subslide"
    }
   },
   "source": [
    "We have created a `concurrent.futures.ThreadPoolExecutor`. It creates five threads that are run concurrently. \n",
    "\n",
    "Also, each thread will become its own separate `requests.Session`. This is one of the interesting and difficult issues with threading. Because the operating system is in control of switching between threads, any data that is shared between the threads needs to be protected, or thread-safe. Unfortunately `requests.Session` is not thread-safe. If untreated, *race conditions* can produce hard-to-detect bugs. \n",
    "\n",
    "Here, we use `threading.local()` to instantiate an object that looks like a global but is specific to each individual thread. "
   ]
  },
  {
   "cell_type": "markdown",
   "id": "c25bd665",
   "metadata": {
    "slideshow": {
     "slide_type": "subslide"
    }
   },
   "source": [
    "The code above is faster than the non-concurrent version, because the I/O-bound has been circumvented. "
   ]
  },
  {
   "cell_type": "markdown",
   "id": "754b31dc",
   "metadata": {},
   "source": [
    "<div>\n",
    "<img src=https://files.realpython.com/media/Threading.3eef48da829e.png style=\"width: 1600px;\"/>\n",
    "</div>"
   ]
  },
  {
   "cell_type": "markdown",
   "id": "d48a57dd",
   "metadata": {
    "slideshow": {
     "slide_type": "slide"
    }
   },
   "source": [
    "### CPU-Concurrency (Parallelization)\n",
    "\n",
    "The above example of concurrency run only on a single CPU. This is due to the GIL. The `multiprocessing` module breaks down that barrier and runs code across multiple CPUs. \n",
    "\n",
    "It does this by creating a new instance of the Python interpreter (a new process) to run on each CPU and then farming out part of your program to run on it.  Bringing up a separate Python interpreter is not as fast as starting a new thread in the current Python interpreter. Regarding `.set_start_method`, see [here](https://docs.python.org/3/library/multiprocessing.html#contexts-and-start-methods). "
   ]
  },
  {
   "cell_type": "code",
   "execution_count": 21,
   "id": "801a8412",
   "metadata": {},
   "outputs": [
    {
     "data": {
      "text/plain": [
       "8"
      ]
     },
     "execution_count": 21,
     "metadata": {},
     "output_type": "execute_result"
    }
   ],
   "source": [
    "import multiprocessing\n",
    "multiprocessing.cpu_count()"
   ]
  },
  {
   "cell_type": "code",
   "execution_count": 22,
   "id": "e9bebb16",
   "metadata": {
    "scrolled": true
   },
   "outputs": [
    {
     "ename": "ConnectTimeout",
     "evalue": "None: Max retries exceeded with url: /~kramling/ (Caused by None)",
     "output_type": "error",
     "traceback": [
      "\u001b[0;31m---------------------------------------------------------------------------\u001b[0m",
      "\u001b[0;31mRemoteTraceback\u001b[0m                           Traceback (most recent call last)",
      "\u001b[0;31mRemoteTraceback\u001b[0m: \n\"\"\"\nTraceback (most recent call last):\n  File \"/Library/Frameworks/Python.framework/Versions/3.10/lib/python3.10/site-packages/urllib3/connection.py\", line 174, in _new_conn\n    conn = connection.create_connection(\n  File \"/Library/Frameworks/Python.framework/Versions/3.10/lib/python3.10/site-packages/urllib3/util/connection.py\", line 95, in create_connection\n    raise err\n  File \"/Library/Frameworks/Python.framework/Versions/3.10/lib/python3.10/site-packages/urllib3/util/connection.py\", line 85, in create_connection\n    sock.connect(sa)\nTimeoutError: [Errno 60] Operation timed out\n\nDuring handling of the above exception, another exception occurred:\n\nTraceback (most recent call last):\n  File \"/Library/Frameworks/Python.framework/Versions/3.10/lib/python3.10/site-packages/urllib3/connectionpool.py\", line 714, in urlopen\n    httplib_response = self._make_request(\n  File \"/Library/Frameworks/Python.framework/Versions/3.10/lib/python3.10/site-packages/urllib3/connectionpool.py\", line 403, in _make_request\n    self._validate_conn(conn)\n  File \"/Library/Frameworks/Python.framework/Versions/3.10/lib/python3.10/site-packages/urllib3/connectionpool.py\", line 1053, in _validate_conn\n    conn.connect()\n  File \"/Library/Frameworks/Python.framework/Versions/3.10/lib/python3.10/site-packages/urllib3/connection.py\", line 363, in connect\n    self.sock = conn = self._new_conn()\n  File \"/Library/Frameworks/Python.framework/Versions/3.10/lib/python3.10/site-packages/urllib3/connection.py\", line 179, in _new_conn\n    raise ConnectTimeoutError(\nurllib3.exceptions.ConnectTimeoutError: (<urllib3.connection.HTTPSConnection object at 0x106911960>, 'Connection to anson.ucdavis.edu timed out. (connect timeout=None)')\n\nDuring handling of the above exception, another exception occurred:\n\nTraceback (most recent call last):\n  File \"/Library/Frameworks/Python.framework/Versions/3.10/lib/python3.10/site-packages/requests/adapters.py\", line 489, in send\n    resp = conn.urlopen(\n  File \"/Library/Frameworks/Python.framework/Versions/3.10/lib/python3.10/site-packages/urllib3/connectionpool.py\", line 798, in urlopen\n    retries = retries.increment(\n  File \"/Library/Frameworks/Python.framework/Versions/3.10/lib/python3.10/site-packages/urllib3/util/retry.py\", line 592, in increment\n    raise MaxRetryError(_pool, url, error or ResponseError(cause))\nurllib3.exceptions.MaxRetryError: HTTPSConnectionPool(host='anson.ucdavis.edu', port=443): Max retries exceeded with url: /~kramling/ (Caused by ConnectTimeoutError(<urllib3.connection.HTTPSConnection object at 0x106911960>, 'Connection to anson.ucdavis.edu timed out. (connect timeout=None)'))\n\nDuring handling of the above exception, another exception occurred:\n\nTraceback (most recent call last):\n  File \"/Library/Frameworks/Python.framework/Versions/3.10/lib/python3.10/multiprocessing/pool.py\", line 125, in worker\n    result = (True, func(*args, **kwds))\n  File \"/Library/Frameworks/Python.framework/Versions/3.10/lib/python3.10/multiprocessing/pool.py\", line 48, in mapstar\n    return list(map(*args))\n  File \"/var/folders/nv/5j9xydr90s30r_9rw5pwhf640000gn/T/ipykernel_45577/2625884213.py\", line 10, in download_site\n    session.get(url)\n  File \"/Library/Frameworks/Python.framework/Versions/3.10/lib/python3.10/site-packages/requests/sessions.py\", line 600, in get\n    return self.request(\"GET\", url, **kwargs)\n  File \"/Library/Frameworks/Python.framework/Versions/3.10/lib/python3.10/site-packages/requests/sessions.py\", line 587, in request\n    resp = self.send(prep, **send_kwargs)\n  File \"/Library/Frameworks/Python.framework/Versions/3.10/lib/python3.10/site-packages/requests/sessions.py\", line 701, in send\n    r = adapter.send(request, **kwargs)\n  File \"/Library/Frameworks/Python.framework/Versions/3.10/lib/python3.10/site-packages/requests/adapters.py\", line 553, in send\n    raise ConnectTimeout(e, request=request)\nrequests.exceptions.ConnectTimeout: HTTPSConnectionPool(host='anson.ucdavis.edu', port=443): Max retries exceeded with url: /~kramling/ (Caused by ConnectTimeoutError(<urllib3.connection.HTTPSConnection object at 0x106911960>, 'Connection to anson.ucdavis.edu timed out. (connect timeout=None)'))\n\"\"\"",
      "\nThe above exception was the direct cause of the following exception:\n",
      "\u001b[0;31mConnectTimeout\u001b[0m                            Traceback (most recent call last)",
      "Cell \u001b[0;32mIn[22], line 17\u001b[0m\n\u001b[1;32m     14\u001b[0m     \u001b[39mwith\u001b[39;00m multiprocessing\u001b[39m.\u001b[39mPool(initializer\u001b[39m=\u001b[39mset_global_session, processes \u001b[39m=\u001b[39m \u001b[39m8\u001b[39m) \u001b[39mas\u001b[39;00m pool: \u001b[39m# change processes!\u001b[39;00m\n\u001b[1;32m     15\u001b[0m         pool\u001b[39m.\u001b[39mmap(download_site, sites)\n\u001b[0;32m---> 17\u001b[0m task()\n",
      "Cell \u001b[0;32mIn[19], line 14\u001b[0m, in \u001b[0;36mtask\u001b[0;34m()\u001b[0m\n\u001b[1;32m     12\u001b[0m sites \u001b[39m=\u001b[39m [\u001b[39m\"\u001b[39m\u001b[39mhttps://anson.ucdavis.edu/~kramling/\u001b[39m\u001b[39m\"\u001b[39m] \u001b[39m*\u001b[39m \u001b[39m80\u001b[39m\n\u001b[1;32m     13\u001b[0m start_time \u001b[39m=\u001b[39m time\u001b[39m.\u001b[39mtime()\n\u001b[0;32m---> 14\u001b[0m download_all_sites(sites)\n\u001b[1;32m     15\u001b[0m \u001b[39mprint\u001b[39m(time\u001b[39m.\u001b[39mtime() \u001b[39m-\u001b[39m start_time)\n",
      "Cell \u001b[0;32mIn[22], line 15\u001b[0m, in \u001b[0;36mdownload_all_sites\u001b[0;34m(sites)\u001b[0m\n\u001b[1;32m     13\u001b[0m \u001b[39mdef\u001b[39;00m \u001b[39mdownload_all_sites\u001b[39m(sites):\n\u001b[1;32m     14\u001b[0m     \u001b[39mwith\u001b[39;00m multiprocessing\u001b[39m.\u001b[39mPool(initializer\u001b[39m=\u001b[39mset_global_session, processes \u001b[39m=\u001b[39m \u001b[39m8\u001b[39m) \u001b[39mas\u001b[39;00m pool: \u001b[39m# change processes!\u001b[39;00m\n\u001b[0;32m---> 15\u001b[0m         pool\u001b[39m.\u001b[39;49mmap(download_site, sites)\n",
      "File \u001b[0;32m/Library/Frameworks/Python.framework/Versions/3.10/lib/python3.10/multiprocessing/pool.py:367\u001b[0m, in \u001b[0;36mPool.map\u001b[0;34m(self, func, iterable, chunksize)\u001b[0m\n\u001b[1;32m    362\u001b[0m \u001b[39mdef\u001b[39;00m \u001b[39mmap\u001b[39m(\u001b[39mself\u001b[39m, func, iterable, chunksize\u001b[39m=\u001b[39m\u001b[39mNone\u001b[39;00m):\n\u001b[1;32m    363\u001b[0m \u001b[39m    \u001b[39m\u001b[39m'''\u001b[39;00m\n\u001b[1;32m    364\u001b[0m \u001b[39m    Apply `func` to each element in `iterable`, collecting the results\u001b[39;00m\n\u001b[1;32m    365\u001b[0m \u001b[39m    in a list that is returned.\u001b[39;00m\n\u001b[1;32m    366\u001b[0m \u001b[39m    '''\u001b[39;00m\n\u001b[0;32m--> 367\u001b[0m     \u001b[39mreturn\u001b[39;00m \u001b[39mself\u001b[39;49m\u001b[39m.\u001b[39;49m_map_async(func, iterable, mapstar, chunksize)\u001b[39m.\u001b[39;49mget()\n",
      "File \u001b[0;32m/Library/Frameworks/Python.framework/Versions/3.10/lib/python3.10/multiprocessing/pool.py:774\u001b[0m, in \u001b[0;36mApplyResult.get\u001b[0;34m(self, timeout)\u001b[0m\n\u001b[1;32m    772\u001b[0m     \u001b[39mreturn\u001b[39;00m \u001b[39mself\u001b[39m\u001b[39m.\u001b[39m_value\n\u001b[1;32m    773\u001b[0m \u001b[39melse\u001b[39;00m:\n\u001b[0;32m--> 774\u001b[0m     \u001b[39mraise\u001b[39;00m \u001b[39mself\u001b[39m\u001b[39m.\u001b[39m_value\n",
      "\u001b[0;31mConnectTimeout\u001b[0m: None: Max retries exceeded with url: /~kramling/ (Caused by None)"
     ]
    }
   ],
   "source": [
    "session = None\n",
    "multiprocessing.set_start_method(\"fork\", True) # new process will be a copy from previous process\n",
    "\n",
    "def set_global_session():\n",
    "    global session\n",
    "    if not session:\n",
    "        session = requests.Session()\n",
    "\n",
    "def download_site(url):\n",
    "    session.get(url)\n",
    "    # ... do something ... \n",
    "\n",
    "def download_all_sites(sites):\n",
    "    with multiprocessing.Pool(initializer=set_global_session, processes = 8) as pool: # change processes!\n",
    "        pool.map(download_site, sites)\n",
    "    \n",
    "task()"
   ]
  },
  {
   "cell_type": "markdown",
   "id": "c503bc19",
   "metadata": {
    "slideshow": {
     "slide_type": "subslide"
    }
   },
   "source": [
    "We may even be faster than with `threading`, since we are running up to 8 processes in parallel, but `multiprocessing` cannot scale beyond the number of cores in your local machine. \n",
    "The default argument `processes` of `multiprocessing.pool.Pool` ([docs](https://docs.python.org/3/library/multiprocessing.html?#module-multiprocessing.pool)), is the number of available cores on the machine. \n",
    "\n",
    "Remember that each process has its own memory space (share-nothing). That means that they cannot share things like a `requests.Session` object. We don’t want to create a new Session each time the function is called, you want to create one for each process, which calls `request.get` multiple times after another. \n",
    "\n",
    "The `initializer` function parameter is built for just this case. We initialize a global `session` variable to hold the single `requests.Session` *for each process*. Because each process has its own memory space, the global for each one will be different."
   ]
  },
  {
   "cell_type": "markdown",
   "id": "779e2832",
   "metadata": {
    "slideshow": {
     "slide_type": "subslide"
    }
   },
   "source": [
    "<div>\n",
    "<img src=https://files.realpython.com/media/MProc.7cf3be371bbc.png style=\"width: 1600px;\"/>\n",
    "</div>"
   ]
  },
  {
   "cell_type": "markdown",
   "id": "05368937",
   "metadata": {
    "slideshow": {
     "slide_type": "subslide"
    }
   },
   "source": [
    "This course will deal with fetching information from the web, usually via requests. While these requests will usually be bound by third partys who maintain the servers we are requesting from as well, they are in essence I/O-bound task. `multiprocessing` however is useful for CPU-bound tasks. Consequently, lets consider a computational problem. "
   ]
  },
  {
   "cell_type": "markdown",
   "id": "edef6c4a",
   "metadata": {
    "slideshow": {
     "slide_type": "subslide"
    }
   },
   "source": [
    "For the purposes of our example, we’ll use a somewhat silly function to create something that takes a long time to run on the CPU. This function computes the sum of the squares of each number from 0 to the passed-in value:"
   ]
  },
  {
   "cell_type": "code",
   "execution_count": null,
   "id": "1406ac99",
   "metadata": {
    "scrolled": true,
    "slideshow": {
     "slide_type": "-"
    }
   },
   "outputs": [],
   "source": [
    "def problem(number):\n",
    "    return sum(i * i for i in range(number))\n",
    "\n",
    "def find_sums(numbers):\n",
    "    for number in numbers:\n",
    "        problem(number)\n",
    "\n",
    "def task():\n",
    "    numbers = [5_000_000 + x for x in range(20)]\n",
    "    start_time = time.time()\n",
    "    find_sums(numbers)\n",
    "    print(time.time() - start_time)"
   ]
  },
  {
   "cell_type": "code",
   "execution_count": null,
   "id": "4c9ef724",
   "metadata": {
    "scrolled": true
   },
   "outputs": [],
   "source": [
    "task()"
   ]
  },
  {
   "cell_type": "markdown",
   "id": "7d247d32",
   "metadata": {
    "slideshow": {
     "slide_type": "subslide"
    }
   },
   "source": [
    "This code calls `cpu_bound` 20 times with a different large number each time. It does all of this on a single thread in a single process on a single CPU. The execution timing diagram looks like this:"
   ]
  },
  {
   "cell_type": "markdown",
   "id": "8c315448",
   "metadata": {},
   "source": [
    "<div>\n",
    "<img src=https://files.realpython.com/media/CPUBound.d2d32cb2626c.png style=\"width: 1600px;\"/>\n",
    "</div>"
   ]
  },
  {
   "cell_type": "markdown",
   "id": "1d55b3f5",
   "metadata": {
    "slideshow": {
     "slide_type": "slide"
    }
   },
   "source": [
    "Since there is no I/O waiting time, `threading` will not speed up this problem. We can however speed the computation by using our multiple cores. "
   ]
  },
  {
   "cell_type": "code",
   "execution_count": null,
   "id": "a87f2626",
   "metadata": {
    "scrolled": true
   },
   "outputs": [],
   "source": [
    "# multiprocessing.set_start_method(\"fork\", True) # has already been set\n",
    "def find_sums(numbers):\n",
    "    pool = multiprocessing.Pool()\n",
    "    return pool.map(problem, numbers)"
   ]
  },
  {
   "cell_type": "code",
   "execution_count": null,
   "id": "d83043ea",
   "metadata": {
    "scrolled": true
   },
   "outputs": [],
   "source": [
    "task()"
   ]
  },
  {
   "cell_type": "markdown",
   "id": "0ceaa426",
   "metadata": {
    "slideshow": {
     "slide_type": "subslide"
    }
   },
   "source": [
    "This code is similar as for the I/O-bound problem, but here you don’t need to worry about the `requests.Session` object. Notably, the speed-up is not equal to the number of cores, as each process has to set up its own Python interpreter. "
   ]
  },
  {
   "cell_type": "markdown",
   "id": "7b72c9cc",
   "metadata": {},
   "source": [
    "<div>\n",
    "<img src=https://files.realpython.com/media/CPUMP.69c1a7fad9c4.png style=\"width: 1600px;\"/>\n",
    "</div>"
   ]
  },
  {
   "cell_type": "markdown",
   "id": "1facef36",
   "metadata": {
    "slideshow": {
     "slide_type": "subslide"
    }
   },
   "source": [
    "While this codes is easy and fast. All the single processes are automatically taken care of with `multiprocessing.Pool`. The results returned by `problem` are gathered by `multiprocessing.map` as a <kbd>list</kbd> type. "
   ]
  },
  {
   "cell_type": "code",
   "execution_count": null,
   "id": "7c97ec85",
   "metadata": {
    "scrolled": true
   },
   "outputs": [],
   "source": [
    "find_sums(range(0, 4)) # returns a list"
   ]
  },
  {
   "cell_type": "markdown",
   "id": "c92cea47",
   "metadata": {
    "slideshow": {
     "slide_type": "subslide"
    }
   },
   "source": [
    "However, many solution require communication between the processes. This can add some complexity to your solution that a non-concurrent program would not need to deal with."
   ]
  },
  {
   "cell_type": "markdown",
   "id": "a248b939",
   "metadata": {
    "slideshow": {
     "slide_type": "subslide"
    }
   },
   "source": [
    "A `multiprocessing.Queue` object provides a mechanism to pass data between a parent process and the descendent processes of it. It adheres the *first in first out* principle. We can retrieve with the `multiprocessing.get` method and set with the `multiprocessing.put` method. \n",
    "\n",
    "<div>\n",
    "<img src=https://media.geeksforgeeks.org/wp-content/uploads/multiprocessing-python-4.png style=\"width: 1400px;\"/>\n",
    "</div>"
   ]
  },
  {
   "cell_type": "code",
   "execution_count": null,
   "id": "e1d2430a",
   "metadata": {
    "scrolled": true,
    "slideshow": {
     "slide_type": "subslide"
    }
   },
   "outputs": [],
   "source": [
    "q = multiprocessing.Queue()\n",
    "def myfun(q, i): \n",
    "    q.put(i)"
   ]
  },
  {
   "cell_type": "code",
   "execution_count": null,
   "id": "f4c28dee",
   "metadata": {
    "scrolled": true
   },
   "outputs": [],
   "source": [
    "# initialize process\n",
    "processes = [multiprocessing.Process(target=myfun, args = (q, i)) for i in range(4)]\n",
    "processes"
   ]
  },
  {
   "cell_type": "code",
   "execution_count": null,
   "id": "5ce64c44",
   "metadata": {
    "scrolled": true
   },
   "outputs": [],
   "source": [
    "!ps aux | grep \"[5]183\""
   ]
  },
  {
   "cell_type": "markdown",
   "id": "833f44bc",
   "metadata": {
    "slideshow": {
     "slide_type": "subslide"
    }
   },
   "source": [
    "The processess are initialized but not yet executed. "
   ]
  },
  {
   "cell_type": "code",
   "execution_count": null,
   "id": "5d332f66",
   "metadata": {
    "scrolled": true
   },
   "outputs": [],
   "source": [
    "# run processes\n",
    "for process in processes:\n",
    "    process.start()"
   ]
  },
  {
   "cell_type": "code",
   "execution_count": null,
   "id": "a71474cf",
   "metadata": {
    "scrolled": true
   },
   "outputs": [],
   "source": [
    "# join processes\n",
    "for process in processes:\n",
    "    process.join()"
   ]
  },
  {
   "cell_type": "markdown",
   "id": "bf4b4480",
   "metadata": {
    "slideshow": {
     "slide_type": "subslide"
    }
   },
   "source": [
    "The main purpose of `multiprocessing.join` ([docs](https://docs.python.org/3/library/multiprocessing.html?#multiprocessing.Process.join)) is to ensure that a child process has completed before the main process does anything that depends on the work of the child process."
   ]
  },
  {
   "cell_type": "code",
   "execution_count": null,
   "id": "a834ede7",
   "metadata": {
    "scrolled": true
   },
   "outputs": [],
   "source": [
    "processes"
   ]
  },
  {
   "cell_type": "markdown",
   "id": "0b9464f3",
   "metadata": {},
   "source": [
    "The value `exitcode=0` means that the process has been completed successfully, without error ([docs](https://docs.python.org/3/library/multiprocessing.html?#multiprocessing.Process.exitcode)). "
   ]
  },
  {
   "cell_type": "code",
   "execution_count": null,
   "id": "d14c5659",
   "metadata": {
    "scrolled": true,
    "slideshow": {
     "slide_type": "subslide"
    }
   },
   "outputs": [],
   "source": [
    "q.empty()"
   ]
  },
  {
   "cell_type": "code",
   "execution_count": null,
   "id": "85f30a3b",
   "metadata": {
    "scrolled": true
   },
   "outputs": [],
   "source": [
    "[q.get() for process in processes]"
   ]
  },
  {
   "cell_type": "code",
   "execution_count": null,
   "id": "9047275e",
   "metadata": {
    "scrolled": true
   },
   "outputs": [],
   "source": [
    "q.empty()"
   ]
  },
  {
   "cell_type": "markdown",
   "id": "77178fd1",
   "metadata": {},
   "source": [
    "While `multiprocessing` allows you to steer the processes directly, many statistical problems are already implemented and ready for parallel computing, e.g. via `Spark`. "
   ]
  },
  {
   "cell_type": "markdown",
   "id": "fc6b509a",
   "metadata": {
    "slideshow": {
     "slide_type": "slide"
    }
   },
   "source": [
    "### Spark\n",
    "\n",
    "Apache Spark is a computational engine that works with huge sets of data by processing them in parallel and batch systems. Spark is written in Scala, and [PySpark](https://www.dominodatalab.com/data-science-dictionary/pyspark) was released to support the collaboration of Spark and Python. \n",
    "\n",
    "The key data type used in PySpark is the Spark dataframe. This object can be thought of as a table distributed across a cluster, and has functionality that is similar to dataframes in `pandas`. If you want to do distributed computation using `PySpark`, then you’ll need to perform operations on Spark dataframes and not other Python data types.\n",
    "\n",
    "Here we explore how to perform tasks using `PySpark`."
   ]
  },
  {
   "cell_type": "code",
   "execution_count": 25,
   "id": "4e677095",
   "metadata": {
    "scrolled": true
   },
   "outputs": [
    {
     "name": "stdout",
     "output_type": "stream",
     "text": [
      "Collecting pyspark\n",
      "  Downloading pyspark-3.5.0.tar.gz (316.9 MB)\n",
      "\u001b[2K     \u001b[90m━━━━━━━━━━━━━━━━━━━━━━━━━━━━━━━━━━━━━━━\u001b[0m \u001b[32m316.9/316.9 MB\u001b[0m \u001b[31m4.6 MB/s\u001b[0m eta \u001b[36m0:00:00\u001b[0m00:01\u001b[0m00:02\u001b[0m\n",
      "\u001b[?25h  Preparing metadata (setup.py) ... \u001b[?25lerror\n",
      "  \u001b[1;31merror\u001b[0m: \u001b[1msubprocess-exited-with-error\u001b[0m\n",
      "  \n",
      "  \u001b[31m×\u001b[0m \u001b[32mpython setup.py egg_info\u001b[0m did not run successfully.\n",
      "  \u001b[31m│\u001b[0m exit code: \u001b[1;36m1\u001b[0m\n",
      "  \u001b[31m╰─>\u001b[0m \u001b[31m[20 lines of output]\u001b[0m\n",
      "  \u001b[31m   \u001b[0m Traceback (most recent call last):\n",
      "  \u001b[31m   \u001b[0m   File \"<string>\", line 2, in <module>\n",
      "  \u001b[31m   \u001b[0m   File \"<pip-setuptools-caller>\", line 34, in <module>\n",
      "  \u001b[31m   \u001b[0m   File \"/private/var/folders/nv/5j9xydr90s30r_9rw5pwhf640000gn/T/pip-install-y5gjmbdh/pyspark_7cb335cf6e204f089eeee642a8f78748/setup.py\", line 225, in <module>\n",
      "  \u001b[31m   \u001b[0m     setup(\n",
      "  \u001b[31m   \u001b[0m   File \"/opt/homebrew/lib/python3.11/site-packages/setuptools/__init__.py\", line 102, in setup\n",
      "  \u001b[31m   \u001b[0m     _install_setup_requires(attrs)\n",
      "  \u001b[31m   \u001b[0m   File \"/opt/homebrew/lib/python3.11/site-packages/setuptools/__init__.py\", line 73, in _install_setup_requires\n",
      "  \u001b[31m   \u001b[0m     dist.parse_config_files(ignore_option_errors=True)\n",
      "  \u001b[31m   \u001b[0m   File \"/opt/homebrew/lib/python3.11/site-packages/setuptools/dist.py\", line 647, in parse_config_files\n",
      "  \u001b[31m   \u001b[0m     self._parse_config_files(filenames=inifiles)\n",
      "  \u001b[31m   \u001b[0m   File \"/opt/homebrew/lib/python3.11/site-packages/setuptools/dist.py\", line 488, in _parse_config_files\n",
      "  \u001b[31m   \u001b[0m     parser.read_file(reader)\n",
      "  \u001b[31m   \u001b[0m   File \"/opt/homebrew/Cellar/python@3.11/3.11.6_1/Frameworks/Python.framework/Versions/3.11/lib/python3.11/configparser.py\", line 734, in read_file\n",
      "  \u001b[31m   \u001b[0m     self._read(f, source)\n",
      "  \u001b[31m   \u001b[0m   File \"/opt/homebrew/Cellar/python@3.11/3.11.6_1/Frameworks/Python.framework/Versions/3.11/lib/python3.11/configparser.py\", line 1101, in _read\n",
      "  \u001b[31m   \u001b[0m     raise MissingSectionHeaderError(fpname, lineno, line)\n",
      "  \u001b[31m   \u001b[0m configparser.MissingSectionHeaderError: File contains no section headers.\n",
      "  \u001b[31m   \u001b[0m file: '/Users/coreychen/.pydistutils.cfg', line: 1\n",
      "  \u001b[31m   \u001b[0m 'include_dirs= /opt/homebrew/opt/portaudio>/include/\\n'\n",
      "  \u001b[31m   \u001b[0m \u001b[31m[end of output]\u001b[0m\n",
      "  \n",
      "  \u001b[1;35mnote\u001b[0m: This error originates from a subprocess, and is likely not a problem with pip.\n",
      "\u001b[?25h\u001b[1;31merror\u001b[0m: \u001b[1mmetadata-generation-failed\u001b[0m\n",
      "\n",
      "\u001b[31m×\u001b[0m Encountered error while generating package metadata.\n",
      "\u001b[31m╰─>\u001b[0m See above for output.\n",
      "\n",
      "\u001b[1;35mnote\u001b[0m: This is an issue with the package mentioned above, not pip.\n",
      "\u001b[1;36mhint\u001b[0m: See above for details.\n"
     ]
    }
   ],
   "source": [
    "!pip install pyspark"
   ]
  },
  {
   "cell_type": "markdown",
   "id": "a89a93ce",
   "metadata": {
    "slideshow": {
     "slide_type": "subslide"
    }
   },
   "source": [
    "We consider a simple regression model for predicting house prices. Lets consider the non-serialized version first: "
   ]
  },
  {
   "cell_type": "code",
   "execution_count": null,
   "id": "ca27e6fe",
   "metadata": {
    "scrolled": true
   },
   "outputs": [],
   "source": [
    "import numpy as np\n",
    "import pandas as pd"
   ]
  },
  {
   "cell_type": "code",
   "execution_count": null,
   "id": "165dd157",
   "metadata": {
    "scrolled": true
   },
   "outputs": [],
   "source": [
    "# load the california housing data set\n",
    "from sklearn.datasets import fetch_california_housing\n",
    "housing = fetch_california_housing()\n",
    "\n",
    "# convert to a Pandas Data Frame\n",
    "housing_pd = pd.DataFrame(data= np.c_[housing['data'],housing['target']], \n",
    "                          columns= np.append(housing['feature_names'], 'target')).sample(frac=1)"
   ]
  },
  {
   "cell_type": "code",
   "execution_count": null,
   "id": "e7274f9a",
   "metadata": {
    "scrolled": true
   },
   "outputs": [],
   "source": [
    "housing_pd.shape"
   ]
  },
  {
   "cell_type": "code",
   "execution_count": null,
   "id": "699c21de",
   "metadata": {
    "scrolled": true,
    "slideshow": {
     "slide_type": "subslide"
    }
   },
   "outputs": [],
   "source": [
    "housing_pd.head(5)"
   ]
  },
  {
   "cell_type": "code",
   "execution_count": null,
   "id": "adc23d69",
   "metadata": {
    "scrolled": true,
    "slideshow": {
     "slide_type": "subslide"
    }
   },
   "outputs": [],
   "source": [
    "from pyspark.ml.feature import VectorAssembler\n",
    "from pyspark.context import SparkContext\n",
    "from pyspark.sql.session import SparkSession\n",
    "\n",
    "sc = SparkContext('local')\n",
    "spark = SparkSession(sc)"
   ]
  },
  {
   "cell_type": "code",
   "execution_count": null,
   "id": "36d44ab6",
   "metadata": {
    "scrolled": true,
    "slideshow": {
     "slide_type": "subslide"
    }
   },
   "outputs": [],
   "source": [
    "# convert to a Spark data frame\n",
    "housing_sp = spark.createDataFrame(housing_pd)"
   ]
  },
  {
   "cell_type": "code",
   "execution_count": null,
   "id": "a7cddd49",
   "metadata": {
    "slideshow": {
     "slide_type": "-"
    }
   },
   "outputs": [],
   "source": [
    "features = housing_sp.schema.names[:]\n",
    "target = features.pop()"
   ]
  },
  {
   "cell_type": "code",
   "execution_count": null,
   "id": "b49c77cb",
   "metadata": {
    "slideshow": {
     "slide_type": "-"
    }
   },
   "outputs": [],
   "source": [
    "# convert to vector representation for MLlib\n",
    "assembler = VectorAssembler(inputCols=features, outputCol=\"features\" )\n",
    "housing = assembler.transform(housing_sp).select('features', 'target') "
   ]
  },
  {
   "cell_type": "markdown",
   "id": "33ce0d1c",
   "metadata": {
    "slideshow": {
     "slide_type": "subslide"
    }
   },
   "source": [
    "See [docs](https://spark.apache.org/docs/latest/api/python/reference/api/pyspark.ml.regression.LinearRegression.html). "
   ]
  },
  {
   "cell_type": "code",
   "execution_count": null,
   "id": "f0753108",
   "metadata": {
    "scrolled": true,
    "slideshow": {
     "slide_type": "-"
    }
   },
   "outputs": [],
   "source": [
    "# linear regresion with Spark\n",
    "from pyspark.ml.regression import LinearRegression\n",
    "from pyspark.ml.tuning import ParamGridBuilder, CrossValidator\n",
    "from pyspark.ml.evaluation import RegressionEvaluator"
   ]
  },
  {
   "cell_type": "code",
   "execution_count": null,
   "id": "a18276e3",
   "metadata": {
    "scrolled": true
   },
   "outputs": [],
   "source": [
    "# linear regression with penalization\n",
    "lr = LinearRegression(labelCol=\"target\", featuresCol=\"features\", \n",
    "                      elasticNetParam = 1.0, # lasso / l1-penalization\n",
    "                      standardization = True, \n",
    "                      fitIntercept=False)"
   ]
  },
  {
   "cell_type": "code",
   "execution_count": null,
   "id": "9d0020ff",
   "metadata": {
    "scrolled": true
   },
   "outputs": [],
   "source": [
    "lrparamGrid = (ParamGridBuilder()\n",
    "               .addGrid(lr.regParam, [0.001, 0.01, 0.1, 0.5, 1.0, 2.0])\n",
    "               .build())"
   ]
  },
  {
   "cell_type": "code",
   "execution_count": null,
   "id": "fccffb11",
   "metadata": {
    "scrolled": true,
    "slideshow": {
     "slide_type": "subslide"
    }
   },
   "outputs": [],
   "source": [
    "# Evaluate model\n",
    "lrevaluator = RegressionEvaluator(predictionCol=\"prediction\", labelCol=\"target\", metricName=\"mse\")"
   ]
  },
  {
   "cell_type": "code",
   "execution_count": null,
   "id": "bbc9bbe1",
   "metadata": {
    "scrolled": true
   },
   "outputs": [],
   "source": [
    "# Create 5-fold CrossValidator\n",
    "lrcv = CrossValidator(estimator = lr,\n",
    "                      estimatorParamMaps = lrparamGrid,\n",
    "                      evaluator = lrevaluator,\n",
    "                      numFolds = 5)"
   ]
  },
  {
   "cell_type": "code",
   "execution_count": null,
   "id": "457ad1c1",
   "metadata": {
    "scrolled": true,
    "slideshow": {
     "slide_type": "subslide"
    }
   },
   "outputs": [],
   "source": [
    "# Run cross validations\n",
    "lrcvModel = lrcv.fit(housing)"
   ]
  },
  {
   "cell_type": "markdown",
   "id": "1ecc51b6",
   "metadata": {
    "slideshow": {
     "slide_type": "subslide"
    }
   },
   "source": [
    "See [docs](https://spark.apache.org/docs/latest/api/python/reference/api/pyspark.ml.regression.LinearRegressionTrainingSummary.html). "
   ]
  },
  {
   "cell_type": "code",
   "execution_count": null,
   "id": "640c26fd",
   "metadata": {
    "scrolled": true
   },
   "outputs": [],
   "source": [
    "# Get Model Summary Statistics\n",
    "lrcvSummary = lrcvModel.bestModel.summary\n",
    "lrcvSummary.meanSquaredError"
   ]
  },
  {
   "cell_type": "code",
   "execution_count": null,
   "id": "1231f009",
   "metadata": {},
   "outputs": [],
   "source": [
    "lrcvModel.bestModel.coefficients"
   ]
  },
  {
   "cell_type": "code",
   "execution_count": null,
   "id": "a05c85cc",
   "metadata": {
    "scrolled": true
   },
   "outputs": [],
   "source": [
    "housing_sp.schema.names"
   ]
  },
  {
   "cell_type": "markdown",
   "id": "46c15a9a",
   "metadata": {
    "slideshow": {
     "slide_type": "slide"
    }
   },
   "source": [
    "### Summary \n",
    "\n",
    "- There are I/O- and CPU-bound problems\n",
    "- Use `threading` for I/O-bound problems, `multiprocessing` for CPU-bound problems\n",
    "- Communication between processes is cumbersome\n",
    "- For many CPU-bound tasks, there may be implemented solutions. "
   ]
  }
 ],
 "metadata": {
  "celltoolbar": "Slideshow",
  "kernelspec": {
   "display_name": "Python 3",
   "language": "python",
   "name": "python3"
  },
  "language_info": {
   "codemirror_mode": {
    "name": "ipython",
    "version": 3
   },
   "file_extension": ".py",
   "mimetype": "text/x-python",
   "name": "python",
   "nbconvert_exporter": "python",
   "pygments_lexer": "ipython3",
   "version": "3.10.7 (v3.10.7:6cc6b13308, Sep  5 2022, 14:02:52) [Clang 13.0.0 (clang-1300.0.29.30)]"
  },
  "rise": {
   "progress": true,
   "scroll": true,
   "theme": "white"
  },
  "vscode": {
   "interpreter": {
    "hash": "aee8b7b246df8f9039afb4144a1f6fd8d2ca17a180786b69acc140d282b71a49"
   }
  }
 },
 "nbformat": 4,
 "nbformat_minor": 5
}
