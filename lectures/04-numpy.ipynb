{
 "cells": [
  {
   "cell_type": "markdown",
   "id": "ff704263",
   "metadata": {
    "slideshow": {
     "slide_type": "slide"
    }
   },
   "source": [
    "# STA 141B Data & Web Technologies for Data Analysis\n",
    "\n",
    "### Lecture 4, 10/10/23, Numpy\n"
   ]
  },
  {
   "cell_type": "markdown",
   "id": "f15bba7a",
   "metadata": {
    "slideshow": {
     "slide_type": "slide"
    }
   },
   "source": [
    "### Last week's topics\n",
    "\n",
    " - Basics of Python (cont.')\n",
    " - Memory Handling in Python\n",
    " - Stack and Heap\n",
    " - Types\n",
    " - Reference Semantics\n",
    " - Interning"
   ]
  },
  {
   "cell_type": "markdown",
   "id": "522ed175",
   "metadata": {
    "slideshow": {
     "slide_type": "slide"
    }
   },
   "source": [
    "### Today's topics\n",
    "\n",
    " - Modules and Packages\n",
    " - NumPy "
   ]
  },
  {
   "cell_type": "markdown",
   "id": "133a9b0b",
   "metadata": {
    "slideshow": {
     "slide_type": "slide"
    }
   },
   "source": [
    "### Modules and Packages \n",
    "\n",
    "A module is a text file that contains Python code, usually a `.py` file. Any Python file is a module as well, its name being the file's base name without the `.py` extension. A package is a collection of Python modules. \n",
    "\n",
    "In R, it is called a script or package. Python's `import` command lets us load code from a module to use in our script or notebook. `import` is like a combination of R's `source` and `library` functions.\n",
    "\n",
    "Python provides many built-in modules for common tasks (see the [list](https://docs.python.org/3/library/index.html)). Packages provide even more modules.\n",
    "\n",
    "We can access functions from modules via `.`: "
   ]
  },
  {
   "cell_type": "code",
   "execution_count": 7,
   "id": "408100eb",
   "metadata": {
    "slideshow": {
     "slide_type": "slide"
    }
   },
   "outputs": [
    {
     "ename": "NameError",
     "evalue": "name 'pi' is not defined",
     "output_type": "error",
     "traceback": [
      "\u001b[0;31m---------------------------------------------------------------------------\u001b[0m",
      "\u001b[0;31mNameError\u001b[0m                                 Traceback (most recent call last)",
      "\u001b[0;32m/var/folders/fh/hvkm2z9n7631q5058px_kqg80000gr/T/ipykernel_97402/3440806613.py\u001b[0m in \u001b[0;36m<module>\u001b[0;34m\u001b[0m\n\u001b[0;32m----> 1\u001b[0;31m \u001b[0mpi\u001b[0m\u001b[0;34m\u001b[0m\u001b[0;34m\u001b[0m\u001b[0m\n\u001b[0m",
      "\u001b[0;31mNameError\u001b[0m: name 'pi' is not defined"
     ]
    }
   ],
   "source": [
    "pi"
   ]
  },
  {
   "cell_type": "code",
   "execution_count": 2,
   "id": "edb270a8",
   "metadata": {},
   "outputs": [
    {
     "data": {
      "text/plain": [
       "3.141592653589793"
      ]
     },
     "execution_count": 2,
     "metadata": {},
     "output_type": "execute_result"
    }
   ],
   "source": [
    "import math\n",
    "math.pi"
   ]
  },
  {
   "cell_type": "markdown",
   "id": "5fa72f71",
   "metadata": {
    "slideshow": {
     "slide_type": "subslide"
    }
   },
   "source": [
    "You can give imported modules an alias to cut down on typing: "
   ]
  },
  {
   "cell_type": "code",
   "execution_count": 3,
   "id": "1ef128e7",
   "metadata": {},
   "outputs": [
    {
     "data": {
      "text/plain": [
       "3.141592653589793"
      ]
     },
     "execution_count": 3,
     "metadata": {},
     "output_type": "execute_result"
    }
   ],
   "source": [
    "import math as m\n",
    "m.pi"
   ]
  },
  {
   "cell_type": "markdown",
   "id": "fc627151",
   "metadata": {
    "slideshow": {
     "slide_type": "subslide"
    }
   },
   "source": [
    "We can import single functions within a module or package by running"
   ]
  },
  {
   "cell_type": "code",
   "execution_count": 4,
   "id": "90ac8709",
   "metadata": {},
   "outputs": [
    {
     "data": {
      "text/plain": [
       "3.141592653589793"
      ]
     },
     "execution_count": 4,
     "metadata": {},
     "output_type": "execute_result"
    }
   ],
   "source": [
    "from math import pi\n",
    "pi"
   ]
  },
  {
   "cell_type": "markdown",
   "id": "f5cccc9f",
   "metadata": {
    "slideshow": {
     "slide_type": "subslide"
    }
   },
   "source": [
    "Of course, other `math` functions are not imported this way: "
   ]
  },
  {
   "cell_type": "code",
   "execution_count": 5,
   "id": "cd44dea0",
   "metadata": {},
   "outputs": [
    {
     "ename": "NameError",
     "evalue": "name 'ceil' is not defined",
     "output_type": "error",
     "traceback": [
      "\u001b[0;31m---------------------------------------------------------------------------\u001b[0m",
      "\u001b[0;31mNameError\u001b[0m                                 Traceback (most recent call last)",
      "Cell \u001b[0;32mIn[5], line 1\u001b[0m\n\u001b[0;32m----> 1\u001b[0m ceil(\u001b[39m4.3\u001b[39m)\n",
      "\u001b[0;31mNameError\u001b[0m: name 'ceil' is not defined"
     ]
    }
   ],
   "source": [
    "ceil(4.3)"
   ]
  },
  {
   "cell_type": "code",
   "execution_count": 6,
   "id": "0f8063d4",
   "metadata": {},
   "outputs": [
    {
     "data": {
      "text/plain": [
       "5"
      ]
     },
     "execution_count": 6,
     "metadata": {},
     "output_type": "execute_result"
    }
   ],
   "source": [
    "m.ceil(4.3)"
   ]
  },
  {
   "cell_type": "code",
   "execution_count": null,
   "id": "53b14ca6",
   "metadata": {},
   "outputs": [],
   "source": []
  },
  {
   "cell_type": "markdown",
   "id": "b86faf04",
   "metadata": {
    "slideshow": {
     "slide_type": "subslide"
    }
   },
   "source": [
    "Importing only the required functions keep the namespace clean. We can import all functions from one package by running"
   ]
  },
  {
   "cell_type": "code",
   "execution_count": 7,
   "id": "abc035cb",
   "metadata": {},
   "outputs": [],
   "source": [
    "from math import * # this is called wildcard import"
   ]
  },
  {
   "cell_type": "code",
   "execution_count": 8,
   "id": "9bcafc72",
   "metadata": {},
   "outputs": [
    {
     "data": {
      "text/plain": [
       "5"
      ]
     },
     "execution_count": 8,
     "metadata": {},
     "output_type": "execute_result"
    }
   ],
   "source": [
    "ceil(4.3)"
   ]
  },
  {
   "cell_type": "markdown",
   "id": "458ea702",
   "metadata": {
    "slideshow": {
     "slide_type": "-"
    }
   },
   "source": [
    "Use this with care, in particular if the namespaces of some modules collide! "
   ]
  },
  {
   "cell_type": "markdown",
   "id": "a860ed3a",
   "metadata": {
    "slideshow": {
     "slide_type": "slide"
    }
   },
   "source": [
    "The Python style guide allows to import several functions in one line. This is an exception to the one-line-one-statement rule."
   ]
  },
  {
   "cell_type": "code",
   "execution_count": 9,
   "id": "0f0e685a",
   "metadata": {},
   "outputs": [],
   "source": [
    "from math import pi, ceil"
   ]
  },
  {
   "cell_type": "markdown",
   "id": "fd62a19a",
   "metadata": {
    "slideshow": {
     "slide_type": "slide"
    }
   },
   "source": [
    "Which of the built-in modules are important?\n",
    "\n",
    "Module      | Description\n",
    "----------- | -----------\n",
    "sys         | info about Python (version, etc)\n",
    "pdb         | Python debugger\n",
    "pathlib     | tools for file paths\n",
    "collections | additional data structures\n",
    "string      | string processing\n",
    "re          | regular expressions\n",
    "datetime    | date processing\n",
    "urlparse    | tools for URLs\n",
    "itertools   | tools for iterators\n",
    "functools   | tools for functions\n",
    "\n",
    "Python's built-in `math` and `statistics` modules are missing features we need for serious scientific computing, so we use the \"SciPy Stack\" instead."
   ]
  },
  {
   "cell_type": "markdown",
   "id": "5d29c3e6",
   "metadata": {
    "slideshow": {
     "slide_type": "slide"
    }
   },
   "source": [
    "The SciPy Stack is a collection of packages for scientific computing (marked with a `*` below). Most scientists working in Python use the SciPy Stack. The 3 most important packages in the stack are:\n",
    "\n",
    "Package      | Description\n",
    "------------ | -----------\n",
    "numpy\\*      | arrays, matrices, math/stat functions\n",
    "scipy\\*      | additional math/stat functions\n",
    "pandas\\*     | data frames"
   ]
  },
  {
   "cell_type": "markdown",
   "id": "5e4f6fee",
   "metadata": {
    "slideshow": {
     "slide_type": "slide"
    }
   },
   "source": [
    "There are also several packages available for creating static plots.\n",
    "\n",
    "Package      | Description\n",
    "------------ | -----------\n",
    "matplotlib\\* | visualizations\n",
    "seaborn      | \"statistical\" visualizations\n",
    "plotnine     | ggplot2 for Python"
   ]
  },
  {
   "cell_type": "markdown",
   "id": "eb16778e",
   "metadata": {
    "slideshow": {
     "slide_type": "slide"
    }
   },
   "source": [
    "Finally, there are many other packages we may use for specific statistical tasks. Some of these are:\n",
    "\n",
    "Package      | Description\n",
    "------------ | -----------\n",
    "requests     | web (HTTP) requests\n",
    "lxml         | web page parsing (XML & HTML)\n",
    "beatifulsoup | web page parsing (HTML)\n",
    "nltk         | natural language processing\n",
    "spacy        | natural language processing\n",
    "textblob     | natural language processing\n",
    "statsmodels  | classical statistical models\n",
    "scikit-learn | machine learning models\n",
    "pillow       | image processing\n",
    "scikit-image | image processing\n",
    "opencv       | image processing"
   ]
  },
  {
   "cell_type": "markdown",
   "id": "9a5f733d",
   "metadata": {
    "slideshow": {
     "slide_type": "slide"
    }
   },
   "source": [
    "### NumPy\n",
    "NumPy is a Python package that provides tools for numerical computing (the name stands for \"Numerical Python\"). If you use Anaconda, NumPy is already installed.\n",
    "\n",
    "NumPy is documented [here][link4].\n",
    "\n",
    "[link4]: https://numpy.org/doc/stable/"
   ]
  },
  {
   "cell_type": "code",
   "execution_count": 1,
   "id": "6d85fe38",
   "metadata": {},
   "outputs": [],
   "source": [
    "import numpy as np # standard naming convention for numpy"
   ]
  },
  {
   "cell_type": "markdown",
   "id": "443a3615",
   "metadata": {},
   "source": [
    "NumPy's core feature is the n-dimensional array of <kbd>numpy.ndarray</kbd> object type. NumPy arrays are the basis for almost all of Python's scientific computing packages. They are the Python equivalent of R's built-in vectors.\n",
    "\n",
    "NumPy arrays use reference semantics, just as <kbd>list</kbd> type objects. "
   ]
  },
  {
   "cell_type": "markdown",
   "id": "3cf9bc6e",
   "metadata": {
    "slideshow": {
     "slide_type": "slide"
    }
   },
   "source": [
    "#### Creating NumPy Arrays\n",
    "\n",
    "You can create NumPy arrays from lists:"
   ]
  },
  {
   "cell_type": "code",
   "execution_count": 2,
   "id": "35a2a015",
   "metadata": {},
   "outputs": [
    {
     "data": {
      "text/plain": [
       "array([1, 2, 3])"
      ]
     },
     "execution_count": 2,
     "metadata": {},
     "output_type": "execute_result"
    }
   ],
   "source": [
    "a = np.array([1,2,3])\n",
    "a"
   ]
  },
  {
   "cell_type": "code",
   "execution_count": 3,
   "id": "6dd1e688",
   "metadata": {},
   "outputs": [
    {
     "data": {
      "text/plain": [
       "numpy.ndarray"
      ]
     },
     "execution_count": 3,
     "metadata": {},
     "output_type": "execute_result"
    }
   ],
   "source": [
    "type(a)"
   ]
  },
  {
   "cell_type": "markdown",
   "id": "24b89573",
   "metadata": {
    "slideshow": {
     "slide_type": "slide"
    }
   },
   "source": [
    "A numpy array is a grid of values, all of the same type and is indexed by a tuple of nonnegative integers. A list is the Python equivalent of an array, but is resizeable and can contain elements of different types."
   ]
  },
  {
   "cell_type": "code",
   "execution_count": 4,
   "id": "5d99a41b",
   "metadata": {},
   "outputs": [
    {
     "data": {
      "text/plain": [
       "array(['1', '2.0', 'horse'], dtype='<U32')"
      ]
     },
     "execution_count": 4,
     "metadata": {},
     "output_type": "execute_result"
    }
   ],
   "source": [
    "np.array([1, 2.0, 'horse']) # recasts all entries to char"
   ]
  },
  {
   "cell_type": "code",
   "execution_count": 5,
   "id": "747a0078",
   "metadata": {},
   "outputs": [
    {
     "data": {
      "text/plain": [
       "array([1., 2., 3.])"
      ]
     },
     "execution_count": 5,
     "metadata": {},
     "output_type": "execute_result"
    }
   ],
   "source": [
    "np.array([1,2.0,3]) # recasts all entries to float"
   ]
  },
  {
   "cell_type": "code",
   "execution_count": 6,
   "id": "3df82724",
   "metadata": {
    "slideshow": {
     "slide_type": "subslide"
    }
   },
   "outputs": [
    {
     "data": {
      "text/plain": [
       "array([5.1, 7.2, 9.3])"
      ]
     },
     "execution_count": 6,
     "metadata": {},
     "output_type": "execute_result"
    }
   ],
   "source": [
    "x = np.array([1,2,3]) \n",
    "y = np.array([4.1, 5.2, 6.3])\n",
    "x + y"
   ]
  },
  {
   "cell_type": "code",
   "execution_count": 7,
   "id": "3f451d9e",
   "metadata": {
    "slideshow": {
     "slide_type": "fragment"
    }
   },
   "outputs": [
    {
     "data": {
      "text/plain": [
       "array([3., 5., 7.])"
      ]
     },
     "execution_count": 7,
     "metadata": {},
     "output_type": "execute_result"
    }
   ],
   "source": [
    "z = [2, 3, 4.0] #list!\n",
    "x + z # list + array = array"
   ]
  },
  {
   "cell_type": "code",
   "execution_count": 8,
   "id": "0b1a4258",
   "metadata": {},
   "outputs": [
    {
     "data": {
      "text/plain": [
       "array([5, 6, 7])"
      ]
     },
     "execution_count": 8,
     "metadata": {},
     "output_type": "execute_result"
    }
   ],
   "source": [
    "x + 4"
   ]
  },
  {
   "cell_type": "code",
   "execution_count": 10,
   "id": "1e64d7e4",
   "metadata": {},
   "outputs": [
    {
     "ename": "ValueError",
     "evalue": "operands could not be broadcast together with shapes (3,) (4,) ",
     "output_type": "error",
     "traceback": [
      "\u001b[0;31m---------------------------------------------------------------------------\u001b[0m",
      "\u001b[0;31mValueError\u001b[0m                                Traceback (most recent call last)",
      "Cell \u001b[0;32mIn[10], line 1\u001b[0m\n\u001b[0;32m----> 1\u001b[0m x \u001b[39m+\u001b[39;49m np\u001b[39m.\u001b[39;49marray([\u001b[39m2\u001b[39;49m, \u001b[39m3\u001b[39;49m, \u001b[39m4\u001b[39;49m, \u001b[39m5\u001b[39;49m])\n",
      "\u001b[0;31mValueError\u001b[0m: operands could not be broadcast together with shapes (3,) (4,) "
     ]
    }
   ],
   "source": [
    "x + np.array([2, 3, 4, 5])"
   ]
  },
  {
   "cell_type": "markdown",
   "id": "3ba0ee7e",
   "metadata": {
    "slideshow": {
     "slide_type": "slide"
    }
   },
   "source": [
    "You can create multidimensional arrays, like matrices, from nested lists."
   ]
  },
  {
   "cell_type": "code",
   "execution_count": 11,
   "id": "ee6bac26",
   "metadata": {},
   "outputs": [
    {
     "data": {
      "text/plain": [
       "array([[1, 2, 3],\n",
       "       [4, 5, 6]])"
      ]
     },
     "execution_count": 11,
     "metadata": {},
     "output_type": "execute_result"
    }
   ],
   "source": [
    "m = np.array([[1, 2, 3], [4, 5, 6]])\n",
    "m"
   ]
  },
  {
   "cell_type": "code",
   "execution_count": 12,
   "id": "1640c214",
   "metadata": {},
   "outputs": [
    {
     "data": {
      "text/plain": [
       "numpy.ndarray"
      ]
     },
     "execution_count": 12,
     "metadata": {},
     "output_type": "execute_result"
    }
   ],
   "source": [
    "type(m)"
   ]
  },
  {
   "cell_type": "code",
   "execution_count": 13,
   "id": "1ae64bbb",
   "metadata": {},
   "outputs": [
    {
     "data": {
      "text/plain": [
       "(2, 3)"
      ]
     },
     "execution_count": 13,
     "metadata": {},
     "output_type": "execute_result"
    }
   ],
   "source": [
    "np.shape(m)"
   ]
  },
  {
   "cell_type": "code",
   "execution_count": 14,
   "id": "a7fa3e28",
   "metadata": {},
   "outputs": [
    {
     "data": {
      "text/plain": [
       "6"
      ]
     },
     "execution_count": 14,
     "metadata": {},
     "output_type": "execute_result"
    }
   ],
   "source": [
    "np.size(m)"
   ]
  },
  {
   "cell_type": "markdown",
   "id": "42a661c0",
   "metadata": {
    "slideshow": {
     "slide_type": "slide"
    }
   },
   "source": [
    "`numpy.matrix` is a subclass of `numpy.ndarray`. It inherits the laters attributes and is restricted to two dimensions. There is no N-dimensional matrix in numpy, only N-dimensional array: see [this](https://numpy.org/doc/stable/reference/arrays.ndarray.html)."
   ]
  },
  {
   "cell_type": "code",
   "execution_count": 15,
   "id": "ec8e20ce",
   "metadata": {
    "slideshow": {
     "slide_type": "-"
    }
   },
   "outputs": [
    {
     "data": {
      "text/plain": [
       "matrix([[1, 2, 3],\n",
       "        [4, 5, 6]])"
      ]
     },
     "execution_count": 15,
     "metadata": {},
     "output_type": "execute_result"
    }
   ],
   "source": [
    "m = np.matrix([[1, 2, 3], [4, 5, 6]])\n",
    "m"
   ]
  },
  {
   "cell_type": "code",
   "execution_count": 16,
   "id": "03b5c0a5",
   "metadata": {},
   "outputs": [
    {
     "data": {
      "text/plain": [
       "numpy.matrix"
      ]
     },
     "execution_count": 16,
     "metadata": {},
     "output_type": "execute_result"
    }
   ],
   "source": [
    "type(m)"
   ]
  },
  {
   "cell_type": "code",
   "execution_count": 17,
   "id": "7bebb5bd",
   "metadata": {},
   "outputs": [
    {
     "data": {
      "text/plain": [
       "(2, 3)"
      ]
     },
     "execution_count": 17,
     "metadata": {},
     "output_type": "execute_result"
    }
   ],
   "source": [
    "np.shape(m)"
   ]
  },
  {
   "cell_type": "markdown",
   "id": "d923af3b",
   "metadata": {
    "slideshow": {
     "slide_type": "slide"
    }
   },
   "source": [
    "NumPy also provides several helper functions to create arrays. See the [documentation](https://numpy.org/doc/stable/user/basics.creation.html) for a full list."
   ]
  },
  {
   "cell_type": "code",
   "execution_count": 18,
   "id": "442077cf",
   "metadata": {},
   "outputs": [
    {
     "data": {
      "text/plain": [
       "array([0, 2, 4, 6, 8])"
      ]
     },
     "execution_count": 18,
     "metadata": {},
     "output_type": "execute_result"
    }
   ],
   "source": [
    "np.arange(0, 10, 2)"
   ]
  },
  {
   "cell_type": "code",
   "execution_count": 19,
   "id": "0e837e75",
   "metadata": {},
   "outputs": [
    {
     "data": {
      "text/plain": [
       "array([0, 2, 4, 6, 8])"
      ]
     },
     "execution_count": 19,
     "metadata": {},
     "output_type": "execute_result"
    }
   ],
   "source": [
    "np.array(range(0, 10, 2))"
   ]
  },
  {
   "cell_type": "code",
   "execution_count": 20,
   "id": "d9f2d320",
   "metadata": {},
   "outputs": [
    {
     "data": {
      "text/plain": [
       "array([1., 1., 1., 1., 1., 1., 1., 1., 1., 1.])"
      ]
     },
     "execution_count": 20,
     "metadata": {},
     "output_type": "execute_result"
    }
   ],
   "source": [
    "np.ones(10)"
   ]
  },
  {
   "cell_type": "code",
   "execution_count": 21,
   "id": "43d13262",
   "metadata": {},
   "outputs": [
    {
     "data": {
      "text/plain": [
       "array([0., 0., 0., 0., 0., 0., 0., 0., 0., 0.])"
      ]
     },
     "execution_count": 21,
     "metadata": {},
     "output_type": "execute_result"
    }
   ],
   "source": [
    "np.zeros(10)"
   ]
  },
  {
   "cell_type": "markdown",
   "id": "b66e3e34",
   "metadata": {
    "slideshow": {
     "slide_type": "slide"
    }
   },
   "source": [
    "#### Inspecting Arrays\n",
    "\n",
    "The array attributes `.shape` and `.size` contain information about the structure of the array. A plethora of array methods are also provided. "
   ]
  },
  {
   "cell_type": "code",
   "execution_count": 22,
   "id": "8479e41b",
   "metadata": {},
   "outputs": [
    {
     "data": {
      "text/plain": [
       "array([1, 2, 3])"
      ]
     },
     "execution_count": 22,
     "metadata": {},
     "output_type": "execute_result"
    }
   ],
   "source": [
    "x"
   ]
  },
  {
   "cell_type": "code",
   "execution_count": 23,
   "id": "4378dda1",
   "metadata": {},
   "outputs": [
    {
     "data": {
      "text/plain": [
       "3"
      ]
     },
     "execution_count": 23,
     "metadata": {},
     "output_type": "execute_result"
    }
   ],
   "source": [
    "np.size(x)"
   ]
  },
  {
   "cell_type": "code",
   "execution_count": 24,
   "id": "53bb1b04",
   "metadata": {},
   "outputs": [
    {
     "data": {
      "text/plain": [
       "(3,)"
      ]
     },
     "execution_count": 24,
     "metadata": {},
     "output_type": "execute_result"
    }
   ],
   "source": [
    "x.shape # returns a tuple! "
   ]
  },
  {
   "cell_type": "code",
   "execution_count": 25,
   "id": "4470eebe",
   "metadata": {},
   "outputs": [
    {
     "data": {
      "text/plain": [
       "(2, 3)"
      ]
     },
     "execution_count": 25,
     "metadata": {},
     "output_type": "execute_result"
    }
   ],
   "source": [
    "m.shape"
   ]
  },
  {
   "cell_type": "code",
   "execution_count": 26,
   "id": "69ab2c7c",
   "metadata": {},
   "outputs": [
    {
     "data": {
      "text/plain": [
       "3"
      ]
     },
     "execution_count": 26,
     "metadata": {},
     "output_type": "execute_result"
    }
   ],
   "source": [
    "x.size # like R's length()"
   ]
  },
  {
   "cell_type": "code",
   "execution_count": 27,
   "id": "64e54c16",
   "metadata": {},
   "outputs": [
    {
     "data": {
      "text/plain": [
       "6"
      ]
     },
     "execution_count": 27,
     "metadata": {},
     "output_type": "execute_result"
    }
   ],
   "source": [
    "m.size"
   ]
  },
  {
   "cell_type": "code",
   "execution_count": 28,
   "id": "8308f109",
   "metadata": {},
   "outputs": [
    {
     "data": {
      "text/plain": [
       "3"
      ]
     },
     "execution_count": 28,
     "metadata": {},
     "output_type": "execute_result"
    }
   ],
   "source": [
    "len(x) # not as neat, but gives same result"
   ]
  },
  {
   "cell_type": "code",
   "execution_count": 29,
   "id": "351ae29b",
   "metadata": {
    "slideshow": {
     "slide_type": "subslide"
    }
   },
   "outputs": [
    {
     "data": {
      "text/plain": [
       "6"
      ]
     },
     "execution_count": 29,
     "metadata": {},
     "output_type": "execute_result"
    }
   ],
   "source": [
    "x.sum()"
   ]
  },
  {
   "cell_type": "code",
   "execution_count": 32,
   "id": "0e06b727",
   "metadata": {},
   "outputs": [
    {
     "data": {
      "text/plain": [
       "6"
      ]
     },
     "execution_count": 32,
     "metadata": {},
     "output_type": "execute_result"
    }
   ],
   "source": [
    "sum(x) # not as neat, but gives same result"
   ]
  },
  {
   "cell_type": "markdown",
   "id": "d62d313e",
   "metadata": {
    "slideshow": {
     "slide_type": "subslide"
    }
   },
   "source": [
    "The array attribute `.dtype` contains the data type of the array's elements."
   ]
  },
  {
   "cell_type": "code",
   "execution_count": 33,
   "id": "fbffa6a4",
   "metadata": {},
   "outputs": [
    {
     "data": {
      "text/plain": [
       "dtype('int64')"
      ]
     },
     "execution_count": 33,
     "metadata": {},
     "output_type": "execute_result"
    }
   ],
   "source": [
    "x.dtype"
   ]
  },
  {
   "cell_type": "code",
   "execution_count": 34,
   "id": "e8443c1f",
   "metadata": {},
   "outputs": [
    {
     "data": {
      "text/plain": [
       "array([1, 2, 3])"
      ]
     },
     "execution_count": 34,
     "metadata": {},
     "output_type": "execute_result"
    }
   ],
   "source": [
    "x"
   ]
  },
  {
   "cell_type": "code",
   "execution_count": 35,
   "id": "879c5678",
   "metadata": {},
   "outputs": [
    {
     "data": {
      "text/plain": [
       "array([4.1, 5.2, 6.3])"
      ]
     },
     "execution_count": 35,
     "metadata": {},
     "output_type": "execute_result"
    }
   ],
   "source": [
    "y"
   ]
  },
  {
   "cell_type": "code",
   "execution_count": 36,
   "id": "3d5f47b2",
   "metadata": {},
   "outputs": [
    {
     "data": {
      "text/plain": [
       "dtype('float64')"
      ]
     },
     "execution_count": 36,
     "metadata": {},
     "output_type": "execute_result"
    }
   ],
   "source": [
    "y.dtype"
   ]
  },
  {
   "cell_type": "code",
   "execution_count": 37,
   "id": "f8a9935f",
   "metadata": {},
   "outputs": [
    {
     "data": {
      "text/plain": [
       "dtype('float64')"
      ]
     },
     "execution_count": 37,
     "metadata": {},
     "output_type": "execute_result"
    }
   ],
   "source": [
    "(x + y).dtype"
   ]
  },
  {
   "cell_type": "markdown",
   "id": "d1161f71",
   "metadata": {},
   "source": [
    "See [here][link5] or [here][link6] for a complete list of Numpy data types.\n",
    "\n",
    "[link5]: https://docs.scipy.org/doc/numpy-1.15.0/user/basics.types.html\n",
    "[link6]: https://jakevdp.github.io/PythonDataScienceHandbook/02.01-understanding-data-types.html#NumPy-Standard-Data-Types "
   ]
  },
  {
   "cell_type": "markdown",
   "id": "9e9641a1",
   "metadata": {
    "slideshow": {
     "slide_type": "slide"
    }
   },
   "source": [
    " The pythonic role of packages is to not only contribute one class (e.g., `ndarray`), but more functions related to the packages role. This is why a variety of additional functions are provided as well.  "
   ]
  },
  {
   "cell_type": "code",
   "execution_count": 38,
   "id": "bf55a359",
   "metadata": {},
   "outputs": [
    {
     "data": {
      "text/plain": [
       "array([0.84147098, 0.90929743, 0.14112001])"
      ]
     },
     "execution_count": 38,
     "metadata": {},
     "output_type": "execute_result"
    }
   ],
   "source": [
    "np.sin(x)"
   ]
  },
  {
   "cell_type": "markdown",
   "id": "4ca2f357",
   "metadata": {},
   "source": [
    "Keep in mind that this is not the same as the `math.sin` function we have imported above. Indeed, this function throws an error:"
   ]
  },
  {
   "cell_type": "code",
   "execution_count": 43,
   "id": "ed985f3f",
   "metadata": {},
   "outputs": [
    {
     "ename": "TypeError",
     "evalue": "only length-1 arrays can be converted to Python scalars",
     "output_type": "error",
     "traceback": [
      "\u001b[0;31m---------------------------------------------------------------------------\u001b[0m",
      "\u001b[0;31mTypeError\u001b[0m                                 Traceback (most recent call last)",
      "Cell \u001b[0;32mIn[43], line 2\u001b[0m\n\u001b[1;32m      1\u001b[0m \u001b[39mimport\u001b[39;00m \u001b[39mmath\u001b[39;00m\n\u001b[0;32m----> 2\u001b[0m math\u001b[39m.\u001b[39;49msin(x) \u001b[39m# or math.sin(x)\u001b[39;00m\n",
      "\u001b[0;31mTypeError\u001b[0m: only length-1 arrays can be converted to Python scalars"
     ]
    }
   ],
   "source": [
    "import math\n",
    "math.sin(x) # or math.sin(x)"
   ]
  },
  {
   "cell_type": "markdown",
   "id": "32298df7",
   "metadata": {
    "slideshow": {
     "slide_type": "slide"
    }
   },
   "source": [
    "#### Indexing\n",
    "\n",
    "You can subset NumPy arrays with indexes or Boolean arrays. Again, this is similar to R.\n",
    "\n",
    "But be careful! Python uses `and` and `or` to combine conditions, but NumPy uses `&` and `|`!"
   ]
  },
  {
   "cell_type": "code",
   "execution_count": 44,
   "id": "08afcfa9",
   "metadata": {},
   "outputs": [
    {
     "data": {
      "text/plain": [
       "array([1, 2, 3])"
      ]
     },
     "execution_count": 44,
     "metadata": {},
     "output_type": "execute_result"
    }
   ],
   "source": [
    "x"
   ]
  },
  {
   "cell_type": "code",
   "execution_count": 45,
   "id": "2a69d15a",
   "metadata": {},
   "outputs": [
    {
     "data": {
      "text/plain": [
       "1"
      ]
     },
     "execution_count": 45,
     "metadata": {},
     "output_type": "execute_result"
    }
   ],
   "source": [
    "x[0]"
   ]
  },
  {
   "cell_type": "code",
   "execution_count": 46,
   "id": "2b171426",
   "metadata": {},
   "outputs": [
    {
     "data": {
      "text/plain": [
       "2"
      ]
     },
     "execution_count": 46,
     "metadata": {},
     "output_type": "execute_result"
    }
   ],
   "source": [
    "x[1]"
   ]
  },
  {
   "cell_type": "code",
   "execution_count": 47,
   "id": "f19b44bf",
   "metadata": {},
   "outputs": [
    {
     "data": {
      "text/plain": [
       "array([ True,  True,  True])"
      ]
     },
     "execution_count": 47,
     "metadata": {},
     "output_type": "execute_result"
    }
   ],
   "source": [
    "x == x[0:]"
   ]
  },
  {
   "cell_type": "code",
   "execution_count": 48,
   "id": "ee939057",
   "metadata": {
    "slideshow": {
     "slide_type": "subslide"
    }
   },
   "outputs": [
    {
     "data": {
      "text/plain": [
       "matrix([[1, 2, 3],\n",
       "        [4, 5, 6]])"
      ]
     },
     "execution_count": 48,
     "metadata": {},
     "output_type": "execute_result"
    }
   ],
   "source": [
    "m"
   ]
  },
  {
   "cell_type": "code",
   "execution_count": 49,
   "id": "fe5c22fd",
   "metadata": {
    "slideshow": {
     "slide_type": "-"
    }
   },
   "outputs": [
    {
     "data": {
      "text/plain": [
       "(2, 3)"
      ]
     },
     "execution_count": 49,
     "metadata": {},
     "output_type": "execute_result"
    }
   ],
   "source": [
    "m.shape"
   ]
  },
  {
   "cell_type": "code",
   "execution_count": 61,
   "id": "7c96af5c",
   "metadata": {},
   "outputs": [
    {
     "data": {
      "text/plain": [
       "1"
      ]
     },
     "execution_count": 61,
     "metadata": {},
     "output_type": "execute_result"
    }
   ],
   "source": [
    "m[1,0]\n",
    "x = np.array([[1,2,3],[2,3,4]])\n",
    "x[0,0]"
   ]
  },
  {
   "cell_type": "code",
   "execution_count": 62,
   "id": "9c13591f",
   "metadata": {
    "slideshow": {
     "slide_type": "subslide"
    }
   },
   "outputs": [
    {
     "data": {
      "text/plain": [
       "array([[False,  True, False],\n",
       "       [ True, False,  True]])"
      ]
     },
     "execution_count": 62,
     "metadata": {},
     "output_type": "execute_result"
    }
   ],
   "source": [
    "x % 2 == 0"
   ]
  },
  {
   "cell_type": "code",
   "execution_count": 63,
   "id": "fd509ea4",
   "metadata": {},
   "outputs": [
    {
     "data": {
      "text/plain": [
       "array([2, 2, 4])"
      ]
     },
     "execution_count": 63,
     "metadata": {},
     "output_type": "execute_result"
    }
   ],
   "source": [
    "x[x % 2 == 0] # true or false"
   ]
  },
  {
   "cell_type": "markdown",
   "id": "2f9f29bc",
   "metadata": {},
   "source": [
    "Note that although only one element is selected, a one-dimensional array is returned! "
   ]
  },
  {
   "cell_type": "markdown",
   "id": "fee10b67",
   "metadata": {
    "slideshow": {
     "slide_type": "subslide"
    }
   },
   "source": [
    "In multidimensional arrays, separate indexes for each dimension with commas. The bare slice `:` selects everything in one dimension, just as we have seen in the last lectures. "
   ]
  },
  {
   "cell_type": "code",
   "execution_count": 64,
   "id": "dbc298ab",
   "metadata": {},
   "outputs": [
    {
     "data": {
      "text/plain": [
       "matrix([[1, 2, 3],\n",
       "        [4, 5, 6]])"
      ]
     },
     "execution_count": 64,
     "metadata": {},
     "output_type": "execute_result"
    }
   ],
   "source": [
    "m"
   ]
  },
  {
   "cell_type": "code",
   "execution_count": 65,
   "id": "36f31bad",
   "metadata": {},
   "outputs": [
    {
     "data": {
      "text/plain": [
       "matrix([[1],\n",
       "        [4]])"
      ]
     },
     "execution_count": 65,
     "metadata": {},
     "output_type": "execute_result"
    }
   ],
   "source": [
    "m[:, 0]"
   ]
  },
  {
   "cell_type": "code",
   "execution_count": 66,
   "id": "0cefbebe",
   "metadata": {},
   "outputs": [
    {
     "data": {
      "text/plain": [
       "matrix([[4, 5, 6]])"
      ]
     },
     "execution_count": 66,
     "metadata": {},
     "output_type": "execute_result"
    }
   ],
   "source": [
    "m[1, :]"
   ]
  },
  {
   "cell_type": "code",
   "execution_count": 67,
   "id": "25f35553",
   "metadata": {},
   "outputs": [
    {
     "data": {
      "text/plain": [
       "matrix([[1, 2],\n",
       "        [4, 5]])"
      ]
     },
     "execution_count": 67,
     "metadata": {},
     "output_type": "execute_result"
    }
   ],
   "source": [
    "m[:, 0:2]"
   ]
  },
  {
   "cell_type": "code",
   "execution_count": 68,
   "id": "bc7d044d",
   "metadata": {},
   "outputs": [
    {
     "data": {
      "text/plain": [
       "matrix([[1, 2, 3]])"
      ]
     },
     "execution_count": 68,
     "metadata": {},
     "output_type": "execute_result"
    }
   ],
   "source": [
    "m[0,:]"
   ]
  },
  {
   "cell_type": "markdown",
   "id": "8882fcb8",
   "metadata": {
    "slideshow": {
     "slide_type": "slide"
    }
   },
   "source": [
    "Matrix algebra can performed using `@`. "
   ]
  },
  {
   "cell_type": "code",
   "execution_count": 69,
   "id": "74dd7921",
   "metadata": {
    "slideshow": {
     "slide_type": "-"
    }
   },
   "outputs": [
    {
     "data": {
      "text/plain": [
       "matrix([[1, 2, 3],\n",
       "        [4, 5, 6]])"
      ]
     },
     "execution_count": 69,
     "metadata": {},
     "output_type": "execute_result"
    }
   ],
   "source": [
    "m"
   ]
  },
  {
   "cell_type": "code",
   "execution_count": 72,
   "id": "c62954ec",
   "metadata": {
    "slideshow": {
     "slide_type": "-"
    }
   },
   "outputs": [
    {
     "data": {
      "text/plain": [
       "matrix([[17, 22, 27],\n",
       "        [22, 29, 36],\n",
       "        [27, 36, 45]])"
      ]
     },
     "execution_count": 72,
     "metadata": {},
     "output_type": "execute_result"
    }
   ],
   "source": [
    "(np.transpose(m) @ m ) #can also use '*' but better practice not to use"
   ]
  },
  {
   "cell_type": "code",
   "execution_count": 100,
   "id": "42245d95",
   "metadata": {
    "slideshow": {
     "slide_type": "-"
    }
   },
   "outputs": [
    {
     "data": {
      "text/plain": [
       "matrix([[14],\n",
       "        [32]])"
      ]
     },
     "execution_count": 100,
     "metadata": {},
     "output_type": "execute_result"
    }
   ],
   "source": [
    "m @ np.transpose(np.matrix([[1, 2, 3]]))"
   ]
  },
  {
   "cell_type": "markdown",
   "id": "2699211d",
   "metadata": {
    "slideshow": {
     "slide_type": "slide"
    }
   },
   "source": [
    "So what is NumPy good for?\n",
    "\n",
    "NumPy also provides functions for:\n",
    "- Linear algebra (multiplication, transposition, decomposition, ...)\n",
    "- Random number generation\n",
    "- Elementary statistics\n",
    "- Signal processing\n",
    "- And more...\n",
    "\n",
    "There isn't time to cover all of these in detail in lecture, but you can learn more from the documentation and references."
   ]
  },
  {
   "cell_type": "markdown",
   "id": "7746da25",
   "metadata": {
    "slideshow": {
     "slide_type": "slide"
    }
   },
   "source": [
    "## Using NumPy for Monte Carlo Integration\n",
    "### Example - approximate $\\pi$ using Monte Carlo method\n",
    "\n",
    "Consider a circle with radius 1 circumscribed by a square with side length 2.\n",
    "\n",
    "The area of the circle is $\\pi$, so for a uniform distribution on the square, the probability a point will fall in the circle is $\\pi / 4$.\n",
    "\n",
    "We can estimate the probability to estimate $\\pi$."
   ]
  },
  {
   "cell_type": "code",
   "execution_count": 73,
   "id": "66e583e7",
   "metadata": {
    "slideshow": {
     "slide_type": "subslide"
    }
   },
   "outputs": [],
   "source": [
    "import numpy as np\n",
    "\n",
    "def approx_pi(n): \n",
    "    # First, we need to sample points (x, y) with x in (0, 1) and y the same\n",
    "    u = np.random.rand(n, 2) # returns array of dim n # uniform distribution from 0 to 1\n",
    "\n",
    "    # Check whether sampled point lies in the circle\n",
    "    in_circle = u[:,0]**2 + u[:,1]**2 <= 1\n",
    "\n",
    "    # Estimate pi\n",
    "    pi = 4 * in_circle.mean()\n",
    "    return pi"
   ]
  },
  {
   "cell_type": "code",
   "execution_count": 74,
   "id": "cc68cf24",
   "metadata": {},
   "outputs": [
    {
     "data": {
      "text/plain": [
       "3.14816"
      ]
     },
     "execution_count": 74,
     "metadata": {},
     "output_type": "execute_result"
    }
   ],
   "source": [
    "approx_pi(1_00_000)"
   ]
  },
  {
   "cell_type": "code",
   "execution_count": 110,
   "id": "ded60cb3",
   "metadata": {},
   "outputs": [
    {
     "data": {
      "text/plain": [
       "3.141592653589793"
      ]
     },
     "execution_count": 110,
     "metadata": {},
     "output_type": "execute_result"
    }
   ],
   "source": [
    "np.pi"
   ]
  },
  {
   "cell_type": "code",
   "execution_count": 111,
   "id": "bbef8486",
   "metadata": {},
   "outputs": [
    {
     "data": {
      "text/plain": [
       "3.141592653589793"
      ]
     },
     "execution_count": 111,
     "metadata": {},
     "output_type": "execute_result"
    }
   ],
   "source": [
    "math.pi"
   ]
  },
  {
   "cell_type": "markdown",
   "id": "07dc1444",
   "metadata": {
    "slideshow": {
     "slide_type": "subslide"
    }
   },
   "source": [
    "We have used the package `numpy.random`, a subpackage or NumPy. "
   ]
  },
  {
   "cell_type": "code",
   "execution_count": null,
   "id": "4b17a542",
   "metadata": {
    "scrolled": true
   },
   "outputs": [],
   "source": [
    "help(np.random)"
   ]
  },
  {
   "cell_type": "markdown",
   "id": "735d0ed7",
   "metadata": {
    "slideshow": {
     "slide_type": "slide"
    }
   },
   "source": [
    "There are other packages that produce random numbers, like `random`. "
   ]
  },
  {
   "cell_type": "code",
   "execution_count": 125,
   "id": "fc75ff49",
   "metadata": {},
   "outputs": [],
   "source": [
    "import random\n",
    "random.seed(1) # np.random.seed(1) # alternative, but different seed! "
   ]
  },
  {
   "cell_type": "markdown",
   "id": "d5c45544",
   "metadata": {
    "slideshow": {
     "slide_type": "subslide"
    }
   },
   "source": [
    "Lets see how how fast our approximation converges. "
   ]
  },
  {
   "cell_type": "code",
   "execution_count": 127,
   "id": "25da6574",
   "metadata": {},
   "outputs": [],
   "source": [
    "log10_nsims = np.linspace(start=0.5, stop=6, num=100)"
   ]
  },
  {
   "cell_type": "code",
   "execution_count": null,
   "id": "58f5b3b5",
   "metadata": {},
   "outputs": [],
   "source": [
    "nsims = (10**log10_nsims).astype(int)"
   ]
  },
  {
   "cell_type": "code",
   "execution_count": 129,
   "id": "fb6969d0",
   "metadata": {},
   "outputs": [
    {
     "data": {
      "text/plain": [
       "array([      3,       3,       4,       4,       5,       5,       6,\n",
       "             7,       8,      10,      11,      12,      14,      16,\n",
       "            18,      21,      24,      27,      31,      35,      40,\n",
       "            46,      52,      59,      68,      77,      87,     100,\n",
       "           113,     129,     146,     166,     189,     215,     244,\n",
       "           278,     316,     359,     408,     464,     527,     599,\n",
       "           681,     774,     879,    1000,    1136,    1291,    1467,\n",
       "          1668,    1895,    2154,    2448,    2782,    3162,    3593,\n",
       "          4084,    4641,    5274,    5994,    6812,    7742,    8799,\n",
       "         10000,   11364,   12915,   14677,   16681,   18957,   21544,\n",
       "         24484,   27825,   31622,   35938,   40842,   46415,   52749,\n",
       "         59948,   68129,   77426,   87992,  100000,  113646,  129154,\n",
       "        146779,  166810,  189573,  215443,  244843,  278255,  316227,\n",
       "        359381,  408423,  464158,  527499,  599484,  681292,  774263,\n",
       "        879922, 1000000])"
      ]
     },
     "execution_count": 129,
     "metadata": {},
     "output_type": "execute_result"
    }
   ],
   "source": [
    "nsims"
   ]
  },
  {
   "cell_type": "code",
   "execution_count": 130,
   "id": "560e98dd",
   "metadata": {
    "scrolled": true,
    "slideshow": {
     "slide_type": "subslide"
    }
   },
   "outputs": [
    {
     "data": {
      "text/plain": [
       "[2.6666666666666665,\n",
       " 4.0,\n",
       " 4.0,\n",
       " 2.0,\n",
       " 2.4,\n",
       " 4.0,\n",
       " 1.3333333333333333,\n",
       " 2.2857142857142856,\n",
       " 3.0,\n",
       " 2.0,\n",
       " 2.5454545454545454,\n",
       " 3.6666666666666665,\n",
       " 2.857142857142857,\n",
       " 3.25,\n",
       " 3.3333333333333335,\n",
       " 3.238095238095238,\n",
       " 3.3333333333333335,\n",
       " 2.6666666666666665,\n",
       " 2.967741935483871,\n",
       " 2.857142857142857,\n",
       " 3.4,\n",
       " 2.9565217391304346,\n",
       " 3.230769230769231,\n",
       " 3.1864406779661016,\n",
       " 3.1176470588235294,\n",
       " 2.961038961038961,\n",
       " 3.0804597701149423,\n",
       " 3.12,\n",
       " 3.0442477876106193,\n",
       " 3.2248062015503876,\n",
       " 3.232876712328767,\n",
       " 3.1325301204819276,\n",
       " 3.238095238095238,\n",
       " 3.0697674418604652,\n",
       " 3.098360655737705,\n",
       " 3.079136690647482,\n",
       " 3.0126582278481013,\n",
       " 3.1643454038997216,\n",
       " 3.1470588235294117,\n",
       " 3.1982758620689653,\n",
       " 3.096774193548387,\n",
       " 3.2721202003338896,\n",
       " 3.0719530102790014,\n",
       " 3.198966408268734,\n",
       " 3.2081911262798637,\n",
       " 3.136,\n",
       " 3.158450704225352,\n",
       " 3.1603408210689388,\n",
       " 3.173824130879346,\n",
       " 3.179856115107914,\n",
       " 3.1936675461741424,\n",
       " 3.116063138347261,\n",
       " 3.111111111111111,\n",
       " 3.156002875629044,\n",
       " 3.1157495256166983,\n",
       " 3.1182855552463122,\n",
       " 3.1165523996082274,\n",
       " 3.1493212669683257,\n",
       " 3.1520667425104287,\n",
       " 3.1618284951618283,\n",
       " 3.1309453904873754,\n",
       " 3.1609403254972874,\n",
       " 3.133537902034322,\n",
       " 3.1528,\n",
       " 3.139739528335093,\n",
       " 3.1445605884630274,\n",
       " 3.141513933365129,\n",
       " 3.1566452850548528,\n",
       " 3.147333438835259,\n",
       " 3.148533234311177,\n",
       " 3.1491586342100963,\n",
       " 3.1452291105121293,\n",
       " 3.1661501486307,\n",
       " 3.1436362624520005,\n",
       " 3.147642133098281,\n",
       " 3.1383819885812776,\n",
       " 3.1331778801493866,\n",
       " 3.14686061253086,\n",
       " 3.146795050565838,\n",
       " 3.1366724356159428,\n",
       " 3.147422492953905,\n",
       " 3.14084,\n",
       " 3.1443253612093693,\n",
       " 3.1430695139136224,\n",
       " 3.1386233725532944,\n",
       " 3.139140339308195,\n",
       " 3.1445195254598493,\n",
       " 3.143606429542849,\n",
       " 3.140216383560077,\n",
       " 3.1371799248890406,\n",
       " 3.1435772404000923,\n",
       " 3.1413792047993634,\n",
       " 3.1392845162980536,\n",
       " 3.14517039456392,\n",
       " 3.143277996735539,\n",
       " 3.1422223111876213,\n",
       " 3.1421182106937993,\n",
       " 3.1442287698107747,\n",
       " 3.1423148870013478,\n",
       " 3.140244]"
      ]
     },
     "execution_count": 130,
     "metadata": {},
     "output_type": "execute_result"
    }
   ],
   "source": [
    "pi = [approx_pi(n) for n in nsims]\n",
    "pi"
   ]
  },
  {
   "cell_type": "markdown",
   "id": "ef12b873",
   "metadata": {
    "slideshow": {
     "slide_type": "slide"
    }
   },
   "source": [
    "Lets visualise this numerical convergence. "
   ]
  },
  {
   "cell_type": "code",
   "execution_count": 75,
   "id": "c01769a3",
   "metadata": {
    "scrolled": true
   },
   "outputs": [
    {
     "ename": "NameError",
     "evalue": "name 'log10_nsims' is not defined",
     "output_type": "error",
     "traceback": [
      "\u001b[0;31m---------------------------------------------------------------------------\u001b[0m",
      "\u001b[0;31mNameError\u001b[0m                                 Traceback (most recent call last)",
      "Cell \u001b[0;32mIn[75], line 2\u001b[0m\n\u001b[1;32m      1\u001b[0m \u001b[39mimport\u001b[39;00m \u001b[39mmatplotlib\u001b[39;00m\u001b[39m.\u001b[39;00m\u001b[39mpyplot\u001b[39;00m \u001b[39mas\u001b[39;00m \u001b[39mplt\u001b[39;00m\n\u001b[0;32m----> 2\u001b[0m plt\u001b[39m.\u001b[39mplot(log10_nsims, pi)\n\u001b[1;32m      3\u001b[0m plt\u001b[39m.\u001b[39maxhline(y\u001b[39m=\u001b[39mnp\u001b[39m.\u001b[39mpi, color\u001b[39m=\u001b[39m\u001b[39m'\u001b[39m\u001b[39mr\u001b[39m\u001b[39m'\u001b[39m, linestyle\u001b[39m=\u001b[39m\u001b[39m'\u001b[39m\u001b[39m-\u001b[39m\u001b[39m'\u001b[39m) \u001b[39m# add red line \u001b[39;00m\n\u001b[1;32m      4\u001b[0m plt\u001b[39m.\u001b[39mxlabel(\u001b[39m\"\u001b[39m\u001b[39m$\u001b[39m\u001b[39m\\\u001b[39m\u001b[39mlog_\u001b[39m\u001b[39m{10}\u001b[39;00m\u001b[39m($nsims$)$\u001b[39m\u001b[39m\"\u001b[39m) \u001b[39m# add label with LaTex\u001b[39;00m\n",
      "\u001b[0;31mNameError\u001b[0m: name 'log10_nsims' is not defined"
     ]
    }
   ],
   "source": [
    "import matplotlib.pyplot as plt\n",
    "plt.plot(log10_nsims, pi)\n",
    "plt.axhline(y=np.pi, color='r', linestyle='-') # add red line \n",
    "plt.xlabel(\"$\\log_{10}($nsims$)$\") # add label with LaTex\n",
    "plt.show() "
   ]
  },
  {
   "cell_type": "code",
   "execution_count": null,
   "id": "61fd5ac3",
   "metadata": {},
   "outputs": [],
   "source": []
  }
 ],
 "metadata": {
  "celltoolbar": "Slideshow",
  "kernelspec": {
   "display_name": "Python 3",
   "language": "python",
   "name": "python3"
  },
  "language_info": {
   "codemirror_mode": {
    "name": "ipython",
    "version": 3
   },
   "file_extension": ".py",
   "mimetype": "text/x-python",
   "name": "python",
   "nbconvert_exporter": "python",
   "pygments_lexer": "ipython3",
   "version": "3.11.6"
  },
  "rise": {
   "progress": true,
   "scroll": true,
   "theme": "white"
  },
  "vscode": {
   "interpreter": {
    "hash": "b0fa6594d8f4cbf19f97940f81e996739fb7646882a419484c72d19e05852a7e"
   }
  }
 },
 "nbformat": 4,
 "nbformat_minor": 5
}
