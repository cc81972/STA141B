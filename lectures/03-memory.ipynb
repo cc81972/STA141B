{
 "cells": [
  {
   "cell_type": "markdown",
   "id": "ff704263",
   "metadata": {
    "slideshow": {
     "slide_type": "slide"
    }
   },
   "source": [
    "# STA 141B Data & Web Technologies for Data Analysis\n",
    "\n",
    "### Lecture 3, 10/5/23, Memory handling\n"
   ]
  },
  {
   "cell_type": "markdown",
   "id": "d720fbd5",
   "metadata": {
    "slideshow": {
     "slide_type": "slide"
    }
   },
   "source": [
    "### Announcements\n",
    "\n",
    " - First HW due in one week! "
   ]
  },
  {
   "cell_type": "markdown",
   "id": "522ed175",
   "metadata": {
    "slideshow": {
     "slide_type": "slide"
    }
   },
   "source": [
    "### Today's topics\n",
    "\n",
    " - Basics of Python (cont.')\n",
    " - Memory Handling in Python\n",
    "     - Stack and Heap\n",
    "     - Types\n",
    "     - Reference Semantics\n",
    "     - Interning"
   ]
  },
  {
   "cell_type": "markdown",
   "id": "df2973ff",
   "metadata": {
    "slideshow": {
     "slide_type": "slide"
    }
   },
   "source": [
    "#### 3. Comprehensions and generators\n",
    "\n",
    "A comprehension is a Python expression that transforms a sequence, element-by-element."
   ]
  },
  {
   "cell_type": "code",
   "execution_count": 1,
   "id": "616bea00",
   "metadata": {},
   "outputs": [
    {
     "data": {
      "text/plain": [
       "[0, 1, 4, 9, 16]"
      ]
     },
     "execution_count": 1,
     "metadata": {},
     "output_type": "execute_result"
    }
   ],
   "source": [
    "[x**2 for x in range(5)]"
   ]
  },
  {
   "cell_type": "code",
   "execution_count": 2,
   "id": "d99ac932",
   "metadata": {},
   "outputs": [],
   "source": [
    "x = [4, 3, 1]"
   ]
  },
  {
   "cell_type": "code",
   "execution_count": 3,
   "id": "b3725c28",
   "metadata": {},
   "outputs": [
    {
     "ename": "TypeError",
     "evalue": "can only concatenate list (not \"int\") to list",
     "output_type": "error",
     "traceback": [
      "\u001b[0;31m---------------------------------------------------------------------------\u001b[0m",
      "\u001b[0;31mTypeError\u001b[0m                                 Traceback (most recent call last)",
      "Cell \u001b[0;32mIn[3], line 1\u001b[0m\n\u001b[0;32m----> 1\u001b[0m x \u001b[39m+\u001b[39;49m \u001b[39m3\u001b[39;49m\n",
      "\u001b[0;31mTypeError\u001b[0m: can only concatenate list (not \"int\") to list"
     ]
    }
   ],
   "source": [
    "x + 3"
   ]
  },
  {
   "cell_type": "code",
   "execution_count": 4,
   "id": "e00c38e5",
   "metadata": {},
   "outputs": [
    {
     "data": {
      "text/plain": [
       "[16, 15, 13]"
      ]
     },
     "execution_count": 4,
     "metadata": {},
     "output_type": "execute_result"
    }
   ],
   "source": [
    "[y + 12 for y in x]"
   ]
  },
  {
   "cell_type": "markdown",
   "id": "a543caf9",
   "metadata": {
    "slideshow": {
     "slide_type": "slide"
    }
   },
   "source": [
    "Think of this as Pythons `lapply`. You can include a condition in a comprehension:"
   ]
  },
  {
   "cell_type": "code",
   "execution_count": 5,
   "id": "5eb6934a",
   "metadata": {},
   "outputs": [
    {
     "data": {
      "text/plain": [
       "[0, 4, 16, 36, 64, 100]"
      ]
     },
     "execution_count": 5,
     "metadata": {},
     "output_type": "execute_result"
    }
   ],
   "source": [
    "y = [x**2 for x in range(11) if x % 2 == 0]\n",
    "y "
   ]
  },
  {
   "cell_type": "markdown",
   "id": "7209c9af",
   "metadata": {
    "slideshow": {
     "slide_type": "slide"
    }
   },
   "source": [
    "You can also iterate over subelements."
   ]
  },
  {
   "cell_type": "code",
   "execution_count": 6,
   "id": "002c9361",
   "metadata": {},
   "outputs": [],
   "source": [
    "x = [[1, 2, 3], [4, 5, 6]] # print 1, 2, 3, 4, 5, 6"
   ]
  },
  {
   "cell_type": "code",
   "execution_count": 7,
   "id": "b8c42aca",
   "metadata": {},
   "outputs": [
    {
     "name": "stdout",
     "output_type": "stream",
     "text": [
      "1\n",
      "2\n",
      "3\n",
      "4\n",
      "5\n",
      "6\n"
     ]
    }
   ],
   "source": [
    "# somewhat clumsy\n",
    "for sublist in x:\n",
    "    for y in sublist:\n",
    "        print(y)"
   ]
  },
  {
   "cell_type": "code",
   "execution_count": null,
   "id": "7b6d2595",
   "metadata": {},
   "outputs": [],
   "source": []
  },
  {
   "cell_type": "code",
   "execution_count": 8,
   "id": "9691eb20",
   "metadata": {},
   "outputs": [
    {
     "data": {
      "text/plain": [
       "[1, 2, 3, 4, 5, 6]"
      ]
     },
     "execution_count": 8,
     "metadata": {},
     "output_type": "execute_result"
    }
   ],
   "source": [
    "[y for sublist in x for y in sublist]"
   ]
  },
  {
   "cell_type": "markdown",
   "id": "dc81f2bb",
   "metadata": {
    "slideshow": {
     "slide_type": "-"
    }
   },
   "source": [
    "Be aware that `sublist in x` is the top loop and subloops are right thereof. In other words, the outermost iterables always come first in the comprehension."
   ]
  },
  {
   "cell_type": "markdown",
   "id": "92b3dfb2",
   "metadata": {
    "slideshow": {
     "slide_type": "slide"
    }
   },
   "source": [
    "A comprehension surrounded by `[ ]` is called a list comprehension and produces a <kbd>list</kbd>. A comprehension surrounded by `{ }` and including `:` is called a dictionary comprehension and produces a <kbd>dict</kbd>. Else it is called set comprehension. "
   ]
  },
  {
   "cell_type": "code",
   "execution_count": 14,
   "id": "d1a9738f",
   "metadata": {},
   "outputs": [
    {
     "data": {
      "text/plain": [
       "{5: ('hello',), 7: ('goodbye',)}"
      ]
     },
     "execution_count": 14,
     "metadata": {},
     "output_type": "execute_result"
    }
   ],
   "source": [
    "x = [\"hello\", \"goodbye\"]\n",
    "\n",
    "lens = {len(name): (name,) for name in x} # print the length of names\n",
    "lens"
   ]
  },
  {
   "cell_type": "markdown",
   "id": "85e2df2e",
   "metadata": {
    "slideshow": {
     "slide_type": "slide"
    }
   },
   "source": [
    "Remember that <kbd>dict</kbd> does not support equal keys and <kbd>set</kbd> does not support equal items, but <kbd>list</kbd> does. "
   ]
  },
  {
   "cell_type": "code",
   "execution_count": 15,
   "id": "82014cf5",
   "metadata": {},
   "outputs": [
    {
     "data": {
      "text/plain": [
       "{0, 1}"
      ]
     },
     "execution_count": 15,
     "metadata": {},
     "output_type": "execute_result"
    }
   ],
   "source": [
    "{x**2 for x in [-1, 0, 1]} # set # uniqueness of sets is checked with ==, not is"
   ]
  },
  {
   "cell_type": "markdown",
   "id": "bfe9988c",
   "metadata": {
    "slideshow": {
     "slide_type": "slide"
    }
   },
   "source": [
    "There's no such thing as a tuple comprehension. Instead, a comprehension surrounded by `( )` is called a generator expression."
   ]
  },
  {
   "cell_type": "code",
   "execution_count": 2,
   "id": "b9d17fcf",
   "metadata": {},
   "outputs": [
    {
     "data": {
      "text/plain": [
       "generator"
      ]
     },
     "execution_count": 2,
     "metadata": {},
     "output_type": "execute_result"
    }
   ],
   "source": [
    "y = (x**2 for x in range(1001) if x % 2 == 0)\n",
    "type(y)"
   ]
  },
  {
   "cell_type": "code",
   "execution_count": 3,
   "id": "85e8825d",
   "metadata": {},
   "outputs": [
    {
     "data": {
      "text/plain": [
       "[0,\n",
       " 4,\n",
       " 16,\n",
       " 36,\n",
       " 64,\n",
       " 100,\n",
       " 144,\n",
       " 196,\n",
       " 256,\n",
       " 324,\n",
       " 400,\n",
       " 484,\n",
       " 576,\n",
       " 676,\n",
       " 784,\n",
       " 900,\n",
       " 1024,\n",
       " 1156,\n",
       " 1296,\n",
       " 1444,\n",
       " 1600,\n",
       " 1764,\n",
       " 1936,\n",
       " 2116,\n",
       " 2304,\n",
       " 2500,\n",
       " 2704,\n",
       " 2916,\n",
       " 3136,\n",
       " 3364,\n",
       " 3600,\n",
       " 3844,\n",
       " 4096,\n",
       " 4356,\n",
       " 4624,\n",
       " 4900,\n",
       " 5184,\n",
       " 5476,\n",
       " 5776,\n",
       " 6084,\n",
       " 6400,\n",
       " 6724,\n",
       " 7056,\n",
       " 7396,\n",
       " 7744,\n",
       " 8100,\n",
       " 8464,\n",
       " 8836,\n",
       " 9216,\n",
       " 9604,\n",
       " 10000,\n",
       " 10404,\n",
       " 10816,\n",
       " 11236,\n",
       " 11664,\n",
       " 12100,\n",
       " 12544,\n",
       " 12996,\n",
       " 13456,\n",
       " 13924,\n",
       " 14400,\n",
       " 14884,\n",
       " 15376,\n",
       " 15876,\n",
       " 16384,\n",
       " 16900,\n",
       " 17424,\n",
       " 17956,\n",
       " 18496,\n",
       " 19044,\n",
       " 19600,\n",
       " 20164,\n",
       " 20736,\n",
       " 21316,\n",
       " 21904,\n",
       " 22500,\n",
       " 23104,\n",
       " 23716,\n",
       " 24336,\n",
       " 24964,\n",
       " 25600,\n",
       " 26244,\n",
       " 26896,\n",
       " 27556,\n",
       " 28224,\n",
       " 28900,\n",
       " 29584,\n",
       " 30276,\n",
       " 30976,\n",
       " 31684,\n",
       " 32400,\n",
       " 33124,\n",
       " 33856,\n",
       " 34596,\n",
       " 35344,\n",
       " 36100,\n",
       " 36864,\n",
       " 37636,\n",
       " 38416,\n",
       " 39204,\n",
       " 40000,\n",
       " 40804,\n",
       " 41616,\n",
       " 42436,\n",
       " 43264,\n",
       " 44100,\n",
       " 44944,\n",
       " 45796,\n",
       " 46656,\n",
       " 47524,\n",
       " 48400,\n",
       " 49284,\n",
       " 50176,\n",
       " 51076,\n",
       " 51984,\n",
       " 52900,\n",
       " 53824,\n",
       " 54756,\n",
       " 55696,\n",
       " 56644,\n",
       " 57600,\n",
       " 58564,\n",
       " 59536,\n",
       " 60516,\n",
       " 61504,\n",
       " 62500,\n",
       " 63504,\n",
       " 64516,\n",
       " 65536,\n",
       " 66564,\n",
       " 67600,\n",
       " 68644,\n",
       " 69696,\n",
       " 70756,\n",
       " 71824,\n",
       " 72900,\n",
       " 73984,\n",
       " 75076,\n",
       " 76176,\n",
       " 77284,\n",
       " 78400,\n",
       " 79524,\n",
       " 80656,\n",
       " 81796,\n",
       " 82944,\n",
       " 84100,\n",
       " 85264,\n",
       " 86436,\n",
       " 87616,\n",
       " 88804,\n",
       " 90000,\n",
       " 91204,\n",
       " 92416,\n",
       " 93636,\n",
       " 94864,\n",
       " 96100,\n",
       " 97344,\n",
       " 98596,\n",
       " 99856,\n",
       " 101124,\n",
       " 102400,\n",
       " 103684,\n",
       " 104976,\n",
       " 106276,\n",
       " 107584,\n",
       " 108900,\n",
       " 110224,\n",
       " 111556,\n",
       " 112896,\n",
       " 114244,\n",
       " 115600,\n",
       " 116964,\n",
       " 118336,\n",
       " 119716,\n",
       " 121104,\n",
       " 122500,\n",
       " 123904,\n",
       " 125316,\n",
       " 126736,\n",
       " 128164,\n",
       " 129600,\n",
       " 131044,\n",
       " 132496,\n",
       " 133956,\n",
       " 135424,\n",
       " 136900,\n",
       " 138384,\n",
       " 139876,\n",
       " 141376,\n",
       " 142884,\n",
       " 144400,\n",
       " 145924,\n",
       " 147456,\n",
       " 148996,\n",
       " 150544,\n",
       " 152100,\n",
       " 153664,\n",
       " 155236,\n",
       " 156816,\n",
       " 158404,\n",
       " 160000,\n",
       " 161604,\n",
       " 163216,\n",
       " 164836,\n",
       " 166464,\n",
       " 168100,\n",
       " 169744,\n",
       " 171396,\n",
       " 173056,\n",
       " 174724,\n",
       " 176400,\n",
       " 178084,\n",
       " 179776,\n",
       " 181476,\n",
       " 183184,\n",
       " 184900,\n",
       " 186624,\n",
       " 188356,\n",
       " 190096,\n",
       " 191844,\n",
       " 193600,\n",
       " 195364,\n",
       " 197136,\n",
       " 198916,\n",
       " 200704,\n",
       " 202500,\n",
       " 204304,\n",
       " 206116,\n",
       " 207936,\n",
       " 209764,\n",
       " 211600,\n",
       " 213444,\n",
       " 215296,\n",
       " 217156,\n",
       " 219024,\n",
       " 220900,\n",
       " 222784,\n",
       " 224676,\n",
       " 226576,\n",
       " 228484,\n",
       " 230400,\n",
       " 232324,\n",
       " 234256,\n",
       " 236196,\n",
       " 238144,\n",
       " 240100,\n",
       " 242064,\n",
       " 244036,\n",
       " 246016,\n",
       " 248004,\n",
       " 250000,\n",
       " 252004,\n",
       " 254016,\n",
       " 256036,\n",
       " 258064,\n",
       " 260100,\n",
       " 262144,\n",
       " 264196,\n",
       " 266256,\n",
       " 268324,\n",
       " 270400,\n",
       " 272484,\n",
       " 274576,\n",
       " 276676,\n",
       " 278784,\n",
       " 280900,\n",
       " 283024,\n",
       " 285156,\n",
       " 287296,\n",
       " 289444,\n",
       " 291600,\n",
       " 293764,\n",
       " 295936,\n",
       " 298116,\n",
       " 300304,\n",
       " 302500,\n",
       " 304704,\n",
       " 306916,\n",
       " 309136,\n",
       " 311364,\n",
       " 313600,\n",
       " 315844,\n",
       " 318096,\n",
       " 320356,\n",
       " 322624,\n",
       " 324900,\n",
       " 327184,\n",
       " 329476,\n",
       " 331776,\n",
       " 334084,\n",
       " 336400,\n",
       " 338724,\n",
       " 341056,\n",
       " 343396,\n",
       " 345744,\n",
       " 348100,\n",
       " 350464,\n",
       " 352836,\n",
       " 355216,\n",
       " 357604,\n",
       " 360000,\n",
       " 362404,\n",
       " 364816,\n",
       " 367236,\n",
       " 369664,\n",
       " 372100,\n",
       " 374544,\n",
       " 376996,\n",
       " 379456,\n",
       " 381924,\n",
       " 384400,\n",
       " 386884,\n",
       " 389376,\n",
       " 391876,\n",
       " 394384,\n",
       " 396900,\n",
       " 399424,\n",
       " 401956,\n",
       " 404496,\n",
       " 407044,\n",
       " 409600,\n",
       " 412164,\n",
       " 414736,\n",
       " 417316,\n",
       " 419904,\n",
       " 422500,\n",
       " 425104,\n",
       " 427716,\n",
       " 430336,\n",
       " 432964,\n",
       " 435600,\n",
       " 438244,\n",
       " 440896,\n",
       " 443556,\n",
       " 446224,\n",
       " 448900,\n",
       " 451584,\n",
       " 454276,\n",
       " 456976,\n",
       " 459684,\n",
       " 462400,\n",
       " 465124,\n",
       " 467856,\n",
       " 470596,\n",
       " 473344,\n",
       " 476100,\n",
       " 478864,\n",
       " 481636,\n",
       " 484416,\n",
       " 487204,\n",
       " 490000,\n",
       " 492804,\n",
       " 495616,\n",
       " 498436,\n",
       " 501264,\n",
       " 504100,\n",
       " 506944,\n",
       " 509796,\n",
       " 512656,\n",
       " 515524,\n",
       " 518400,\n",
       " 521284,\n",
       " 524176,\n",
       " 527076,\n",
       " 529984,\n",
       " 532900,\n",
       " 535824,\n",
       " 538756,\n",
       " 541696,\n",
       " 544644,\n",
       " 547600,\n",
       " 550564,\n",
       " 553536,\n",
       " 556516,\n",
       " 559504,\n",
       " 562500,\n",
       " 565504,\n",
       " 568516,\n",
       " 571536,\n",
       " 574564,\n",
       " 577600,\n",
       " 580644,\n",
       " 583696,\n",
       " 586756,\n",
       " 589824,\n",
       " 592900,\n",
       " 595984,\n",
       " 599076,\n",
       " 602176,\n",
       " 605284,\n",
       " 608400,\n",
       " 611524,\n",
       " 614656,\n",
       " 617796,\n",
       " 620944,\n",
       " 624100,\n",
       " 627264,\n",
       " 630436,\n",
       " 633616,\n",
       " 636804,\n",
       " 640000,\n",
       " 643204,\n",
       " 646416,\n",
       " 649636,\n",
       " 652864,\n",
       " 656100,\n",
       " 659344,\n",
       " 662596,\n",
       " 665856,\n",
       " 669124,\n",
       " 672400,\n",
       " 675684,\n",
       " 678976,\n",
       " 682276,\n",
       " 685584,\n",
       " 688900,\n",
       " 692224,\n",
       " 695556,\n",
       " 698896,\n",
       " 702244,\n",
       " 705600,\n",
       " 708964,\n",
       " 712336,\n",
       " 715716,\n",
       " 719104,\n",
       " 722500,\n",
       " 725904,\n",
       " 729316,\n",
       " 732736,\n",
       " 736164,\n",
       " 739600,\n",
       " 743044,\n",
       " 746496,\n",
       " 749956,\n",
       " 753424,\n",
       " 756900,\n",
       " 760384,\n",
       " 763876,\n",
       " 767376,\n",
       " 770884,\n",
       " 774400,\n",
       " 777924,\n",
       " 781456,\n",
       " 784996,\n",
       " 788544,\n",
       " 792100,\n",
       " 795664,\n",
       " 799236,\n",
       " 802816,\n",
       " 806404,\n",
       " 810000,\n",
       " 813604,\n",
       " 817216,\n",
       " 820836,\n",
       " 824464,\n",
       " 828100,\n",
       " 831744,\n",
       " 835396,\n",
       " 839056,\n",
       " 842724,\n",
       " 846400,\n",
       " 850084,\n",
       " 853776,\n",
       " 857476,\n",
       " 861184,\n",
       " 864900,\n",
       " 868624,\n",
       " 872356,\n",
       " 876096,\n",
       " 879844,\n",
       " 883600,\n",
       " 887364,\n",
       " 891136,\n",
       " 894916,\n",
       " 898704,\n",
       " 902500,\n",
       " 906304,\n",
       " 910116,\n",
       " 913936,\n",
       " 917764,\n",
       " 921600,\n",
       " 925444,\n",
       " 929296,\n",
       " 933156,\n",
       " 937024,\n",
       " 940900,\n",
       " 944784,\n",
       " 948676,\n",
       " 952576,\n",
       " 956484,\n",
       " 960400,\n",
       " 964324,\n",
       " 968256,\n",
       " 972196,\n",
       " 976144,\n",
       " 980100,\n",
       " 984064,\n",
       " 988036,\n",
       " 992016,\n",
       " 996004,\n",
       " 1000000]"
      ]
     },
     "execution_count": 3,
     "metadata": {},
     "output_type": "execute_result"
    }
   ],
   "source": [
    "list(y)"
   ]
  },
  {
   "cell_type": "code",
   "execution_count": 4,
   "id": "dff4d0a7",
   "metadata": {},
   "outputs": [
    {
     "data": {
      "text/plain": [
       "[]"
      ]
     },
     "execution_count": 4,
     "metadata": {},
     "output_type": "execute_result"
    }
   ],
   "source": [
    "list(y) #the generator already got exhausted earlier, can only use once"
   ]
  },
  {
   "cell_type": "code",
   "execution_count": 17,
   "id": "fe8aa5c0",
   "metadata": {},
   "outputs": [
    {
     "data": {
      "text/plain": [
       "112"
      ]
     },
     "execution_count": 17,
     "metadata": {},
     "output_type": "execute_result"
    }
   ],
   "source": [
    "import sys\n",
    "sys.getsizeof(y)"
   ]
  },
  {
   "cell_type": "code",
   "execution_count": 18,
   "id": "257069fe",
   "metadata": {},
   "outputs": [
    {
     "data": {
      "text/plain": [
       "4216"
      ]
     },
     "execution_count": 18,
     "metadata": {},
     "output_type": "execute_result"
    }
   ],
   "source": [
    "sys.getsizeof([x**2 for x in range(1001) if x % 2 == 0]) # produces a list, i.e., is evaluated"
   ]
  },
  {
   "cell_type": "markdown",
   "id": "5fea0960",
   "metadata": {
    "slideshow": {
     "slide_type": "slide"
    }
   },
   "source": [
    "Operating on a generator forces its evaluation. "
   ]
  },
  {
   "cell_type": "code",
   "execution_count": 19,
   "id": "3af194d2",
   "metadata": {},
   "outputs": [
    {
     "data": {
      "text/plain": [
       "167167000"
      ]
     },
     "execution_count": 19,
     "metadata": {},
     "output_type": "execute_result"
    }
   ],
   "source": [
    "sum(y) "
   ]
  },
  {
   "cell_type": "markdown",
   "id": "1b73144f",
   "metadata": {
    "slideshow": {
     "slide_type": "slide"
    }
   },
   "source": [
    "This code does not produce any sensible result, because *a generator can only be used once*. Once iterated through, it is exhausted. Since this saves memory it is *much* more efficient than <kbd>list</kbd>."
   ]
  },
  {
   "cell_type": "code",
   "execution_count": 20,
   "id": "fb85c2c5",
   "metadata": {
    "slideshow": {
     "slide_type": "-"
    }
   },
   "outputs": [],
   "source": [
    "for i in y:\n",
    "    print(i, end=\" \")"
   ]
  },
  {
   "cell_type": "code",
   "execution_count": 24,
   "id": "be018018",
   "metadata": {},
   "outputs": [],
   "source": [
    "y = (x**2 for x in range(101) if x % 2 == 0)"
   ]
  },
  {
   "cell_type": "code",
   "execution_count": 25,
   "id": "aff1d46b",
   "metadata": {},
   "outputs": [
    {
     "name": "stdout",
     "output_type": "stream",
     "text": [
      "0 4 16 36 64 100 144 196 256 324 400 484 576 676 784 900 1024 1156 1296 1444 1600 1764 1936 2116 2304 2500 2704 2916 3136 3364 3600 3844 4096 4356 4624 4900 5184 5476 5776 6084 6400 6724 7056 7396 7744 8100 8464 8836 9216 9604 10000 "
     ]
    }
   ],
   "source": [
    "for i in y:\n",
    "    print(i, end=\" \")"
   ]
  },
  {
   "cell_type": "markdown",
   "id": "2f3828f6",
   "metadata": {
    "slideshow": {
     "slide_type": "slide"
    }
   },
   "source": [
    " The economics of memory show when we time operations. "
   ]
  },
  {
   "cell_type": "code",
   "execution_count": 26,
   "id": "48cbb2d6",
   "metadata": {},
   "outputs": [],
   "source": [
    "import timeit"
   ]
  },
  {
   "cell_type": "code",
   "execution_count": 27,
   "id": "76df9d15",
   "metadata": {},
   "outputs": [
    {
     "name": "stdout",
     "output_type": "stream",
     "text": [
      "4.750762458000054\n",
      "0.28591766700014887\n"
     ]
    }
   ],
   "source": [
    "print(timeit.timeit('''list_com = [i for i in range(100) if i % 2 == 0]''', number=1000000))\n",
    "print(timeit.timeit('''gen_exp = (i for i in range(100) if i % 2 == 0)''', number=1000000))"
   ]
  },
  {
   "cell_type": "markdown",
   "id": "f73ad4e5",
   "metadata": {
    "slideshow": {
     "slide_type": "slide"
    }
   },
   "source": [
    "A generator is a special kind of iterable which computes its elements on demand. Examples are ranges and generator expressions. \n",
    "Generators are especially useful for working with data that are __too large__ to fit in memory. While making a huge list (say $10^9$ elements) might use enough memory to crash Python, making a generator with the same number of elements uses almost no memory. See more examples [here](https://zacks.one/python-generators/). \n",
    "\n",
    "Python's `itertools` module has functions for manipulating generators and iterable objects"
   ]
  },
  {
   "cell_type": "markdown",
   "id": "45d3dec1",
   "metadata": {
    "slideshow": {
     "slide_type": "slide"
    }
   },
   "source": [
    "### Stack and Heap"
   ]
  },
  {
   "cell_type": "code",
   "execution_count": 7,
   "id": "c1155bb4",
   "metadata": {
    "slideshow": {
     "slide_type": "-"
    }
   },
   "outputs": [
    {
     "data": {
      "text/plain": [
       "bool"
      ]
     },
     "execution_count": 7,
     "metadata": {},
     "output_type": "execute_result"
    }
   ],
   "source": [
    "x = True\n",
    "type(x)"
   ]
  },
  {
   "cell_type": "markdown",
   "id": "168dcdf3",
   "metadata": {},
   "source": [
    "`x` is a variable, which corresponds to an <kbd>bool</kbd> object with value `True`. The variable itself holds merely a reference to a specific object. This reference is stored in local memory (the *stack*). Our compiler takes care in allocating stack memory, we don't have to do that. \n",
    "\n",
    "The <kbd>bool</kbd>-object and its value are stored on the random access memory (RAM, the *heap*). We can access the address of the object on the heap (and, conversely, the refrence on the stack): "
   ]
  },
  {
   "cell_type": "code",
   "execution_count": 8,
   "id": "3b7802d9",
   "metadata": {},
   "outputs": [
    {
     "data": {
      "text/plain": [
       "4354744144"
      ]
     },
     "execution_count": 8,
     "metadata": {},
     "output_type": "execute_result"
    }
   ],
   "source": [
    "hex(id(x))\n",
    "# id(x)"
   ]
  },
  {
   "cell_type": "code",
   "execution_count": 9,
   "id": "5e4ff36c",
   "metadata": {},
   "outputs": [
    {
     "data": {
      "text/plain": [
       "'0x106246210'"
      ]
     },
     "execution_count": 9,
     "metadata": {},
     "output_type": "execute_result"
    }
   ],
   "source": [
    "y = float(x)\n",
    "hex(id(y))"
   ]
  },
  {
   "cell_type": "markdown",
   "id": "e0c86dc6",
   "metadata": {
    "slideshow": {
     "slide_type": "slide"
    }
   },
   "source": [
    "In Python, we can change the type of a variable."
   ]
  },
  {
   "cell_type": "code",
   "execution_count": 10,
   "id": "e8af07cd",
   "metadata": {},
   "outputs": [
    {
     "data": {
      "text/plain": [
       "'0x103901f50'"
      ]
     },
     "execution_count": 10,
     "metadata": {},
     "output_type": "execute_result"
    }
   ],
   "source": [
    "hex(id(x))"
   ]
  },
  {
   "cell_type": "code",
   "execution_count": 33,
   "id": "abeef072",
   "metadata": {},
   "outputs": [
    {
     "data": {
      "text/plain": [
       "int"
      ]
     },
     "execution_count": 33,
     "metadata": {},
     "output_type": "execute_result"
    }
   ],
   "source": [
    "x = int(x)\n",
    "type(x)"
   ]
  },
  {
   "cell_type": "code",
   "execution_count": 34,
   "id": "16a0d9a0",
   "metadata": {},
   "outputs": [
    {
     "data": {
      "text/plain": [
       "'0x7fa43802e930'"
      ]
     },
     "execution_count": 34,
     "metadata": {},
     "output_type": "execute_result"
    }
   ],
   "source": [
    "hex(id(x))"
   ]
  },
  {
   "cell_type": "markdown",
   "id": "1f756ea0",
   "metadata": {
    "slideshow": {
     "slide_type": "slide"
    }
   },
   "source": [
    "<img src=\"../images/memory1.png\" alt=\"\" width=\"1000\"/>"
   ]
  },
  {
   "cell_type": "markdown",
   "id": "b33451dd",
   "metadata": {},
   "source": [
    "As soon as the `x`-variable, which previously referenced to the <kbd>bool</kbd> object is out of scope (either by deletion or recasting), the object on the heap is ready to be overwritten by the garbage collector. \n",
    "\n"
   ]
  },
  {
   "cell_type": "markdown",
   "id": "3c641a41",
   "metadata": {
    "slideshow": {
     "slide_type": "slide"
    }
   },
   "source": [
    "Let's work through the phrases: *Everything in Python is an object*. Some basic default objects (*types*) we have already met are \n",
    "\n",
    "- Numeric: <kbd>int</kbd>, <kbd>floats</kbd>, <kbd>complex</kbd>\n",
    "- Boolean: <kbd>bool</kbd>\n",
    "- String: <kbd>str</kbd>\n",
    "- Sequence: <kbd>list</kbd>, <kbd>tuple</kbd>, <kbd>range</kbd>\n",
    "- Mapping: <kbd>dict</kbd>\n",
    "\n",
    "The function `sys.getsizeof` ([docs](https://docs.python.org/3/library/sys.html?highlight=getsizeof#sys.getsizeof)) returns the size in bytes of the object the variable points to. "
   ]
  },
  {
   "cell_type": "code",
   "execution_count": 11,
   "id": "1c6ff0aa",
   "metadata": {},
   "outputs": [
    {
     "data": {
      "text/plain": [
       "28"
      ]
     },
     "execution_count": 11,
     "metadata": {},
     "output_type": "execute_result"
    }
   ],
   "source": [
    "import sys\n",
    "sys.getsizeof(x)"
   ]
  },
  {
   "cell_type": "code",
   "execution_count": 12,
   "id": "ce0d41c5",
   "metadata": {},
   "outputs": [
    {
     "data": {
      "text/plain": [
       "24"
      ]
     },
     "execution_count": 12,
     "metadata": {},
     "output_type": "execute_result"
    }
   ],
   "source": [
    "sys.getsizeof(y)"
   ]
  },
  {
   "cell_type": "markdown",
   "id": "b0e02e1e",
   "metadata": {
    "slideshow": {
     "slide_type": "slide"
    }
   },
   "source": [
    "A <kbd>float</kbd> is less expensive than an <kbd>integer</kbd>. This is because <kbd>integer</kbd> stores additional information about size together with the actual value. The larger the integer, the more memory required. "
   ]
  },
  {
   "cell_type": "code",
   "execution_count": 13,
   "id": "c2a27001",
   "metadata": {},
   "outputs": [
    {
     "data": {
      "text/plain": [
       "36"
      ]
     },
     "execution_count": 13,
     "metadata": {},
     "output_type": "execute_result"
    }
   ],
   "source": [
    "sys.getsizeof(100 ** 10)"
   ]
  },
  {
   "cell_type": "code",
   "execution_count": 14,
   "id": "b0d70e59",
   "metadata": {},
   "outputs": [
    {
     "data": {
      "text/plain": [
       "24"
      ]
     },
     "execution_count": 14,
     "metadata": {},
     "output_type": "execute_result"
    }
   ],
   "source": [
    "sys.getsizeof(100.0 ** 10)"
   ]
  },
  {
   "cell_type": "markdown",
   "id": "9c373a3d",
   "metadata": {
    "slideshow": {
     "slide_type": "slide"
    }
   },
   "source": [
    "However, <kbd>integer</kbd> can store larger values than <kbd>float</kbd>. "
   ]
  },
  {
   "cell_type": "code",
   "execution_count": 15,
   "id": "fbe6bb5f",
   "metadata": {},
   "outputs": [
    {
     "data": {
      "text/plain": [
       "int"
      ]
     },
     "execution_count": 15,
     "metadata": {},
     "output_type": "execute_result"
    }
   ],
   "source": [
    "x = 500 ** 500 \n",
    "type(x)"
   ]
  },
  {
   "cell_type": "code",
   "execution_count": 16,
   "id": "65f89f7a",
   "metadata": {},
   "outputs": [
    {
     "data": {
      "text/plain": [
       "305493636349960468205197939321361769978940274057232666389361390928129162652472045770185723510801522825687515269359046715531785342780428396973513311420091788963072442053377285222203558881953188370081650866793017948791366338993705251636497892270212003524508209121908744820211960149463721109340307985507678283651836204093399373959982767701148986816406250000000000000000000000000000000000000000000000000000000000000000000000000000000000000000000000000000000000000000000000000000000000000000000000000000000000000000000000000000000000000000000000000000000000000000000000000000000000000000000000000000000000000000000000000000000000000000000000000000000000000000000000000000000000000000000000000000000000000000000000000000000000000000000000000000000000000000000000000000000000000000000000000000000000000000000000000000000000000000000000000000000000000000000000000000000000000000000000000000000000000000000000000000000000000000000000000000000000000000000000000000000000000000000000000000000000000000000000000000000000000000000000000000000000000000000000000000000000000000000000000000000000000000000000000000000000000000000000000000000000000000000000000000000000000000000000000000000000000000000000000000000000000000000000000000000000000000000000000000000000000000000000000000000000000000000000000000000000000000000000000000000000000000000000000000000000000000"
      ]
     },
     "execution_count": 16,
     "metadata": {},
     "output_type": "execute_result"
    }
   ],
   "source": [
    "x"
   ]
  },
  {
   "cell_type": "code",
   "execution_count": 17,
   "id": "91820f76",
   "metadata": {},
   "outputs": [
    {
     "data": {
      "text/plain": [
       "624"
      ]
     },
     "execution_count": 17,
     "metadata": {},
     "output_type": "execute_result"
    }
   ],
   "source": [
    "sys.getsizeof(x)"
   ]
  },
  {
   "cell_type": "code",
   "execution_count": 18,
   "id": "8afb2844",
   "metadata": {
    "scrolled": true
   },
   "outputs": [
    {
     "ename": "OverflowError",
     "evalue": "int too large to convert to float",
     "output_type": "error",
     "traceback": [
      "\u001b[0;31m---------------------------------------------------------------------------\u001b[0m",
      "\u001b[0;31mOverflowError\u001b[0m                             Traceback (most recent call last)",
      "Cell \u001b[0;32mIn[18], line 1\u001b[0m\n\u001b[0;32m----> 1\u001b[0m \u001b[39mfloat\u001b[39;49m(x)\n",
      "\u001b[0;31mOverflowError\u001b[0m: int too large to convert to float"
     ]
    }
   ],
   "source": [
    "float(x)"
   ]
  },
  {
   "cell_type": "markdown",
   "id": "0d4ff389",
   "metadata": {
    "slideshow": {
     "slide_type": "slide"
    }
   },
   "source": [
    "The function `range(start, stop, step)` ([docs](https://docs.python.org/3/library/stdtypes.html#range)) creates a <kbd>range</kbd> type object. It starts at `start` and ends at `stop - 1`, but does not instantiate an object of that length. "
   ]
  },
  {
   "cell_type": "code",
   "execution_count": 1,
   "id": "2e4c49cb",
   "metadata": {},
   "outputs": [
    {
     "data": {
      "text/plain": [
       "48"
      ]
     },
     "execution_count": 1,
     "metadata": {},
     "output_type": "execute_result"
    }
   ],
   "source": [
    "x = range(0, 500**500)\n",
    "sys.getsizeof(x)\n",
    "#creating a ranged object does not create an object of that size"
   ]
  },
  {
   "cell_type": "code",
   "execution_count": 44,
   "id": "e40b58bd",
   "metadata": {
    "scrolled": false
   },
   "outputs": [
    {
     "data": {
      "text/plain": [
       "624"
      ]
     },
     "execution_count": 44,
     "metadata": {},
     "output_type": "execute_result"
    }
   ],
   "source": [
    "sys.getsizeof(500**500)"
   ]
  },
  {
   "cell_type": "markdown",
   "id": "03978048",
   "metadata": {
    "slideshow": {
     "slide_type": "slide"
    }
   },
   "source": [
    "A <kbd>tuple</kbd> is an ordered collection of values. Think of coordinates. <kbd>tuple</kbd> is immutable, which means they can't be changed after they're created."
   ]
  },
  {
   "cell_type": "code",
   "execution_count": 32,
   "id": "99a4affa",
   "metadata": {},
   "outputs": [
    {
     "data": {
      "text/plain": [
       "(1, 3.0, 'horse')"
      ]
     },
     "execution_count": 32,
     "metadata": {},
     "output_type": "execute_result"
    }
   ],
   "source": [
    "x = 1, 3.0, \"horse\" # parenthesis are optional, but should be used for clarity \n",
    "x"
   ]
  },
  {
   "cell_type": "code",
   "execution_count": 3,
   "id": "f4751e72",
   "metadata": {},
   "outputs": [
    {
     "data": {
      "text/plain": [
       "tuple"
      ]
     },
     "execution_count": 3,
     "metadata": {},
     "output_type": "execute_result"
    }
   ],
   "source": [
    "type(x)"
   ]
  },
  {
   "cell_type": "code",
   "execution_count": 4,
   "id": "f8b186cb",
   "metadata": {},
   "outputs": [
    {
     "data": {
      "text/plain": [
       "64"
      ]
     },
     "execution_count": 4,
     "metadata": {},
     "output_type": "execute_result"
    }
   ],
   "source": [
    "sys.getsizeof(x)"
   ]
  },
  {
   "cell_type": "markdown",
   "id": "f717e01c",
   "metadata": {
    "slideshow": {
     "slide_type": "slide"
    }
   },
   "source": [
    "A <kbd>tuple</kbd> is inmutable. We have learned that once created, it can't be changed!"
   ]
  },
  {
   "cell_type": "code",
   "execution_count": 5,
   "id": "c3ca5893",
   "metadata": {},
   "outputs": [
    {
     "ename": "TypeError",
     "evalue": "'tuple' object does not support item assignment",
     "output_type": "error",
     "traceback": [
      "\u001b[0;31m---------------------------------------------------------------------------\u001b[0m",
      "\u001b[0;31mTypeError\u001b[0m                                 Traceback (most recent call last)",
      "Cell \u001b[0;32mIn[5], line 1\u001b[0m\n\u001b[0;32m----> 1\u001b[0m x[\u001b[39m2\u001b[39;49m] \u001b[39m=\u001b[39m \u001b[39m'\u001b[39m\u001b[39mhorsies\u001b[39m\u001b[39m'\u001b[39m \n",
      "\u001b[0;31mTypeError\u001b[0m: 'tuple' object does not support item assignment"
     ]
    }
   ],
   "source": [
    "x[2] = 'horsies' "
   ]
  },
  {
   "cell_type": "code",
   "execution_count": 6,
   "id": "885ab43f",
   "metadata": {},
   "outputs": [
    {
     "name": "stdout",
     "output_type": "stream",
     "text": [
      "Tuples are inmutable!\n"
     ]
    }
   ],
   "source": [
    "try: x[2] = 'horsies' \n",
    "except: \n",
    "    print('Tuples are inmutable!')"
   ]
  },
  {
   "cell_type": "markdown",
   "id": "eea5d34c",
   "metadata": {
    "slideshow": {
     "slide_type": "slide"
    }
   },
   "source": [
    "This is a feature, not shortcoming of <kbd>tuple</kbd>. Since they cannot be changed nor appended, they are more  economical than <kbd>list</kbd>. <kbd>list</kbd> is the mutable counterpart of <kbd>tuple</kbd>. They are instantiated with square brackets. "
   ]
  },
  {
   "cell_type": "code",
   "execution_count": 33,
   "id": "1eb959b8",
   "metadata": {},
   "outputs": [
    {
     "data": {
      "text/plain": [
       "[1, 3.0, 'horse']"
      ]
     },
     "execution_count": 33,
     "metadata": {},
     "output_type": "execute_result"
    }
   ],
   "source": [
    "y = [1, 3.0, \"horse\"]\n",
    "y"
   ]
  },
  {
   "cell_type": "code",
   "execution_count": 12,
   "id": "d987968b",
   "metadata": {},
   "outputs": [
    {
     "data": {
      "text/plain": [
       "list"
      ]
     },
     "execution_count": 12,
     "metadata": {},
     "output_type": "execute_result"
    }
   ],
   "source": [
    "type(y)"
   ]
  },
  {
   "cell_type": "code",
   "execution_count": 13,
   "id": "bc4c9202",
   "metadata": {},
   "outputs": [
    {
     "data": {
      "text/plain": [
       "88"
      ]
     },
     "execution_count": 13,
     "metadata": {},
     "output_type": "execute_result"
    }
   ],
   "source": [
    "sys.getsizeof(y)"
   ]
  },
  {
   "cell_type": "markdown",
   "id": "8d50cb44",
   "metadata": {
    "slideshow": {
     "slide_type": "slide"
    }
   },
   "source": [
    "Lists are mutable, and in particular appendable. Since these actions are allowed, <kbd>list</kbd> objects require  more memory. The return of `sys.getsizeof` does not coincide with the values in the list! Instead, `y` is a variable with a reference to a <kbd>list</kbd> object on the heap, *which itself is a collection of adresses*. This collection of adresses takes $120$ bytes. "
   ]
  },
  {
   "cell_type": "code",
   "execution_count": 10,
   "id": "587f5b6f",
   "metadata": {},
   "outputs": [
    {
     "data": {
      "text/plain": [
       "88"
      ]
     },
     "execution_count": 10,
     "metadata": {},
     "output_type": "execute_result"
    }
   ],
   "source": [
    "sys.getsizeof(y)"
   ]
  },
  {
   "cell_type": "code",
   "execution_count": 14,
   "id": "1a16403f",
   "metadata": {},
   "outputs": [
    {
     "data": {
      "text/plain": [
       "106"
      ]
     },
     "execution_count": 14,
     "metadata": {},
     "output_type": "execute_result"
    }
   ],
   "source": [
    "sum([sys.getsizeof(i) for i in y])"
   ]
  },
  {
   "cell_type": "code",
   "execution_count": 56,
   "id": "41606b13",
   "metadata": {},
   "outputs": [
    {
     "data": {
      "text/plain": [
       "106"
      ]
     },
     "execution_count": 56,
     "metadata": {},
     "output_type": "execute_result"
    }
   ],
   "source": [
    "sys.getsizeof(1) + sys.getsizeof(3.0) + sys.getsizeof(\"horse\")"
   ]
  },
  {
   "cell_type": "markdown",
   "id": "f8e2f67c",
   "metadata": {
    "slideshow": {
     "slide_type": "slide"
    }
   },
   "source": [
    "In contrast to <kbd>tuples</kbd>, they are however mutable. "
   ]
  },
  {
   "cell_type": "code",
   "execution_count": 34,
   "id": "520d1f7e",
   "metadata": {
    "scrolled": true
   },
   "outputs": [
    {
     "data": {
      "text/plain": [
       "[1, 3.0, 'horsies']"
      ]
     },
     "execution_count": 34,
     "metadata": {},
     "output_type": "execute_result"
    }
   ],
   "source": [
    "y[2] = \"horsies\"\n",
    "y"
   ]
  },
  {
   "cell_type": "markdown",
   "id": "27dad8e8",
   "metadata": {
    "slideshow": {
     "slide_type": "slide"
    }
   },
   "source": [
    "### Reference Semantics\n",
    "\n",
    "Lists use *reference semantics*, which means that if you assign a list to two different variables, there's still only one list in memory, and both variables refer to it. As a result, changing the list with one variable changes the list for the other variable."
   ]
  },
  {
   "cell_type": "code",
   "execution_count": 35,
   "id": "fd5a7a4f",
   "metadata": {},
   "outputs": [
    {
     "data": {
      "text/plain": [
       "[1, 3.0, 'horsies']"
      ]
     },
     "execution_count": 35,
     "metadata": {},
     "output_type": "execute_result"
    }
   ],
   "source": [
    "x = y\n",
    "x\n"
   ]
  },
  {
   "cell_type": "code",
   "execution_count": 28,
   "id": "e16a9055",
   "metadata": {},
   "outputs": [
    {
     "data": {
      "text/plain": [
       "'0x1078c0bc0'"
      ]
     },
     "execution_count": 28,
     "metadata": {},
     "output_type": "execute_result"
    }
   ],
   "source": [
    "hex(id(x))"
   ]
  },
  {
   "cell_type": "code",
   "execution_count": 36,
   "id": "c45f6df0",
   "metadata": {},
   "outputs": [
    {
     "data": {
      "text/plain": [
       "[1, 3.0, 'horsies']"
      ]
     },
     "execution_count": 36,
     "metadata": {},
     "output_type": "execute_result"
    }
   ],
   "source": [
    "hex(id(y))\n",
    "y"
   ]
  },
  {
   "cell_type": "code",
   "execution_count": 37,
   "id": "2e76ec0f",
   "metadata": {},
   "outputs": [
    {
     "data": {
      "text/plain": [
       "['my', 3.0, 'horsies']"
      ]
     },
     "execution_count": 37,
     "metadata": {},
     "output_type": "execute_result"
    }
   ],
   "source": [
    "x[0] = \"my\"\n",
    "y"
   ]
  },
  {
   "cell_type": "markdown",
   "id": "46cf316a",
   "metadata": {
    "slideshow": {
     "slide_type": "slide"
    }
   },
   "source": [
    "A new, non-referenced object can be created by slicing. "
   ]
  },
  {
   "cell_type": "code",
   "execution_count": 17,
   "id": "fd2348db",
   "metadata": {},
   "outputs": [],
   "source": [
    "z = y[:]"
   ]
  },
  {
   "cell_type": "code",
   "execution_count": 18,
   "id": "5868a72b",
   "metadata": {},
   "outputs": [
    {
     "data": {
      "text/plain": [
       "'0x107dc9140'"
      ]
     },
     "execution_count": 18,
     "metadata": {},
     "output_type": "execute_result"
    }
   ],
   "source": [
    "hex(id(z))"
   ]
  },
  {
   "cell_type": "code",
   "execution_count": 19,
   "id": "e3216c71",
   "metadata": {},
   "outputs": [
    {
     "data": {
      "text/plain": [
       "['my', 3.0, 'horse']"
      ]
     },
     "execution_count": 19,
     "metadata": {},
     "output_type": "execute_result"
    }
   ],
   "source": [
    "z"
   ]
  },
  {
   "cell_type": "code",
   "execution_count": 20,
   "id": "aecca19e",
   "metadata": {},
   "outputs": [],
   "source": [
    "z[1] = 3"
   ]
  },
  {
   "cell_type": "code",
   "execution_count": 21,
   "id": "5fde2bb7",
   "metadata": {},
   "outputs": [
    {
     "data": {
      "text/plain": [
       "'0x104fce380'"
      ]
     },
     "execution_count": 21,
     "metadata": {},
     "output_type": "execute_result"
    }
   ],
   "source": [
    "hex(id(z[1]))"
   ]
  },
  {
   "cell_type": "code",
   "execution_count": 22,
   "id": "9e3da1ce",
   "metadata": {},
   "outputs": [
    {
     "data": {
      "text/plain": [
       "'0x107747030'"
      ]
     },
     "execution_count": 22,
     "metadata": {},
     "output_type": "execute_result"
    }
   ],
   "source": [
    "hex(id(y[1]))"
   ]
  },
  {
   "cell_type": "markdown",
   "id": "07a3c6e1",
   "metadata": {
    "slideshow": {
     "slide_type": "slide"
    }
   },
   "source": [
    "<img src=\"../images/memory2.png\" alt=\"\" width=\"1000\"/>"
   ]
  },
  {
   "cell_type": "markdown",
   "id": "df2c0132",
   "metadata": {
    "slideshow": {
     "slide_type": "slide"
    }
   },
   "source": [
    "Alternatively, we can use the copy method ([docs](https://docs.python.org/3/library/copy.html)) to the original list. "
   ]
  },
  {
   "cell_type": "code",
   "execution_count": 80,
   "id": "844716e4",
   "metadata": {},
   "outputs": [
    {
     "data": {
      "text/plain": [
       "'0x7fa4201bbd80'"
      ]
     },
     "execution_count": 80,
     "metadata": {},
     "output_type": "execute_result"
    }
   ],
   "source": [
    "z = y.copy()\n",
    "hex(id(z))"
   ]
  },
  {
   "cell_type": "code",
   "execution_count": 81,
   "id": "dd28076b",
   "metadata": {},
   "outputs": [
    {
     "data": {
      "text/plain": [
       "'0x7fa4201bb9c0'"
      ]
     },
     "execution_count": 81,
     "metadata": {},
     "output_type": "execute_result"
    }
   ],
   "source": [
    "hex(id(y))"
   ]
  },
  {
   "cell_type": "markdown",
   "id": "9073e74f",
   "metadata": {
    "slideshow": {
     "slide_type": "slide"
    }
   },
   "source": [
    "While the copies `y` and `z` are *equal*, the are not *identical*, because they point to different objects. "
   ]
  },
  {
   "cell_type": "code",
   "execution_count": 82,
   "id": "fc6807c9",
   "metadata": {},
   "outputs": [
    {
     "data": {
      "text/plain": [
       "True"
      ]
     },
     "execution_count": 82,
     "metadata": {},
     "output_type": "execute_result"
    }
   ],
   "source": [
    "y == z # equal"
   ]
  },
  {
   "cell_type": "code",
   "execution_count": 83,
   "id": "79b45998",
   "metadata": {},
   "outputs": [
    {
     "data": {
      "text/plain": [
       "False"
      ]
     },
     "execution_count": 83,
     "metadata": {},
     "output_type": "execute_result"
    }
   ],
   "source": [
    "y is z # identical"
   ]
  },
  {
   "cell_type": "code",
   "execution_count": 84,
   "id": "2fb72ffb",
   "metadata": {
    "scrolled": true
   },
   "outputs": [
    {
     "data": {
      "text/plain": [
       "True"
      ]
     },
     "execution_count": 84,
     "metadata": {},
     "output_type": "execute_result"
    }
   ],
   "source": [
    "y is x # identical"
   ]
  },
  {
   "cell_type": "code",
   "execution_count": 85,
   "id": "e16033a7",
   "metadata": {
    "slideshow": {
     "slide_type": "slide"
    }
   },
   "outputs": [
    {
     "name": "stdout",
     "output_type": "stream",
     "text": [
      "['my', 2, 'horsies']\n",
      "['my', 3.0, 'horsies']\n"
     ]
    }
   ],
   "source": [
    "y[1] = 2\n",
    "print(y)\n",
    "print(z) "
   ]
  },
  {
   "cell_type": "markdown",
   "id": "8c79976e",
   "metadata": {
    "slideshow": {
     "slide_type": "-"
    }
   },
   "source": [
    "Attention! This is a *shallow copy*, i.e., objects whithin the list will not be be reinstantiated! Above, the command `y[1] = 2` just instantiates a new <kbd>int</kbd> object of value `2` on the heap and replaces the former reference in `y` with the reference to that new object. "
   ]
  },
  {
   "cell_type": "code",
   "execution_count": 86,
   "id": "b1a83353",
   "metadata": {},
   "outputs": [
    {
     "data": {
      "text/plain": [
       "False"
      ]
     },
     "execution_count": 86,
     "metadata": {},
     "output_type": "execute_result"
    }
   ],
   "source": [
    "hex(id(z[1])) == hex(id(y[1]))"
   ]
  },
  {
   "cell_type": "markdown",
   "id": "b30b8b33",
   "metadata": {
    "slideshow": {
     "slide_type": "slide"
    }
   },
   "source": [
    "This becomes tricky if the list references to another list: "
   ]
  },
  {
   "cell_type": "code",
   "execution_count": 87,
   "id": "63e8f00e",
   "metadata": {},
   "outputs": [],
   "source": [
    "a = ['a', 'list']"
   ]
  },
  {
   "cell_type": "code",
   "execution_count": 88,
   "id": "b391b72c",
   "metadata": {},
   "outputs": [],
   "source": [
    "y = [1, 2, 'three', a]"
   ]
  },
  {
   "cell_type": "code",
   "execution_count": 89,
   "id": "0efb7e3b",
   "metadata": {},
   "outputs": [],
   "source": [
    "z = y.copy()"
   ]
  },
  {
   "cell_type": "code",
   "execution_count": 92,
   "id": "f7f1d76b",
   "metadata": {},
   "outputs": [
    {
     "data": {
      "text/plain": [
       "'0x7fa4201c8ec0'"
      ]
     },
     "execution_count": 92,
     "metadata": {},
     "output_type": "execute_result"
    }
   ],
   "source": [
    "hex(id(y))"
   ]
  },
  {
   "cell_type": "code",
   "execution_count": 93,
   "id": "acd4d06a",
   "metadata": {},
   "outputs": [
    {
     "data": {
      "text/plain": [
       "'0x7fa4201caa80'"
      ]
     },
     "execution_count": 93,
     "metadata": {},
     "output_type": "execute_result"
    }
   ],
   "source": [
    "hex(id(z))"
   ]
  },
  {
   "cell_type": "code",
   "execution_count": 96,
   "id": "4a4239a9",
   "metadata": {},
   "outputs": [
    {
     "data": {
      "text/plain": [
       "'0x7fa4201ca600'"
      ]
     },
     "execution_count": 96,
     "metadata": {},
     "output_type": "execute_result"
    }
   ],
   "source": [
    "hex(id(y[3]))"
   ]
  },
  {
   "cell_type": "code",
   "execution_count": 97,
   "id": "258f59f4",
   "metadata": {},
   "outputs": [
    {
     "data": {
      "text/plain": [
       "'0x7fa4201ca600'"
      ]
     },
     "execution_count": 97,
     "metadata": {},
     "output_type": "execute_result"
    }
   ],
   "source": [
    "hex(id(z[3]))"
   ]
  },
  {
   "cell_type": "code",
   "execution_count": 102,
   "id": "6cd6ed1d",
   "metadata": {
    "slideshow": {
     "slide_type": "slide"
    }
   },
   "outputs": [],
   "source": [
    "z[0] = 3"
   ]
  },
  {
   "cell_type": "code",
   "execution_count": 103,
   "id": "d5771a4e",
   "metadata": {},
   "outputs": [
    {
     "data": {
      "text/plain": [
       "[1, 2, 'three', ['a', 'list']]"
      ]
     },
     "execution_count": 103,
     "metadata": {},
     "output_type": "execute_result"
    }
   ],
   "source": [
    "y"
   ]
  },
  {
   "cell_type": "code",
   "execution_count": 104,
   "id": "d8914ea1",
   "metadata": {},
   "outputs": [
    {
     "data": {
      "text/plain": [
       "[3, 2, 'three', ['a', 'list']]"
      ]
     },
     "execution_count": 104,
     "metadata": {},
     "output_type": "execute_result"
    }
   ],
   "source": [
    "z"
   ]
  },
  {
   "cell_type": "code",
   "execution_count": 105,
   "id": "df6cc394",
   "metadata": {},
   "outputs": [],
   "source": [
    "y[3][1] = 'ha'"
   ]
  },
  {
   "cell_type": "code",
   "execution_count": 106,
   "id": "83a9106d",
   "metadata": {},
   "outputs": [
    {
     "name": "stdout",
     "output_type": "stream",
     "text": [
      "[1, 2, 'three', ['a', 'ha']]\n",
      "[3, 2, 'three', ['a', 'ha']]\n"
     ]
    }
   ],
   "source": [
    "print(y)\n",
    "print(z)"
   ]
  },
  {
   "cell_type": "code",
   "execution_count": 107,
   "id": "12e51e7c",
   "metadata": {},
   "outputs": [
    {
     "data": {
      "text/plain": [
       "True"
      ]
     },
     "execution_count": 107,
     "metadata": {},
     "output_type": "execute_result"
    }
   ],
   "source": [
    "hex(id(z[3])) == hex(id(y[3])) "
   ]
  },
  {
   "cell_type": "markdown",
   "id": "5d0c515c",
   "metadata": {
    "slideshow": {
     "slide_type": "slide"
    }
   },
   "source": [
    "Although both lists are real copies, they reference to the same other list `a`, which has not been copied. "
   ]
  },
  {
   "cell_type": "code",
   "execution_count": 108,
   "id": "c568f092",
   "metadata": {},
   "outputs": [
    {
     "data": {
      "text/plain": [
       "True"
      ]
     },
     "execution_count": 108,
     "metadata": {},
     "output_type": "execute_result"
    }
   ],
   "source": [
    "hex(id(z[3])) == hex(id(y[3]))"
   ]
  },
  {
   "cell_type": "markdown",
   "id": "e777ab77",
   "metadata": {
    "slideshow": {
     "slide_type": "slide"
    }
   },
   "source": [
    "This behaviour is irrespecive of the variable `a`. We can remove it from the scope. Since the list object `a` has pointed to still is in scope, it will not be taken by the garbage collector. "
   ]
  },
  {
   "cell_type": "code",
   "execution_count": 109,
   "id": "de95df72",
   "metadata": {},
   "outputs": [
    {
     "data": {
      "text/plain": [
       "'0x7fa4201ca600'"
      ]
     },
     "execution_count": 109,
     "metadata": {},
     "output_type": "execute_result"
    }
   ],
   "source": [
    "hex(id(a))"
   ]
  },
  {
   "cell_type": "code",
   "execution_count": 43,
   "id": "e55c9ea8",
   "metadata": {},
   "outputs": [
    {
     "data": {
      "text/plain": [
       "False"
      ]
     },
     "execution_count": 43,
     "metadata": {},
     "output_type": "execute_result"
    }
   ],
   "source": [
    "x = 1\n",
    "y = 1\n",
    "y = 2\n",
    "hex(id(x)) == hex(id(y))\n"
   ]
  },
  {
   "cell_type": "code",
   "execution_count": 110,
   "id": "29df1e90",
   "metadata": {},
   "outputs": [],
   "source": [
    "del(a)"
   ]
  },
  {
   "cell_type": "code",
   "execution_count": 111,
   "id": "30e1bb12",
   "metadata": {},
   "outputs": [
    {
     "data": {
      "text/plain": [
       "'0x7fa4201ca600'"
      ]
     },
     "execution_count": 111,
     "metadata": {},
     "output_type": "execute_result"
    }
   ],
   "source": [
    "hex(id(z[3]))"
   ]
  },
  {
   "cell_type": "markdown",
   "id": "99975325",
   "metadata": {
    "slideshow": {
     "slide_type": "slide"
    }
   },
   "source": [
    "We can copy the upper-level lists as well by calling the `copy.deepcopy`. "
   ]
  },
  {
   "cell_type": "code",
   "execution_count": null,
   "id": "8b7325c6",
   "metadata": {},
   "outputs": [],
   "source": [
    "from copy import deepcopy\n",
    "z = deepcopy(y)"
   ]
  },
  {
   "cell_type": "code",
   "execution_count": 113,
   "id": "4a637ee3",
   "metadata": {},
   "outputs": [
    {
     "data": {
      "text/plain": [
       "[1, 2, 'three', ['a', 'ha']]"
      ]
     },
     "execution_count": 113,
     "metadata": {},
     "output_type": "execute_result"
    }
   ],
   "source": [
    "y"
   ]
  },
  {
   "cell_type": "code",
   "execution_count": 120,
   "id": "0d7458a9",
   "metadata": {},
   "outputs": [
    {
     "data": {
      "text/plain": [
       "'0x7fa43802e950'"
      ]
     },
     "execution_count": 120,
     "metadata": {},
     "output_type": "execute_result"
    }
   ],
   "source": [
    "hex(id(z[1]))"
   ]
  },
  {
   "cell_type": "code",
   "execution_count": 119,
   "id": "67ffc3cd",
   "metadata": {},
   "outputs": [
    {
     "data": {
      "text/plain": [
       "'0x7fa43802e950'"
      ]
     },
     "execution_count": 119,
     "metadata": {},
     "output_type": "execute_result"
    }
   ],
   "source": [
    "hex(id(y[1]))"
   ]
  },
  {
   "cell_type": "markdown",
   "id": "8d67efb5",
   "metadata": {
    "slideshow": {
     "slide_type": "slide"
    }
   },
   "source": [
    "While the copies `y` and `z` are *equal*, the are not *identical*, because they point to different objects. "
   ]
  },
  {
   "cell_type": "code",
   "execution_count": 121,
   "id": "211d7adf",
   "metadata": {},
   "outputs": [
    {
     "data": {
      "text/plain": [
       "True"
      ]
     },
     "execution_count": 121,
     "metadata": {},
     "output_type": "execute_result"
    }
   ],
   "source": [
    "y == z # equal"
   ]
  },
  {
   "cell_type": "code",
   "execution_count": 122,
   "id": "9c8e6317",
   "metadata": {
    "scrolled": true
   },
   "outputs": [
    {
     "data": {
      "text/plain": [
       "False"
      ]
     },
     "execution_count": 122,
     "metadata": {},
     "output_type": "execute_result"
    }
   ],
   "source": [
    "y is z # identical"
   ]
  },
  {
   "cell_type": "markdown",
   "id": "7f28af78",
   "metadata": {
    "slideshow": {
     "slide_type": "slide"
    }
   },
   "source": [
    "### Interning \n",
    "\n",
    "The heap memory is memory that can be accessed and reserved by the programmer. Usually, this is tedious and automatically done. To optimize this process, Python uses *interning* to allocate ressources. Since `x` is merely a pointer to the <kbd>int</kbd> type object with value `1`, any other variable can point to the same adress.  "
   ]
  },
  {
   "cell_type": "code",
   "execution_count": 123,
   "id": "d8c0b872",
   "metadata": {},
   "outputs": [],
   "source": [
    "x = 1"
   ]
  },
  {
   "cell_type": "code",
   "execution_count": 124,
   "id": "85894156",
   "metadata": {},
   "outputs": [],
   "source": [
    "y = 1"
   ]
  },
  {
   "cell_type": "code",
   "execution_count": 125,
   "id": "deca088e",
   "metadata": {},
   "outputs": [
    {
     "data": {
      "text/plain": [
       "True"
      ]
     },
     "execution_count": 125,
     "metadata": {},
     "output_type": "execute_result"
    }
   ],
   "source": [
    "hex(id(x)) == hex(id(y))"
   ]
  },
  {
   "cell_type": "markdown",
   "id": "60e6ab00",
   "metadata": {
    "slideshow": {
     "slide_type": "slide"
    }
   },
   "source": [
    "This does not mean that integers use reference semantics! "
   ]
  },
  {
   "cell_type": "code",
   "execution_count": 126,
   "id": "e810c111",
   "metadata": {},
   "outputs": [
    {
     "data": {
      "text/plain": [
       "1"
      ]
     },
     "execution_count": 126,
     "metadata": {},
     "output_type": "execute_result"
    }
   ],
   "source": [
    "y = 2\n",
    "x"
   ]
  },
  {
   "cell_type": "code",
   "execution_count": 127,
   "id": "384f9618",
   "metadata": {},
   "outputs": [
    {
     "data": {
      "text/plain": [
       "False"
      ]
     },
     "execution_count": 127,
     "metadata": {},
     "output_type": "execute_result"
    }
   ],
   "source": [
    "hex(id(x)) == hex(id(y))"
   ]
  },
  {
   "cell_type": "markdown",
   "id": "d000b531",
   "metadata": {
    "slideshow": {
     "slide_type": "slide"
    }
   },
   "source": [
    "Integer internalization is only done from `-5` to `255`. "
   ]
  },
  {
   "cell_type": "code",
   "execution_count": 133,
   "id": "4b2d2e07",
   "metadata": {},
   "outputs": [
    {
     "data": {
      "text/plain": [
       "False"
      ]
     },
     "execution_count": 133,
     "metadata": {},
     "output_type": "execute_result"
    }
   ],
   "source": [
    "x = 4.0\n",
    "y = 4.0\n",
    "hex(id(x)) == hex(id(y))"
   ]
  },
  {
   "cell_type": "markdown",
   "id": "249e2c10",
   "metadata": {},
   "source": [
    "Interning works for several simple types: "
   ]
  },
  {
   "cell_type": "code",
   "execution_count": 134,
   "id": "52d63d22",
   "metadata": {},
   "outputs": [],
   "source": [
    "x = \"Hi\"\n",
    "y = \"Hi\""
   ]
  },
  {
   "cell_type": "code",
   "execution_count": 135,
   "id": "31657686",
   "metadata": {},
   "outputs": [
    {
     "data": {
      "text/plain": [
       "True"
      ]
     },
     "execution_count": 135,
     "metadata": {},
     "output_type": "execute_result"
    }
   ],
   "source": [
    "hex(id(x)) == hex(id(y))"
   ]
  },
  {
   "cell_type": "markdown",
   "id": "c5f7d9f3",
   "metadata": {
    "slideshow": {
     "slide_type": "slide"
    }
   },
   "source": [
    "Interning can be forced using `sys.intern`. "
   ]
  },
  {
   "cell_type": "code",
   "execution_count": 1,
   "id": "19232506",
   "metadata": {
    "scrolled": true,
    "slideshow": {
     "slide_type": "slide"
    }
   },
   "outputs": [
    {
     "data": {
      "text/plain": [
       "False"
      ]
     },
     "execution_count": 1,
     "metadata": {},
     "output_type": "execute_result"
    }
   ],
   "source": [
    "a = \"This is quite a long string.\"\n",
    "b = \"This is quite a long string.\"\n",
    "hex(id(a)) == hex(id(b))"
   ]
  },
  {
   "cell_type": "code",
   "execution_count": 2,
   "id": "83ca4115",
   "metadata": {
    "scrolled": true
   },
   "outputs": [
    {
     "data": {
      "text/plain": [
       "True"
      ]
     },
     "execution_count": 2,
     "metadata": {},
     "output_type": "execute_result"
    }
   ],
   "source": [
    "a = \"This is quite a long string.\"\n",
    "b = a\n",
    "hex(id(a)) == hex(id(b))"
   ]
  },
  {
   "cell_type": "code",
   "execution_count": 3,
   "id": "4b101d46",
   "metadata": {
    "slideshow": {
     "slide_type": "-"
    }
   },
   "outputs": [
    {
     "data": {
      "text/plain": [
       "True"
      ]
     },
     "execution_count": 3,
     "metadata": {},
     "output_type": "execute_result"
    }
   ],
   "source": [
    "import sys\n",
    "a = sys.intern(\"This is quite a long string.\") # gives kernel an address\n",
    "b = sys.intern(\"This is quite a long string.\") #realises that this is something that has already been created with an address, so will reference that object\n",
    "hex(id(a)) == hex(id(b))"
   ]
  },
  {
   "cell_type": "code",
   "execution_count": 4,
   "id": "eb804379",
   "metadata": {
    "slideshow": {
     "slide_type": "-"
    }
   },
   "outputs": [
    {
     "data": {
      "text/plain": [
       "False"
      ]
     },
     "execution_count": 4,
     "metadata": {},
     "output_type": "execute_result"
    }
   ],
   "source": [
    "c = \"This is quite a long string.\"\n",
    "hex(id(a)) == hex(id(c))"
   ]
  },
  {
   "cell_type": "markdown",
   "id": "e919dfb8",
   "metadata": {
    "slideshow": {
     "slide_type": "slide"
    }
   },
   "source": [
    "When using `sys.intern`, the we can internalize an object without it being pointed to on the heap. "
   ]
  },
  {
   "cell_type": "code",
   "execution_count": 5,
   "id": "7d464fef",
   "metadata": {
    "slideshow": {
     "slide_type": "-"
    }
   },
   "outputs": [
    {
     "data": {
      "text/plain": [
       "'0x7f9a70bbaf80'"
      ]
     },
     "execution_count": 5,
     "metadata": {},
     "output_type": "execute_result"
    }
   ],
   "source": [
    "a = sys.intern(\"This is quite a long string.\")\n",
    "hex(id(a))"
   ]
  },
  {
   "cell_type": "code",
   "execution_count": 6,
   "id": "a02134b9",
   "metadata": {
    "scrolled": true,
    "slideshow": {
     "slide_type": "-"
    }
   },
   "outputs": [
    {
     "data": {
      "text/plain": [
       "'0x7f9a70bbaf80'"
      ]
     },
     "execution_count": 6,
     "metadata": {},
     "output_type": "execute_result"
    }
   ],
   "source": [
    "del a\n",
    "b = sys.intern(\"This is quite a long string.\")\n",
    "hex(id(b))"
   ]
  },
  {
   "cell_type": "markdown",
   "id": "e59c6eb2",
   "metadata": {},
   "source": [
    "For reoccuring data, interning allows to use the heap economically. "
   ]
  },
  {
   "cell_type": "markdown",
   "id": "f40076ee",
   "metadata": {
    "slideshow": {
     "slide_type": "slide"
    }
   },
   "source": [
    "### Summary \n",
    "\n",
    "- There is stack and heap memory\n",
    "- All objects are stored on the heap\n",
    "- Lists are versatile, but generally inefficient\n",
    "- Optimize heap usage via interning"
   ]
  }
 ],
 "metadata": {
  "celltoolbar": "Slideshow",
  "kernelspec": {
   "display_name": "Python 3",
   "language": "python",
   "name": "python3"
  },
  "language_info": {
   "codemirror_mode": {
    "name": "ipython",
    "version": 3
   },
   "file_extension": ".py",
   "mimetype": "text/x-python",
   "name": "python",
   "nbconvert_exporter": "python",
   "pygments_lexer": "ipython3",
   "version": "3.11.6"
  },
  "rise": {
   "progress": true,
   "scroll": true,
   "theme": "white"
  },
  "vscode": {
   "interpreter": {
    "hash": "b0fa6594d8f4cbf19f97940f81e996739fb7646882a419484c72d19e05852a7e"
   }
  }
 },
 "nbformat": 4,
 "nbformat_minor": 5
}
