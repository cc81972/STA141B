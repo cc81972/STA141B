{
 "cells": [
  {
   "cell_type": "markdown",
   "id": "ff704263",
   "metadata": {
    "slideshow": {
     "slide_type": "slide"
    }
   },
   "source": [
    "# STA 141B Data & Web Technologies for Data Analysis\n",
    "\n",
    "### Lecture 5, 23/1/24, Pandas\n"
   ]
  },
  {
   "cell_type": "markdown",
   "id": "d720fbd5",
   "metadata": {
    "slideshow": {
     "slide_type": "slide"
    }
   },
   "source": [
    "### Announcements\n",
    "\n",
    " - Midterm next week on Tuesday. Sample exam is online. "
   ]
  },
  {
   "cell_type": "markdown",
   "id": "58dedf6f",
   "metadata": {},
   "source": [
    "### Last week's topics\n",
    "\n",
    "- Memory handling in Python\n",
    "    - Reference semantics\n",
    "    - Interning\n",
    "- Numpy"
   ]
  },
  {
   "cell_type": "markdown",
   "id": "229980e2",
   "metadata": {},
   "source": [
    "### Today's topics\n",
    "\n",
    " - Pandas\n",
    " \n",
    "### Data Sets\n",
    "\n",
    " - `dogs_full.csv`\n",
    " - `fluidmilk.xlsx`\n",
    "\n",
    "### References\n",
    "\n",
    " - Python for Data Analysis, Ch. 5, 10\n",
    " - [Python Data Science Handbook](https://jakevdp.github.io/PythonDataScienceHandbook/), Ch. 3"
   ]
  },
  {
   "cell_type": "markdown",
   "id": "213dd869",
   "metadata": {
    "slideshow": {
     "slide_type": "slide"
    }
   },
   "source": [
    "## Pandas\n",
    "\n",
    "Pandas is a Python package that provides tools for manipulating tabular data. The name \"pandas\" is short for \"**PAN**el **DA**ta\", an econometrics term. Since we're using Anaconda, Pandas is already installed.\n",
    "\n",
    "Pandas is documented [here](http://pandas.pydata.org/pandas-docs/stable/)."
   ]
  },
  {
   "cell_type": "code",
   "execution_count": 3,
   "id": "3677019a",
   "metadata": {},
   "outputs": [],
   "source": [
    "import pandas as pd"
   ]
  },
  {
   "cell_type": "markdown",
   "id": "57b1eefd",
   "metadata": {
    "slideshow": {
     "slide_type": "slide"
    }
   },
   "source": [
    "### Series\n",
    "\n",
    "A Pandas Series a one-dimensional labeled array capable of holding data of any type (integer, string, float, python objects, etc.). It is a generalization of a NumPy array.\n",
    "\n",
    "In addition to elements, every series includes an <b>index</b>."
   ]
  },
  {
   "cell_type": "code",
   "execution_count": 4,
   "id": "8caa7520",
   "metadata": {},
   "outputs": [
    {
     "data": {
      "text/plain": [
       "pandas.core.series.Series"
      ]
     },
     "execution_count": 4,
     "metadata": {},
     "output_type": "execute_result"
    }
   ],
   "source": [
    "x = pd.Series([1, 2, 3])\n",
    "type(x)"
   ]
  },
  {
   "cell_type": "code",
   "execution_count": 5,
   "id": "e1d4a627",
   "metadata": {},
   "outputs": [
    {
     "data": {
      "text/plain": [
       "0    1\n",
       "1    2\n",
       "2    3\n",
       "dtype: int64"
      ]
     },
     "execution_count": 5,
     "metadata": {},
     "output_type": "execute_result"
    }
   ],
   "source": [
    "x"
   ]
  },
  {
   "cell_type": "code",
   "execution_count": 6,
   "id": "bae4bed9",
   "metadata": {},
   "outputs": [
    {
     "data": {
      "text/plain": [
       "a    1\n",
       "b    2\n",
       "c    3\n",
       "dtype: int64"
      ]
     },
     "execution_count": 6,
     "metadata": {},
     "output_type": "execute_result"
    }
   ],
   "source": [
    "x = pd.Series([1,2,3], index = [\"a\", \"b\", \"c\"])\n",
    "x"
   ]
  },
  {
   "cell_type": "markdown",
   "id": "651274c4",
   "metadata": {
    "slideshow": {
     "slide_type": "subslide"
    }
   },
   "source": [
    "A series can be indexed in all of the same ways as a NumPy array, but also by index values. This means a series can also be used like an ordered dictionary (although its keys are not unique). "
   ]
  },
  {
   "cell_type": "code",
   "execution_count": 7,
   "id": "4966ec8d",
   "metadata": {},
   "outputs": [
    {
     "name": "stderr",
     "output_type": "stream",
     "text": [
      "/var/folders/nv/5j9xydr90s30r_9rw5pwhf640000gn/T/ipykernel_37356/3629782281.py:1: FutureWarning: Series.__getitem__ treating keys as positions is deprecated. In a future version, integer keys will always be treated as labels (consistent with DataFrame behavior). To access a value by position, use `ser.iloc[pos]`\n",
      "  x[0]\n"
     ]
    },
    {
     "data": {
      "text/plain": [
       "1"
      ]
     },
     "execution_count": 7,
     "metadata": {},
     "output_type": "execute_result"
    }
   ],
   "source": [
    "x[0]"
   ]
  },
  {
   "cell_type": "code",
   "execution_count": 8,
   "id": "d706119f",
   "metadata": {},
   "outputs": [
    {
     "data": {
      "text/plain": [
       "a    1\n",
       "dtype: int64"
      ]
     },
     "execution_count": 8,
     "metadata": {},
     "output_type": "execute_result"
    }
   ],
   "source": [
    "x[0:1]"
   ]
  },
  {
   "cell_type": "code",
   "execution_count": 9,
   "id": "f0165a5b",
   "metadata": {},
   "outputs": [
    {
     "data": {
      "text/plain": [
       "1"
      ]
     },
     "execution_count": 9,
     "metadata": {},
     "output_type": "execute_result"
    }
   ],
   "source": [
    "x[\"a\"]"
   ]
  },
  {
   "cell_type": "code",
   "execution_count": 10,
   "id": "3217645e",
   "metadata": {
    "slideshow": {
     "slide_type": "subslide"
    }
   },
   "outputs": [
    {
     "data": {
      "text/plain": [
       "a    1\n",
       "b    2\n",
       "dtype: int64"
      ]
     },
     "execution_count": 10,
     "metadata": {},
     "output_type": "execute_result"
    }
   ],
   "source": [
    "x[\"a\":\"b\"]"
   ]
  },
  {
   "cell_type": "code",
   "execution_count": 11,
   "id": "55b129f3",
   "metadata": {},
   "outputs": [
    {
     "data": {
      "text/plain": [
       "Series([], dtype: int64)"
      ]
     },
     "execution_count": 11,
     "metadata": {},
     "output_type": "execute_result"
    }
   ],
   "source": [
    "x[\"b\":\"a\"]"
   ]
  },
  {
   "cell_type": "code",
   "execution_count": 12,
   "id": "533293b9",
   "metadata": {
    "slideshow": {
     "slide_type": "subslide"
    }
   },
   "outputs": [
    {
     "data": {
      "text/plain": [
       "c    1\n",
       "b    2\n",
       "a    3\n",
       "dtype: int64"
      ]
     },
     "execution_count": 12,
     "metadata": {},
     "output_type": "execute_result"
    }
   ],
   "source": [
    "x = pd.Series([1,2,3], index = [\"c\", \"b\", \"a\"])\n",
    "x"
   ]
  },
  {
   "cell_type": "code",
   "execution_count": 13,
   "id": "bd5f132c",
   "metadata": {},
   "outputs": [
    {
     "data": {
      "text/plain": [
       "Series([], dtype: int64)"
      ]
     },
     "execution_count": 13,
     "metadata": {},
     "output_type": "execute_result"
    }
   ],
   "source": [
    "x[\"a\":\"b\"]"
   ]
  },
  {
   "cell_type": "code",
   "execution_count": null,
   "id": "81b205cd",
   "metadata": {
    "scrolled": true
   },
   "outputs": [],
   "source": [
    "x[\"c\":\"b\"]"
   ]
  },
  {
   "cell_type": "code",
   "execution_count": null,
   "id": "4efa7e4f",
   "metadata": {},
   "outputs": [],
   "source": [
    "x = pd.Series([1,2,3], index = [\"c\", \"a\", \"b\"])\n",
    "x[\"c\":\"b\"]"
   ]
  },
  {
   "cell_type": "code",
   "execution_count": null,
   "id": "644dfea5",
   "metadata": {},
   "outputs": [],
   "source": [
    "x = pd.Series([1,2,3], index = [\"c\", \"a\", \"a\"])\n",
    "x[\"c\":\"a\"]"
   ]
  },
  {
   "cell_type": "markdown",
   "id": "64099d66",
   "metadata": {
    "slideshow": {
     "slide_type": "subslide"
    }
   },
   "source": [
    "A series may have integer indices as well. "
   ]
  },
  {
   "cell_type": "code",
   "execution_count": null,
   "id": "ca5ca87b",
   "metadata": {},
   "outputs": [],
   "source": [
    "x = pd.Series([1, 2, 3], index = [10, 12, 14])\n",
    "x"
   ]
  },
  {
   "cell_type": "markdown",
   "id": "99cc6dbb",
   "metadata": {
    "slideshow": {
     "slide_type": "subslide"
    }
   },
   "source": [
    "For a indexing series (and as we'll see later, also data frames):\n",
    "\n",
    "* `[ ]` is by position, name, or condition. **Exception:** for an integer index it's by name or condition only.\n",
    "* `.iloc[ ]` is by position\n",
    "* `.loc[ ]` is by name or condition"
   ]
  },
  {
   "cell_type": "code",
   "execution_count": null,
   "id": "7c5c26ef",
   "metadata": {},
   "outputs": [],
   "source": [
    "y = pd.Series([1,2,3])\n",
    "z = y[1:3]\n",
    "z"
   ]
  },
  {
   "cell_type": "code",
   "execution_count": null,
   "id": "d1c11512",
   "metadata": {},
   "outputs": [],
   "source": [
    "z[1]"
   ]
  },
  {
   "cell_type": "code",
   "execution_count": null,
   "id": "447108ff",
   "metadata": {},
   "outputs": [],
   "source": [
    "y.iloc[0]"
   ]
  },
  {
   "cell_type": "code",
   "execution_count": null,
   "id": "bb166266",
   "metadata": {},
   "outputs": [],
   "source": [
    "y.loc[1]"
   ]
  },
  {
   "cell_type": "code",
   "execution_count": null,
   "id": "fc03df51",
   "metadata": {
    "slideshow": {
     "slide_type": "subslide"
    }
   },
   "outputs": [],
   "source": [
    "z = pd.Series([1, 2, 3, 4], index = [3j, 2j, 1j, -1j])\n",
    "z"
   ]
  },
  {
   "cell_type": "code",
   "execution_count": null,
   "id": "e5b2d38b",
   "metadata": {},
   "outputs": [],
   "source": [
    "z[3j]"
   ]
  },
  {
   "cell_type": "code",
   "execution_count": null,
   "id": "1cbc0fb0",
   "metadata": {},
   "outputs": [],
   "source": [
    "z.loc[-1j]"
   ]
  },
  {
   "cell_type": "code",
   "execution_count": null,
   "id": "da1260aa",
   "metadata": {},
   "outputs": [],
   "source": [
    "z.index"
   ]
  },
  {
   "cell_type": "markdown",
   "id": "c6903d98",
   "metadata": {
    "slideshow": {
     "slide_type": "slide"
    }
   },
   "source": [
    "### Data Frames\n",
    "\n",
    "A data frame is a table or a two-dimensional array-like structure in which each column contains values of one variable and each row contains one set of values from each column.\n",
    "\n",
    "It represents tabular data as a collection of Series."
   ]
  },
  {
   "cell_type": "code",
   "execution_count": null,
   "id": "6d0f8b3e",
   "metadata": {},
   "outputs": [],
   "source": [
    "df = pd.DataFrame({\"x\": [1, 2, 3], \"y\": [\"a\", \"b\", \"c\"]})\n",
    "df"
   ]
  },
  {
   "cell_type": "markdown",
   "id": "ac720ae6",
   "metadata": {
    "slideshow": {
     "slide_type": "subslide"
    }
   },
   "source": [
    "Data frames support the similar indexing methods as series. However, for indexing with `[ ]`,\n",
    "\n",
    "* Scalar values get columns by name\n",
    "* Conditions or slices get rows"
   ]
  },
  {
   "cell_type": "code",
   "execution_count": null,
   "id": "68997c04",
   "metadata": {},
   "outputs": [],
   "source": [
    "df.iloc[0,0]"
   ]
  },
  {
   "cell_type": "code",
   "execution_count": null,
   "id": "ba70a40f",
   "metadata": {},
   "outputs": [],
   "source": [
    "df[0:1]"
   ]
  },
  {
   "cell_type": "code",
   "execution_count": null,
   "id": "d69bfe07",
   "metadata": {},
   "outputs": [],
   "source": [
    "df[\"y\"]"
   ]
  },
  {
   "cell_type": "code",
   "execution_count": null,
   "id": "11726153",
   "metadata": {
    "scrolled": true,
    "slideshow": {
     "slide_type": "subslide"
    }
   },
   "outputs": [],
   "source": [
    "df['x']"
   ]
  },
  {
   "cell_type": "code",
   "execution_count": null,
   "id": "4d69b339",
   "metadata": {},
   "outputs": [],
   "source": [
    "df.iloc[0]"
   ]
  },
  {
   "cell_type": "code",
   "execution_count": null,
   "id": "0c5a7805",
   "metadata": {
    "scrolled": true
   },
   "outputs": [],
   "source": [
    "df "
   ]
  },
  {
   "cell_type": "code",
   "execution_count": null,
   "id": "7b5e0ca8",
   "metadata": {
    "slideshow": {
     "slide_type": "subslide"
    }
   },
   "outputs": [],
   "source": [
    "df.loc[:,\"x\"] "
   ]
  },
  {
   "cell_type": "code",
   "execution_count": null,
   "id": "b4220c63",
   "metadata": {},
   "outputs": [],
   "source": [
    "df[df[\"x\"] > 2] # more conventient "
   ]
  },
  {
   "cell_type": "code",
   "execution_count": null,
   "id": "ae12d0ff",
   "metadata": {},
   "outputs": [],
   "source": [
    "df.loc[df['x']>2,:]  # more principled (?)"
   ]
  },
  {
   "cell_type": "markdown",
   "id": "3164330f",
   "metadata": {
    "slideshow": {
     "slide_type": "-"
    }
   },
   "source": [
    "Since we are subsetting a DataFrame, a DataFrame is returned. "
   ]
  },
  {
   "cell_type": "code",
   "execution_count": null,
   "id": "329bceb2",
   "metadata": {
    "slideshow": {
     "slide_type": "subslide"
    }
   },
   "outputs": [],
   "source": [
    "df.shape"
   ]
  },
  {
   "cell_type": "code",
   "execution_count": null,
   "id": "06823a46",
   "metadata": {},
   "outputs": [],
   "source": [
    "df.size"
   ]
  },
  {
   "cell_type": "code",
   "execution_count": null,
   "id": "42664fe1",
   "metadata": {},
   "outputs": [],
   "source": [
    "type(df)"
   ]
  },
  {
   "cell_type": "code",
   "execution_count": null,
   "id": "232f67b4",
   "metadata": {},
   "outputs": [],
   "source": [
    "df.dtypes"
   ]
  },
  {
   "cell_type": "markdown",
   "id": "36058be7",
   "metadata": {},
   "source": [
    "More indexing and selection data using pandas can be found [here](https://pandas.pydata.org/pandas-docs/stable/user_guide/indexing.html#indexing-slicing-with-labels)"
   ]
  },
  {
   "cell_type": "markdown",
   "id": "3c3f429c",
   "metadata": {
    "slideshow": {
     "slide_type": "slide"
    }
   },
   "source": [
    "### Missing Data\n",
    "\n",
    "Pandas represents missing data with `NaN` and `None`, but these values do not exclusively mean missing data. For instance, `NaN` stands for \"Not a Number\" and is also the result of undefined computations. Pay attention to your data and code to determine whether values are missing or have some other meaning.\n",
    "\n",
    "You can create `NaN` values with NumPy."
   ]
  },
  {
   "cell_type": "code",
   "execution_count": null,
   "id": "c2004230",
   "metadata": {},
   "outputs": [],
   "source": [
    "import numpy as np \n",
    "np.nan"
   ]
  },
  {
   "cell_type": "code",
   "execution_count": null,
   "id": "8be4c47c",
   "metadata": {
    "slideshow": {
     "slide_type": "-"
    }
   },
   "outputs": [],
   "source": [
    "df = pd.DataFrame({\"x\": [1, np.nan, 2], \"y\": np.arange(3), \"z\": [\"x\", \"y\", None]})\n",
    "df"
   ]
  },
  {
   "cell_type": "markdown",
   "id": "deef4b70",
   "metadata": {
    "slideshow": {
     "slide_type": "subslide"
    }
   },
   "source": [
    "Use the `.isna()` or `.isnull()` methods to detect missing values."
   ]
  },
  {
   "cell_type": "code",
   "execution_count": null,
   "id": "5ae6e719",
   "metadata": {},
   "outputs": [],
   "source": [
    "df.isna()"
   ]
  },
  {
   "cell_type": "code",
   "execution_count": null,
   "id": "55c56138",
   "metadata": {},
   "outputs": [],
   "source": [
    "df.isnull()"
   ]
  },
  {
   "cell_type": "code",
   "execution_count": null,
   "id": "6437e9cb",
   "metadata": {
    "slideshow": {
     "slide_type": "subslide"
    }
   },
   "outputs": [],
   "source": [
    "df"
   ]
  },
  {
   "cell_type": "code",
   "execution_count": null,
   "id": "ac17421f",
   "metadata": {
    "slideshow": {
     "slide_type": "subslide"
    }
   },
   "outputs": [],
   "source": [
    "df.info()"
   ]
  },
  {
   "cell_type": "code",
   "execution_count": null,
   "id": "6652964f",
   "metadata": {
    "slideshow": {
     "slide_type": "subslide"
    }
   },
   "outputs": [],
   "source": [
    "df"
   ]
  },
  {
   "cell_type": "code",
   "execution_count": null,
   "id": "1fbc921a",
   "metadata": {
    "slideshow": {
     "slide_type": "subslide"
    }
   },
   "outputs": [],
   "source": [
    "(~df.isna()).sum().sum()"
   ]
  },
  {
   "cell_type": "code",
   "execution_count": null,
   "id": "a19c09ee",
   "metadata": {},
   "outputs": [],
   "source": [
    "df.isna().sum().sum() # how many are not missing"
   ]
  },
  {
   "cell_type": "code",
   "execution_count": null,
   "id": "6bc3c249",
   "metadata": {},
   "outputs": [],
   "source": [
    "df.sum().sum()"
   ]
  },
  {
   "cell_type": "markdown",
   "id": "53463314",
   "metadata": {},
   "source": [
    "Lets deal with this warning. "
   ]
  },
  {
   "cell_type": "code",
   "execution_count": null,
   "id": "872f836e",
   "metadata": {
    "scrolled": true
   },
   "outputs": [],
   "source": [
    "df.sum(numeric_only=True).sum()"
   ]
  },
  {
   "cell_type": "markdown",
   "id": "07aedde1",
   "metadata": {
    "slideshow": {
     "slide_type": "slide"
    }
   },
   "source": [
    "### Data Alignment\n",
    "\n",
    "Pandas supports vectorized operations, but elements are <b>automatically</b> aligned by index. **Beware!!** This is a major difference compared to R."
   ]
  },
  {
   "cell_type": "code",
   "execution_count": null,
   "id": "467dfb5b",
   "metadata": {},
   "outputs": [],
   "source": [
    "x = pd.Series([1, 2, 3], index = [\"a\", \"b\", \"c\"])\n",
    "y = pd.Series([1, 2, 3], index = [\"b\", \"a\", \"c\"])\n",
    "x"
   ]
  },
  {
   "cell_type": "code",
   "execution_count": null,
   "id": "4a1106f2",
   "metadata": {},
   "outputs": [],
   "source": [
    "y"
   ]
  },
  {
   "cell_type": "code",
   "execution_count": null,
   "id": "1d78884e",
   "metadata": {},
   "outputs": [],
   "source": [
    "x * y"
   ]
  },
  {
   "cell_type": "code",
   "execution_count": null,
   "id": "3362c66d",
   "metadata": {},
   "outputs": [],
   "source": []
  },
  {
   "cell_type": "markdown",
   "id": "660bc912",
   "metadata": {
    "slideshow": {
     "slide_type": "subslide"
    }
   },
   "source": [
    "You can use the `.reset_index()` method to reset the indexes on a series or data frame. Watch out: The method returns a new DataFrame, but does not overwrite the old object. "
   ]
  },
  {
   "cell_type": "code",
   "execution_count": null,
   "id": "d4f60471",
   "metadata": {},
   "outputs": [],
   "source": [
    "x.reset_index().reset_index()# keep old index as a new column"
   ]
  },
  {
   "cell_type": "code",
   "execution_count": null,
   "id": "9cd8ab1d",
   "metadata": {},
   "outputs": [],
   "source": [
    "df.reset_index()"
   ]
  },
  {
   "cell_type": "code",
   "execution_count": null,
   "id": "bb644e12",
   "metadata": {},
   "outputs": [],
   "source": [
    "y.reset_index(drop = True) # throw away the old index"
   ]
  },
  {
   "cell_type": "markdown",
   "id": "7c9ad69d",
   "metadata": {
    "slideshow": {
     "slide_type": "slide"
    }
   },
   "source": [
    "### Reading Data\n",
    "\n",
    "Pandas provides functions for reading (and writing) a variety of common formats. Most of their names begin with `read_`. For instance, we can read the dogs data from a CSV file:"
   ]
  },
  {
   "cell_type": "code",
   "execution_count": 16,
   "id": "68bcd845",
   "metadata": {},
   "outputs": [],
   "source": [
    "dogs = pd.read_csv(\"./dogs_full.csv\")"
   ]
  },
  {
   "cell_type": "code",
   "execution_count": 17,
   "id": "c533e4e1",
   "metadata": {
    "scrolled": false
   },
   "outputs": [
    {
     "data": {
      "text/html": [
       "<div>\n",
       "<style scoped>\n",
       "    .dataframe tbody tr th:only-of-type {\n",
       "        vertical-align: middle;\n",
       "    }\n",
       "\n",
       "    .dataframe tbody tr th {\n",
       "        vertical-align: top;\n",
       "    }\n",
       "\n",
       "    .dataframe thead th {\n",
       "        text-align: right;\n",
       "    }\n",
       "</style>\n",
       "<table border=\"1\" class=\"dataframe\">\n",
       "  <thead>\n",
       "    <tr style=\"text-align: right;\">\n",
       "      <th></th>\n",
       "      <th>breed</th>\n",
       "      <th>group</th>\n",
       "      <th>datadog</th>\n",
       "      <th>popularity_all</th>\n",
       "      <th>popularity</th>\n",
       "      <th>lifetime_cost</th>\n",
       "      <th>intelligence_rank</th>\n",
       "      <th>longevity</th>\n",
       "      <th>ailments</th>\n",
       "      <th>price</th>\n",
       "      <th>food_cost</th>\n",
       "      <th>grooming</th>\n",
       "      <th>kids</th>\n",
       "      <th>megarank_kids</th>\n",
       "      <th>megarank</th>\n",
       "      <th>size</th>\n",
       "      <th>weight</th>\n",
       "      <th>height</th>\n",
       "    </tr>\n",
       "  </thead>\n",
       "  <tbody>\n",
       "    <tr>\n",
       "      <th>0</th>\n",
       "      <td>Border Collie</td>\n",
       "      <td>herding</td>\n",
       "      <td>3.64</td>\n",
       "      <td>45</td>\n",
       "      <td>39.0</td>\n",
       "      <td>20143.0</td>\n",
       "      <td>1.0</td>\n",
       "      <td>12.52</td>\n",
       "      <td>2.0</td>\n",
       "      <td>623.0</td>\n",
       "      <td>324.0</td>\n",
       "      <td>weekly</td>\n",
       "      <td>low</td>\n",
       "      <td>1.0</td>\n",
       "      <td>29.0</td>\n",
       "      <td>medium</td>\n",
       "      <td>NaN</td>\n",
       "      <td>20.0</td>\n",
       "    </tr>\n",
       "    <tr>\n",
       "      <th>1</th>\n",
       "      <td>Border Terrier</td>\n",
       "      <td>terrier</td>\n",
       "      <td>3.61</td>\n",
       "      <td>80</td>\n",
       "      <td>61.0</td>\n",
       "      <td>22638.0</td>\n",
       "      <td>30.0</td>\n",
       "      <td>14.00</td>\n",
       "      <td>0.0</td>\n",
       "      <td>833.0</td>\n",
       "      <td>324.0</td>\n",
       "      <td>weekly</td>\n",
       "      <td>high</td>\n",
       "      <td>2.0</td>\n",
       "      <td>1.0</td>\n",
       "      <td>small</td>\n",
       "      <td>13.5</td>\n",
       "      <td>NaN</td>\n",
       "    </tr>\n",
       "    <tr>\n",
       "      <th>2</th>\n",
       "      <td>Brittany</td>\n",
       "      <td>sporting</td>\n",
       "      <td>3.54</td>\n",
       "      <td>30</td>\n",
       "      <td>30.0</td>\n",
       "      <td>22589.0</td>\n",
       "      <td>19.0</td>\n",
       "      <td>12.92</td>\n",
       "      <td>0.0</td>\n",
       "      <td>618.0</td>\n",
       "      <td>466.0</td>\n",
       "      <td>weekly</td>\n",
       "      <td>medium</td>\n",
       "      <td>3.0</td>\n",
       "      <td>11.0</td>\n",
       "      <td>medium</td>\n",
       "      <td>35.0</td>\n",
       "      <td>19.0</td>\n",
       "    </tr>\n",
       "    <tr>\n",
       "      <th>3</th>\n",
       "      <td>Cairn Terrier</td>\n",
       "      <td>terrier</td>\n",
       "      <td>3.53</td>\n",
       "      <td>59</td>\n",
       "      <td>48.0</td>\n",
       "      <td>21992.0</td>\n",
       "      <td>35.0</td>\n",
       "      <td>13.84</td>\n",
       "      <td>2.0</td>\n",
       "      <td>435.0</td>\n",
       "      <td>324.0</td>\n",
       "      <td>weekly</td>\n",
       "      <td>high</td>\n",
       "      <td>4.0</td>\n",
       "      <td>2.0</td>\n",
       "      <td>small</td>\n",
       "      <td>14.0</td>\n",
       "      <td>10.0</td>\n",
       "    </tr>\n",
       "    <tr>\n",
       "      <th>4</th>\n",
       "      <td>Welsh Springer Spaniel</td>\n",
       "      <td>sporting</td>\n",
       "      <td>3.34</td>\n",
       "      <td>130</td>\n",
       "      <td>81.0</td>\n",
       "      <td>20224.0</td>\n",
       "      <td>31.0</td>\n",
       "      <td>12.49</td>\n",
       "      <td>1.0</td>\n",
       "      <td>750.0</td>\n",
       "      <td>324.0</td>\n",
       "      <td>weekly</td>\n",
       "      <td>high</td>\n",
       "      <td>5.0</td>\n",
       "      <td>4.0</td>\n",
       "      <td>medium</td>\n",
       "      <td>NaN</td>\n",
       "      <td>18.0</td>\n",
       "    </tr>\n",
       "  </tbody>\n",
       "</table>\n",
       "</div>"
      ],
      "text/plain": [
       "                    breed     group  datadog  popularity_all  popularity  \\\n",
       "0           Border Collie   herding     3.64              45        39.0   \n",
       "1          Border Terrier   terrier     3.61              80        61.0   \n",
       "2                Brittany  sporting     3.54              30        30.0   \n",
       "3           Cairn Terrier   terrier     3.53              59        48.0   \n",
       "4  Welsh Springer Spaniel  sporting     3.34             130        81.0   \n",
       "\n",
       "   lifetime_cost  intelligence_rank  longevity  ailments  price  food_cost  \\\n",
       "0        20143.0                1.0      12.52       2.0  623.0      324.0   \n",
       "1        22638.0               30.0      14.00       0.0  833.0      324.0   \n",
       "2        22589.0               19.0      12.92       0.0  618.0      466.0   \n",
       "3        21992.0               35.0      13.84       2.0  435.0      324.0   \n",
       "4        20224.0               31.0      12.49       1.0  750.0      324.0   \n",
       "\n",
       "  grooming    kids  megarank_kids  megarank    size  weight  height  \n",
       "0   weekly     low            1.0      29.0  medium     NaN    20.0  \n",
       "1   weekly    high            2.0       1.0   small    13.5     NaN  \n",
       "2   weekly  medium            3.0      11.0  medium    35.0    19.0  \n",
       "3   weekly    high            4.0       2.0   small    14.0    10.0  \n",
       "4   weekly    high            5.0       4.0  medium     NaN    18.0  "
      ]
     },
     "execution_count": 17,
     "metadata": {},
     "output_type": "execute_result"
    }
   ],
   "source": [
    "dogs.head()"
   ]
  },
  {
   "cell_type": "markdown",
   "id": "d1ca3756",
   "metadata": {
    "slideshow": {
     "slide_type": "slide"
    }
   },
   "source": [
    "### Inspecting Data\n",
    "\n",
    "Series and data frames provide many of the same methods and attributes as NumPy arrays."
   ]
  },
  {
   "cell_type": "markdown",
   "id": "d327cf62",
   "metadata": {},
   "source": [
    "For a data frame, the `.dtypes` attribute gives the column types.\n",
    "\n",
    "The type \"object\" means some non-numeric Python object, often a string."
   ]
  },
  {
   "cell_type": "code",
   "execution_count": 18,
   "id": "8be4e952",
   "metadata": {},
   "outputs": [
    {
     "data": {
      "text/plain": [
       "breed                 object\n",
       "group                 object\n",
       "datadog              float64\n",
       "popularity_all         int64\n",
       "popularity           float64\n",
       "lifetime_cost        float64\n",
       "intelligence_rank    float64\n",
       "longevity            float64\n",
       "ailments             float64\n",
       "price                float64\n",
       "food_cost            float64\n",
       "grooming              object\n",
       "kids                  object\n",
       "megarank_kids        float64\n",
       "megarank             float64\n",
       "size                  object\n",
       "weight               float64\n",
       "height               float64\n",
       "dtype: object"
      ]
     },
     "execution_count": 18,
     "metadata": {},
     "output_type": "execute_result"
    }
   ],
   "source": [
    "dogs.dtypes"
   ]
  },
  {
   "cell_type": "markdown",
   "id": "f0b82c57",
   "metadata": {
    "slideshow": {
     "slide_type": "subslide"
    }
   },
   "source": [
    "There are also several methods for quickly summarizing data."
   ]
  },
  {
   "cell_type": "code",
   "execution_count": 19,
   "id": "1f10be24",
   "metadata": {},
   "outputs": [
    {
     "data": {
      "text/html": [
       "<div>\n",
       "<style scoped>\n",
       "    .dataframe tbody tr th:only-of-type {\n",
       "        vertical-align: middle;\n",
       "    }\n",
       "\n",
       "    .dataframe tbody tr th {\n",
       "        vertical-align: top;\n",
       "    }\n",
       "\n",
       "    .dataframe thead th {\n",
       "        text-align: right;\n",
       "    }\n",
       "</style>\n",
       "<table border=\"1\" class=\"dataframe\">\n",
       "  <thead>\n",
       "    <tr style=\"text-align: right;\">\n",
       "      <th></th>\n",
       "      <th>datadog</th>\n",
       "      <th>popularity_all</th>\n",
       "      <th>popularity</th>\n",
       "      <th>lifetime_cost</th>\n",
       "      <th>intelligence_rank</th>\n",
       "      <th>longevity</th>\n",
       "      <th>ailments</th>\n",
       "      <th>price</th>\n",
       "      <th>food_cost</th>\n",
       "      <th>megarank_kids</th>\n",
       "      <th>megarank</th>\n",
       "      <th>weight</th>\n",
       "      <th>height</th>\n",
       "    </tr>\n",
       "  </thead>\n",
       "  <tbody>\n",
       "    <tr>\n",
       "      <th>count</th>\n",
       "      <td>87.000000</td>\n",
       "      <td>172.000000</td>\n",
       "      <td>87.000000</td>\n",
       "      <td>91.000000</td>\n",
       "      <td>132.000000</td>\n",
       "      <td>135.000000</td>\n",
       "      <td>148.000000</td>\n",
       "      <td>146.000000</td>\n",
       "      <td>87.000000</td>\n",
       "      <td>87.000000</td>\n",
       "      <td>87.000000</td>\n",
       "      <td>86.00000</td>\n",
       "      <td>159.000000</td>\n",
       "    </tr>\n",
       "    <tr>\n",
       "      <th>mean</th>\n",
       "      <td>2.603678</td>\n",
       "      <td>87.122093</td>\n",
       "      <td>44.000000</td>\n",
       "      <td>19819.538462</td>\n",
       "      <td>40.924242</td>\n",
       "      <td>10.956741</td>\n",
       "      <td>1.216216</td>\n",
       "      <td>876.815068</td>\n",
       "      <td>489.597701</td>\n",
       "      <td>43.954023</td>\n",
       "      <td>43.942529</td>\n",
       "      <td>44.97093</td>\n",
       "      <td>19.089623</td>\n",
       "    </tr>\n",
       "    <tr>\n",
       "      <th>std</th>\n",
       "      <td>0.570288</td>\n",
       "      <td>50.205335</td>\n",
       "      <td>25.258662</td>\n",
       "      <td>3102.475382</td>\n",
       "      <td>19.603560</td>\n",
       "      <td>1.995742</td>\n",
       "      <td>1.549810</td>\n",
       "      <td>461.172524</td>\n",
       "      <td>204.266894</td>\n",
       "      <td>25.288065</td>\n",
       "      <td>25.278153</td>\n",
       "      <td>35.52707</td>\n",
       "      <td>6.012400</td>\n",
       "    </tr>\n",
       "    <tr>\n",
       "      <th>min</th>\n",
       "      <td>0.990000</td>\n",
       "      <td>1.000000</td>\n",
       "      <td>1.000000</td>\n",
       "      <td>12653.000000</td>\n",
       "      <td>1.000000</td>\n",
       "      <td>6.290000</td>\n",
       "      <td>0.000000</td>\n",
       "      <td>283.000000</td>\n",
       "      <td>270.000000</td>\n",
       "      <td>1.000000</td>\n",
       "      <td>1.000000</td>\n",
       "      <td>5.00000</td>\n",
       "      <td>5.000000</td>\n",
       "    </tr>\n",
       "    <tr>\n",
       "      <th>25%</th>\n",
       "      <td>2.185000</td>\n",
       "      <td>43.750000</td>\n",
       "      <td>22.500000</td>\n",
       "      <td>17816.500000</td>\n",
       "      <td>27.000000</td>\n",
       "      <td>9.700000</td>\n",
       "      <td>0.000000</td>\n",
       "      <td>587.250000</td>\n",
       "      <td>324.000000</td>\n",
       "      <td>22.500000</td>\n",
       "      <td>22.500000</td>\n",
       "      <td>17.50000</td>\n",
       "      <td>14.000000</td>\n",
       "    </tr>\n",
       "    <tr>\n",
       "      <th>50%</th>\n",
       "      <td>2.710000</td>\n",
       "      <td>87.500000</td>\n",
       "      <td>44.000000</td>\n",
       "      <td>20087.000000</td>\n",
       "      <td>42.000000</td>\n",
       "      <td>11.290000</td>\n",
       "      <td>1.000000</td>\n",
       "      <td>795.000000</td>\n",
       "      <td>466.000000</td>\n",
       "      <td>44.000000</td>\n",
       "      <td>44.000000</td>\n",
       "      <td>35.00000</td>\n",
       "      <td>19.000000</td>\n",
       "    </tr>\n",
       "    <tr>\n",
       "      <th>75%</th>\n",
       "      <td>3.035000</td>\n",
       "      <td>130.250000</td>\n",
       "      <td>65.500000</td>\n",
       "      <td>21798.000000</td>\n",
       "      <td>54.250000</td>\n",
       "      <td>12.365000</td>\n",
       "      <td>2.000000</td>\n",
       "      <td>1042.250000</td>\n",
       "      <td>466.000000</td>\n",
       "      <td>65.500000</td>\n",
       "      <td>65.500000</td>\n",
       "      <td>62.50000</td>\n",
       "      <td>24.125000</td>\n",
       "    </tr>\n",
       "    <tr>\n",
       "      <th>max</th>\n",
       "      <td>3.640000</td>\n",
       "      <td>173.000000</td>\n",
       "      <td>87.000000</td>\n",
       "      <td>26686.000000</td>\n",
       "      <td>80.000000</td>\n",
       "      <td>16.500000</td>\n",
       "      <td>9.000000</td>\n",
       "      <td>3460.000000</td>\n",
       "      <td>1349.000000</td>\n",
       "      <td>87.000000</td>\n",
       "      <td>87.000000</td>\n",
       "      <td>175.00000</td>\n",
       "      <td>32.000000</td>\n",
       "    </tr>\n",
       "  </tbody>\n",
       "</table>\n",
       "</div>"
      ],
      "text/plain": [
       "         datadog  popularity_all  popularity  lifetime_cost  \\\n",
       "count  87.000000      172.000000   87.000000      91.000000   \n",
       "mean    2.603678       87.122093   44.000000   19819.538462   \n",
       "std     0.570288       50.205335   25.258662    3102.475382   \n",
       "min     0.990000        1.000000    1.000000   12653.000000   \n",
       "25%     2.185000       43.750000   22.500000   17816.500000   \n",
       "50%     2.710000       87.500000   44.000000   20087.000000   \n",
       "75%     3.035000      130.250000   65.500000   21798.000000   \n",
       "max     3.640000      173.000000   87.000000   26686.000000   \n",
       "\n",
       "       intelligence_rank   longevity    ailments        price    food_cost  \\\n",
       "count         132.000000  135.000000  148.000000   146.000000    87.000000   \n",
       "mean           40.924242   10.956741    1.216216   876.815068   489.597701   \n",
       "std            19.603560    1.995742    1.549810   461.172524   204.266894   \n",
       "min             1.000000    6.290000    0.000000   283.000000   270.000000   \n",
       "25%            27.000000    9.700000    0.000000   587.250000   324.000000   \n",
       "50%            42.000000   11.290000    1.000000   795.000000   466.000000   \n",
       "75%            54.250000   12.365000    2.000000  1042.250000   466.000000   \n",
       "max            80.000000   16.500000    9.000000  3460.000000  1349.000000   \n",
       "\n",
       "       megarank_kids   megarank     weight      height  \n",
       "count      87.000000  87.000000   86.00000  159.000000  \n",
       "mean       43.954023  43.942529   44.97093   19.089623  \n",
       "std        25.288065  25.278153   35.52707    6.012400  \n",
       "min         1.000000   1.000000    5.00000    5.000000  \n",
       "25%        22.500000  22.500000   17.50000   14.000000  \n",
       "50%        44.000000  44.000000   35.00000   19.000000  \n",
       "75%        65.500000  65.500000   62.50000   24.125000  \n",
       "max        87.000000  87.000000  175.00000   32.000000  "
      ]
     },
     "execution_count": 19,
     "metadata": {},
     "output_type": "execute_result"
    }
   ],
   "source": [
    "dogs.describe()"
   ]
  },
  {
   "cell_type": "markdown",
   "id": "e50d84d4",
   "metadata": {
    "slideshow": {
     "slide_type": "subslide"
    }
   },
   "source": [
    "First, get the string columns (`object`), then describe"
   ]
  },
  {
   "cell_type": "code",
   "execution_count": 20,
   "id": "38967214",
   "metadata": {},
   "outputs": [
    {
     "data": {
      "text/html": [
       "<div>\n",
       "<style scoped>\n",
       "    .dataframe tbody tr th:only-of-type {\n",
       "        vertical-align: middle;\n",
       "    }\n",
       "\n",
       "    .dataframe tbody tr th {\n",
       "        vertical-align: top;\n",
       "    }\n",
       "\n",
       "    .dataframe thead th {\n",
       "        text-align: right;\n",
       "    }\n",
       "</style>\n",
       "<table border=\"1\" class=\"dataframe\">\n",
       "  <thead>\n",
       "    <tr style=\"text-align: right;\">\n",
       "      <th></th>\n",
       "      <th>breed</th>\n",
       "      <th>group</th>\n",
       "      <th>grooming</th>\n",
       "      <th>kids</th>\n",
       "      <th>size</th>\n",
       "    </tr>\n",
       "  </thead>\n",
       "  <tbody>\n",
       "    <tr>\n",
       "      <th>count</th>\n",
       "      <td>172</td>\n",
       "      <td>172</td>\n",
       "      <td>112</td>\n",
       "      <td>112</td>\n",
       "      <td>172</td>\n",
       "    </tr>\n",
       "    <tr>\n",
       "      <th>unique</th>\n",
       "      <td>172</td>\n",
       "      <td>7</td>\n",
       "      <td>3</td>\n",
       "      <td>3</td>\n",
       "      <td>3</td>\n",
       "    </tr>\n",
       "    <tr>\n",
       "      <th>top</th>\n",
       "      <td>Border Collie</td>\n",
       "      <td>terrier</td>\n",
       "      <td>weekly</td>\n",
       "      <td>high</td>\n",
       "      <td>medium</td>\n",
       "    </tr>\n",
       "    <tr>\n",
       "      <th>freq</th>\n",
       "      <td>1</td>\n",
       "      <td>28</td>\n",
       "      <td>88</td>\n",
       "      <td>67</td>\n",
       "      <td>60</td>\n",
       "    </tr>\n",
       "  </tbody>\n",
       "</table>\n",
       "</div>"
      ],
      "text/plain": [
       "                breed    group grooming  kids    size\n",
       "count             172      172      112   112     172\n",
       "unique            172        7        3     3       3\n",
       "top     Border Collie  terrier   weekly  high  medium\n",
       "freq                1       28       88    67      60"
      ]
     },
     "execution_count": 20,
     "metadata": {},
     "output_type": "execute_result"
    }
   ],
   "source": [
    "dogs.select_dtypes(include = [\"object\"]).describe()"
   ]
  },
  {
   "cell_type": "code",
   "execution_count": 21,
   "id": "f6d6bdf4",
   "metadata": {
    "slideshow": {
     "slide_type": "subslide"
    }
   },
   "outputs": [
    {
     "data": {
      "text/html": [
       "<div>\n",
       "<style scoped>\n",
       "    .dataframe tbody tr th:only-of-type {\n",
       "        vertical-align: middle;\n",
       "    }\n",
       "\n",
       "    .dataframe tbody tr th {\n",
       "        vertical-align: top;\n",
       "    }\n",
       "\n",
       "    .dataframe thead th {\n",
       "        text-align: right;\n",
       "    }\n",
       "</style>\n",
       "<table border=\"1\" class=\"dataframe\">\n",
       "  <thead>\n",
       "    <tr style=\"text-align: right;\">\n",
       "      <th></th>\n",
       "      <th>popularity_all</th>\n",
       "    </tr>\n",
       "  </thead>\n",
       "  <tbody>\n",
       "    <tr>\n",
       "      <th>count</th>\n",
       "      <td>172.000000</td>\n",
       "    </tr>\n",
       "    <tr>\n",
       "      <th>mean</th>\n",
       "      <td>87.122093</td>\n",
       "    </tr>\n",
       "    <tr>\n",
       "      <th>std</th>\n",
       "      <td>50.205335</td>\n",
       "    </tr>\n",
       "    <tr>\n",
       "      <th>min</th>\n",
       "      <td>1.000000</td>\n",
       "    </tr>\n",
       "    <tr>\n",
       "      <th>25%</th>\n",
       "      <td>43.750000</td>\n",
       "    </tr>\n",
       "    <tr>\n",
       "      <th>50%</th>\n",
       "      <td>87.500000</td>\n",
       "    </tr>\n",
       "    <tr>\n",
       "      <th>75%</th>\n",
       "      <td>130.250000</td>\n",
       "    </tr>\n",
       "    <tr>\n",
       "      <th>max</th>\n",
       "      <td>173.000000</td>\n",
       "    </tr>\n",
       "  </tbody>\n",
       "</table>\n",
       "</div>"
      ],
      "text/plain": [
       "       popularity_all\n",
       "count      172.000000\n",
       "mean        87.122093\n",
       "std         50.205335\n",
       "min          1.000000\n",
       "25%         43.750000\n",
       "50%         87.500000\n",
       "75%        130.250000\n",
       "max        173.000000"
      ]
     },
     "execution_count": 21,
     "metadata": {},
     "output_type": "execute_result"
    }
   ],
   "source": [
    "dogs.select_dtypes(include = [\"int64\"]).describe()"
   ]
  },
  {
   "cell_type": "markdown",
   "id": "7622994e",
   "metadata": {
    "slideshow": {
     "slide_type": "slide"
    }
   },
   "source": [
    "### Aggregation\n",
    "\n",
    "Pandas also provides several methods for aggregating data, such as `.mean()`, `.median()`, `.std()`, and `.value_counts()`. They ignore missing values by default."
   ]
  },
  {
   "cell_type": "code",
   "execution_count": 22,
   "id": "716f7ee4",
   "metadata": {},
   "outputs": [
    {
     "data": {
      "text/plain": [
       "datadog                  2.71\n",
       "popularity_all          87.50\n",
       "popularity              44.00\n",
       "lifetime_cost        20087.00\n",
       "intelligence_rank       42.00\n",
       "longevity               11.29\n",
       "ailments                 1.00\n",
       "price                  795.00\n",
       "food_cost              466.00\n",
       "megarank_kids           44.00\n",
       "megarank                44.00\n",
       "weight                  35.00\n",
       "height                  19.00\n",
       "dtype: float64"
      ]
     },
     "execution_count": 22,
     "metadata": {},
     "output_type": "execute_result"
    }
   ],
   "source": [
    "dogs.median(numeric_only=True)"
   ]
  },
  {
   "cell_type": "code",
   "execution_count": 23,
   "id": "cf79f1df",
   "metadata": {
    "slideshow": {
     "slide_type": "subslide"
    }
   },
   "outputs": [
    {
     "data": {
      "text/plain": [
       "795.0"
      ]
     },
     "execution_count": 23,
     "metadata": {},
     "output_type": "execute_result"
    }
   ],
   "source": [
    "dogs[\"price\"].median()"
   ]
  },
  {
   "cell_type": "code",
   "execution_count": 24,
   "id": "3af7cf85",
   "metadata": {},
   "outputs": [
    {
     "data": {
      "text/plain": [
       "group\n",
       "terrier         28\n",
       "sporting        28\n",
       "working         27\n",
       "hound           26\n",
       "herding         25\n",
       "toy             19\n",
       "non-sporting    19\n",
       "Name: count, dtype: int64"
      ]
     },
     "execution_count": 24,
     "metadata": {},
     "output_type": "execute_result"
    }
   ],
   "source": [
    "dogs[\"group\"].value_counts() # like R's table() with 1 arg"
   ]
  },
  {
   "cell_type": "markdown",
   "id": "7bc3ad1a",
   "metadata": {
    "slideshow": {
     "slide_type": "subslide"
    }
   },
   "source": [
    "For counting one group against another (crosstabulating), use `pd.crosstab()`."
   ]
  },
  {
   "cell_type": "code",
   "execution_count": 25,
   "id": "38b8e9cd",
   "metadata": {},
   "outputs": [
    {
     "data": {
      "text/html": [
       "<div>\n",
       "<style scoped>\n",
       "    .dataframe tbody tr th:only-of-type {\n",
       "        vertical-align: middle;\n",
       "    }\n",
       "\n",
       "    .dataframe tbody tr th {\n",
       "        vertical-align: top;\n",
       "    }\n",
       "\n",
       "    .dataframe thead th {\n",
       "        text-align: right;\n",
       "    }\n",
       "</style>\n",
       "<table border=\"1\" class=\"dataframe\">\n",
       "  <thead>\n",
       "    <tr style=\"text-align: right;\">\n",
       "      <th>kids</th>\n",
       "      <th>high</th>\n",
       "      <th>low</th>\n",
       "      <th>medium</th>\n",
       "    </tr>\n",
       "    <tr>\n",
       "      <th>group</th>\n",
       "      <th></th>\n",
       "      <th></th>\n",
       "      <th></th>\n",
       "    </tr>\n",
       "  </thead>\n",
       "  <tbody>\n",
       "    <tr>\n",
       "      <th>herding</th>\n",
       "      <td>11</td>\n",
       "      <td>2</td>\n",
       "      <td>3</td>\n",
       "    </tr>\n",
       "    <tr>\n",
       "      <th>hound</th>\n",
       "      <td>8</td>\n",
       "      <td>1</td>\n",
       "      <td>6</td>\n",
       "    </tr>\n",
       "    <tr>\n",
       "      <th>non-sporting</th>\n",
       "      <td>7</td>\n",
       "      <td>0</td>\n",
       "      <td>4</td>\n",
       "    </tr>\n",
       "    <tr>\n",
       "      <th>sporting</th>\n",
       "      <td>17</td>\n",
       "      <td>1</td>\n",
       "      <td>3</td>\n",
       "    </tr>\n",
       "    <tr>\n",
       "      <th>terrier</th>\n",
       "      <td>9</td>\n",
       "      <td>0</td>\n",
       "      <td>9</td>\n",
       "    </tr>\n",
       "    <tr>\n",
       "      <th>toy</th>\n",
       "      <td>3</td>\n",
       "      <td>5</td>\n",
       "      <td>5</td>\n",
       "    </tr>\n",
       "    <tr>\n",
       "      <th>working</th>\n",
       "      <td>12</td>\n",
       "      <td>1</td>\n",
       "      <td>5</td>\n",
       "    </tr>\n",
       "  </tbody>\n",
       "</table>\n",
       "</div>"
      ],
      "text/plain": [
       "kids          high  low  medium\n",
       "group                          \n",
       "herding         11    2       3\n",
       "hound            8    1       6\n",
       "non-sporting     7    0       4\n",
       "sporting        17    1       3\n",
       "terrier          9    0       9\n",
       "toy              3    5       5\n",
       "working         12    1       5"
      ]
     },
     "execution_count": 25,
     "metadata": {},
     "output_type": "execute_result"
    }
   ],
   "source": [
    "pd.crosstab(dogs[\"group\"], dogs[\"kids\"]) # like R's table() with 2+ arg"
   ]
  },
  {
   "cell_type": "markdown",
   "id": "9f63b92e",
   "metadata": {
    "slideshow": {
     "slide_type": "slide"
    }
   },
   "source": [
    "### Applying Functions\n",
    "\n",
    "You can also use Pandas to apply your own aggregation functions to columns or rows.\n",
    "\n",
    "* `.apply()` applies a function column-by-column or row-by-row.\n",
    "* `.applymap()` applies a function element-by-element.\n",
    "\n",
    "This is another way to vectorizing code, but only works for DataFrame. \n"
   ]
  },
  {
   "cell_type": "code",
   "execution_count": 26,
   "id": "d776d49e",
   "metadata": {},
   "outputs": [
    {
     "data": {
      "text/plain": [
       "datadog                  2.65\n",
       "popularity_all         172.00\n",
       "popularity              86.00\n",
       "lifetime_cost        14033.00\n",
       "intelligence_rank       79.00\n",
       "longevity               10.21\n",
       "ailments                 9.00\n",
       "price                 3177.00\n",
       "food_cost             1079.00\n",
       "megarank_kids           86.00\n",
       "megarank                86.00\n",
       "weight                 170.00\n",
       "height                  27.00\n",
       "dtype: float64"
      ]
     },
     "execution_count": 26,
     "metadata": {},
     "output_type": "execute_result"
    }
   ],
   "source": [
    "def spread(x):\n",
    "    '''Returns spread. Input is a single column (or row)'''\n",
    "    return x.max() - x.min()\n",
    "    \n",
    "dogs.select_dtypes(include = [\"float64\", \"int64\"]).apply(spread)"
   ]
  },
  {
   "cell_type": "markdown",
   "id": "dc50033a",
   "metadata": {
    "slideshow": {
     "slide_type": "slide"
    }
   },
   "source": [
    "### Grouping"
   ]
  },
  {
   "cell_type": "markdown",
   "id": "712150c8",
   "metadata": {},
   "source": [
    "Use the `.groupby()` method to group data before computing aggregate statistics."
   ]
  },
  {
   "cell_type": "code",
   "execution_count": 27,
   "id": "5f922682",
   "metadata": {},
   "outputs": [
    {
     "data": {
      "text/html": [
       "<div>\n",
       "<style scoped>\n",
       "    .dataframe tbody tr th:only-of-type {\n",
       "        vertical-align: middle;\n",
       "    }\n",
       "\n",
       "    .dataframe tbody tr th {\n",
       "        vertical-align: top;\n",
       "    }\n",
       "\n",
       "    .dataframe thead th {\n",
       "        text-align: right;\n",
       "    }\n",
       "</style>\n",
       "<table border=\"1\" class=\"dataframe\">\n",
       "  <thead>\n",
       "    <tr style=\"text-align: right;\">\n",
       "      <th></th>\n",
       "      <th>breed</th>\n",
       "      <th>group</th>\n",
       "      <th>datadog</th>\n",
       "      <th>popularity_all</th>\n",
       "      <th>popularity</th>\n",
       "      <th>lifetime_cost</th>\n",
       "      <th>intelligence_rank</th>\n",
       "      <th>longevity</th>\n",
       "      <th>ailments</th>\n",
       "      <th>price</th>\n",
       "      <th>food_cost</th>\n",
       "      <th>grooming</th>\n",
       "      <th>kids</th>\n",
       "      <th>megarank_kids</th>\n",
       "      <th>megarank</th>\n",
       "      <th>size</th>\n",
       "      <th>weight</th>\n",
       "      <th>height</th>\n",
       "    </tr>\n",
       "  </thead>\n",
       "  <tbody>\n",
       "    <tr>\n",
       "      <th>0</th>\n",
       "      <td>Border Collie</td>\n",
       "      <td>herding</td>\n",
       "      <td>3.64</td>\n",
       "      <td>45</td>\n",
       "      <td>39.0</td>\n",
       "      <td>20143.0</td>\n",
       "      <td>1.0</td>\n",
       "      <td>12.52</td>\n",
       "      <td>2.0</td>\n",
       "      <td>623.0</td>\n",
       "      <td>324.0</td>\n",
       "      <td>weekly</td>\n",
       "      <td>low</td>\n",
       "      <td>1.0</td>\n",
       "      <td>29.0</td>\n",
       "      <td>medium</td>\n",
       "      <td>NaN</td>\n",
       "      <td>20.0</td>\n",
       "    </tr>\n",
       "    <tr>\n",
       "      <th>1</th>\n",
       "      <td>Border Terrier</td>\n",
       "      <td>terrier</td>\n",
       "      <td>3.61</td>\n",
       "      <td>80</td>\n",
       "      <td>61.0</td>\n",
       "      <td>22638.0</td>\n",
       "      <td>30.0</td>\n",
       "      <td>14.00</td>\n",
       "      <td>0.0</td>\n",
       "      <td>833.0</td>\n",
       "      <td>324.0</td>\n",
       "      <td>weekly</td>\n",
       "      <td>high</td>\n",
       "      <td>2.0</td>\n",
       "      <td>1.0</td>\n",
       "      <td>small</td>\n",
       "      <td>13.5</td>\n",
       "      <td>NaN</td>\n",
       "    </tr>\n",
       "    <tr>\n",
       "      <th>2</th>\n",
       "      <td>Brittany</td>\n",
       "      <td>sporting</td>\n",
       "      <td>3.54</td>\n",
       "      <td>30</td>\n",
       "      <td>30.0</td>\n",
       "      <td>22589.0</td>\n",
       "      <td>19.0</td>\n",
       "      <td>12.92</td>\n",
       "      <td>0.0</td>\n",
       "      <td>618.0</td>\n",
       "      <td>466.0</td>\n",
       "      <td>weekly</td>\n",
       "      <td>medium</td>\n",
       "      <td>3.0</td>\n",
       "      <td>11.0</td>\n",
       "      <td>medium</td>\n",
       "      <td>35.0</td>\n",
       "      <td>19.0</td>\n",
       "    </tr>\n",
       "    <tr>\n",
       "      <th>3</th>\n",
       "      <td>Cairn Terrier</td>\n",
       "      <td>terrier</td>\n",
       "      <td>3.53</td>\n",
       "      <td>59</td>\n",
       "      <td>48.0</td>\n",
       "      <td>21992.0</td>\n",
       "      <td>35.0</td>\n",
       "      <td>13.84</td>\n",
       "      <td>2.0</td>\n",
       "      <td>435.0</td>\n",
       "      <td>324.0</td>\n",
       "      <td>weekly</td>\n",
       "      <td>high</td>\n",
       "      <td>4.0</td>\n",
       "      <td>2.0</td>\n",
       "      <td>small</td>\n",
       "      <td>14.0</td>\n",
       "      <td>10.0</td>\n",
       "    </tr>\n",
       "    <tr>\n",
       "      <th>4</th>\n",
       "      <td>Welsh Springer Spaniel</td>\n",
       "      <td>sporting</td>\n",
       "      <td>3.34</td>\n",
       "      <td>130</td>\n",
       "      <td>81.0</td>\n",
       "      <td>20224.0</td>\n",
       "      <td>31.0</td>\n",
       "      <td>12.49</td>\n",
       "      <td>1.0</td>\n",
       "      <td>750.0</td>\n",
       "      <td>324.0</td>\n",
       "      <td>weekly</td>\n",
       "      <td>high</td>\n",
       "      <td>5.0</td>\n",
       "      <td>4.0</td>\n",
       "      <td>medium</td>\n",
       "      <td>NaN</td>\n",
       "      <td>18.0</td>\n",
       "    </tr>\n",
       "  </tbody>\n",
       "</table>\n",
       "</div>"
      ],
      "text/plain": [
       "                    breed     group  datadog  popularity_all  popularity  \\\n",
       "0           Border Collie   herding     3.64              45        39.0   \n",
       "1          Border Terrier   terrier     3.61              80        61.0   \n",
       "2                Brittany  sporting     3.54              30        30.0   \n",
       "3           Cairn Terrier   terrier     3.53              59        48.0   \n",
       "4  Welsh Springer Spaniel  sporting     3.34             130        81.0   \n",
       "\n",
       "   lifetime_cost  intelligence_rank  longevity  ailments  price  food_cost  \\\n",
       "0        20143.0                1.0      12.52       2.0  623.0      324.0   \n",
       "1        22638.0               30.0      14.00       0.0  833.0      324.0   \n",
       "2        22589.0               19.0      12.92       0.0  618.0      466.0   \n",
       "3        21992.0               35.0      13.84       2.0  435.0      324.0   \n",
       "4        20224.0               31.0      12.49       1.0  750.0      324.0   \n",
       "\n",
       "  grooming    kids  megarank_kids  megarank    size  weight  height  \n",
       "0   weekly     low            1.0      29.0  medium     NaN    20.0  \n",
       "1   weekly    high            2.0       1.0   small    13.5     NaN  \n",
       "2   weekly  medium            3.0      11.0  medium    35.0    19.0  \n",
       "3   weekly    high            4.0       2.0   small    14.0    10.0  \n",
       "4   weekly    high            5.0       4.0  medium     NaN    18.0  "
      ]
     },
     "execution_count": 27,
     "metadata": {},
     "output_type": "execute_result"
    }
   ],
   "source": [
    "dogs.head()"
   ]
  },
  {
   "cell_type": "code",
   "execution_count": 28,
   "id": "878bd289",
   "metadata": {
    "slideshow": {
     "slide_type": "subslide"
    }
   },
   "outputs": [
    {
     "data": {
      "text/html": [
       "<div>\n",
       "<style scoped>\n",
       "    .dataframe tbody tr th:only-of-type {\n",
       "        vertical-align: middle;\n",
       "    }\n",
       "\n",
       "    .dataframe tbody tr th {\n",
       "        vertical-align: top;\n",
       "    }\n",
       "\n",
       "    .dataframe thead th {\n",
       "        text-align: right;\n",
       "    }\n",
       "</style>\n",
       "<table border=\"1\" class=\"dataframe\">\n",
       "  <thead>\n",
       "    <tr style=\"text-align: right;\">\n",
       "      <th></th>\n",
       "      <th>group</th>\n",
       "      <th>datadog</th>\n",
       "      <th>popularity_all</th>\n",
       "      <th>popularity</th>\n",
       "      <th>lifetime_cost</th>\n",
       "      <th>intelligence_rank</th>\n",
       "      <th>longevity</th>\n",
       "      <th>ailments</th>\n",
       "      <th>price</th>\n",
       "      <th>food_cost</th>\n",
       "      <th>megarank_kids</th>\n",
       "      <th>megarank</th>\n",
       "      <th>weight</th>\n",
       "      <th>height</th>\n",
       "    </tr>\n",
       "  </thead>\n",
       "  <tbody>\n",
       "    <tr>\n",
       "      <th>0</th>\n",
       "      <td>herding</td>\n",
       "      <td>2.732000</td>\n",
       "      <td>99.880000</td>\n",
       "      <td>43.500000</td>\n",
       "      <td>20691.818182</td>\n",
       "      <td>21.812500</td>\n",
       "      <td>11.728824</td>\n",
       "      <td>2.235294</td>\n",
       "      <td>814.941176</td>\n",
       "      <td>490.900000</td>\n",
       "      <td>40.300000</td>\n",
       "      <td>42.600000</td>\n",
       "      <td>36.666667</td>\n",
       "      <td>19.730000</td>\n",
       "    </tr>\n",
       "    <tr>\n",
       "      <th>1</th>\n",
       "      <td>hound</td>\n",
       "      <td>2.373077</td>\n",
       "      <td>104.769231</td>\n",
       "      <td>52.692308</td>\n",
       "      <td>19365.769231</td>\n",
       "      <td>54.904762</td>\n",
       "      <td>10.793529</td>\n",
       "      <td>0.833333</td>\n",
       "      <td>746.571429</td>\n",
       "      <td>514.538462</td>\n",
       "      <td>54.769231</td>\n",
       "      <td>56.153846</td>\n",
       "      <td>63.833333</td>\n",
       "      <td>22.543478</td>\n",
       "    </tr>\n",
       "    <tr>\n",
       "      <th>2</th>\n",
       "      <td>non-sporting</td>\n",
       "      <td>2.488000</td>\n",
       "      <td>82.210526</td>\n",
       "      <td>38.600000</td>\n",
       "      <td>19315.800000</td>\n",
       "      <td>46.714286</td>\n",
       "      <td>10.976000</td>\n",
       "      <td>1.352941</td>\n",
       "      <td>930.500000</td>\n",
       "      <td>409.200000</td>\n",
       "      <td>46.300000</td>\n",
       "      <td>42.800000</td>\n",
       "      <td>27.928571</td>\n",
       "      <td>14.984375</td>\n",
       "    </tr>\n",
       "    <tr>\n",
       "      <th>3</th>\n",
       "      <td>sporting</td>\n",
       "      <td>2.976000</td>\n",
       "      <td>87.428571</td>\n",
       "      <td>46.066667</td>\n",
       "      <td>20299.312500</td>\n",
       "      <td>27.782609</td>\n",
       "      <td>10.895600</td>\n",
       "      <td>1.040000</td>\n",
       "      <td>760.125000</td>\n",
       "      <td>510.866667</td>\n",
       "      <td>27.466667</td>\n",
       "      <td>17.266667</td>\n",
       "      <td>51.966667</td>\n",
       "      <td>21.276786</td>\n",
       "    </tr>\n",
       "    <tr>\n",
       "      <th>4</th>\n",
       "      <td>terrier</td>\n",
       "      <td>2.787500</td>\n",
       "      <td>100.250000</td>\n",
       "      <td>58.416667</td>\n",
       "      <td>20504.333333</td>\n",
       "      <td>44.750000</td>\n",
       "      <td>11.480000</td>\n",
       "      <td>0.653846</td>\n",
       "      <td>905.760000</td>\n",
       "      <td>389.916667</td>\n",
       "      <td>37.166667</td>\n",
       "      <td>39.583333</td>\n",
       "      <td>23.413043</td>\n",
       "      <td>13.780000</td>\n",
       "    </tr>\n",
       "    <tr>\n",
       "      <th>5</th>\n",
       "      <td>toy</td>\n",
       "      <td>2.805385</td>\n",
       "      <td>54.052632</td>\n",
       "      <td>36.769231</td>\n",
       "      <td>19506.076923</td>\n",
       "      <td>48.647059</td>\n",
       "      <td>11.672941</td>\n",
       "      <td>1.000000</td>\n",
       "      <td>686.894737</td>\n",
       "      <td>343.230769</td>\n",
       "      <td>35.076923</td>\n",
       "      <td>49.000000</td>\n",
       "      <td>9.818182</td>\n",
       "      <td>10.533333</td>\n",
       "    </tr>\n",
       "    <tr>\n",
       "      <th>6</th>\n",
       "      <td>working</td>\n",
       "      <td>2.065000</td>\n",
       "      <td>71.111111</td>\n",
       "      <td>32.285714</td>\n",
       "      <td>19164.687500</td>\n",
       "      <td>41.529412</td>\n",
       "      <td>9.465909</td>\n",
       "      <td>1.772727</td>\n",
       "      <td>1235.708333</td>\n",
       "      <td>721.500000</td>\n",
       "      <td>66.571429</td>\n",
       "      <td>62.000000</td>\n",
       "      <td>105.000000</td>\n",
       "      <td>25.388889</td>\n",
       "    </tr>\n",
       "  </tbody>\n",
       "</table>\n",
       "</div>"
      ],
      "text/plain": [
       "          group   datadog  popularity_all  popularity  lifetime_cost  \\\n",
       "0       herding  2.732000       99.880000   43.500000   20691.818182   \n",
       "1         hound  2.373077      104.769231   52.692308   19365.769231   \n",
       "2  non-sporting  2.488000       82.210526   38.600000   19315.800000   \n",
       "3      sporting  2.976000       87.428571   46.066667   20299.312500   \n",
       "4       terrier  2.787500      100.250000   58.416667   20504.333333   \n",
       "5           toy  2.805385       54.052632   36.769231   19506.076923   \n",
       "6       working  2.065000       71.111111   32.285714   19164.687500   \n",
       "\n",
       "   intelligence_rank  longevity  ailments        price   food_cost  \\\n",
       "0          21.812500  11.728824  2.235294   814.941176  490.900000   \n",
       "1          54.904762  10.793529  0.833333   746.571429  514.538462   \n",
       "2          46.714286  10.976000  1.352941   930.500000  409.200000   \n",
       "3          27.782609  10.895600  1.040000   760.125000  510.866667   \n",
       "4          44.750000  11.480000  0.653846   905.760000  389.916667   \n",
       "5          48.647059  11.672941  1.000000   686.894737  343.230769   \n",
       "6          41.529412   9.465909  1.772727  1235.708333  721.500000   \n",
       "\n",
       "   megarank_kids   megarank      weight     height  \n",
       "0      40.300000  42.600000   36.666667  19.730000  \n",
       "1      54.769231  56.153846   63.833333  22.543478  \n",
       "2      46.300000  42.800000   27.928571  14.984375  \n",
       "3      27.466667  17.266667   51.966667  21.276786  \n",
       "4      37.166667  39.583333   23.413043  13.780000  \n",
       "5      35.076923  49.000000    9.818182  10.533333  \n",
       "6      66.571429  62.000000  105.000000  25.388889  "
      ]
     },
     "execution_count": 28,
     "metadata": {},
     "output_type": "execute_result"
    }
   ],
   "source": [
    "dogs.groupby(\"group\").mean(numeric_only=True).reset_index()"
   ]
  },
  {
   "cell_type": "markdown",
   "id": "6a1db5a9",
   "metadata": {
    "slideshow": {
     "slide_type": "subslide"
    }
   },
   "source": [
    "By default, the groups become the index. You can keep them as regular columns by setting `as_index = False` when grouping."
   ]
  },
  {
   "cell_type": "code",
   "execution_count": 29,
   "id": "a3ddcedf",
   "metadata": {},
   "outputs": [
    {
     "data": {
      "text/html": [
       "<div>\n",
       "<style scoped>\n",
       "    .dataframe tbody tr th:only-of-type {\n",
       "        vertical-align: middle;\n",
       "    }\n",
       "\n",
       "    .dataframe tbody tr th {\n",
       "        vertical-align: top;\n",
       "    }\n",
       "\n",
       "    .dataframe thead th {\n",
       "        text-align: right;\n",
       "    }\n",
       "</style>\n",
       "<table border=\"1\" class=\"dataframe\">\n",
       "  <thead>\n",
       "    <tr style=\"text-align: right;\">\n",
       "      <th></th>\n",
       "      <th>group</th>\n",
       "      <th>datadog</th>\n",
       "      <th>popularity_all</th>\n",
       "      <th>popularity</th>\n",
       "      <th>lifetime_cost</th>\n",
       "      <th>intelligence_rank</th>\n",
       "      <th>longevity</th>\n",
       "      <th>ailments</th>\n",
       "      <th>price</th>\n",
       "      <th>food_cost</th>\n",
       "      <th>megarank_kids</th>\n",
       "      <th>megarank</th>\n",
       "      <th>weight</th>\n",
       "      <th>height</th>\n",
       "    </tr>\n",
       "  </thead>\n",
       "  <tbody>\n",
       "    <tr>\n",
       "      <th>0</th>\n",
       "      <td>herding</td>\n",
       "      <td>2.732000</td>\n",
       "      <td>99.880000</td>\n",
       "      <td>43.500000</td>\n",
       "      <td>20691.818182</td>\n",
       "      <td>21.812500</td>\n",
       "      <td>11.728824</td>\n",
       "      <td>2.235294</td>\n",
       "      <td>814.941176</td>\n",
       "      <td>490.900000</td>\n",
       "      <td>40.300000</td>\n",
       "      <td>42.600000</td>\n",
       "      <td>36.666667</td>\n",
       "      <td>19.730000</td>\n",
       "    </tr>\n",
       "    <tr>\n",
       "      <th>1</th>\n",
       "      <td>hound</td>\n",
       "      <td>2.373077</td>\n",
       "      <td>104.769231</td>\n",
       "      <td>52.692308</td>\n",
       "      <td>19365.769231</td>\n",
       "      <td>54.904762</td>\n",
       "      <td>10.793529</td>\n",
       "      <td>0.833333</td>\n",
       "      <td>746.571429</td>\n",
       "      <td>514.538462</td>\n",
       "      <td>54.769231</td>\n",
       "      <td>56.153846</td>\n",
       "      <td>63.833333</td>\n",
       "      <td>22.543478</td>\n",
       "    </tr>\n",
       "    <tr>\n",
       "      <th>2</th>\n",
       "      <td>non-sporting</td>\n",
       "      <td>2.488000</td>\n",
       "      <td>82.210526</td>\n",
       "      <td>38.600000</td>\n",
       "      <td>19315.800000</td>\n",
       "      <td>46.714286</td>\n",
       "      <td>10.976000</td>\n",
       "      <td>1.352941</td>\n",
       "      <td>930.500000</td>\n",
       "      <td>409.200000</td>\n",
       "      <td>46.300000</td>\n",
       "      <td>42.800000</td>\n",
       "      <td>27.928571</td>\n",
       "      <td>14.984375</td>\n",
       "    </tr>\n",
       "    <tr>\n",
       "      <th>3</th>\n",
       "      <td>sporting</td>\n",
       "      <td>2.976000</td>\n",
       "      <td>87.428571</td>\n",
       "      <td>46.066667</td>\n",
       "      <td>20299.312500</td>\n",
       "      <td>27.782609</td>\n",
       "      <td>10.895600</td>\n",
       "      <td>1.040000</td>\n",
       "      <td>760.125000</td>\n",
       "      <td>510.866667</td>\n",
       "      <td>27.466667</td>\n",
       "      <td>17.266667</td>\n",
       "      <td>51.966667</td>\n",
       "      <td>21.276786</td>\n",
       "    </tr>\n",
       "    <tr>\n",
       "      <th>4</th>\n",
       "      <td>terrier</td>\n",
       "      <td>2.787500</td>\n",
       "      <td>100.250000</td>\n",
       "      <td>58.416667</td>\n",
       "      <td>20504.333333</td>\n",
       "      <td>44.750000</td>\n",
       "      <td>11.480000</td>\n",
       "      <td>0.653846</td>\n",
       "      <td>905.760000</td>\n",
       "      <td>389.916667</td>\n",
       "      <td>37.166667</td>\n",
       "      <td>39.583333</td>\n",
       "      <td>23.413043</td>\n",
       "      <td>13.780000</td>\n",
       "    </tr>\n",
       "    <tr>\n",
       "      <th>5</th>\n",
       "      <td>toy</td>\n",
       "      <td>2.805385</td>\n",
       "      <td>54.052632</td>\n",
       "      <td>36.769231</td>\n",
       "      <td>19506.076923</td>\n",
       "      <td>48.647059</td>\n",
       "      <td>11.672941</td>\n",
       "      <td>1.000000</td>\n",
       "      <td>686.894737</td>\n",
       "      <td>343.230769</td>\n",
       "      <td>35.076923</td>\n",
       "      <td>49.000000</td>\n",
       "      <td>9.818182</td>\n",
       "      <td>10.533333</td>\n",
       "    </tr>\n",
       "    <tr>\n",
       "      <th>6</th>\n",
       "      <td>working</td>\n",
       "      <td>2.065000</td>\n",
       "      <td>71.111111</td>\n",
       "      <td>32.285714</td>\n",
       "      <td>19164.687500</td>\n",
       "      <td>41.529412</td>\n",
       "      <td>9.465909</td>\n",
       "      <td>1.772727</td>\n",
       "      <td>1235.708333</td>\n",
       "      <td>721.500000</td>\n",
       "      <td>66.571429</td>\n",
       "      <td>62.000000</td>\n",
       "      <td>105.000000</td>\n",
       "      <td>25.388889</td>\n",
       "    </tr>\n",
       "  </tbody>\n",
       "</table>\n",
       "</div>"
      ],
      "text/plain": [
       "          group   datadog  popularity_all  popularity  lifetime_cost  \\\n",
       "0       herding  2.732000       99.880000   43.500000   20691.818182   \n",
       "1         hound  2.373077      104.769231   52.692308   19365.769231   \n",
       "2  non-sporting  2.488000       82.210526   38.600000   19315.800000   \n",
       "3      sporting  2.976000       87.428571   46.066667   20299.312500   \n",
       "4       terrier  2.787500      100.250000   58.416667   20504.333333   \n",
       "5           toy  2.805385       54.052632   36.769231   19506.076923   \n",
       "6       working  2.065000       71.111111   32.285714   19164.687500   \n",
       "\n",
       "   intelligence_rank  longevity  ailments        price   food_cost  \\\n",
       "0          21.812500  11.728824  2.235294   814.941176  490.900000   \n",
       "1          54.904762  10.793529  0.833333   746.571429  514.538462   \n",
       "2          46.714286  10.976000  1.352941   930.500000  409.200000   \n",
       "3          27.782609  10.895600  1.040000   760.125000  510.866667   \n",
       "4          44.750000  11.480000  0.653846   905.760000  389.916667   \n",
       "5          48.647059  11.672941  1.000000   686.894737  343.230769   \n",
       "6          41.529412   9.465909  1.772727  1235.708333  721.500000   \n",
       "\n",
       "   megarank_kids   megarank      weight     height  \n",
       "0      40.300000  42.600000   36.666667  19.730000  \n",
       "1      54.769231  56.153846   63.833333  22.543478  \n",
       "2      46.300000  42.800000   27.928571  14.984375  \n",
       "3      27.466667  17.266667   51.966667  21.276786  \n",
       "4      37.166667  39.583333   23.413043  13.780000  \n",
       "5      35.076923  49.000000    9.818182  10.533333  \n",
       "6      66.571429  62.000000  105.000000  25.388889  "
      ]
     },
     "execution_count": 29,
     "metadata": {},
     "output_type": "execute_result"
    }
   ],
   "source": [
    "dogs.groupby(\"group\", as_index = False).mean(numeric_only=True)"
   ]
  },
  {
   "cell_type": "markdown",
   "id": "7e50e784",
   "metadata": {
    "slideshow": {
     "slide_type": "subslide"
    }
   },
   "source": [
    "You can group by multiple columns."
   ]
  },
  {
   "cell_type": "code",
   "execution_count": 30,
   "id": "4031cbd1",
   "metadata": {},
   "outputs": [
    {
     "data": {
      "text/html": [
       "<div>\n",
       "<style scoped>\n",
       "    .dataframe tbody tr th:only-of-type {\n",
       "        vertical-align: middle;\n",
       "    }\n",
       "\n",
       "    .dataframe tbody tr th {\n",
       "        vertical-align: top;\n",
       "    }\n",
       "\n",
       "    .dataframe thead th {\n",
       "        text-align: right;\n",
       "    }\n",
       "</style>\n",
       "<table border=\"1\" class=\"dataframe\">\n",
       "  <thead>\n",
       "    <tr style=\"text-align: right;\">\n",
       "      <th></th>\n",
       "      <th></th>\n",
       "      <th>datadog</th>\n",
       "      <th>popularity_all</th>\n",
       "      <th>popularity</th>\n",
       "      <th>lifetime_cost</th>\n",
       "      <th>intelligence_rank</th>\n",
       "      <th>longevity</th>\n",
       "      <th>ailments</th>\n",
       "      <th>price</th>\n",
       "      <th>food_cost</th>\n",
       "      <th>megarank_kids</th>\n",
       "      <th>megarank</th>\n",
       "      <th>weight</th>\n",
       "      <th>height</th>\n",
       "    </tr>\n",
       "    <tr>\n",
       "      <th>group</th>\n",
       "      <th>kids</th>\n",
       "      <th></th>\n",
       "      <th></th>\n",
       "      <th></th>\n",
       "      <th></th>\n",
       "      <th></th>\n",
       "      <th></th>\n",
       "      <th></th>\n",
       "      <th></th>\n",
       "      <th></th>\n",
       "      <th></th>\n",
       "      <th></th>\n",
       "      <th></th>\n",
       "      <th></th>\n",
       "    </tr>\n",
       "  </thead>\n",
       "  <tbody>\n",
       "    <tr>\n",
       "      <th rowspan=\"3\" valign=\"top\">herding</th>\n",
       "      <th>high</th>\n",
       "      <td>2.576667</td>\n",
       "      <td>96.000000</td>\n",
       "      <td>53.500000</td>\n",
       "      <td>21171.142857</td>\n",
       "      <td>26.125</td>\n",
       "      <td>11.702000</td>\n",
       "      <td>2.111111</td>\n",
       "      <td>848.875000</td>\n",
       "      <td>531.166667</td>\n",
       "      <td>48.833333</td>\n",
       "      <td>37.500000</td>\n",
       "      <td>31.0</td>\n",
       "      <td>19.909091</td>\n",
       "    </tr>\n",
       "    <tr>\n",
       "      <th>low</th>\n",
       "      <td>3.445000</td>\n",
       "      <td>52.500000</td>\n",
       "      <td>44.000000</td>\n",
       "      <td>20269.000000</td>\n",
       "      <td>5.500</td>\n",
       "      <td>12.095000</td>\n",
       "      <td>1.500000</td>\n",
       "      <td>576.500000</td>\n",
       "      <td>395.000000</td>\n",
       "      <td>5.000000</td>\n",
       "      <td>40.500000</td>\n",
       "      <td>NaN</td>\n",
       "      <td>19.250000</td>\n",
       "    </tr>\n",
       "    <tr>\n",
       "      <th>medium</th>\n",
       "      <td>2.485000</td>\n",
       "      <td>61.666667</td>\n",
       "      <td>13.000000</td>\n",
       "      <td>19437.000000</td>\n",
       "      <td>22.500</td>\n",
       "      <td>10.936667</td>\n",
       "      <td>5.000000</td>\n",
       "      <td>692.500000</td>\n",
       "      <td>466.000000</td>\n",
       "      <td>50.000000</td>\n",
       "      <td>60.000000</td>\n",
       "      <td>NaN</td>\n",
       "      <td>21.000000</td>\n",
       "    </tr>\n",
       "    <tr>\n",
       "      <th rowspan=\"2\" valign=\"top\">hound</th>\n",
       "      <th>high</th>\n",
       "      <td>2.295000</td>\n",
       "      <td>98.250000</td>\n",
       "      <td>54.166667</td>\n",
       "      <td>20165.500000</td>\n",
       "      <td>56.625</td>\n",
       "      <td>10.678571</td>\n",
       "      <td>1.000000</td>\n",
       "      <td>1028.714286</td>\n",
       "      <td>601.500000</td>\n",
       "      <td>60.666667</td>\n",
       "      <td>49.166667</td>\n",
       "      <td>72.5</td>\n",
       "      <td>22.785714</td>\n",
       "    </tr>\n",
       "    <tr>\n",
       "      <th>low</th>\n",
       "      <td>3.190000</td>\n",
       "      <td>9.000000</td>\n",
       "      <td>9.000000</td>\n",
       "      <td>20113.000000</td>\n",
       "      <td>49.000</td>\n",
       "      <td>12.630000</td>\n",
       "      <td>2.000000</td>\n",
       "      <td>423.000000</td>\n",
       "      <td>324.000000</td>\n",
       "      <td>14.000000</td>\n",
       "      <td>54.000000</td>\n",
       "      <td>24.0</td>\n",
       "      <td>NaN</td>\n",
       "    </tr>\n",
       "  </tbody>\n",
       "</table>\n",
       "</div>"
      ],
      "text/plain": [
       "                 datadog  popularity_all  popularity  lifetime_cost  \\\n",
       "group   kids                                                          \n",
       "herding high    2.576667       96.000000   53.500000   21171.142857   \n",
       "        low     3.445000       52.500000   44.000000   20269.000000   \n",
       "        medium  2.485000       61.666667   13.000000   19437.000000   \n",
       "hound   high    2.295000       98.250000   54.166667   20165.500000   \n",
       "        low     3.190000        9.000000    9.000000   20113.000000   \n",
       "\n",
       "                intelligence_rank  longevity  ailments        price  \\\n",
       "group   kids                                                          \n",
       "herding high               26.125  11.702000  2.111111   848.875000   \n",
       "        low                 5.500  12.095000  1.500000   576.500000   \n",
       "        medium             22.500  10.936667  5.000000   692.500000   \n",
       "hound   high               56.625  10.678571  1.000000  1028.714286   \n",
       "        low                49.000  12.630000  2.000000   423.000000   \n",
       "\n",
       "                 food_cost  megarank_kids   megarank  weight     height  \n",
       "group   kids                                                             \n",
       "herding high    531.166667      48.833333  37.500000    31.0  19.909091  \n",
       "        low     395.000000       5.000000  40.500000     NaN  19.250000  \n",
       "        medium  466.000000      50.000000  60.000000     NaN  21.000000  \n",
       "hound   high    601.500000      60.666667  49.166667    72.5  22.785714  \n",
       "        low     324.000000      14.000000  54.000000    24.0        NaN  "
      ]
     },
     "execution_count": 30,
     "metadata": {},
     "output_type": "execute_result"
    }
   ],
   "source": [
    "dogs.groupby([\"group\", \"kids\"]).mean(numeric_only=True).head()"
   ]
  },
  {
   "cell_type": "markdown",
   "id": "6c671dce",
   "metadata": {
    "slideshow": {
     "slide_type": "subslide"
    }
   },
   "source": [
    "On groups, the `.apply()` method computes group-by-group. It is the most general form of two other methods:\n",
    "\n",
    "* `.agg()`, which applies a function to each group to compute summary statistics\n",
    "* `.transform()`, which applies a function to each group to compute transformations (such as standardization)"
   ]
  },
  {
   "cell_type": "markdown",
   "id": "9076d18e",
   "metadata": {
    "slideshow": {
     "slide_type": "slide"
    }
   },
   "source": [
    "## Tidying a Dataset\n",
    "\n",
    "Do Americans prefer low fat milk over whole milk?\n",
    "\n",
    "The USDA publishes data about dairy production. We can answer the question with the [Milk Sales Dataset](https://www.ers.usda.gov/webdocs/DataFiles/48685/fluidmilk.xlsx?v=5010.6).\n",
    "\n",
    "Many of Python's visualization packages expect [tidy data](https://vita.had.co.nz/papers/tidy-data.pdf), which means:\n",
    "\n",
    "1. Each feature must have its own column.\n",
    "2. Each observation must have its own row.\n",
    "3. Each value must have its own cell.\n",
    "\n",
    "Let's tidy up the Milk Sales Dataset so we can make a line plot that shows how milk sales have changed over time."
   ]
  },
  {
   "cell_type": "code",
   "execution_count": 3,
   "id": "69313cb3",
   "metadata": {
    "slideshow": {
     "slide_type": "subslide"
    }
   },
   "outputs": [
    {
     "name": "stderr",
     "output_type": "stream",
     "text": [
      "/var/folders/nv/5j9xydr90s30r_9rw5pwhf640000gn/T/ipykernel_38948/1662815981.py:2: DeprecationWarning: \n",
      "Pyarrow will become a required dependency of pandas in the next major release of pandas (pandas 3.0),\n",
      "(to allow more performant data types, such as the Arrow string type, and better interoperability with other libraries)\n",
      "but was not found to be installed on your system.\n",
      "If this would cause problems for you,\n",
      "please provide us feedback at https://github.com/pandas-dev/pandas/issues/54466\n",
      "        \n",
      "  import pandas as pd\n"
     ]
    }
   ],
   "source": [
    "import numpy as np\n",
    "import pandas as pd"
   ]
  },
  {
   "cell_type": "code",
   "execution_count": 29,
   "id": "41102177",
   "metadata": {
    "scrolled": false
   },
   "outputs": [
    {
     "data": {
      "text/html": [
       "<div>\n",
       "<style scoped>\n",
       "    .dataframe tbody tr th:only-of-type {\n",
       "        vertical-align: middle;\n",
       "    }\n",
       "\n",
       "    .dataframe tbody tr th {\n",
       "        vertical-align: top;\n",
       "    }\n",
       "\n",
       "    .dataframe thead th {\n",
       "        text-align: right;\n",
       "    }\n",
       "</style>\n",
       "<table border=\"1\" class=\"dataframe\">\n",
       "  <thead>\n",
       "    <tr style=\"text-align: right;\">\n",
       "      <th></th>\n",
       "      <th>Fluid beverage milk sales quantities by product (millions of pounds)</th>\n",
       "      <th>Unnamed: 1</th>\n",
       "      <th>Unnamed: 2</th>\n",
       "      <th>Unnamed: 3</th>\n",
       "      <th>Unnamed: 4</th>\n",
       "      <th>Unnamed: 5</th>\n",
       "      <th>Unnamed: 6</th>\n",
       "      <th>Unnamed: 7</th>\n",
       "      <th>Unnamed: 8</th>\n",
       "      <th>Unnamed: 9</th>\n",
       "    </tr>\n",
       "  </thead>\n",
       "  <tbody>\n",
       "    <tr>\n",
       "      <th>0</th>\n",
       "      <td>NaN</td>\n",
       "      <td>Whole</td>\n",
       "      <td>Reduced-fat \\n(2% milk fat)</td>\n",
       "      <td>Low-fat \\n(1% milk fat)</td>\n",
       "      <td>Skim</td>\n",
       "      <td>Flavored \\nwhole 1</td>\n",
       "      <td>Flavored, \\nother than whole</td>\n",
       "      <td>Buttermilk</td>\n",
       "      <td>Eggnog</td>\n",
       "      <td>Total 2</td>\n",
       "    </tr>\n",
       "    <tr>\n",
       "      <th>1</th>\n",
       "      <td>1975</td>\n",
       "      <td>36188</td>\n",
       "      <td>8726</td>\n",
       "      <td>2742</td>\n",
       "      <td>2480</td>\n",
       "      <td>1366</td>\n",
       "      <td>719</td>\n",
       "      <td>1011</td>\n",
       "      <td>76</td>\n",
       "      <td>53308</td>\n",
       "    </tr>\n",
       "    <tr>\n",
       "      <th>2</th>\n",
       "      <td>1976</td>\n",
       "      <td>35241</td>\n",
       "      <td>9556</td>\n",
       "      <td>2875</td>\n",
       "      <td>2524</td>\n",
       "      <td>1475</td>\n",
       "      <td>864</td>\n",
       "      <td>1021</td>\n",
       "      <td>87</td>\n",
       "      <td>53643</td>\n",
       "    </tr>\n",
       "    <tr>\n",
       "      <th>3</th>\n",
       "      <td>1977</td>\n",
       "      <td>34036</td>\n",
       "      <td>10423</td>\n",
       "      <td>3003</td>\n",
       "      <td>2617</td>\n",
       "      <td>1446</td>\n",
       "      <td>1062</td>\n",
       "      <td>1007</td>\n",
       "      <td>94</td>\n",
       "      <td>53688</td>\n",
       "    </tr>\n",
       "    <tr>\n",
       "      <th>4</th>\n",
       "      <td>1978</td>\n",
       "      <td>33235</td>\n",
       "      <td>11017</td>\n",
       "      <td>3233</td>\n",
       "      <td>2543</td>\n",
       "      <td>1359</td>\n",
       "      <td>1097</td>\n",
       "      <td>983</td>\n",
       "      <td>94</td>\n",
       "      <td>53561</td>\n",
       "    </tr>\n",
       "  </tbody>\n",
       "</table>\n",
       "</div>"
      ],
      "text/plain": [
       "  Fluid beverage milk sales quantities by product (millions of pounds)  \\\n",
       "0                                                NaN                     \n",
       "1                                               1975                     \n",
       "2                                               1976                     \n",
       "3                                               1977                     \n",
       "4                                               1978                     \n",
       "\n",
       "  Unnamed: 1                   Unnamed: 2               Unnamed: 3 Unnamed: 4  \\\n",
       "0      Whole  Reduced-fat \\n(2% milk fat)  Low-fat \\n(1% milk fat)       Skim   \n",
       "1      36188                         8726                     2742       2480   \n",
       "2      35241                         9556                     2875       2524   \n",
       "3      34036                        10423                     3003       2617   \n",
       "4      33235                        11017                     3233       2543   \n",
       "\n",
       "           Unnamed: 5                    Unnamed: 6  Unnamed: 7 Unnamed: 8  \\\n",
       "0  Flavored \\nwhole 1  Flavored, \\nother than whole  Buttermilk     Eggnog   \n",
       "1                1366                           719        1011         76   \n",
       "2                1475                           864        1021         87   \n",
       "3                1446                          1062        1007         94   \n",
       "4                1359                          1097         983         94   \n",
       "\n",
       "  Unnamed: 9  \n",
       "0    Total 2  \n",
       "1      53308  \n",
       "2      53643  \n",
       "3      53688  \n",
       "4      53561  "
      ]
     },
     "execution_count": 29,
     "metadata": {},
     "output_type": "execute_result"
    }
   ],
   "source": [
    "milk = pd.read_excel(\"./fluidmilk.xlsx\")\n",
    "milk.head()"
   ]
  },
  {
   "cell_type": "code",
   "execution_count": 30,
   "id": "ff62e9f6",
   "metadata": {},
   "outputs": [
    {
     "data": {
      "text/plain": [
       "Index(['Fluid beverage milk sales quantities by product (millions of pounds)',\n",
       "       'Unnamed: 1', 'Unnamed: 2', 'Unnamed: 3', 'Unnamed: 4', 'Unnamed: 5',\n",
       "       'Unnamed: 6', 'Unnamed: 7', 'Unnamed: 8', 'Unnamed: 9'],\n",
       "      dtype='object')"
      ]
     },
     "execution_count": 30,
     "metadata": {},
     "output_type": "execute_result"
    }
   ],
   "source": [
    "milk.columns"
   ]
  },
  {
   "cell_type": "code",
   "execution_count": 31,
   "id": "857b9684",
   "metadata": {
    "scrolled": true,
    "slideshow": {
     "slide_type": "subslide"
    }
   },
   "outputs": [
    {
     "data": {
      "text/html": [
       "<div>\n",
       "<style scoped>\n",
       "    .dataframe tbody tr th:only-of-type {\n",
       "        vertical-align: middle;\n",
       "    }\n",
       "\n",
       "    .dataframe tbody tr th {\n",
       "        vertical-align: top;\n",
       "    }\n",
       "\n",
       "    .dataframe thead th {\n",
       "        text-align: right;\n",
       "    }\n",
       "</style>\n",
       "<table border=\"1\" class=\"dataframe\">\n",
       "  <thead>\n",
       "    <tr style=\"text-align: right;\">\n",
       "      <th></th>\n",
       "      <th>Fluid beverage milk sales quantities by product (millions of pounds)</th>\n",
       "      <th>Unnamed: 1</th>\n",
       "      <th>Unnamed: 2</th>\n",
       "      <th>Unnamed: 3</th>\n",
       "      <th>Unnamed: 4</th>\n",
       "      <th>Unnamed: 5</th>\n",
       "      <th>Unnamed: 6</th>\n",
       "      <th>Unnamed: 7</th>\n",
       "      <th>Unnamed: 8</th>\n",
       "      <th>Unnamed: 9</th>\n",
       "    </tr>\n",
       "  </thead>\n",
       "  <tbody>\n",
       "    <tr>\n",
       "      <th>0</th>\n",
       "      <td>NaN</td>\n",
       "      <td>Whole</td>\n",
       "      <td>Reduced-fat \\n(2% milk fat)</td>\n",
       "      <td>Low-fat \\n(1% milk fat)</td>\n",
       "      <td>Skim</td>\n",
       "      <td>Flavored \\nwhole 1</td>\n",
       "      <td>Flavored, \\nother than whole</td>\n",
       "      <td>Buttermilk</td>\n",
       "      <td>Eggnog</td>\n",
       "      <td>Total 2</td>\n",
       "    </tr>\n",
       "    <tr>\n",
       "      <th>1</th>\n",
       "      <td>1975</td>\n",
       "      <td>36188</td>\n",
       "      <td>8726</td>\n",
       "      <td>2742</td>\n",
       "      <td>2480</td>\n",
       "      <td>1366</td>\n",
       "      <td>719</td>\n",
       "      <td>1011</td>\n",
       "      <td>76</td>\n",
       "      <td>53308</td>\n",
       "    </tr>\n",
       "    <tr>\n",
       "      <th>2</th>\n",
       "      <td>1976</td>\n",
       "      <td>35241</td>\n",
       "      <td>9556</td>\n",
       "      <td>2875</td>\n",
       "      <td>2524</td>\n",
       "      <td>1475</td>\n",
       "      <td>864</td>\n",
       "      <td>1021</td>\n",
       "      <td>87</td>\n",
       "      <td>53643</td>\n",
       "    </tr>\n",
       "    <tr>\n",
       "      <th>3</th>\n",
       "      <td>1977</td>\n",
       "      <td>34036</td>\n",
       "      <td>10423</td>\n",
       "      <td>3003</td>\n",
       "      <td>2617</td>\n",
       "      <td>1446</td>\n",
       "      <td>1062</td>\n",
       "      <td>1007</td>\n",
       "      <td>94</td>\n",
       "      <td>53688</td>\n",
       "    </tr>\n",
       "    <tr>\n",
       "      <th>4</th>\n",
       "      <td>1978</td>\n",
       "      <td>33235</td>\n",
       "      <td>11017</td>\n",
       "      <td>3233</td>\n",
       "      <td>2543</td>\n",
       "      <td>1359</td>\n",
       "      <td>1097</td>\n",
       "      <td>983</td>\n",
       "      <td>94</td>\n",
       "      <td>53561</td>\n",
       "    </tr>\n",
       "  </tbody>\n",
       "</table>\n",
       "</div>"
      ],
      "text/plain": [
       "  Fluid beverage milk sales quantities by product (millions of pounds)  \\\n",
       "0                                                NaN                     \n",
       "1                                               1975                     \n",
       "2                                               1976                     \n",
       "3                                               1977                     \n",
       "4                                               1978                     \n",
       "\n",
       "  Unnamed: 1                   Unnamed: 2               Unnamed: 3 Unnamed: 4  \\\n",
       "0      Whole  Reduced-fat \\n(2% milk fat)  Low-fat \\n(1% milk fat)       Skim   \n",
       "1      36188                         8726                     2742       2480   \n",
       "2      35241                         9556                     2875       2524   \n",
       "3      34036                        10423                     3003       2617   \n",
       "4      33235                        11017                     3233       2543   \n",
       "\n",
       "           Unnamed: 5                    Unnamed: 6  Unnamed: 7 Unnamed: 8  \\\n",
       "0  Flavored \\nwhole 1  Flavored, \\nother than whole  Buttermilk     Eggnog   \n",
       "1                1366                           719        1011         76   \n",
       "2                1475                           864        1021         87   \n",
       "3                1446                          1062        1007         94   \n",
       "4                1359                          1097         983         94   \n",
       "\n",
       "  Unnamed: 9  \n",
       "0    Total 2  \n",
       "1      53308  \n",
       "2      53643  \n",
       "3      53688  \n",
       "4      53561  "
      ]
     },
     "execution_count": 31,
     "metadata": {},
     "output_type": "execute_result"
    }
   ],
   "source": [
    "milk.columns = milk.columns.str.replace('\\n', '')\n",
    "milk.head()"
   ]
  },
  {
   "cell_type": "code",
   "execution_count": 32,
   "id": "85abfb81",
   "metadata": {
    "slideshow": {
     "slide_type": "subslide"
    }
   },
   "outputs": [
    {
     "data": {
      "text/html": [
       "<div>\n",
       "<style scoped>\n",
       "    .dataframe tbody tr th:only-of-type {\n",
       "        vertical-align: middle;\n",
       "    }\n",
       "\n",
       "    .dataframe tbody tr th {\n",
       "        vertical-align: top;\n",
       "    }\n",
       "\n",
       "    .dataframe thead th {\n",
       "        text-align: right;\n",
       "    }\n",
       "</style>\n",
       "<table border=\"1\" class=\"dataframe\">\n",
       "  <thead>\n",
       "    <tr style=\"text-align: right;\">\n",
       "      <th></th>\n",
       "      <th>Fluid beverage milk sales quantities by product (millions of pounds)</th>\n",
       "      <th>Unnamed:</th>\n",
       "      <th>Unnamed:</th>\n",
       "      <th>Unnamed: 3</th>\n",
       "      <th>Unnamed: 4</th>\n",
       "      <th>Unnamed: 5</th>\n",
       "      <th>Unnamed: 6</th>\n",
       "      <th>Unnamed: 7</th>\n",
       "      <th>Unnamed: 8</th>\n",
       "      <th>Unnamed: 9</th>\n",
       "    </tr>\n",
       "  </thead>\n",
       "  <tbody>\n",
       "    <tr>\n",
       "      <th>0</th>\n",
       "      <td>NaN</td>\n",
       "      <td>Whole</td>\n",
       "      <td>Reduced-fat \\n(2% milk fat)</td>\n",
       "      <td>Low-fat \\n(1% milk fat)</td>\n",
       "      <td>Skim</td>\n",
       "      <td>Flavored \\nwhole 1</td>\n",
       "      <td>Flavored, \\nother than whole</td>\n",
       "      <td>Buttermilk</td>\n",
       "      <td>Eggnog</td>\n",
       "      <td>Total 2</td>\n",
       "    </tr>\n",
       "    <tr>\n",
       "      <th>1</th>\n",
       "      <td>1975</td>\n",
       "      <td>36188</td>\n",
       "      <td>8726</td>\n",
       "      <td>2742</td>\n",
       "      <td>2480</td>\n",
       "      <td>1366</td>\n",
       "      <td>719</td>\n",
       "      <td>1011</td>\n",
       "      <td>76</td>\n",
       "      <td>53308</td>\n",
       "    </tr>\n",
       "    <tr>\n",
       "      <th>2</th>\n",
       "      <td>1976</td>\n",
       "      <td>35241</td>\n",
       "      <td>9556</td>\n",
       "      <td>2875</td>\n",
       "      <td>2524</td>\n",
       "      <td>1475</td>\n",
       "      <td>864</td>\n",
       "      <td>1021</td>\n",
       "      <td>87</td>\n",
       "      <td>53643</td>\n",
       "    </tr>\n",
       "    <tr>\n",
       "      <th>3</th>\n",
       "      <td>1977</td>\n",
       "      <td>34036</td>\n",
       "      <td>10423</td>\n",
       "      <td>3003</td>\n",
       "      <td>2617</td>\n",
       "      <td>1446</td>\n",
       "      <td>1062</td>\n",
       "      <td>1007</td>\n",
       "      <td>94</td>\n",
       "      <td>53688</td>\n",
       "    </tr>\n",
       "    <tr>\n",
       "      <th>4</th>\n",
       "      <td>1978</td>\n",
       "      <td>33235</td>\n",
       "      <td>11017</td>\n",
       "      <td>3233</td>\n",
       "      <td>2543</td>\n",
       "      <td>1359</td>\n",
       "      <td>1097</td>\n",
       "      <td>983</td>\n",
       "      <td>94</td>\n",
       "      <td>53561</td>\n",
       "    </tr>\n",
       "  </tbody>\n",
       "</table>\n",
       "</div>"
      ],
      "text/plain": [
       "  Fluid beverage milk sales quantities by product (millions of pounds)  \\\n",
       "0                                                NaN                     \n",
       "1                                               1975                     \n",
       "2                                               1976                     \n",
       "3                                               1977                     \n",
       "4                                               1978                     \n",
       "\n",
       "  Unnamed:                     Unnamed:               Unnamed: 3 Unnamed: 4  \\\n",
       "0    Whole  Reduced-fat \\n(2% milk fat)  Low-fat \\n(1% milk fat)       Skim   \n",
       "1    36188                         8726                     2742       2480   \n",
       "2    35241                         9556                     2875       2524   \n",
       "3    34036                        10423                     3003       2617   \n",
       "4    33235                        11017                     3233       2543   \n",
       "\n",
       "           Unnamed: 5                    Unnamed: 6  Unnamed: 7 Unnamed: 8  \\\n",
       "0  Flavored \\nwhole 1  Flavored, \\nother than whole  Buttermilk     Eggnog   \n",
       "1                1366                           719        1011         76   \n",
       "2                1475                           864        1021         87   \n",
       "3                1446                          1062        1007         94   \n",
       "4                1359                          1097         983         94   \n",
       "\n",
       "  Unnamed: 9  \n",
       "0    Total 2  \n",
       "1      53308  \n",
       "2      53643  \n",
       "3      53688  \n",
       "4      53561  "
      ]
     },
     "execution_count": 32,
     "metadata": {},
     "output_type": "execute_result"
    }
   ],
   "source": [
    "milk = milk.rename(columns=lambda x: x.strip(' 012'))\n",
    "milk.head()"
   ]
  },
  {
   "cell_type": "code",
   "execution_count": 33,
   "id": "8a81ce1e",
   "metadata": {
    "scrolled": true,
    "slideshow": {
     "slide_type": "subslide"
    }
   },
   "outputs": [
    {
     "data": {
      "text/html": [
       "<div>\n",
       "<style scoped>\n",
       "    .dataframe tbody tr th:only-of-type {\n",
       "        vertical-align: middle;\n",
       "    }\n",
       "\n",
       "    .dataframe tbody tr th {\n",
       "        vertical-align: top;\n",
       "    }\n",
       "\n",
       "    .dataframe thead th {\n",
       "        text-align: right;\n",
       "    }\n",
       "</style>\n",
       "<table border=\"1\" class=\"dataframe\">\n",
       "  <thead>\n",
       "    <tr style=\"text-align: right;\">\n",
       "      <th></th>\n",
       "      <th>Fluid beverage milk sales quantities by product (millions of pounds)</th>\n",
       "      <th>Year</th>\n",
       "      <th>Year</th>\n",
       "      <th>Unnamed: 3</th>\n",
       "      <th>Unnamed: 4</th>\n",
       "      <th>Unnamed: 5</th>\n",
       "      <th>Unnamed: 6</th>\n",
       "      <th>Unnamed: 7</th>\n",
       "      <th>Unnamed: 8</th>\n",
       "      <th>Unnamed: 9</th>\n",
       "    </tr>\n",
       "  </thead>\n",
       "  <tbody>\n",
       "    <tr>\n",
       "      <th>0</th>\n",
       "      <td>NaN</td>\n",
       "      <td>Whole</td>\n",
       "      <td>Reduced-fat \\n(2% milk fat)</td>\n",
       "      <td>Low-fat \\n(1% milk fat)</td>\n",
       "      <td>Skim</td>\n",
       "      <td>Flavored \\nwhole 1</td>\n",
       "      <td>Flavored, \\nother than whole</td>\n",
       "      <td>Buttermilk</td>\n",
       "      <td>Eggnog</td>\n",
       "      <td>Total 2</td>\n",
       "    </tr>\n",
       "    <tr>\n",
       "      <th>1</th>\n",
       "      <td>1975</td>\n",
       "      <td>36188</td>\n",
       "      <td>8726</td>\n",
       "      <td>2742</td>\n",
       "      <td>2480</td>\n",
       "      <td>1366</td>\n",
       "      <td>719</td>\n",
       "      <td>1011</td>\n",
       "      <td>76</td>\n",
       "      <td>53308</td>\n",
       "    </tr>\n",
       "    <tr>\n",
       "      <th>2</th>\n",
       "      <td>1976</td>\n",
       "      <td>35241</td>\n",
       "      <td>9556</td>\n",
       "      <td>2875</td>\n",
       "      <td>2524</td>\n",
       "      <td>1475</td>\n",
       "      <td>864</td>\n",
       "      <td>1021</td>\n",
       "      <td>87</td>\n",
       "      <td>53643</td>\n",
       "    </tr>\n",
       "    <tr>\n",
       "      <th>3</th>\n",
       "      <td>1977</td>\n",
       "      <td>34036</td>\n",
       "      <td>10423</td>\n",
       "      <td>3003</td>\n",
       "      <td>2617</td>\n",
       "      <td>1446</td>\n",
       "      <td>1062</td>\n",
       "      <td>1007</td>\n",
       "      <td>94</td>\n",
       "      <td>53688</td>\n",
       "    </tr>\n",
       "    <tr>\n",
       "      <th>4</th>\n",
       "      <td>1978</td>\n",
       "      <td>33235</td>\n",
       "      <td>11017</td>\n",
       "      <td>3233</td>\n",
       "      <td>2543</td>\n",
       "      <td>1359</td>\n",
       "      <td>1097</td>\n",
       "      <td>983</td>\n",
       "      <td>94</td>\n",
       "      <td>53561</td>\n",
       "    </tr>\n",
       "  </tbody>\n",
       "</table>\n",
       "</div>"
      ],
      "text/plain": [
       "  Fluid beverage milk sales quantities by product (millions of pounds)   Year  \\\n",
       "0                                                NaN                    Whole   \n",
       "1                                               1975                    36188   \n",
       "2                                               1976                    35241   \n",
       "3                                               1977                    34036   \n",
       "4                                               1978                    33235   \n",
       "\n",
       "                          Year               Unnamed: 3 Unnamed: 4  \\\n",
       "0  Reduced-fat \\n(2% milk fat)  Low-fat \\n(1% milk fat)       Skim   \n",
       "1                         8726                     2742       2480   \n",
       "2                         9556                     2875       2524   \n",
       "3                        10423                     3003       2617   \n",
       "4                        11017                     3233       2543   \n",
       "\n",
       "           Unnamed: 5                    Unnamed: 6  Unnamed: 7 Unnamed: 8  \\\n",
       "0  Flavored \\nwhole 1  Flavored, \\nother than whole  Buttermilk     Eggnog   \n",
       "1                1366                           719        1011         76   \n",
       "2                1475                           864        1021         87   \n",
       "3                1446                          1062        1007         94   \n",
       "4                1359                          1097         983         94   \n",
       "\n",
       "  Unnamed: 9  \n",
       "0    Total 2  \n",
       "1      53308  \n",
       "2      53643  \n",
       "3      53688  \n",
       "4      53561  "
      ]
     },
     "execution_count": 33,
     "metadata": {},
     "output_type": "execute_result"
    }
   ],
   "source": [
    "milk = milk.rename(columns = {'Unnamed:': 'Year'})\n",
    "milk.head()"
   ]
  },
  {
   "cell_type": "code",
   "execution_count": 34,
   "id": "24e9ef5e",
   "metadata": {
    "scrolled": true,
    "slideshow": {
     "slide_type": "subslide"
    }
   },
   "outputs": [],
   "source": [
    "milk.columns.values[[1,2,3,5,6]] = ['Whole','Reduced', 'Low', \n",
    "                                            'Flavored Whole', 'Flavored Other']"
   ]
  },
  {
   "cell_type": "code",
   "execution_count": 35,
   "id": "862fa2fd",
   "metadata": {},
   "outputs": [
    {
     "data": {
      "text/html": [
       "<div>\n",
       "<style scoped>\n",
       "    .dataframe tbody tr th:only-of-type {\n",
       "        vertical-align: middle;\n",
       "    }\n",
       "\n",
       "    .dataframe tbody tr th {\n",
       "        vertical-align: top;\n",
       "    }\n",
       "\n",
       "    .dataframe thead th {\n",
       "        text-align: right;\n",
       "    }\n",
       "</style>\n",
       "<table border=\"1\" class=\"dataframe\">\n",
       "  <thead>\n",
       "    <tr style=\"text-align: right;\">\n",
       "      <th></th>\n",
       "      <th>Fluid beverage milk sales quantities by product (millions of pounds)</th>\n",
       "      <th>Whole</th>\n",
       "      <th>Reduced</th>\n",
       "      <th>Low</th>\n",
       "      <th>Unnamed: 4</th>\n",
       "      <th>Flavored Whole</th>\n",
       "      <th>Flavored Other</th>\n",
       "      <th>Unnamed: 7</th>\n",
       "      <th>Unnamed: 8</th>\n",
       "      <th>Unnamed: 9</th>\n",
       "    </tr>\n",
       "  </thead>\n",
       "  <tbody>\n",
       "    <tr>\n",
       "      <th>0</th>\n",
       "      <td>NaN</td>\n",
       "      <td>Whole</td>\n",
       "      <td>Reduced-fat \\n(2% milk fat)</td>\n",
       "      <td>Low-fat \\n(1% milk fat)</td>\n",
       "      <td>Skim</td>\n",
       "      <td>Flavored \\nwhole 1</td>\n",
       "      <td>Flavored, \\nother than whole</td>\n",
       "      <td>Buttermilk</td>\n",
       "      <td>Eggnog</td>\n",
       "      <td>Total 2</td>\n",
       "    </tr>\n",
       "    <tr>\n",
       "      <th>1</th>\n",
       "      <td>1975</td>\n",
       "      <td>36188</td>\n",
       "      <td>8726</td>\n",
       "      <td>2742</td>\n",
       "      <td>2480</td>\n",
       "      <td>1366</td>\n",
       "      <td>719</td>\n",
       "      <td>1011</td>\n",
       "      <td>76</td>\n",
       "      <td>53308</td>\n",
       "    </tr>\n",
       "    <tr>\n",
       "      <th>2</th>\n",
       "      <td>1976</td>\n",
       "      <td>35241</td>\n",
       "      <td>9556</td>\n",
       "      <td>2875</td>\n",
       "      <td>2524</td>\n",
       "      <td>1475</td>\n",
       "      <td>864</td>\n",
       "      <td>1021</td>\n",
       "      <td>87</td>\n",
       "      <td>53643</td>\n",
       "    </tr>\n",
       "    <tr>\n",
       "      <th>3</th>\n",
       "      <td>1977</td>\n",
       "      <td>34036</td>\n",
       "      <td>10423</td>\n",
       "      <td>3003</td>\n",
       "      <td>2617</td>\n",
       "      <td>1446</td>\n",
       "      <td>1062</td>\n",
       "      <td>1007</td>\n",
       "      <td>94</td>\n",
       "      <td>53688</td>\n",
       "    </tr>\n",
       "    <tr>\n",
       "      <th>4</th>\n",
       "      <td>1978</td>\n",
       "      <td>33235</td>\n",
       "      <td>11017</td>\n",
       "      <td>3233</td>\n",
       "      <td>2543</td>\n",
       "      <td>1359</td>\n",
       "      <td>1097</td>\n",
       "      <td>983</td>\n",
       "      <td>94</td>\n",
       "      <td>53561</td>\n",
       "    </tr>\n",
       "  </tbody>\n",
       "</table>\n",
       "</div>"
      ],
      "text/plain": [
       "  Fluid beverage milk sales quantities by product (millions of pounds)  Whole  \\\n",
       "0                                                NaN                    Whole   \n",
       "1                                               1975                    36188   \n",
       "2                                               1976                    35241   \n",
       "3                                               1977                    34036   \n",
       "4                                               1978                    33235   \n",
       "\n",
       "                       Reduced                      Low Unnamed: 4  \\\n",
       "0  Reduced-fat \\n(2% milk fat)  Low-fat \\n(1% milk fat)       Skim   \n",
       "1                         8726                     2742       2480   \n",
       "2                         9556                     2875       2524   \n",
       "3                        10423                     3003       2617   \n",
       "4                        11017                     3233       2543   \n",
       "\n",
       "       Flavored Whole                Flavored Other  Unnamed: 7 Unnamed: 8  \\\n",
       "0  Flavored \\nwhole 1  Flavored, \\nother than whole  Buttermilk     Eggnog   \n",
       "1                1366                           719        1011         76   \n",
       "2                1475                           864        1021         87   \n",
       "3                1446                          1062        1007         94   \n",
       "4                1359                          1097         983         94   \n",
       "\n",
       "  Unnamed: 9  \n",
       "0    Total 2  \n",
       "1      53308  \n",
       "2      53643  \n",
       "3      53688  \n",
       "4      53561  "
      ]
     },
     "execution_count": 35,
     "metadata": {},
     "output_type": "execute_result"
    }
   ],
   "source": [
    "milk.head()"
   ]
  },
  {
   "cell_type": "code",
   "execution_count": 36,
   "id": "8014a438",
   "metadata": {
    "slideshow": {
     "slide_type": "subslide"
    }
   },
   "outputs": [
    {
     "data": {
      "text/plain": [
       "Fluid beverage milk sales quantities by product (millions of pounds)    object\n",
       "Whole                                                                   object\n",
       "Reduced                                                                 object\n",
       "Low                                                                     object\n",
       "Unnamed: 4                                                              object\n",
       "Flavored Whole                                                          object\n",
       "Flavored Other                                                          object\n",
       "Unnamed: 7                                                              object\n",
       "Unnamed: 8                                                              object\n",
       "Unnamed: 9                                                              object\n",
       "dtype: object"
      ]
     },
     "execution_count": 36,
     "metadata": {},
     "output_type": "execute_result"
    }
   ],
   "source": [
    "milk.dtypes"
   ]
  },
  {
   "cell_type": "code",
   "execution_count": 37,
   "id": "134a42bb",
   "metadata": {},
   "outputs": [],
   "source": [
    "milk.columns.values[0] = 'Year'"
   ]
  },
  {
   "cell_type": "code",
   "execution_count": 38,
   "id": "dfb94ddc",
   "metadata": {
    "slideshow": {
     "slide_type": "subslide"
    }
   },
   "outputs": [],
   "source": [
    "milk = milk.set_index('Year')  "
   ]
  },
  {
   "cell_type": "code",
   "execution_count": 39,
   "id": "0d4232b4",
   "metadata": {},
   "outputs": [
    {
     "data": {
      "text/html": [
       "<div>\n",
       "<style scoped>\n",
       "    .dataframe tbody tr th:only-of-type {\n",
       "        vertical-align: middle;\n",
       "    }\n",
       "\n",
       "    .dataframe tbody tr th {\n",
       "        vertical-align: top;\n",
       "    }\n",
       "\n",
       "    .dataframe thead th {\n",
       "        text-align: right;\n",
       "    }\n",
       "</style>\n",
       "<table border=\"1\" class=\"dataframe\">\n",
       "  <thead>\n",
       "    <tr style=\"text-align: right;\">\n",
       "      <th></th>\n",
       "      <th>Whole</th>\n",
       "      <th>Reduced</th>\n",
       "      <th>Low</th>\n",
       "      <th>Unnamed: 4</th>\n",
       "      <th>Flavored Whole</th>\n",
       "      <th>Flavored Other</th>\n",
       "      <th>Unnamed: 7</th>\n",
       "      <th>Unnamed: 8</th>\n",
       "      <th>Unnamed: 9</th>\n",
       "    </tr>\n",
       "    <tr>\n",
       "      <th>Year</th>\n",
       "      <th></th>\n",
       "      <th></th>\n",
       "      <th></th>\n",
       "      <th></th>\n",
       "      <th></th>\n",
       "      <th></th>\n",
       "      <th></th>\n",
       "      <th></th>\n",
       "      <th></th>\n",
       "    </tr>\n",
       "  </thead>\n",
       "  <tbody>\n",
       "    <tr>\n",
       "      <th>NaN</th>\n",
       "      <td>Whole</td>\n",
       "      <td>Reduced-fat \\n(2% milk fat)</td>\n",
       "      <td>Low-fat \\n(1% milk fat)</td>\n",
       "      <td>Skim</td>\n",
       "      <td>Flavored \\nwhole 1</td>\n",
       "      <td>Flavored, \\nother than whole</td>\n",
       "      <td>Buttermilk</td>\n",
       "      <td>Eggnog</td>\n",
       "      <td>Total 2</td>\n",
       "    </tr>\n",
       "    <tr>\n",
       "      <th>1975</th>\n",
       "      <td>36188</td>\n",
       "      <td>8726</td>\n",
       "      <td>2742</td>\n",
       "      <td>2480</td>\n",
       "      <td>1366</td>\n",
       "      <td>719</td>\n",
       "      <td>1011</td>\n",
       "      <td>76</td>\n",
       "      <td>53308</td>\n",
       "    </tr>\n",
       "    <tr>\n",
       "      <th>1976</th>\n",
       "      <td>35241</td>\n",
       "      <td>9556</td>\n",
       "      <td>2875</td>\n",
       "      <td>2524</td>\n",
       "      <td>1475</td>\n",
       "      <td>864</td>\n",
       "      <td>1021</td>\n",
       "      <td>87</td>\n",
       "      <td>53643</td>\n",
       "    </tr>\n",
       "    <tr>\n",
       "      <th>1977</th>\n",
       "      <td>34036</td>\n",
       "      <td>10423</td>\n",
       "      <td>3003</td>\n",
       "      <td>2617</td>\n",
       "      <td>1446</td>\n",
       "      <td>1062</td>\n",
       "      <td>1007</td>\n",
       "      <td>94</td>\n",
       "      <td>53688</td>\n",
       "    </tr>\n",
       "    <tr>\n",
       "      <th>1978</th>\n",
       "      <td>33235</td>\n",
       "      <td>11017</td>\n",
       "      <td>3233</td>\n",
       "      <td>2543</td>\n",
       "      <td>1359</td>\n",
       "      <td>1097</td>\n",
       "      <td>983</td>\n",
       "      <td>94</td>\n",
       "      <td>53561</td>\n",
       "    </tr>\n",
       "  </tbody>\n",
       "</table>\n",
       "</div>"
      ],
      "text/plain": [
       "      Whole                      Reduced                      Low Unnamed: 4  \\\n",
       "Year                                                                           \n",
       "NaN   Whole  Reduced-fat \\n(2% milk fat)  Low-fat \\n(1% milk fat)       Skim   \n",
       "1975  36188                         8726                     2742       2480   \n",
       "1976  35241                         9556                     2875       2524   \n",
       "1977  34036                        10423                     3003       2617   \n",
       "1978  33235                        11017                     3233       2543   \n",
       "\n",
       "          Flavored Whole                Flavored Other  Unnamed: 7 Unnamed: 8  \\\n",
       "Year                                                                            \n",
       "NaN   Flavored \\nwhole 1  Flavored, \\nother than whole  Buttermilk     Eggnog   \n",
       "1975                1366                           719        1011         76   \n",
       "1976                1475                           864        1021         87   \n",
       "1977                1446                          1062        1007         94   \n",
       "1978                1359                          1097         983         94   \n",
       "\n",
       "     Unnamed: 9  \n",
       "Year             \n",
       "NaN     Total 2  \n",
       "1975      53308  \n",
       "1976      53643  \n",
       "1977      53688  \n",
       "1978      53561  "
      ]
     },
     "execution_count": 39,
     "metadata": {},
     "output_type": "execute_result"
    }
   ],
   "source": [
    "milk.head()"
   ]
  },
  {
   "cell_type": "code",
   "execution_count": 40,
   "id": "d2456646",
   "metadata": {},
   "outputs": [
    {
     "data": {
      "text/html": [
       "<style type=\"text/css\">\n",
       "</style>\n",
       "<table id=\"T_4bbb6\">\n",
       "  <caption>Fluid beverage milk sales quantities by product (millions of pounds</caption>\n",
       "  <thead>\n",
       "    <tr>\n",
       "      <th class=\"blank level0\" >&nbsp;</th>\n",
       "      <th id=\"T_4bbb6_level0_col0\" class=\"col_heading level0 col0\" >Whole</th>\n",
       "      <th id=\"T_4bbb6_level0_col1\" class=\"col_heading level0 col1\" >Reduced</th>\n",
       "      <th id=\"T_4bbb6_level0_col2\" class=\"col_heading level0 col2\" >Low</th>\n",
       "      <th id=\"T_4bbb6_level0_col3\" class=\"col_heading level0 col3\" >Unnamed: 4</th>\n",
       "      <th id=\"T_4bbb6_level0_col4\" class=\"col_heading level0 col4\" >Flavored Whole</th>\n",
       "      <th id=\"T_4bbb6_level0_col5\" class=\"col_heading level0 col5\" >Flavored Other</th>\n",
       "      <th id=\"T_4bbb6_level0_col6\" class=\"col_heading level0 col6\" >Unnamed: 7</th>\n",
       "      <th id=\"T_4bbb6_level0_col7\" class=\"col_heading level0 col7\" >Unnamed: 8</th>\n",
       "      <th id=\"T_4bbb6_level0_col8\" class=\"col_heading level0 col8\" >Unnamed: 9</th>\n",
       "    </tr>\n",
       "    <tr>\n",
       "      <th class=\"index_name level0\" >Year</th>\n",
       "      <th class=\"blank col0\" >&nbsp;</th>\n",
       "      <th class=\"blank col1\" >&nbsp;</th>\n",
       "      <th class=\"blank col2\" >&nbsp;</th>\n",
       "      <th class=\"blank col3\" >&nbsp;</th>\n",
       "      <th class=\"blank col4\" >&nbsp;</th>\n",
       "      <th class=\"blank col5\" >&nbsp;</th>\n",
       "      <th class=\"blank col6\" >&nbsp;</th>\n",
       "      <th class=\"blank col7\" >&nbsp;</th>\n",
       "      <th class=\"blank col8\" >&nbsp;</th>\n",
       "    </tr>\n",
       "  </thead>\n",
       "  <tbody>\n",
       "    <tr>\n",
       "      <th id=\"T_4bbb6_level0_row0\" class=\"row_heading level0 row0\" >nan</th>\n",
       "      <td id=\"T_4bbb6_row0_col0\" class=\"data row0 col0\" >Whole</td>\n",
       "      <td id=\"T_4bbb6_row0_col1\" class=\"data row0 col1\" >Reduced-fat \n",
       "(2% milk fat)</td>\n",
       "      <td id=\"T_4bbb6_row0_col2\" class=\"data row0 col2\" >Low-fat \n",
       "(1% milk fat)</td>\n",
       "      <td id=\"T_4bbb6_row0_col3\" class=\"data row0 col3\" >Skim</td>\n",
       "      <td id=\"T_4bbb6_row0_col4\" class=\"data row0 col4\" >Flavored \n",
       "whole 1</td>\n",
       "      <td id=\"T_4bbb6_row0_col5\" class=\"data row0 col5\" >Flavored, \n",
       "other than whole</td>\n",
       "      <td id=\"T_4bbb6_row0_col6\" class=\"data row0 col6\" >Buttermilk</td>\n",
       "      <td id=\"T_4bbb6_row0_col7\" class=\"data row0 col7\" >Eggnog</td>\n",
       "      <td id=\"T_4bbb6_row0_col8\" class=\"data row0 col8\" >Total 2</td>\n",
       "    </tr>\n",
       "    <tr>\n",
       "      <th id=\"T_4bbb6_level0_row1\" class=\"row_heading level0 row1\" >1975</th>\n",
       "      <td id=\"T_4bbb6_row1_col0\" class=\"data row1 col0\" >36188</td>\n",
       "      <td id=\"T_4bbb6_row1_col1\" class=\"data row1 col1\" >8726</td>\n",
       "      <td id=\"T_4bbb6_row1_col2\" class=\"data row1 col2\" >2742</td>\n",
       "      <td id=\"T_4bbb6_row1_col3\" class=\"data row1 col3\" >2480</td>\n",
       "      <td id=\"T_4bbb6_row1_col4\" class=\"data row1 col4\" >1366</td>\n",
       "      <td id=\"T_4bbb6_row1_col5\" class=\"data row1 col5\" >719</td>\n",
       "      <td id=\"T_4bbb6_row1_col6\" class=\"data row1 col6\" >1011</td>\n",
       "      <td id=\"T_4bbb6_row1_col7\" class=\"data row1 col7\" >76</td>\n",
       "      <td id=\"T_4bbb6_row1_col8\" class=\"data row1 col8\" >53308</td>\n",
       "    </tr>\n",
       "    <tr>\n",
       "      <th id=\"T_4bbb6_level0_row2\" class=\"row_heading level0 row2\" >1976</th>\n",
       "      <td id=\"T_4bbb6_row2_col0\" class=\"data row2 col0\" >35241</td>\n",
       "      <td id=\"T_4bbb6_row2_col1\" class=\"data row2 col1\" >9556</td>\n",
       "      <td id=\"T_4bbb6_row2_col2\" class=\"data row2 col2\" >2875</td>\n",
       "      <td id=\"T_4bbb6_row2_col3\" class=\"data row2 col3\" >2524</td>\n",
       "      <td id=\"T_4bbb6_row2_col4\" class=\"data row2 col4\" >1475</td>\n",
       "      <td id=\"T_4bbb6_row2_col5\" class=\"data row2 col5\" >864</td>\n",
       "      <td id=\"T_4bbb6_row2_col6\" class=\"data row2 col6\" >1021</td>\n",
       "      <td id=\"T_4bbb6_row2_col7\" class=\"data row2 col7\" >87</td>\n",
       "      <td id=\"T_4bbb6_row2_col8\" class=\"data row2 col8\" >53643</td>\n",
       "    </tr>\n",
       "    <tr>\n",
       "      <th id=\"T_4bbb6_level0_row3\" class=\"row_heading level0 row3\" >1977</th>\n",
       "      <td id=\"T_4bbb6_row3_col0\" class=\"data row3 col0\" >34036</td>\n",
       "      <td id=\"T_4bbb6_row3_col1\" class=\"data row3 col1\" >10423</td>\n",
       "      <td id=\"T_4bbb6_row3_col2\" class=\"data row3 col2\" >3003</td>\n",
       "      <td id=\"T_4bbb6_row3_col3\" class=\"data row3 col3\" >2617</td>\n",
       "      <td id=\"T_4bbb6_row3_col4\" class=\"data row3 col4\" >1446</td>\n",
       "      <td id=\"T_4bbb6_row3_col5\" class=\"data row3 col5\" >1062</td>\n",
       "      <td id=\"T_4bbb6_row3_col6\" class=\"data row3 col6\" >1007</td>\n",
       "      <td id=\"T_4bbb6_row3_col7\" class=\"data row3 col7\" >94</td>\n",
       "      <td id=\"T_4bbb6_row3_col8\" class=\"data row3 col8\" >53688</td>\n",
       "    </tr>\n",
       "    <tr>\n",
       "      <th id=\"T_4bbb6_level0_row4\" class=\"row_heading level0 row4\" >1978</th>\n",
       "      <td id=\"T_4bbb6_row4_col0\" class=\"data row4 col0\" >33235</td>\n",
       "      <td id=\"T_4bbb6_row4_col1\" class=\"data row4 col1\" >11017</td>\n",
       "      <td id=\"T_4bbb6_row4_col2\" class=\"data row4 col2\" >3233</td>\n",
       "      <td id=\"T_4bbb6_row4_col3\" class=\"data row4 col3\" >2543</td>\n",
       "      <td id=\"T_4bbb6_row4_col4\" class=\"data row4 col4\" >1359</td>\n",
       "      <td id=\"T_4bbb6_row4_col5\" class=\"data row4 col5\" >1097</td>\n",
       "      <td id=\"T_4bbb6_row4_col6\" class=\"data row4 col6\" >983</td>\n",
       "      <td id=\"T_4bbb6_row4_col7\" class=\"data row4 col7\" >94</td>\n",
       "      <td id=\"T_4bbb6_row4_col8\" class=\"data row4 col8\" >53561</td>\n",
       "    </tr>\n",
       "    <tr>\n",
       "      <th id=\"T_4bbb6_level0_row5\" class=\"row_heading level0 row5\" >1979</th>\n",
       "      <td id=\"T_4bbb6_row5_col0\" class=\"data row5 col0\" >32480</td>\n",
       "      <td id=\"T_4bbb6_row5_col1\" class=\"data row5 col1\" >11762</td>\n",
       "      <td id=\"T_4bbb6_row5_col2\" class=\"data row5 col2\" >3281</td>\n",
       "      <td id=\"T_4bbb6_row5_col3\" class=\"data row5 col3\" >2604</td>\n",
       "      <td id=\"T_4bbb6_row5_col4\" class=\"data row5 col4\" >1236</td>\n",
       "      <td id=\"T_4bbb6_row5_col5\" class=\"data row5 col5\" >1129</td>\n",
       "      <td id=\"T_4bbb6_row5_col6\" class=\"data row5 col6\" >939</td>\n",
       "      <td id=\"T_4bbb6_row5_col7\" class=\"data row5 col7\" >94</td>\n",
       "      <td id=\"T_4bbb6_row5_col8\" class=\"data row5 col8\" >53525</td>\n",
       "    </tr>\n",
       "    <tr>\n",
       "      <th id=\"T_4bbb6_level0_row6\" class=\"row_heading level0 row6\" >1980</th>\n",
       "      <td id=\"T_4bbb6_row6_col0\" class=\"data row6 col0\" >31253</td>\n",
       "      <td id=\"T_4bbb6_row6_col1\" class=\"data row6 col1\" >12435</td>\n",
       "      <td id=\"T_4bbb6_row6_col2\" class=\"data row6 col2\" >3483</td>\n",
       "      <td id=\"T_4bbb6_row6_col3\" class=\"data row6 col3\" >2636</td>\n",
       "      <td id=\"T_4bbb6_row6_col4\" class=\"data row6 col4\" >1075</td>\n",
       "      <td id=\"T_4bbb6_row6_col5\" class=\"data row6 col5\" >1197</td>\n",
       "      <td id=\"T_4bbb6_row6_col6\" class=\"data row6 col6\" >927</td>\n",
       "      <td id=\"T_4bbb6_row6_col7\" class=\"data row6 col7\" >95</td>\n",
       "      <td id=\"T_4bbb6_row6_col8\" class=\"data row6 col8\" >53101</td>\n",
       "    </tr>\n",
       "    <tr>\n",
       "      <th id=\"T_4bbb6_level0_row7\" class=\"row_heading level0 row7\" >1981</th>\n",
       "      <td id=\"T_4bbb6_row7_col0\" class=\"data row7 col0\" >30397</td>\n",
       "      <td id=\"T_4bbb6_row7_col1\" class=\"data row7 col1\" >13088</td>\n",
       "      <td id=\"T_4bbb6_row7_col2\" class=\"data row7 col2\" >3574</td>\n",
       "      <td id=\"T_4bbb6_row7_col3\" class=\"data row7 col3\" >2583</td>\n",
       "      <td id=\"T_4bbb6_row7_col4\" class=\"data row7 col4\" >843</td>\n",
       "      <td id=\"T_4bbb6_row7_col5\" class=\"data row7 col5\" >1288</td>\n",
       "      <td id=\"T_4bbb6_row7_col6\" class=\"data row7 col6\" >926</td>\n",
       "      <td id=\"T_4bbb6_row7_col7\" class=\"data row7 col7\" >100</td>\n",
       "      <td id=\"T_4bbb6_row7_col8\" class=\"data row7 col8\" >52799</td>\n",
       "    </tr>\n",
       "    <tr>\n",
       "      <th id=\"T_4bbb6_level0_row8\" class=\"row_heading level0 row8\" >1982</th>\n",
       "      <td id=\"T_4bbb6_row8_col0\" class=\"data row8 col0\" >29350</td>\n",
       "      <td id=\"T_4bbb6_row8_col1\" class=\"data row8 col1\" >13501</td>\n",
       "      <td id=\"T_4bbb6_row8_col2\" class=\"data row8 col2\" >3537</td>\n",
       "      <td id=\"T_4bbb6_row8_col3\" class=\"data row8 col3\" >2449</td>\n",
       "      <td id=\"T_4bbb6_row8_col4\" class=\"data row8 col4\" >710</td>\n",
       "      <td id=\"T_4bbb6_row8_col5\" class=\"data row8 col5\" >1283</td>\n",
       "      <td id=\"T_4bbb6_row8_col6\" class=\"data row8 col6\" >950</td>\n",
       "      <td id=\"T_4bbb6_row8_col7\" class=\"data row8 col7\" >104</td>\n",
       "      <td id=\"T_4bbb6_row8_col8\" class=\"data row8 col8\" >51884</td>\n",
       "    </tr>\n",
       "    <tr>\n",
       "      <th id=\"T_4bbb6_level0_row9\" class=\"row_heading level0 row9\" >1983</th>\n",
       "      <td id=\"T_4bbb6_row9_col0\" class=\"data row9 col0\" >28871</td>\n",
       "      <td id=\"T_4bbb6_row9_col1\" class=\"data row9 col1\" >14183</td>\n",
       "      <td id=\"T_4bbb6_row9_col2\" class=\"data row9 col2\" >3455</td>\n",
       "      <td id=\"T_4bbb6_row9_col3\" class=\"data row9 col3\" >2474</td>\n",
       "      <td id=\"T_4bbb6_row9_col4\" class=\"data row9 col4\" >749</td>\n",
       "      <td id=\"T_4bbb6_row9_col5\" class=\"data row9 col5\" >1374</td>\n",
       "      <td id=\"T_4bbb6_row9_col6\" class=\"data row9 col6\" >1006</td>\n",
       "      <td id=\"T_4bbb6_row9_col7\" class=\"data row9 col7\" >112</td>\n",
       "      <td id=\"T_4bbb6_row9_col8\" class=\"data row9 col8\" >52224</td>\n",
       "    </tr>\n",
       "    <tr>\n",
       "      <th id=\"T_4bbb6_level0_row10\" class=\"row_heading level0 row10\" >1984</th>\n",
       "      <td id=\"T_4bbb6_row10_col0\" class=\"data row10 col0\" >28204</td>\n",
       "      <td id=\"T_4bbb6_row10_col1\" class=\"data row10 col1\" >15143</td>\n",
       "      <td id=\"T_4bbb6_row10_col2\" class=\"data row10 col2\" >3382</td>\n",
       "      <td id=\"T_4bbb6_row10_col3\" class=\"data row10 col3\" >2726</td>\n",
       "      <td id=\"T_4bbb6_row10_col4\" class=\"data row10 col4\" >907</td>\n",
       "      <td id=\"T_4bbb6_row10_col5\" class=\"data row10 col5\" >1409</td>\n",
       "      <td id=\"T_4bbb6_row10_col6\" class=\"data row10 col6\" >1020</td>\n",
       "      <td id=\"T_4bbb6_row10_col7\" class=\"data row10 col7\" >116</td>\n",
       "      <td id=\"T_4bbb6_row10_col8\" class=\"data row10 col8\" >52907</td>\n",
       "    </tr>\n",
       "    <tr>\n",
       "      <th id=\"T_4bbb6_level0_row11\" class=\"row_heading level0 row11\" >1985</th>\n",
       "      <td id=\"T_4bbb6_row11_col0\" class=\"data row11 col0\" >27760</td>\n",
       "      <td id=\"T_4bbb6_row11_col1\" class=\"data row11 col1\" >16309</td>\n",
       "      <td id=\"T_4bbb6_row11_col2\" class=\"data row11 col2\" >3503</td>\n",
       "      <td id=\"T_4bbb6_row11_col3\" class=\"data row11 col3\" >3009</td>\n",
       "      <td id=\"T_4bbb6_row11_col4\" class=\"data row11 col4\" >882</td>\n",
       "      <td id=\"T_4bbb6_row11_col5\" class=\"data row11 col5\" >1430</td>\n",
       "      <td id=\"T_4bbb6_row11_col6\" class=\"data row11 col6\" >1046</td>\n",
       "      <td id=\"T_4bbb6_row11_col7\" class=\"data row11 col7\" >121</td>\n",
       "      <td id=\"T_4bbb6_row11_col8\" class=\"data row11 col8\" >54060</td>\n",
       "    </tr>\n",
       "    <tr>\n",
       "      <th id=\"T_4bbb6_level0_row12\" class=\"row_heading level0 row12\" >1986</th>\n",
       "      <td id=\"T_4bbb6_row12_col0\" class=\"data row12 col0\" >26446</td>\n",
       "      <td id=\"T_4bbb6_row12_col1\" class=\"data row12 col1\" >17232</td>\n",
       "      <td id=\"T_4bbb6_row12_col2\" class=\"data row12 col2\" >3924</td>\n",
       "      <td id=\"T_4bbb6_row12_col3\" class=\"data row12 col3\" >3236</td>\n",
       "      <td id=\"T_4bbb6_row12_col4\" class=\"data row12 col4\" >851</td>\n",
       "      <td id=\"T_4bbb6_row12_col5\" class=\"data row12 col5\" >1516</td>\n",
       "      <td id=\"T_4bbb6_row12_col6\" class=\"data row12 col6\" >1017</td>\n",
       "      <td id=\"T_4bbb6_row12_col7\" class=\"data row12 col7\" >121</td>\n",
       "      <td id=\"T_4bbb6_row12_col8\" class=\"data row12 col8\" >54343</td>\n",
       "    </tr>\n",
       "    <tr>\n",
       "      <th id=\"T_4bbb6_level0_row13\" class=\"row_heading level0 row13\" >1987</th>\n",
       "      <td id=\"T_4bbb6_row13_col0\" class=\"data row13 col0\" >25644</td>\n",
       "      <td id=\"T_4bbb6_row13_col1\" class=\"data row13 col1\" >17600</td>\n",
       "      <td id=\"T_4bbb6_row13_col2\" class=\"data row13 col2\" >3790</td>\n",
       "      <td id=\"T_4bbb6_row13_col3\" class=\"data row13 col3\" >3406</td>\n",
       "      <td id=\"T_4bbb6_row13_col4\" class=\"data row13 col4\" >830</td>\n",
       "      <td id=\"T_4bbb6_row13_col5\" class=\"data row13 col5\" >1608</td>\n",
       "      <td id=\"T_4bbb6_row13_col6\" class=\"data row13 col6\" >1040</td>\n",
       "      <td id=\"T_4bbb6_row13_col7\" class=\"data row13 col7\" >124</td>\n",
       "      <td id=\"T_4bbb6_row13_col8\" class=\"data row13 col8\" >54042</td>\n",
       "    </tr>\n",
       "    <tr>\n",
       "      <th id=\"T_4bbb6_level0_row14\" class=\"row_heading level0 row14\" >1988</th>\n",
       "      <td id=\"T_4bbb6_row14_col0\" class=\"data row14 col0\" >24691</td>\n",
       "      <td id=\"T_4bbb6_row14_col1\" class=\"data row14 col1\" >18462</td>\n",
       "      <td id=\"T_4bbb6_row14_col2\" class=\"data row14 col2\" >3752</td>\n",
       "      <td id=\"T_4bbb6_row14_col3\" class=\"data row14 col3\" >3979</td>\n",
       "      <td id=\"T_4bbb6_row14_col4\" class=\"data row14 col4\" >816</td>\n",
       "      <td id=\"T_4bbb6_row14_col5\" class=\"data row14 col5\" >1630</td>\n",
       "      <td id=\"T_4bbb6_row14_col6\" class=\"data row14 col6\" >1006</td>\n",
       "      <td id=\"T_4bbb6_row14_col7\" class=\"data row14 col7\" >129</td>\n",
       "      <td id=\"T_4bbb6_row14_col8\" class=\"data row14 col8\" >54465</td>\n",
       "    </tr>\n",
       "    <tr>\n",
       "      <th id=\"T_4bbb6_level0_row15\" class=\"row_heading level0 row15\" >1989</th>\n",
       "      <td id=\"T_4bbb6_row15_col0\" class=\"data row15 col0\" >22823</td>\n",
       "      <td id=\"T_4bbb6_row15_col1\" class=\"data row15 col1\" >19553</td>\n",
       "      <td id=\"T_4bbb6_row15_col2\" class=\"data row15 col2\" >4191</td>\n",
       "      <td id=\"T_4bbb6_row15_col3\" class=\"data row15 col3\" >5006</td>\n",
       "      <td id=\"T_4bbb6_row15_col4\" class=\"data row15 col4\" >770</td>\n",
       "      <td id=\"T_4bbb6_row15_col5\" class=\"data row15 col5\" >1611</td>\n",
       "      <td id=\"T_4bbb6_row15_col6\" class=\"data row15 col6\" >910</td>\n",
       "      <td id=\"T_4bbb6_row15_col7\" class=\"data row15 col7\" >124</td>\n",
       "      <td id=\"T_4bbb6_row15_col8\" class=\"data row15 col8\" >54988</td>\n",
       "    </tr>\n",
       "    <tr>\n",
       "      <th id=\"T_4bbb6_level0_row16\" class=\"row_heading level0 row16\" >1990</th>\n",
       "      <td id=\"T_4bbb6_row16_col0\" class=\"data row16 col0\" >21333</td>\n",
       "      <td id=\"T_4bbb6_row16_col1\" class=\"data row16 col1\" >19565</td>\n",
       "      <td id=\"T_4bbb6_row16_col2\" class=\"data row16 col2\" >4944</td>\n",
       "      <td id=\"T_4bbb6_row16_col3\" class=\"data row16 col3\" >5702</td>\n",
       "      <td id=\"T_4bbb6_row16_col4\" class=\"data row16 col4\" >691</td>\n",
       "      <td id=\"T_4bbb6_row16_col5\" class=\"data row16 col5\" >1657</td>\n",
       "      <td id=\"T_4bbb6_row16_col6\" class=\"data row16 col6\" >879</td>\n",
       "      <td id=\"T_4bbb6_row16_col7\" class=\"data row16 col7\" >123</td>\n",
       "      <td id=\"T_4bbb6_row16_col8\" class=\"data row16 col8\" >54894</td>\n",
       "    </tr>\n",
       "    <tr>\n",
       "      <th id=\"T_4bbb6_level0_row17\" class=\"row_heading level0 row17\" >1991</th>\n",
       "      <td id=\"T_4bbb6_row17_col0\" class=\"data row17 col0\" >20769</td>\n",
       "      <td id=\"T_4bbb6_row17_col1\" class=\"data row17 col1\" >19829</td>\n",
       "      <td id=\"T_4bbb6_row17_col2\" class=\"data row17 col2\" >5210</td>\n",
       "      <td id=\"T_4bbb6_row17_col3\" class=\"data row17 col3\" >6000</td>\n",
       "      <td id=\"T_4bbb6_row17_col4\" class=\"data row17 col4\" >672</td>\n",
       "      <td id=\"T_4bbb6_row17_col5\" class=\"data row17 col5\" >1719</td>\n",
       "      <td id=\"T_4bbb6_row17_col6\" class=\"data row17 col6\" >855</td>\n",
       "      <td id=\"T_4bbb6_row17_col7\" class=\"data row17 col7\" >111</td>\n",
       "      <td id=\"T_4bbb6_row17_col8\" class=\"data row17 col8\" >55165</td>\n",
       "    </tr>\n",
       "    <tr>\n",
       "      <th id=\"T_4bbb6_level0_row18\" class=\"row_heading level0 row18\" >1992</th>\n",
       "      <td id=\"T_4bbb6_row18_col0\" class=\"data row18 col0\" >20196</td>\n",
       "      <td id=\"T_4bbb6_row18_col1\" class=\"data row18 col1\" >19851</td>\n",
       "      <td id=\"T_4bbb6_row18_col2\" class=\"data row18 col2\" >5374</td>\n",
       "      <td id=\"T_4bbb6_row18_col3\" class=\"data row18 col3\" >6357</td>\n",
       "      <td id=\"T_4bbb6_row18_col4\" class=\"data row18 col4\" >689</td>\n",
       "      <td id=\"T_4bbb6_row18_col5\" class=\"data row18 col5\" >1745</td>\n",
       "      <td id=\"T_4bbb6_row18_col6\" class=\"data row18 col6\" >808</td>\n",
       "      <td id=\"T_4bbb6_row18_col7\" class=\"data row18 col7\" >115</td>\n",
       "      <td id=\"T_4bbb6_row18_col8\" class=\"data row18 col8\" >55135</td>\n",
       "    </tr>\n",
       "    <tr>\n",
       "      <th id=\"T_4bbb6_level0_row19\" class=\"row_heading level0 row19\" >1993</th>\n",
       "      <td id=\"T_4bbb6_row19_col0\" class=\"data row19 col0\" >19460</td>\n",
       "      <td id=\"T_4bbb6_row19_col1\" class=\"data row19 col1\" >19528</td>\n",
       "      <td id=\"T_4bbb6_row19_col2\" class=\"data row19 col2\" >5297</td>\n",
       "      <td id=\"T_4bbb6_row19_col3\" class=\"data row19 col3\" >6844</td>\n",
       "      <td id=\"T_4bbb6_row19_col4\" class=\"data row19 col4\" >690</td>\n",
       "      <td id=\"T_4bbb6_row19_col5\" class=\"data row19 col5\" >1776</td>\n",
       "      <td id=\"T_4bbb6_row19_col6\" class=\"data row19 col6\" >780</td>\n",
       "      <td id=\"T_4bbb6_row19_col7\" class=\"data row19 col7\" >107</td>\n",
       "      <td id=\"T_4bbb6_row19_col8\" class=\"data row19 col8\" >54482</td>\n",
       "    </tr>\n",
       "    <tr>\n",
       "      <th id=\"T_4bbb6_level0_row20\" class=\"row_heading level0 row20\" >1994</th>\n",
       "      <td id=\"T_4bbb6_row20_col0\" class=\"data row20 col0\" >19223</td>\n",
       "      <td id=\"T_4bbb6_row20_col1\" class=\"data row20 col1\" >19326</td>\n",
       "      <td id=\"T_4bbb6_row20_col2\" class=\"data row20 col2\" >5409</td>\n",
       "      <td id=\"T_4bbb6_row20_col3\" class=\"data row20 col3\" >7414</td>\n",
       "      <td id=\"T_4bbb6_row20_col4\" class=\"data row20 col4\" >702</td>\n",
       "      <td id=\"T_4bbb6_row20_col5\" class=\"data row20 col5\" >1842</td>\n",
       "      <td id=\"T_4bbb6_row20_col6\" class=\"data row20 col6\" >760</td>\n",
       "      <td id=\"T_4bbb6_row20_col7\" class=\"data row20 col7\" >108</td>\n",
       "      <td id=\"T_4bbb6_row20_col8\" class=\"data row20 col8\" >54784</td>\n",
       "    </tr>\n",
       "    <tr>\n",
       "      <th id=\"T_4bbb6_level0_row21\" class=\"row_heading level0 row21\" >1995</th>\n",
       "      <td id=\"T_4bbb6_row21_col0\" class=\"data row21 col0\" >18662</td>\n",
       "      <td id=\"T_4bbb6_row21_col1\" class=\"data row21 col1\" >18442</td>\n",
       "      <td id=\"T_4bbb6_row21_col2\" class=\"data row21 col2\" >5760</td>\n",
       "      <td id=\"T_4bbb6_row21_col3\" class=\"data row21 col3\" >8359</td>\n",
       "      <td id=\"T_4bbb6_row21_col4\" class=\"data row21 col4\" >704</td>\n",
       "      <td id=\"T_4bbb6_row21_col5\" class=\"data row21 col5\" >1914</td>\n",
       "      <td id=\"T_4bbb6_row21_col6\" class=\"data row21 col6\" >739</td>\n",
       "      <td id=\"T_4bbb6_row21_col7\" class=\"data row21 col7\" >112</td>\n",
       "      <td id=\"T_4bbb6_row21_col8\" class=\"data row21 col8\" >54692</td>\n",
       "    </tr>\n",
       "    <tr>\n",
       "      <th id=\"T_4bbb6_level0_row22\" class=\"row_heading level0 row22\" >1996</th>\n",
       "      <td id=\"T_4bbb6_row22_col0\" class=\"data row22 col0\" >18698</td>\n",
       "      <td id=\"T_4bbb6_row22_col1\" class=\"data row22 col1\" >18194</td>\n",
       "      <td id=\"T_4bbb6_row22_col2\" class=\"data row22 col2\" >5817</td>\n",
       "      <td id=\"T_4bbb6_row22_col3\" class=\"data row22 col3\" >8871</td>\n",
       "      <td id=\"T_4bbb6_row22_col4\" class=\"data row22 col4\" >662</td>\n",
       "      <td id=\"T_4bbb6_row22_col5\" class=\"data row22 col5\" >2075</td>\n",
       "      <td id=\"T_4bbb6_row22_col6\" class=\"data row22 col6\" >711</td>\n",
       "      <td id=\"T_4bbb6_row22_col7\" class=\"data row22 col7\" >103</td>\n",
       "      <td id=\"T_4bbb6_row22_col8\" class=\"data row22 col8\" >55131</td>\n",
       "    </tr>\n",
       "    <tr>\n",
       "      <th id=\"T_4bbb6_level0_row23\" class=\"row_heading level0 row23\" >1997</th>\n",
       "      <td id=\"T_4bbb6_row23_col0\" class=\"data row23 col0\" >18413</td>\n",
       "      <td id=\"T_4bbb6_row23_col1\" class=\"data row23 col1\" >17732</td>\n",
       "      <td id=\"T_4bbb6_row23_col2\" class=\"data row23 col2\" >5977</td>\n",
       "      <td id=\"T_4bbb6_row23_col3\" class=\"data row23 col3\" >9139</td>\n",
       "      <td id=\"T_4bbb6_row23_col4\" class=\"data row23 col4\" >676</td>\n",
       "      <td id=\"T_4bbb6_row23_col5\" class=\"data row23 col5\" >2154</td>\n",
       "      <td id=\"T_4bbb6_row23_col6\" class=\"data row23 col6\" >691</td>\n",
       "      <td id=\"T_4bbb6_row23_col7\" class=\"data row23 col7\" >102</td>\n",
       "      <td id=\"T_4bbb6_row23_col8\" class=\"data row23 col8\" >54884</td>\n",
       "    </tr>\n",
       "    <tr>\n",
       "      <th id=\"T_4bbb6_level0_row24\" class=\"row_heading level0 row24\" >1998</th>\n",
       "      <td id=\"T_4bbb6_row24_col0\" class=\"data row24 col0\" >18147</td>\n",
       "      <td id=\"T_4bbb6_row24_col1\" class=\"data row24 col1\" >17333</td>\n",
       "      <td id=\"T_4bbb6_row24_col2\" class=\"data row24 col2\" >6113</td>\n",
       "      <td id=\"T_4bbb6_row24_col3\" class=\"data row24 col3\" >9203</td>\n",
       "      <td id=\"T_4bbb6_row24_col4\" class=\"data row24 col4\" >788</td>\n",
       "      <td id=\"T_4bbb6_row24_col5\" class=\"data row24 col5\" >2256</td>\n",
       "      <td id=\"T_4bbb6_row24_col6\" class=\"data row24 col6\" >676</td>\n",
       "      <td id=\"T_4bbb6_row24_col7\" class=\"data row24 col7\" >102</td>\n",
       "      <td id=\"T_4bbb6_row24_col8\" class=\"data row24 col8\" >54618</td>\n",
       "    </tr>\n",
       "    <tr>\n",
       "      <th id=\"T_4bbb6_level0_row25\" class=\"row_heading level0 row25\" >1999</th>\n",
       "      <td id=\"T_4bbb6_row25_col0\" class=\"data row25 col0\" >18467</td>\n",
       "      <td id=\"T_4bbb6_row25_col1\" class=\"data row25 col1\" >17489</td>\n",
       "      <td id=\"T_4bbb6_row25_col2\" class=\"data row25 col2\" >6082</td>\n",
       "      <td id=\"T_4bbb6_row25_col3\" class=\"data row25 col3\" >8985</td>\n",
       "      <td id=\"T_4bbb6_row25_col4\" class=\"data row25 col4\" >877</td>\n",
       "      <td id=\"T_4bbb6_row25_col5\" class=\"data row25 col5\" >2339</td>\n",
       "      <td id=\"T_4bbb6_row25_col6\" class=\"data row25 col6\" >668</td>\n",
       "      <td id=\"T_4bbb6_row25_col7\" class=\"data row25 col7\" >109</td>\n",
       "      <td id=\"T_4bbb6_row25_col8\" class=\"data row25 col8\" >55016</td>\n",
       "    </tr>\n",
       "    <tr>\n",
       "      <th id=\"T_4bbb6_level0_row26\" class=\"row_heading level0 row26\" >2000</th>\n",
       "      <td id=\"T_4bbb6_row26_col0\" class=\"data row26 col0\" >18695.800000</td>\n",
       "      <td id=\"T_4bbb6_row26_col1\" class=\"data row26 col1\" >17420.400000</td>\n",
       "      <td id=\"T_4bbb6_row26_col2\" class=\"data row26 col2\" >6276.800000</td>\n",
       "      <td id=\"T_4bbb6_row26_col3\" class=\"data row26 col3\" >8348.100000</td>\n",
       "      <td id=\"T_4bbb6_row26_col4\" class=\"data row26 col4\" >925.100000</td>\n",
       "      <td id=\"T_4bbb6_row26_col5\" class=\"data row26 col5\" >2736.300000</td>\n",
       "      <td id=\"T_4bbb6_row26_col6\" class=\"data row26 col6\" >623.200000</td>\n",
       "      <td id=\"T_4bbb6_row26_col7\" class=\"data row26 col7\" >126.600000</td>\n",
       "      <td id=\"T_4bbb6_row26_col8\" class=\"data row26 col8\" >55239.600000</td>\n",
       "    </tr>\n",
       "    <tr>\n",
       "      <th id=\"T_4bbb6_level0_row27\" class=\"row_heading level0 row27\" >2001</th>\n",
       "      <td id=\"T_4bbb6_row27_col0\" class=\"data row27 col0\" >18280.300000</td>\n",
       "      <td id=\"T_4bbb6_row27_col1\" class=\"data row27 col1\" >17367.800000</td>\n",
       "      <td id=\"T_4bbb6_row27_col2\" class=\"data row27 col2\" >6303.900000</td>\n",
       "      <td id=\"T_4bbb6_row27_col3\" class=\"data row27 col3\" >8143.600000</td>\n",
       "      <td id=\"T_4bbb6_row27_col4\" class=\"data row27 col4\" >996.100000</td>\n",
       "      <td id=\"T_4bbb6_row27_col5\" class=\"data row27 col5\" >2845.400000</td>\n",
       "      <td id=\"T_4bbb6_row27_col6\" class=\"data row27 col6\" >598.700000</td>\n",
       "      <td id=\"T_4bbb6_row27_col7\" class=\"data row27 col7\" >124.500000</td>\n",
       "      <td id=\"T_4bbb6_row27_col8\" class=\"data row27 col8\" >54748.900000</td>\n",
       "    </tr>\n",
       "    <tr>\n",
       "      <th id=\"T_4bbb6_level0_row28\" class=\"row_heading level0 row28\" >2002</th>\n",
       "      <td id=\"T_4bbb6_row28_col0\" class=\"data row28 col0\" >18265.200000</td>\n",
       "      <td id=\"T_4bbb6_row28_col1\" class=\"data row28 col1\" >17411.600000</td>\n",
       "      <td id=\"T_4bbb6_row28_col2\" class=\"data row28 col2\" >6351.200000</td>\n",
       "      <td id=\"T_4bbb6_row28_col3\" class=\"data row28 col3\" >8090.600000</td>\n",
       "      <td id=\"T_4bbb6_row28_col4\" class=\"data row28 col4\" >988.800000</td>\n",
       "      <td id=\"T_4bbb6_row28_col5\" class=\"data row28 col5\" >3005.100000</td>\n",
       "      <td id=\"T_4bbb6_row28_col6\" class=\"data row28 col6\" >578.900000</td>\n",
       "      <td id=\"T_4bbb6_row28_col7\" class=\"data row28 col7\" >150.300000</td>\n",
       "      <td id=\"T_4bbb6_row28_col8\" class=\"data row28 col8\" >54902.300000</td>\n",
       "    </tr>\n",
       "    <tr>\n",
       "      <th id=\"T_4bbb6_level0_row29\" class=\"row_heading level0 row29\" >2003</th>\n",
       "      <td id=\"T_4bbb6_row29_col0\" class=\"data row29 col0\" >18098.100000</td>\n",
       "      <td id=\"T_4bbb6_row29_col1\" class=\"data row29 col1\" >17421.100000</td>\n",
       "      <td id=\"T_4bbb6_row29_col2\" class=\"data row29 col2\" >6233.500000</td>\n",
       "      <td id=\"T_4bbb6_row29_col3\" class=\"data row29 col3\" >7830.100000</td>\n",
       "      <td id=\"T_4bbb6_row29_col4\" class=\"data row29 col4\" >980.600000</td>\n",
       "      <td id=\"T_4bbb6_row29_col5\" class=\"data row29 col5\" >3206.700000</td>\n",
       "      <td id=\"T_4bbb6_row29_col6\" class=\"data row29 col6\" >555.600000</td>\n",
       "      <td id=\"T_4bbb6_row29_col7\" class=\"data row29 col7\" >153.400000</td>\n",
       "      <td id=\"T_4bbb6_row29_col8\" class=\"data row29 col8\" >54609.500000</td>\n",
       "    </tr>\n",
       "    <tr>\n",
       "      <th id=\"T_4bbb6_level0_row30\" class=\"row_heading level0 row30\" >2004</th>\n",
       "      <td id=\"T_4bbb6_row30_col0\" class=\"data row30 col0\" >17510.700000</td>\n",
       "      <td id=\"T_4bbb6_row30_col1\" class=\"data row30 col1\" >17524.300000</td>\n",
       "      <td id=\"T_4bbb6_row30_col2\" class=\"data row30 col2\" >6268.300000</td>\n",
       "      <td id=\"T_4bbb6_row30_col3\" class=\"data row30 col3\" >7795.900000</td>\n",
       "      <td id=\"T_4bbb6_row30_col4\" class=\"data row30 col4\" >831.900000</td>\n",
       "      <td id=\"T_4bbb6_row30_col5\" class=\"data row30 col5\" >3517.800000</td>\n",
       "      <td id=\"T_4bbb6_row30_col6\" class=\"data row30 col6\" >533.900000</td>\n",
       "      <td id=\"T_4bbb6_row30_col7\" class=\"data row30 col7\" >147.200000</td>\n",
       "      <td id=\"T_4bbb6_row30_col8\" class=\"data row30 col8\" >54302.600000</td>\n",
       "    </tr>\n",
       "    <tr>\n",
       "      <th id=\"T_4bbb6_level0_row31\" class=\"row_heading level0 row31\" >2005</th>\n",
       "      <td id=\"T_4bbb6_row31_col0\" class=\"data row31 col0\" >16919.400000</td>\n",
       "      <td id=\"T_4bbb6_row31_col1\" class=\"data row31 col1\" >17834.300000</td>\n",
       "      <td id=\"T_4bbb6_row31_col2\" class=\"data row31 col2\" >6451.600000</td>\n",
       "      <td id=\"T_4bbb6_row31_col3\" class=\"data row31 col3\" >8027.500000</td>\n",
       "      <td id=\"T_4bbb6_row31_col4\" class=\"data row31 col4\" >743.000000</td>\n",
       "      <td id=\"T_4bbb6_row31_col5\" class=\"data row31 col5\" >3655.300000</td>\n",
       "      <td id=\"T_4bbb6_row31_col6\" class=\"data row31 col6\" >521.800000</td>\n",
       "      <td id=\"T_4bbb6_row31_col7\" class=\"data row31 col7\" >147.200000</td>\n",
       "      <td id=\"T_4bbb6_row31_col8\" class=\"data row31 col8\" >54543.700000</td>\n",
       "    </tr>\n",
       "    <tr>\n",
       "      <th id=\"T_4bbb6_level0_row32\" class=\"row_heading level0 row32\" >2006</th>\n",
       "      <td id=\"T_4bbb6_row32_col0\" class=\"data row32 col0\" >16532.100000</td>\n",
       "      <td id=\"T_4bbb6_row32_col1\" class=\"data row32 col1\" >18022.700000</td>\n",
       "      <td id=\"T_4bbb6_row32_col2\" class=\"data row32 col2\" >6554.400000</td>\n",
       "      <td id=\"T_4bbb6_row32_col3\" class=\"data row32 col3\" >8113.300000</td>\n",
       "      <td id=\"T_4bbb6_row32_col4\" class=\"data row32 col4\" >705.400000</td>\n",
       "      <td id=\"T_4bbb6_row32_col5\" class=\"data row32 col5\" >3743.800000</td>\n",
       "      <td id=\"T_4bbb6_row32_col6\" class=\"data row32 col6\" >515.300000</td>\n",
       "      <td id=\"T_4bbb6_row32_col7\" class=\"data row32 col7\" >150.900000</td>\n",
       "      <td id=\"T_4bbb6_row32_col8\" class=\"data row32 col8\" >55166.100000</td>\n",
       "    </tr>\n",
       "    <tr>\n",
       "      <th id=\"T_4bbb6_level0_row33\" class=\"row_heading level0 row33\" >2007</th>\n",
       "      <td id=\"T_4bbb6_row33_col0\" class=\"data row33 col0\" >15934.500000</td>\n",
       "      <td id=\"T_4bbb6_row33_col1\" class=\"data row33 col1\" >18257.200000</td>\n",
       "      <td id=\"T_4bbb6_row33_col2\" class=\"data row33 col2\" >6745.400000</td>\n",
       "      <td id=\"T_4bbb6_row33_col3\" class=\"data row33 col3\" >8223.100000</td>\n",
       "      <td id=\"T_4bbb6_row33_col4\" class=\"data row33 col4\" >665.700000</td>\n",
       "      <td id=\"T_4bbb6_row33_col5\" class=\"data row33 col5\" >3715.700000</td>\n",
       "      <td id=\"T_4bbb6_row33_col6\" class=\"data row33 col6\" >522.000000</td>\n",
       "      <td id=\"T_4bbb6_row33_col7\" class=\"data row33 col7\" >141.300000</td>\n",
       "      <td id=\"T_4bbb6_row33_col8\" class=\"data row33 col8\" >55190.300000</td>\n",
       "    </tr>\n",
       "    <tr>\n",
       "      <th id=\"T_4bbb6_level0_row34\" class=\"row_heading level0 row34\" >2008</th>\n",
       "      <td id=\"T_4bbb6_row34_col0\" class=\"data row34 col0\" >15328.500000</td>\n",
       "      <td id=\"T_4bbb6_row34_col1\" class=\"data row34 col1\" >18553.000000</td>\n",
       "      <td id=\"T_4bbb6_row34_col2\" class=\"data row34 col2\" >6888.100000</td>\n",
       "      <td id=\"T_4bbb6_row34_col3\" class=\"data row34 col3\" >8276.100000</td>\n",
       "      <td id=\"T_4bbb6_row34_col4\" class=\"data row34 col4\" >590.400000</td>\n",
       "      <td id=\"T_4bbb6_row34_col5\" class=\"data row34 col5\" >3749.800000</td>\n",
       "      <td id=\"T_4bbb6_row34_col6\" class=\"data row34 col6\" >483.600000</td>\n",
       "      <td id=\"T_4bbb6_row34_col7\" class=\"data row34 col7\" >142.600000</td>\n",
       "      <td id=\"T_4bbb6_row34_col8\" class=\"data row34 col8\" >55169.500000</td>\n",
       "    </tr>\n",
       "    <tr>\n",
       "      <th id=\"T_4bbb6_level0_row35\" class=\"row_heading level0 row35\" >2009</th>\n",
       "      <td id=\"T_4bbb6_row35_col0\" class=\"data row35 col0\" >15120.300000</td>\n",
       "      <td id=\"T_4bbb6_row35_col1\" class=\"data row35 col1\" >18868.900000</td>\n",
       "      <td id=\"T_4bbb6_row35_col2\" class=\"data row35 col2\" >7089.500000</td>\n",
       "      <td id=\"T_4bbb6_row35_col3\" class=\"data row35 col3\" >8216.500000</td>\n",
       "      <td id=\"T_4bbb6_row35_col4\" class=\"data row35 col4\" >574.600000</td>\n",
       "      <td id=\"T_4bbb6_row35_col5\" class=\"data row35 col5\" >3870.300000</td>\n",
       "      <td id=\"T_4bbb6_row35_col6\" class=\"data row35 col6\" >453.400000</td>\n",
       "      <td id=\"T_4bbb6_row35_col7\" class=\"data row35 col7\" >141.900000</td>\n",
       "      <td id=\"T_4bbb6_row35_col8\" class=\"data row35 col8\" >55432.900000</td>\n",
       "    </tr>\n",
       "    <tr>\n",
       "      <th id=\"T_4bbb6_level0_row36\" class=\"row_heading level0 row36\" >2010</th>\n",
       "      <td id=\"T_4bbb6_row36_col0\" class=\"data row36 col0\" >14411.800000</td>\n",
       "      <td id=\"T_4bbb6_row36_col1\" class=\"data row36 col1\" >19116.600000</td>\n",
       "      <td id=\"T_4bbb6_row36_col2\" class=\"data row36 col2\" >7481.200000</td>\n",
       "      <td id=\"T_4bbb6_row36_col3\" class=\"data row36 col3\" >8385.200000</td>\n",
       "      <td id=\"T_4bbb6_row36_col4\" class=\"data row36 col4\" >551.400000</td>\n",
       "      <td id=\"T_4bbb6_row36_col5\" class=\"data row36 col5\" >3980.800000</td>\n",
       "      <td id=\"T_4bbb6_row36_col6\" class=\"data row36 col6\" >454.300000</td>\n",
       "      <td id=\"T_4bbb6_row36_col7\" class=\"data row36 col7\" >140.800000</td>\n",
       "      <td id=\"T_4bbb6_row36_col8\" class=\"data row36 col8\" >54870.400000</td>\n",
       "    </tr>\n",
       "    <tr>\n",
       "      <th id=\"T_4bbb6_level0_row37\" class=\"row_heading level0 row37\" >2011</th>\n",
       "      <td id=\"T_4bbb6_row37_col0\" class=\"data row37 col0\" >14041.500000</td>\n",
       "      <td id=\"T_4bbb6_row37_col1\" class=\"data row37 col1\" >18964.800000</td>\n",
       "      <td id=\"T_4bbb6_row37_col2\" class=\"data row37 col2\" >7646.800000</td>\n",
       "      <td id=\"T_4bbb6_row37_col3\" class=\"data row37 col3\" >8216.400000</td>\n",
       "      <td id=\"T_4bbb6_row37_col4\" class=\"data row37 col4\" >519.800000</td>\n",
       "      <td id=\"T_4bbb6_row37_col5\" class=\"data row37 col5\" >3897.900000</td>\n",
       "      <td id=\"T_4bbb6_row37_col6\" class=\"data row37 col6\" >471.300000</td>\n",
       "      <td id=\"T_4bbb6_row37_col7\" class=\"data row37 col7\" >140.800000</td>\n",
       "      <td id=\"T_4bbb6_row37_col8\" class=\"data row37 col8\" >53937.700000</td>\n",
       "    </tr>\n",
       "    <tr>\n",
       "      <th id=\"T_4bbb6_level0_row38\" class=\"row_heading level0 row38\" >2012</th>\n",
       "      <td id=\"T_4bbb6_row38_col0\" class=\"data row38 col0\" >13853.700000</td>\n",
       "      <td id=\"T_4bbb6_row38_col1\" class=\"data row38 col1\" >18704.900000</td>\n",
       "      <td id=\"T_4bbb6_row38_col2\" class=\"data row38 col2\" >7755.500000</td>\n",
       "      <td id=\"T_4bbb6_row38_col3\" class=\"data row38 col3\" >7739.900000</td>\n",
       "      <td id=\"T_4bbb6_row38_col4\" class=\"data row38 col4\" >519.200000</td>\n",
       "      <td id=\"T_4bbb6_row38_col5\" class=\"data row38 col5\" >3852.900000</td>\n",
       "      <td id=\"T_4bbb6_row38_col6\" class=\"data row38 col6\" >476.800000</td>\n",
       "      <td id=\"T_4bbb6_row38_col7\" class=\"data row38 col7\" >133.900000</td>\n",
       "      <td id=\"T_4bbb6_row38_col8\" class=\"data row38 col8\" >53083.200000</td>\n",
       "    </tr>\n",
       "    <tr>\n",
       "      <th id=\"T_4bbb6_level0_row39\" class=\"row_heading level0 row39\" >2013</th>\n",
       "      <td id=\"T_4bbb6_row39_col0\" class=\"data row39 col0\" >13784.000000</td>\n",
       "      <td id=\"T_4bbb6_row39_col1\" class=\"data row39 col1\" >18479.500000</td>\n",
       "      <td id=\"T_4bbb6_row39_col2\" class=\"data row39 col2\" >7502.300000</td>\n",
       "      <td id=\"T_4bbb6_row39_col3\" class=\"data row39 col3\" >7092.800000</td>\n",
       "      <td id=\"T_4bbb6_row39_col4\" class=\"data row39 col4\" >566.600000</td>\n",
       "      <td id=\"T_4bbb6_row39_col5\" class=\"data row39 col5\" >3825.100000</td>\n",
       "      <td id=\"T_4bbb6_row39_col6\" class=\"data row39 col6\" >495.500000</td>\n",
       "      <td id=\"T_4bbb6_row39_col7\" class=\"data row39 col7\" >132.900000</td>\n",
       "      <td id=\"T_4bbb6_row39_col8\" class=\"data row39 col8\" >51923.300000</td>\n",
       "    </tr>\n",
       "    <tr>\n",
       "      <th id=\"T_4bbb6_level0_row40\" class=\"row_heading level0 row40\" >2014</th>\n",
       "      <td id=\"T_4bbb6_row40_col0\" class=\"data row40 col0\" >13847.700000</td>\n",
       "      <td id=\"T_4bbb6_row40_col1\" class=\"data row40 col1\" >17860.500000</td>\n",
       "      <td id=\"T_4bbb6_row40_col2\" class=\"data row40 col2\" >7357.200000</td>\n",
       "      <td id=\"T_4bbb6_row40_col3\" class=\"data row40 col3\" >6318.200000</td>\n",
       "      <td id=\"T_4bbb6_row40_col4\" class=\"data row40 col4\" >534.000000</td>\n",
       "      <td id=\"T_4bbb6_row40_col5\" class=\"data row40 col5\" >3780.700000</td>\n",
       "      <td id=\"T_4bbb6_row40_col6\" class=\"data row40 col6\" >486.000000</td>\n",
       "      <td id=\"T_4bbb6_row40_col7\" class=\"data row40 col7\" >131.800000</td>\n",
       "      <td id=\"T_4bbb6_row40_col8\" class=\"data row40 col8\" >50368.100000</td>\n",
       "    </tr>\n",
       "    <tr>\n",
       "      <th id=\"T_4bbb6_level0_row41\" class=\"row_heading level0 row41\" >2015</th>\n",
       "      <td id=\"T_4bbb6_row41_col0\" class=\"data row41 col0\" >14450.300000</td>\n",
       "      <td id=\"T_4bbb6_row41_col1\" class=\"data row41 col1\" >16759.600000</td>\n",
       "      <td id=\"T_4bbb6_row41_col2\" class=\"data row41 col2\" >7717.900000</td>\n",
       "      <td id=\"T_4bbb6_row41_col3\" class=\"data row41 col3\" >5635.100000</td>\n",
       "      <td id=\"T_4bbb6_row41_col4\" class=\"data row41 col4\" >571.800000</td>\n",
       "      <td id=\"T_4bbb6_row41_col5\" class=\"data row41 col5\" >3827.200000</td>\n",
       "      <td id=\"T_4bbb6_row41_col6\" class=\"data row41 col6\" >514.300000</td>\n",
       "      <td id=\"T_4bbb6_row41_col7\" class=\"data row41 col7\" >125.600000</td>\n",
       "      <td id=\"T_4bbb6_row41_col8\" class=\"data row41 col8\" >49647.600000</td>\n",
       "    </tr>\n",
       "    <tr>\n",
       "      <th id=\"T_4bbb6_level0_row42\" class=\"row_heading level0 row42\" >2016</th>\n",
       "      <td id=\"T_4bbb6_row42_col0\" class=\"data row42 col0\" >15241.100000</td>\n",
       "      <td id=\"T_4bbb6_row42_col1\" class=\"data row42 col1\" >16556.900000</td>\n",
       "      <td id=\"T_4bbb6_row42_col2\" class=\"data row42 col2\" >7304.700000</td>\n",
       "      <td id=\"T_4bbb6_row42_col3\" class=\"data row42 col3\" >5013.800000</td>\n",
       "      <td id=\"T_4bbb6_row42_col4\" class=\"data row42 col4\" >613.000000</td>\n",
       "      <td id=\"T_4bbb6_row42_col5\" class=\"data row42 col5\" >3914.800000</td>\n",
       "      <td id=\"T_4bbb6_row42_col6\" class=\"data row42 col6\" >511.900000</td>\n",
       "      <td id=\"T_4bbb6_row42_col7\" class=\"data row42 col7\" >133.600000</td>\n",
       "      <td id=\"T_4bbb6_row42_col8\" class=\"data row42 col8\" >49349.300000</td>\n",
       "    </tr>\n",
       "    <tr>\n",
       "      <th id=\"T_4bbb6_level0_row43\" class=\"row_heading level0 row43\" >2017</th>\n",
       "      <td id=\"T_4bbb6_row43_col0\" class=\"data row43 col0\" >15621.400000</td>\n",
       "      <td id=\"T_4bbb6_row43_col1\" class=\"data row43 col1\" >16101.800000</td>\n",
       "      <td id=\"T_4bbb6_row43_col2\" class=\"data row43 col2\" >6805.200000</td>\n",
       "      <td id=\"T_4bbb6_row43_col3\" class=\"data row43 col3\" >4410.400000</td>\n",
       "      <td id=\"T_4bbb6_row43_col4\" class=\"data row43 col4\" >655.500000</td>\n",
       "      <td id=\"T_4bbb6_row43_col5\" class=\"data row43 col5\" >3977.800000</td>\n",
       "      <td id=\"T_4bbb6_row43_col6\" class=\"data row43 col6\" >501.100000</td>\n",
       "      <td id=\"T_4bbb6_row43_col7\" class=\"data row43 col7\" >146.200000</td>\n",
       "      <td id=\"T_4bbb6_row43_col8\" class=\"data row43 col8\" >48268.900000</td>\n",
       "    </tr>\n",
       "    <tr>\n",
       "      <th id=\"T_4bbb6_level0_row44\" class=\"row_heading level0 row44\" >2018</th>\n",
       "      <td id=\"T_4bbb6_row44_col0\" class=\"data row44 col0\" >15900.800000</td>\n",
       "      <td id=\"T_4bbb6_row44_col1\" class=\"data row44 col1\" >15667.100000</td>\n",
       "      <td id=\"T_4bbb6_row44_col2\" class=\"data row44 col2\" >6442.800000</td>\n",
       "      <td id=\"T_4bbb6_row44_col3\" class=\"data row44 col3\" >3965.500000</td>\n",
       "      <td id=\"T_4bbb6_row44_col4\" class=\"data row44 col4\" >708</td>\n",
       "      <td id=\"T_4bbb6_row44_col5\" class=\"data row44 col5\" >3830</td>\n",
       "      <td id=\"T_4bbb6_row44_col6\" class=\"data row44 col6\" >478.300000</td>\n",
       "      <td id=\"T_4bbb6_row44_col7\" class=\"data row44 col7\" >123.900000</td>\n",
       "      <td id=\"T_4bbb6_row44_col8\" class=\"data row44 col8\" >47234.700000</td>\n",
       "    </tr>\n",
       "    <tr>\n",
       "      <th id=\"T_4bbb6_level0_row45\" class=\"row_heading level0 row45\" >2019</th>\n",
       "      <td id=\"T_4bbb6_row45_col0\" class=\"data row45 col0\" >16119.400000</td>\n",
       "      <td id=\"T_4bbb6_row45_col1\" class=\"data row45 col1\" >15281.000000</td>\n",
       "      <td id=\"T_4bbb6_row45_col2\" class=\"data row45 col2\" >6066.600000</td>\n",
       "      <td id=\"T_4bbb6_row45_col3\" class=\"data row45 col3\" >3542.100000</td>\n",
       "      <td id=\"T_4bbb6_row45_col4\" class=\"data row45 col4\" >779.700000</td>\n",
       "      <td id=\"T_4bbb6_row45_col5\" class=\"data row45 col5\" >3744.900000</td>\n",
       "      <td id=\"T_4bbb6_row45_col6\" class=\"data row45 col6\" >444.900000</td>\n",
       "      <td id=\"T_4bbb6_row45_col7\" class=\"data row45 col7\" >121.400000</td>\n",
       "      <td id=\"T_4bbb6_row45_col8\" class=\"data row45 col8\" >46406.600000</td>\n",
       "    </tr>\n",
       "    <tr>\n",
       "      <th id=\"T_4bbb6_level0_row46\" class=\"row_heading level0 row46\" >2020</th>\n",
       "      <td id=\"T_4bbb6_row46_col0\" class=\"data row46 col0\" >16648.700000</td>\n",
       "      <td id=\"T_4bbb6_row46_col1\" class=\"data row46 col1\" >15834.500000</td>\n",
       "      <td id=\"T_4bbb6_row46_col2\" class=\"data row46 col2\" >5808.200000</td>\n",
       "      <td id=\"T_4bbb6_row46_col3\" class=\"data row46 col3\" >3067.500000</td>\n",
       "      <td id=\"T_4bbb6_row46_col4\" class=\"data row46 col4\" >765.200000</td>\n",
       "      <td id=\"T_4bbb6_row46_col5\" class=\"data row46 col5\" >2875.600000</td>\n",
       "      <td id=\"T_4bbb6_row46_col6\" class=\"data row46 col6\" >420.300000</td>\n",
       "      <td id=\"T_4bbb6_row46_col7\" class=\"data row46 col7\" >132.100000</td>\n",
       "      <td id=\"T_4bbb6_row46_col8\" class=\"data row46 col8\" >46356.100000</td>\n",
       "    </tr>\n",
       "    <tr>\n",
       "      <th id=\"T_4bbb6_level0_row47\" class=\"row_heading level0 row47\" >1 Volumes for flavored milks and eggnog include only milk content, not other ingredients such as added sugar and flavorings.</th>\n",
       "      <td id=\"T_4bbb6_row47_col0\" class=\"data row47 col0\" >nan</td>\n",
       "      <td id=\"T_4bbb6_row47_col1\" class=\"data row47 col1\" >nan</td>\n",
       "      <td id=\"T_4bbb6_row47_col2\" class=\"data row47 col2\" >nan</td>\n",
       "      <td id=\"T_4bbb6_row47_col3\" class=\"data row47 col3\" >nan</td>\n",
       "      <td id=\"T_4bbb6_row47_col4\" class=\"data row47 col4\" >nan</td>\n",
       "      <td id=\"T_4bbb6_row47_col5\" class=\"data row47 col5\" >nan</td>\n",
       "      <td id=\"T_4bbb6_row47_col6\" class=\"data row47 col6\" >nan</td>\n",
       "      <td id=\"T_4bbb6_row47_col7\" class=\"data row47 col7\" >nan</td>\n",
       "      <td id=\"T_4bbb6_row47_col8\" class=\"data row47 col8\" >nan</td>\n",
       "    </tr>\n",
       "    <tr>\n",
       "      <th id=\"T_4bbb6_level0_row48\" class=\"row_heading level0 row48\" >2 Total includes miscellaneous fluid milk products since 2000.</th>\n",
       "      <td id=\"T_4bbb6_row48_col0\" class=\"data row48 col0\" >nan</td>\n",
       "      <td id=\"T_4bbb6_row48_col1\" class=\"data row48 col1\" >nan</td>\n",
       "      <td id=\"T_4bbb6_row48_col2\" class=\"data row48 col2\" >nan</td>\n",
       "      <td id=\"T_4bbb6_row48_col3\" class=\"data row48 col3\" >nan</td>\n",
       "      <td id=\"T_4bbb6_row48_col4\" class=\"data row48 col4\" >nan</td>\n",
       "      <td id=\"T_4bbb6_row48_col5\" class=\"data row48 col5\" >nan</td>\n",
       "      <td id=\"T_4bbb6_row48_col6\" class=\"data row48 col6\" >nan</td>\n",
       "      <td id=\"T_4bbb6_row48_col7\" class=\"data row48 col7\" >nan</td>\n",
       "      <td id=\"T_4bbb6_row48_col8\" class=\"data row48 col8\" >nan</td>\n",
       "    </tr>\n",
       "    <tr>\n",
       "      <th id=\"T_4bbb6_level0_row49\" class=\"row_heading level0 row49\" >Sources: Numerous sources were used. See the USDA, Economic Research Service Dairy Data Documentation web page for the list of sources. </th>\n",
       "      <td id=\"T_4bbb6_row49_col0\" class=\"data row49 col0\" >nan</td>\n",
       "      <td id=\"T_4bbb6_row49_col1\" class=\"data row49 col1\" >nan</td>\n",
       "      <td id=\"T_4bbb6_row49_col2\" class=\"data row49 col2\" >nan</td>\n",
       "      <td id=\"T_4bbb6_row49_col3\" class=\"data row49 col3\" >nan</td>\n",
       "      <td id=\"T_4bbb6_row49_col4\" class=\"data row49 col4\" >nan</td>\n",
       "      <td id=\"T_4bbb6_row49_col5\" class=\"data row49 col5\" >nan</td>\n",
       "      <td id=\"T_4bbb6_row49_col6\" class=\"data row49 col6\" >nan</td>\n",
       "      <td id=\"T_4bbb6_row49_col7\" class=\"data row49 col7\" >nan</td>\n",
       "      <td id=\"T_4bbb6_row49_col8\" class=\"data row49 col8\" >nan</td>\n",
       "    </tr>\n",
       "    <tr>\n",
       "      <th id=\"T_4bbb6_level0_row50\" class=\"row_heading level0 row50\" >Last update: 8/31/2021</th>\n",
       "      <td id=\"T_4bbb6_row50_col0\" class=\"data row50 col0\" >nan</td>\n",
       "      <td id=\"T_4bbb6_row50_col1\" class=\"data row50 col1\" >nan</td>\n",
       "      <td id=\"T_4bbb6_row50_col2\" class=\"data row50 col2\" >nan</td>\n",
       "      <td id=\"T_4bbb6_row50_col3\" class=\"data row50 col3\" >nan</td>\n",
       "      <td id=\"T_4bbb6_row50_col4\" class=\"data row50 col4\" >nan</td>\n",
       "      <td id=\"T_4bbb6_row50_col5\" class=\"data row50 col5\" >nan</td>\n",
       "      <td id=\"T_4bbb6_row50_col6\" class=\"data row50 col6\" >nan</td>\n",
       "      <td id=\"T_4bbb6_row50_col7\" class=\"data row50 col7\" >nan</td>\n",
       "      <td id=\"T_4bbb6_row50_col8\" class=\"data row50 col8\" >nan</td>\n",
       "    </tr>\n",
       "  </tbody>\n",
       "</table>\n"
      ],
      "text/plain": [
       "<pandas.io.formats.style.Styler at 0x13059ec90>"
      ]
     },
     "execution_count": 40,
     "metadata": {},
     "output_type": "execute_result"
    }
   ],
   "source": [
    "milk.style.set_caption('Fluid beverage milk sales quantities by product (millions of pounds')"
   ]
  },
  {
   "cell_type": "code",
   "execution_count": null,
   "id": "f6ebaf4c",
   "metadata": {
    "scrolled": true,
    "slideshow": {
     "slide_type": "slide"
    }
   },
   "outputs": [],
   "source": [
    "milk = pd.read_excel(\"../data/fluidmilk.xlsx\", skiprows = 1)\n",
    "milk.columns = milk.columns.str.replace('\\n', '')\n",
    "milk = milk.rename(columns=lambda df: df.strip(' 12'))\n",
    "milk.columns.values[[0,2,3,5,6]] = np.array(['Year', 'Reduced', 'Low', \n",
    "                                             'Flavored Whole', 'Flavored Other'])\n",
    "milk = milk[:-4] # get rid of the last four rows\n",
    "milk = milk.set_index(\"Year\") \n",
    "milk.head()"
   ]
  },
  {
   "cell_type": "code",
   "execution_count": null,
   "id": "d10cb953",
   "metadata": {
    "slideshow": {
     "slide_type": "subslide"
    }
   },
   "outputs": [],
   "source": [
    "milk = milk.stack() \n",
    "milk"
   ]
  },
  {
   "cell_type": "code",
   "execution_count": null,
   "id": "3eb11e1b",
   "metadata": {
    "scrolled": true,
    "slideshow": {
     "slide_type": "subslide"
    }
   },
   "outputs": [],
   "source": [
    "milk.index"
   ]
  },
  {
   "cell_type": "code",
   "execution_count": null,
   "id": "5cc522c5",
   "metadata": {
    "slideshow": {
     "slide_type": "subslide"
    }
   },
   "outputs": [],
   "source": [
    "milk = milk.reset_index()\n",
    "milk"
   ]
  },
  {
   "cell_type": "code",
   "execution_count": null,
   "id": "a053b1c1",
   "metadata": {},
   "outputs": [],
   "source": [
    "milk.columns.values[[False, True, True]] = np.array([\"Kind\", \"Sales\"])"
   ]
  },
  {
   "cell_type": "code",
   "execution_count": null,
   "id": "649c4173",
   "metadata": {
    "slideshow": {
     "slide_type": "subslide"
    }
   },
   "outputs": [],
   "source": [
    "milk.head()"
   ]
  },
  {
   "cell_type": "code",
   "execution_count": null,
   "id": "39a79eca",
   "metadata": {
    "scrolled": true
   },
   "outputs": [],
   "source": [
    "milk.tail()"
   ]
  }
 ],
 "metadata": {
  "celltoolbar": "Slideshow",
  "kernelspec": {
   "display_name": "Python 3",
   "language": "python",
   "name": "python3"
  },
  "language_info": {
   "codemirror_mode": {
    "name": "ipython",
    "version": 3
   },
   "file_extension": ".py",
   "mimetype": "text/x-python",
   "name": "python",
   "nbconvert_exporter": "python",
   "pygments_lexer": "ipython3",
   "version": "3.11.6"
  },
  "rise": {
   "progress": true,
   "scroll": true,
   "theme": "white"
  },
  "vscode": {
   "interpreter": {
    "hash": "b0fa6594d8f4cbf19f97940f81e996739fb7646882a419484c72d19e05852a7e"
   }
  }
 },
 "nbformat": 4,
 "nbformat_minor": 5
}
