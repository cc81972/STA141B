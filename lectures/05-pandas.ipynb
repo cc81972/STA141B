{
 "cells": [
  {
   "cell_type": "markdown",
   "id": "ff704263",
   "metadata": {
    "slideshow": {
     "slide_type": "slide"
    }
   },
   "source": [
    "# STA 141B Data & Web Technologies for Data Analysis\n",
    "\n",
    "### Lecture 5, 23/1/24, Pandas\n"
   ]
  },
  {
   "cell_type": "markdown",
   "id": "d720fbd5",
   "metadata": {
    "slideshow": {
     "slide_type": "slide"
    }
   },
   "source": [
    "### Announcements\n",
    "\n",
    " - Midterm next week on Tuesday. Sample exam is online. "
   ]
  },
  {
   "cell_type": "markdown",
   "id": "58dedf6f",
   "metadata": {},
   "source": [
    "### Last week's topics\n",
    "\n",
    "- Memory handling in Python\n",
    "    - Reference semantics\n",
    "    - Interning\n",
    "- Numpy"
   ]
  },
  {
   "cell_type": "markdown",
   "id": "229980e2",
   "metadata": {},
   "source": [
    "### Today's topics\n",
    "\n",
    " - Pandas\n",
    " \n",
    "### Data Sets\n",
    "\n",
    " - `dogs_full.csv`\n",
    " - `fluidmilk.xlsx`\n",
    "\n",
    "### References\n",
    "\n",
    " - Python for Data Analysis, Ch. 5, 10\n",
    " - [Python Data Science Handbook](https://jakevdp.github.io/PythonDataScienceHandbook/), Ch. 3"
   ]
  },
  {
   "cell_type": "markdown",
   "id": "213dd869",
   "metadata": {
    "slideshow": {
     "slide_type": "slide"
    }
   },
   "source": [
    "## Pandas\n",
    "\n",
    "Pandas is a Python package that provides tools for manipulating tabular data. The name \"pandas\" is short for \"**PAN**el **DA**ta\", an econometrics term. Since we're using Anaconda, Pandas is already installed.\n",
    "\n",
    "Pandas is documented [here](http://pandas.pydata.org/pandas-docs/stable/)."
   ]
  },
  {
   "cell_type": "code",
   "execution_count": 3,
   "id": "3677019a",
   "metadata": {},
   "outputs": [],
   "source": [
    "import pandas as pd"
   ]
  },
  {
   "cell_type": "markdown",
   "id": "57b1eefd",
   "metadata": {
    "slideshow": {
     "slide_type": "slide"
    }
   },
   "source": [
    "### Series\n",
    "\n",
    "A Pandas Series a one-dimensional labeled array capable of holding data of any type (integer, string, float, python objects, etc.). It is a generalization of a NumPy array.\n",
    "\n",
    "In addition to elements, every series includes an <b>index</b>."
   ]
  },
  {
   "cell_type": "code",
   "execution_count": 4,
   "id": "8caa7520",
   "metadata": {},
   "outputs": [
    {
     "data": {
      "text/plain": [
       "pandas.core.series.Series"
      ]
     },
     "execution_count": 4,
     "metadata": {},
     "output_type": "execute_result"
    }
   ],
   "source": [
    "x = pd.Series([1, 2, 3])\n",
    "type(x)"
   ]
  },
  {
   "cell_type": "code",
   "execution_count": 5,
   "id": "e1d4a627",
   "metadata": {},
   "outputs": [
    {
     "data": {
      "text/plain": [
       "0    1\n",
       "1    2\n",
       "2    3\n",
       "dtype: int64"
      ]
     },
     "execution_count": 5,
     "metadata": {},
     "output_type": "execute_result"
    }
   ],
   "source": [
    "x"
   ]
  },
  {
   "cell_type": "code",
   "execution_count": 6,
   "id": "bae4bed9",
   "metadata": {},
   "outputs": [
    {
     "data": {
      "text/plain": [
       "a    1\n",
       "b    2\n",
       "c    3\n",
       "dtype: int64"
      ]
     },
     "execution_count": 6,
     "metadata": {},
     "output_type": "execute_result"
    }
   ],
   "source": [
    "x = pd.Series([1,2,3], index = [\"a\", \"b\", \"c\"])\n",
    "x"
   ]
  },
  {
   "cell_type": "markdown",
   "id": "651274c4",
   "metadata": {
    "slideshow": {
     "slide_type": "subslide"
    }
   },
   "source": [
    "A series can be indexed in all of the same ways as a NumPy array, but also by index values. This means a series can also be used like an ordered dictionary (although its keys are not unique). "
   ]
  },
  {
   "cell_type": "code",
   "execution_count": 7,
   "id": "4966ec8d",
   "metadata": {},
   "outputs": [
    {
     "name": "stderr",
     "output_type": "stream",
     "text": [
      "/var/folders/nv/5j9xydr90s30r_9rw5pwhf640000gn/T/ipykernel_37356/3629782281.py:1: FutureWarning: Series.__getitem__ treating keys as positions is deprecated. In a future version, integer keys will always be treated as labels (consistent with DataFrame behavior). To access a value by position, use `ser.iloc[pos]`\n",
      "  x[0]\n"
     ]
    },
    {
     "data": {
      "text/plain": [
       "1"
      ]
     },
     "execution_count": 7,
     "metadata": {},
     "output_type": "execute_result"
    }
   ],
   "source": [
    "x[0]"
   ]
  },
  {
   "cell_type": "code",
   "execution_count": 8,
   "id": "d706119f",
   "metadata": {},
   "outputs": [
    {
     "data": {
      "text/plain": [
       "a    1\n",
       "dtype: int64"
      ]
     },
     "execution_count": 8,
     "metadata": {},
     "output_type": "execute_result"
    }
   ],
   "source": [
    "x[0:1]"
   ]
  },
  {
   "cell_type": "code",
   "execution_count": 9,
   "id": "f0165a5b",
   "metadata": {},
   "outputs": [
    {
     "data": {
      "text/plain": [
       "1"
      ]
     },
     "execution_count": 9,
     "metadata": {},
     "output_type": "execute_result"
    }
   ],
   "source": [
    "x[\"a\"]"
   ]
  },
  {
   "cell_type": "code",
   "execution_count": 10,
   "id": "3217645e",
   "metadata": {
    "slideshow": {
     "slide_type": "subslide"
    }
   },
   "outputs": [
    {
     "data": {
      "text/plain": [
       "a    1\n",
       "b    2\n",
       "dtype: int64"
      ]
     },
     "execution_count": 10,
     "metadata": {},
     "output_type": "execute_result"
    }
   ],
   "source": [
    "x[\"a\":\"b\"]"
   ]
  },
  {
   "cell_type": "code",
   "execution_count": 11,
   "id": "55b129f3",
   "metadata": {},
   "outputs": [
    {
     "data": {
      "text/plain": [
       "Series([], dtype: int64)"
      ]
     },
     "execution_count": 11,
     "metadata": {},
     "output_type": "execute_result"
    }
   ],
   "source": [
    "x[\"b\":\"a\"]"
   ]
  },
  {
   "cell_type": "code",
   "execution_count": 12,
   "id": "533293b9",
   "metadata": {
    "slideshow": {
     "slide_type": "subslide"
    }
   },
   "outputs": [
    {
     "data": {
      "text/plain": [
       "c    1\n",
       "b    2\n",
       "a    3\n",
       "dtype: int64"
      ]
     },
     "execution_count": 12,
     "metadata": {},
     "output_type": "execute_result"
    }
   ],
   "source": [
    "x = pd.Series([1,2,3], index = [\"c\", \"b\", \"a\"])\n",
    "x"
   ]
  },
  {
   "cell_type": "code",
   "execution_count": 13,
   "id": "bd5f132c",
   "metadata": {},
   "outputs": [
    {
     "data": {
      "text/plain": [
       "Series([], dtype: int64)"
      ]
     },
     "execution_count": 13,
     "metadata": {},
     "output_type": "execute_result"
    }
   ],
   "source": [
    "x[\"a\":\"b\"]"
   ]
  },
  {
   "cell_type": "code",
   "execution_count": null,
   "id": "81b205cd",
   "metadata": {
    "scrolled": true
   },
   "outputs": [],
   "source": [
    "x[\"c\":\"b\"]"
   ]
  },
  {
   "cell_type": "code",
   "execution_count": null,
   "id": "4efa7e4f",
   "metadata": {},
   "outputs": [],
   "source": [
    "x = pd.Series([1,2,3], index = [\"c\", \"a\", \"b\"])\n",
    "x[\"c\":\"b\"]"
   ]
  },
  {
   "cell_type": "code",
   "execution_count": null,
   "id": "644dfea5",
   "metadata": {},
   "outputs": [],
   "source": [
    "x = pd.Series([1,2,3], index = [\"c\", \"a\", \"a\"])\n",
    "x[\"c\":\"a\"]"
   ]
  },
  {
   "cell_type": "markdown",
   "id": "64099d66",
   "metadata": {
    "slideshow": {
     "slide_type": "subslide"
    }
   },
   "source": [
    "A series may have integer indices as well. "
   ]
  },
  {
   "cell_type": "code",
   "execution_count": null,
   "id": "ca5ca87b",
   "metadata": {},
   "outputs": [],
   "source": [
    "x = pd.Series([1, 2, 3], index = [10, 12, 14])\n",
    "x"
   ]
  },
  {
   "cell_type": "markdown",
   "id": "99cc6dbb",
   "metadata": {
    "slideshow": {
     "slide_type": "subslide"
    }
   },
   "source": [
    "For a indexing series (and as we'll see later, also data frames):\n",
    "\n",
    "* `[ ]` is by position, name, or condition. **Exception:** for an integer index it's by name or condition only.\n",
    "* `.iloc[ ]` is by position\n",
    "* `.loc[ ]` is by name or condition"
   ]
  },
  {
   "cell_type": "code",
   "execution_count": null,
   "id": "7c5c26ef",
   "metadata": {},
   "outputs": [],
   "source": [
    "y = pd.Series([1,2,3])\n",
    "z = y[1:3]\n",
    "z"
   ]
  },
  {
   "cell_type": "code",
   "execution_count": null,
   "id": "d1c11512",
   "metadata": {},
   "outputs": [],
   "source": [
    "z[1]"
   ]
  },
  {
   "cell_type": "code",
   "execution_count": null,
   "id": "447108ff",
   "metadata": {},
   "outputs": [],
   "source": [
    "y.iloc[0]"
   ]
  },
  {
   "cell_type": "code",
   "execution_count": null,
   "id": "bb166266",
   "metadata": {},
   "outputs": [],
   "source": [
    "y.loc[1]"
   ]
  },
  {
   "cell_type": "code",
   "execution_count": null,
   "id": "fc03df51",
   "metadata": {
    "slideshow": {
     "slide_type": "subslide"
    }
   },
   "outputs": [],
   "source": [
    "z = pd.Series([1, 2, 3, 4], index = [3j, 2j, 1j, -1j])\n",
    "z"
   ]
  },
  {
   "cell_type": "code",
   "execution_count": null,
   "id": "e5b2d38b",
   "metadata": {},
   "outputs": [],
   "source": [
    "z[3j]"
   ]
  },
  {
   "cell_type": "code",
   "execution_count": null,
   "id": "1cbc0fb0",
   "metadata": {},
   "outputs": [],
   "source": [
    "z.loc[-1j]"
   ]
  },
  {
   "cell_type": "code",
   "execution_count": null,
   "id": "da1260aa",
   "metadata": {},
   "outputs": [],
   "source": [
    "z.index"
   ]
  },
  {
   "cell_type": "markdown",
   "id": "c6903d98",
   "metadata": {
    "slideshow": {
     "slide_type": "slide"
    }
   },
   "source": [
    "### Data Frames\n",
    "\n",
    "A data frame is a table or a two-dimensional array-like structure in which each column contains values of one variable and each row contains one set of values from each column.\n",
    "\n",
    "It represents tabular data as a collection of Series."
   ]
  },
  {
   "cell_type": "code",
   "execution_count": null,
   "id": "6d0f8b3e",
   "metadata": {},
   "outputs": [],
   "source": [
    "df = pd.DataFrame({\"x\": [1, 2, 3], \"y\": [\"a\", \"b\", \"c\"]})\n",
    "df"
   ]
  },
  {
   "cell_type": "markdown",
   "id": "ac720ae6",
   "metadata": {
    "slideshow": {
     "slide_type": "subslide"
    }
   },
   "source": [
    "Data frames support the similar indexing methods as series. However, for indexing with `[ ]`,\n",
    "\n",
    "* Scalar values get columns by name\n",
    "* Conditions or slices get rows"
   ]
  },
  {
   "cell_type": "code",
   "execution_count": null,
   "id": "68997c04",
   "metadata": {},
   "outputs": [],
   "source": [
    "df.iloc[0,0]"
   ]
  },
  {
   "cell_type": "code",
   "execution_count": null,
   "id": "ba70a40f",
   "metadata": {},
   "outputs": [],
   "source": [
    "df[0:1]"
   ]
  },
  {
   "cell_type": "code",
   "execution_count": null,
   "id": "d69bfe07",
   "metadata": {},
   "outputs": [],
   "source": [
    "df[\"y\"]"
   ]
  },
  {
   "cell_type": "code",
   "execution_count": null,
   "id": "11726153",
   "metadata": {
    "scrolled": true,
    "slideshow": {
     "slide_type": "subslide"
    }
   },
   "outputs": [],
   "source": [
    "df['x']"
   ]
  },
  {
   "cell_type": "code",
   "execution_count": null,
   "id": "4d69b339",
   "metadata": {},
   "outputs": [],
   "source": [
    "df.iloc[0]"
   ]
  },
  {
   "cell_type": "code",
   "execution_count": null,
   "id": "0c5a7805",
   "metadata": {
    "scrolled": true
   },
   "outputs": [],
   "source": [
    "df "
   ]
  },
  {
   "cell_type": "code",
   "execution_count": null,
   "id": "7b5e0ca8",
   "metadata": {
    "slideshow": {
     "slide_type": "subslide"
    }
   },
   "outputs": [],
   "source": [
    "df.loc[:,\"x\"] "
   ]
  },
  {
   "cell_type": "code",
   "execution_count": null,
   "id": "b4220c63",
   "metadata": {},
   "outputs": [],
   "source": [
    "df[df[\"x\"] > 2] # more conventient "
   ]
  },
  {
   "cell_type": "code",
   "execution_count": null,
   "id": "ae12d0ff",
   "metadata": {},
   "outputs": [],
   "source": [
    "df.loc[df['x']>2,:]  # more principled (?)"
   ]
  },
  {
   "cell_type": "markdown",
   "id": "3164330f",
   "metadata": {
    "slideshow": {
     "slide_type": "-"
    }
   },
   "source": [
    "Since we are subsetting a DataFrame, a DataFrame is returned. "
   ]
  },
  {
   "cell_type": "code",
   "execution_count": null,
   "id": "329bceb2",
   "metadata": {
    "slideshow": {
     "slide_type": "subslide"
    }
   },
   "outputs": [],
   "source": [
    "df.shape"
   ]
  },
  {
   "cell_type": "code",
   "execution_count": null,
   "id": "06823a46",
   "metadata": {},
   "outputs": [],
   "source": [
    "df.size"
   ]
  },
  {
   "cell_type": "code",
   "execution_count": null,
   "id": "42664fe1",
   "metadata": {},
   "outputs": [],
   "source": [
    "type(df)"
   ]
  },
  {
   "cell_type": "code",
   "execution_count": null,
   "id": "232f67b4",
   "metadata": {},
   "outputs": [],
   "source": [
    "df.dtypes"
   ]
  },
  {
   "cell_type": "markdown",
   "id": "36058be7",
   "metadata": {},
   "source": [
    "More indexing and selection data using pandas can be found [here](https://pandas.pydata.org/pandas-docs/stable/user_guide/indexing.html#indexing-slicing-with-labels)"
   ]
  },
  {
   "cell_type": "markdown",
   "id": "3c3f429c",
   "metadata": {
    "slideshow": {
     "slide_type": "slide"
    }
   },
   "source": [
    "### Missing Data\n",
    "\n",
    "Pandas represents missing data with `NaN` and `None`, but these values do not exclusively mean missing data. For instance, `NaN` stands for \"Not a Number\" and is also the result of undefined computations. Pay attention to your data and code to determine whether values are missing or have some other meaning.\n",
    "\n",
    "You can create `NaN` values with NumPy."
   ]
  },
  {
   "cell_type": "code",
   "execution_count": null,
   "id": "c2004230",
   "metadata": {},
   "outputs": [],
   "source": [
    "import numpy as np \n",
    "np.nan"
   ]
  },
  {
   "cell_type": "code",
   "execution_count": null,
   "id": "8be4c47c",
   "metadata": {
    "slideshow": {
     "slide_type": "-"
    }
   },
   "outputs": [],
   "source": [
    "df = pd.DataFrame({\"x\": [1, np.nan, 2], \"y\": np.arange(3), \"z\": [\"x\", \"y\", None]})\n",
    "df"
   ]
  },
  {
   "cell_type": "markdown",
   "id": "deef4b70",
   "metadata": {
    "slideshow": {
     "slide_type": "subslide"
    }
   },
   "source": [
    "Use the `.isna()` or `.isnull()` methods to detect missing values."
   ]
  },
  {
   "cell_type": "code",
   "execution_count": null,
   "id": "5ae6e719",
   "metadata": {},
   "outputs": [],
   "source": [
    "df.isna()"
   ]
  },
  {
   "cell_type": "code",
   "execution_count": null,
   "id": "55c56138",
   "metadata": {},
   "outputs": [],
   "source": [
    "df.isnull()"
   ]
  },
  {
   "cell_type": "code",
   "execution_count": null,
   "id": "6437e9cb",
   "metadata": {
    "slideshow": {
     "slide_type": "subslide"
    }
   },
   "outputs": [],
   "source": [
    "df"
   ]
  },
  {
   "cell_type": "code",
   "execution_count": null,
   "id": "ac17421f",
   "metadata": {
    "slideshow": {
     "slide_type": "subslide"
    }
   },
   "outputs": [],
   "source": [
    "df.info()"
   ]
  },
  {
   "cell_type": "code",
   "execution_count": null,
   "id": "6652964f",
   "metadata": {
    "slideshow": {
     "slide_type": "subslide"
    }
   },
   "outputs": [],
   "source": [
    "df"
   ]
  },
  {
   "cell_type": "code",
   "execution_count": null,
   "id": "1fbc921a",
   "metadata": {
    "slideshow": {
     "slide_type": "subslide"
    }
   },
   "outputs": [],
   "source": [
    "(~df.isna()).sum().sum()"
   ]
  },
  {
   "cell_type": "code",
   "execution_count": null,
   "id": "a19c09ee",
   "metadata": {},
   "outputs": [],
   "source": [
    "df.isna().sum().sum() # how many are not missing"
   ]
  },
  {
   "cell_type": "code",
   "execution_count": null,
   "id": "6bc3c249",
   "metadata": {},
   "outputs": [],
   "source": [
    "df.sum().sum()"
   ]
  },
  {
   "cell_type": "markdown",
   "id": "53463314",
   "metadata": {},
   "source": [
    "Lets deal with this warning. "
   ]
  },
  {
   "cell_type": "code",
   "execution_count": null,
   "id": "872f836e",
   "metadata": {
    "scrolled": true
   },
   "outputs": [],
   "source": [
    "df.sum(numeric_only=True).sum()"
   ]
  },
  {
   "cell_type": "markdown",
   "id": "07aedde1",
   "metadata": {
    "slideshow": {
     "slide_type": "slide"
    }
   },
   "source": [
    "### Data Alignment\n",
    "\n",
    "Pandas supports vectorized operations, but elements are <b>automatically</b> aligned by index. **Beware!!** This is a major difference compared to R."
   ]
  },
  {
   "cell_type": "code",
   "execution_count": null,
   "id": "467dfb5b",
   "metadata": {},
   "outputs": [],
   "source": [
    "x = pd.Series([1, 2, 3], index = [\"a\", \"b\", \"c\"])\n",
    "y = pd.Series([1, 2, 3], index = [\"b\", \"a\", \"c\"])\n",
    "x"
   ]
  },
  {
   "cell_type": "code",
   "execution_count": null,
   "id": "4a1106f2",
   "metadata": {},
   "outputs": [],
   "source": [
    "y"
   ]
  },
  {
   "cell_type": "code",
   "execution_count": null,
   "id": "1d78884e",
   "metadata": {},
   "outputs": [],
   "source": [
    "x * y"
   ]
  },
  {
   "cell_type": "code",
   "execution_count": null,
   "id": "3362c66d",
   "metadata": {},
   "outputs": [],
   "source": []
  },
  {
   "cell_type": "markdown",
   "id": "660bc912",
   "metadata": {
    "slideshow": {
     "slide_type": "subslide"
    }
   },
   "source": [
    "You can use the `.reset_index()` method to reset the indexes on a series or data frame. Watch out: The method returns a new DataFrame, but does not overwrite the old object. "
   ]
  },
  {
   "cell_type": "code",
   "execution_count": null,
   "id": "d4f60471",
   "metadata": {},
   "outputs": [],
   "source": [
    "x.reset_index().reset_index()# keep old index as a new column"
   ]
  },
  {
   "cell_type": "code",
   "execution_count": null,
   "id": "9cd8ab1d",
   "metadata": {},
   "outputs": [],
   "source": [
    "df.reset_index()"
   ]
  },
  {
   "cell_type": "code",
   "execution_count": null,
   "id": "bb644e12",
   "metadata": {},
   "outputs": [],
   "source": [
    "y.reset_index(drop = True) # throw away the old index"
   ]
  },
  {
   "cell_type": "markdown",
   "id": "7c9ad69d",
   "metadata": {
    "slideshow": {
     "slide_type": "slide"
    }
   },
   "source": [
    "### Reading Data\n",
    "\n",
    "Pandas provides functions for reading (and writing) a variety of common formats. Most of their names begin with `read_`. For instance, we can read the dogs data from a CSV file:"
   ]
  },
  {
   "cell_type": "code",
   "execution_count": 16,
   "id": "68bcd845",
   "metadata": {},
   "outputs": [],
   "source": [
    "dogs = pd.read_csv(\"./dogs_full.csv\")"
   ]
  },
  {
   "cell_type": "code",
   "execution_count": 17,
   "id": "c533e4e1",
   "metadata": {
    "scrolled": false
   },
   "outputs": [
    {
     "data": {
      "text/html": [
       "<div>\n",
       "<style scoped>\n",
       "    .dataframe tbody tr th:only-of-type {\n",
       "        vertical-align: middle;\n",
       "    }\n",
       "\n",
       "    .dataframe tbody tr th {\n",
       "        vertical-align: top;\n",
       "    }\n",
       "\n",
       "    .dataframe thead th {\n",
       "        text-align: right;\n",
       "    }\n",
       "</style>\n",
       "<table border=\"1\" class=\"dataframe\">\n",
       "  <thead>\n",
       "    <tr style=\"text-align: right;\">\n",
       "      <th></th>\n",
       "      <th>breed</th>\n",
       "      <th>group</th>\n",
       "      <th>datadog</th>\n",
       "      <th>popularity_all</th>\n",
       "      <th>popularity</th>\n",
       "      <th>lifetime_cost</th>\n",
       "      <th>intelligence_rank</th>\n",
       "      <th>longevity</th>\n",
       "      <th>ailments</th>\n",
       "      <th>price</th>\n",
       "      <th>food_cost</th>\n",
       "      <th>grooming</th>\n",
       "      <th>kids</th>\n",
       "      <th>megarank_kids</th>\n",
       "      <th>megarank</th>\n",
       "      <th>size</th>\n",
       "      <th>weight</th>\n",
       "      <th>height</th>\n",
       "    </tr>\n",
       "  </thead>\n",
       "  <tbody>\n",
       "    <tr>\n",
       "      <th>0</th>\n",
       "      <td>Border Collie</td>\n",
       "      <td>herding</td>\n",
       "      <td>3.64</td>\n",
       "      <td>45</td>\n",
       "      <td>39.0</td>\n",
       "      <td>20143.0</td>\n",
       "      <td>1.0</td>\n",
       "      <td>12.52</td>\n",
       "      <td>2.0</td>\n",
       "      <td>623.0</td>\n",
       "      <td>324.0</td>\n",
       "      <td>weekly</td>\n",
       "      <td>low</td>\n",
       "      <td>1.0</td>\n",
       "      <td>29.0</td>\n",
       "      <td>medium</td>\n",
       "      <td>NaN</td>\n",
       "      <td>20.0</td>\n",
       "    </tr>\n",
       "    <tr>\n",
       "      <th>1</th>\n",
       "      <td>Border Terrier</td>\n",
       "      <td>terrier</td>\n",
       "      <td>3.61</td>\n",
       "      <td>80</td>\n",
       "      <td>61.0</td>\n",
       "      <td>22638.0</td>\n",
       "      <td>30.0</td>\n",
       "      <td>14.00</td>\n",
       "      <td>0.0</td>\n",
       "      <td>833.0</td>\n",
       "      <td>324.0</td>\n",
       "      <td>weekly</td>\n",
       "      <td>high</td>\n",
       "      <td>2.0</td>\n",
       "      <td>1.0</td>\n",
       "      <td>small</td>\n",
       "      <td>13.5</td>\n",
       "      <td>NaN</td>\n",
       "    </tr>\n",
       "    <tr>\n",
       "      <th>2</th>\n",
       "      <td>Brittany</td>\n",
       "      <td>sporting</td>\n",
       "      <td>3.54</td>\n",
       "      <td>30</td>\n",
       "      <td>30.0</td>\n",
       "      <td>22589.0</td>\n",
       "      <td>19.0</td>\n",
       "      <td>12.92</td>\n",
       "      <td>0.0</td>\n",
       "      <td>618.0</td>\n",
       "      <td>466.0</td>\n",
       "      <td>weekly</td>\n",
       "      <td>medium</td>\n",
       "      <td>3.0</td>\n",
       "      <td>11.0</td>\n",
       "      <td>medium</td>\n",
       "      <td>35.0</td>\n",
       "      <td>19.0</td>\n",
       "    </tr>\n",
       "    <tr>\n",
       "      <th>3</th>\n",
       "      <td>Cairn Terrier</td>\n",
       "      <td>terrier</td>\n",
       "      <td>3.53</td>\n",
       "      <td>59</td>\n",
       "      <td>48.0</td>\n",
       "      <td>21992.0</td>\n",
       "      <td>35.0</td>\n",
       "      <td>13.84</td>\n",
       "      <td>2.0</td>\n",
       "      <td>435.0</td>\n",
       "      <td>324.0</td>\n",
       "      <td>weekly</td>\n",
       "      <td>high</td>\n",
       "      <td>4.0</td>\n",
       "      <td>2.0</td>\n",
       "      <td>small</td>\n",
       "      <td>14.0</td>\n",
       "      <td>10.0</td>\n",
       "    </tr>\n",
       "    <tr>\n",
       "      <th>4</th>\n",
       "      <td>Welsh Springer Spaniel</td>\n",
       "      <td>sporting</td>\n",
       "      <td>3.34</td>\n",
       "      <td>130</td>\n",
       "      <td>81.0</td>\n",
       "      <td>20224.0</td>\n",
       "      <td>31.0</td>\n",
       "      <td>12.49</td>\n",
       "      <td>1.0</td>\n",
       "      <td>750.0</td>\n",
       "      <td>324.0</td>\n",
       "      <td>weekly</td>\n",
       "      <td>high</td>\n",
       "      <td>5.0</td>\n",
       "      <td>4.0</td>\n",
       "      <td>medium</td>\n",
       "      <td>NaN</td>\n",
       "      <td>18.0</td>\n",
       "    </tr>\n",
       "  </tbody>\n",
       "</table>\n",
       "</div>"
      ],
      "text/plain": [
       "                    breed     group  datadog  popularity_all  popularity  \\\n",
       "0           Border Collie   herding     3.64              45        39.0   \n",
       "1          Border Terrier   terrier     3.61              80        61.0   \n",
       "2                Brittany  sporting     3.54              30        30.0   \n",
       "3           Cairn Terrier   terrier     3.53              59        48.0   \n",
       "4  Welsh Springer Spaniel  sporting     3.34             130        81.0   \n",
       "\n",
       "   lifetime_cost  intelligence_rank  longevity  ailments  price  food_cost  \\\n",
       "0        20143.0                1.0      12.52       2.0  623.0      324.0   \n",
       "1        22638.0               30.0      14.00       0.0  833.0      324.0   \n",
       "2        22589.0               19.0      12.92       0.0  618.0      466.0   \n",
       "3        21992.0               35.0      13.84       2.0  435.0      324.0   \n",
       "4        20224.0               31.0      12.49       1.0  750.0      324.0   \n",
       "\n",
       "  grooming    kids  megarank_kids  megarank    size  weight  height  \n",
       "0   weekly     low            1.0      29.0  medium     NaN    20.0  \n",
       "1   weekly    high            2.0       1.0   small    13.5     NaN  \n",
       "2   weekly  medium            3.0      11.0  medium    35.0    19.0  \n",
       "3   weekly    high            4.0       2.0   small    14.0    10.0  \n",
       "4   weekly    high            5.0       4.0  medium     NaN    18.0  "
      ]
     },
     "execution_count": 17,
     "metadata": {},
     "output_type": "execute_result"
    }
   ],
   "source": [
    "dogs.head()"
   ]
  },
  {
   "cell_type": "markdown",
   "id": "d1ca3756",
   "metadata": {
    "slideshow": {
     "slide_type": "slide"
    }
   },
   "source": [
    "### Inspecting Data\n",
    "\n",
    "Series and data frames provide many of the same methods and attributes as NumPy arrays."
   ]
  },
  {
   "cell_type": "markdown",
   "id": "d327cf62",
   "metadata": {},
   "source": [
    "For a data frame, the `.dtypes` attribute gives the column types.\n",
    "\n",
    "The type \"object\" means some non-numeric Python object, often a string."
   ]
  },
  {
   "cell_type": "code",
   "execution_count": 18,
   "id": "8be4e952",
   "metadata": {},
   "outputs": [
    {
     "data": {
      "text/plain": [
       "breed                 object\n",
       "group                 object\n",
       "datadog              float64\n",
       "popularity_all         int64\n",
       "popularity           float64\n",
       "lifetime_cost        float64\n",
       "intelligence_rank    float64\n",
       "longevity            float64\n",
       "ailments             float64\n",
       "price                float64\n",
       "food_cost            float64\n",
       "grooming              object\n",
       "kids                  object\n",
       "megarank_kids        float64\n",
       "megarank             float64\n",
       "size                  object\n",
       "weight               float64\n",
       "height               float64\n",
       "dtype: object"
      ]
     },
     "execution_count": 18,
     "metadata": {},
     "output_type": "execute_result"
    }
   ],
   "source": [
    "dogs.dtypes"
   ]
  },
  {
   "cell_type": "markdown",
   "id": "f0b82c57",
   "metadata": {
    "slideshow": {
     "slide_type": "subslide"
    }
   },
   "source": [
    "There are also several methods for quickly summarizing data."
   ]
  },
  {
   "cell_type": "code",
   "execution_count": 19,
   "id": "1f10be24",
   "metadata": {},
   "outputs": [
    {
     "data": {
      "text/html": [
       "<div>\n",
       "<style scoped>\n",
       "    .dataframe tbody tr th:only-of-type {\n",
       "        vertical-align: middle;\n",
       "    }\n",
       "\n",
       "    .dataframe tbody tr th {\n",
       "        vertical-align: top;\n",
       "    }\n",
       "\n",
       "    .dataframe thead th {\n",
       "        text-align: right;\n",
       "    }\n",
       "</style>\n",
       "<table border=\"1\" class=\"dataframe\">\n",
       "  <thead>\n",
       "    <tr style=\"text-align: right;\">\n",
       "      <th></th>\n",
       "      <th>datadog</th>\n",
       "      <th>popularity_all</th>\n",
       "      <th>popularity</th>\n",
       "      <th>lifetime_cost</th>\n",
       "      <th>intelligence_rank</th>\n",
       "      <th>longevity</th>\n",
       "      <th>ailments</th>\n",
       "      <th>price</th>\n",
       "      <th>food_cost</th>\n",
       "      <th>megarank_kids</th>\n",
       "      <th>megarank</th>\n",
       "      <th>weight</th>\n",
       "      <th>height</th>\n",
       "    </tr>\n",
       "  </thead>\n",
       "  <tbody>\n",
       "    <tr>\n",
       "      <th>count</th>\n",
       "      <td>87.000000</td>\n",
       "      <td>172.000000</td>\n",
       "      <td>87.000000</td>\n",
       "      <td>91.000000</td>\n",
       "      <td>132.000000</td>\n",
       "      <td>135.000000</td>\n",
       "      <td>148.000000</td>\n",
       "      <td>146.000000</td>\n",
       "      <td>87.000000</td>\n",
       "      <td>87.000000</td>\n",
       "      <td>87.000000</td>\n",
       "      <td>86.00000</td>\n",
       "      <td>159.000000</td>\n",
       "    </tr>\n",
       "    <tr>\n",
       "      <th>mean</th>\n",
       "      <td>2.603678</td>\n",
       "      <td>87.122093</td>\n",
       "      <td>44.000000</td>\n",
       "      <td>19819.538462</td>\n",
       "      <td>40.924242</td>\n",
       "      <td>10.956741</td>\n",
       "      <td>1.216216</td>\n",
       "      <td>876.815068</td>\n",
       "      <td>489.597701</td>\n",
       "      <td>43.954023</td>\n",
       "      <td>43.942529</td>\n",
       "      <td>44.97093</td>\n",
       "      <td>19.089623</td>\n",
       "    </tr>\n",
       "    <tr>\n",
       "      <th>std</th>\n",
       "      <td>0.570288</td>\n",
       "      <td>50.205335</td>\n",
       "      <td>25.258662</td>\n",
       "      <td>3102.475382</td>\n",
       "      <td>19.603560</td>\n",
       "      <td>1.995742</td>\n",
       "      <td>1.549810</td>\n",
       "      <td>461.172524</td>\n",
       "      <td>204.266894</td>\n",
       "      <td>25.288065</td>\n",
       "      <td>25.278153</td>\n",
       "      <td>35.52707</td>\n",
       "      <td>6.012400</td>\n",
       "    </tr>\n",
       "    <tr>\n",
       "      <th>min</th>\n",
       "      <td>0.990000</td>\n",
       "      <td>1.000000</td>\n",
       "      <td>1.000000</td>\n",
       "      <td>12653.000000</td>\n",
       "      <td>1.000000</td>\n",
       "      <td>6.290000</td>\n",
       "      <td>0.000000</td>\n",
       "      <td>283.000000</td>\n",
       "      <td>270.000000</td>\n",
       "      <td>1.000000</td>\n",
       "      <td>1.000000</td>\n",
       "      <td>5.00000</td>\n",
       "      <td>5.000000</td>\n",
       "    </tr>\n",
       "    <tr>\n",
       "      <th>25%</th>\n",
       "      <td>2.185000</td>\n",
       "      <td>43.750000</td>\n",
       "      <td>22.500000</td>\n",
       "      <td>17816.500000</td>\n",
       "      <td>27.000000</td>\n",
       "      <td>9.700000</td>\n",
       "      <td>0.000000</td>\n",
       "      <td>587.250000</td>\n",
       "      <td>324.000000</td>\n",
       "      <td>22.500000</td>\n",
       "      <td>22.500000</td>\n",
       "      <td>17.50000</td>\n",
       "      <td>14.000000</td>\n",
       "    </tr>\n",
       "    <tr>\n",
       "      <th>50%</th>\n",
       "      <td>2.710000</td>\n",
       "      <td>87.500000</td>\n",
       "      <td>44.000000</td>\n",
       "      <td>20087.000000</td>\n",
       "      <td>42.000000</td>\n",
       "      <td>11.290000</td>\n",
       "      <td>1.000000</td>\n",
       "      <td>795.000000</td>\n",
       "      <td>466.000000</td>\n",
       "      <td>44.000000</td>\n",
       "      <td>44.000000</td>\n",
       "      <td>35.00000</td>\n",
       "      <td>19.000000</td>\n",
       "    </tr>\n",
       "    <tr>\n",
       "      <th>75%</th>\n",
       "      <td>3.035000</td>\n",
       "      <td>130.250000</td>\n",
       "      <td>65.500000</td>\n",
       "      <td>21798.000000</td>\n",
       "      <td>54.250000</td>\n",
       "      <td>12.365000</td>\n",
       "      <td>2.000000</td>\n",
       "      <td>1042.250000</td>\n",
       "      <td>466.000000</td>\n",
       "      <td>65.500000</td>\n",
       "      <td>65.500000</td>\n",
       "      <td>62.50000</td>\n",
       "      <td>24.125000</td>\n",
       "    </tr>\n",
       "    <tr>\n",
       "      <th>max</th>\n",
       "      <td>3.640000</td>\n",
       "      <td>173.000000</td>\n",
       "      <td>87.000000</td>\n",
       "      <td>26686.000000</td>\n",
       "      <td>80.000000</td>\n",
       "      <td>16.500000</td>\n",
       "      <td>9.000000</td>\n",
       "      <td>3460.000000</td>\n",
       "      <td>1349.000000</td>\n",
       "      <td>87.000000</td>\n",
       "      <td>87.000000</td>\n",
       "      <td>175.00000</td>\n",
       "      <td>32.000000</td>\n",
       "    </tr>\n",
       "  </tbody>\n",
       "</table>\n",
       "</div>"
      ],
      "text/plain": [
       "         datadog  popularity_all  popularity  lifetime_cost  \\\n",
       "count  87.000000      172.000000   87.000000      91.000000   \n",
       "mean    2.603678       87.122093   44.000000   19819.538462   \n",
       "std     0.570288       50.205335   25.258662    3102.475382   \n",
       "min     0.990000        1.000000    1.000000   12653.000000   \n",
       "25%     2.185000       43.750000   22.500000   17816.500000   \n",
       "50%     2.710000       87.500000   44.000000   20087.000000   \n",
       "75%     3.035000      130.250000   65.500000   21798.000000   \n",
       "max     3.640000      173.000000   87.000000   26686.000000   \n",
       "\n",
       "       intelligence_rank   longevity    ailments        price    food_cost  \\\n",
       "count         132.000000  135.000000  148.000000   146.000000    87.000000   \n",
       "mean           40.924242   10.956741    1.216216   876.815068   489.597701   \n",
       "std            19.603560    1.995742    1.549810   461.172524   204.266894   \n",
       "min             1.000000    6.290000    0.000000   283.000000   270.000000   \n",
       "25%            27.000000    9.700000    0.000000   587.250000   324.000000   \n",
       "50%            42.000000   11.290000    1.000000   795.000000   466.000000   \n",
       "75%            54.250000   12.365000    2.000000  1042.250000   466.000000   \n",
       "max            80.000000   16.500000    9.000000  3460.000000  1349.000000   \n",
       "\n",
       "       megarank_kids   megarank     weight      height  \n",
       "count      87.000000  87.000000   86.00000  159.000000  \n",
       "mean       43.954023  43.942529   44.97093   19.089623  \n",
       "std        25.288065  25.278153   35.52707    6.012400  \n",
       "min         1.000000   1.000000    5.00000    5.000000  \n",
       "25%        22.500000  22.500000   17.50000   14.000000  \n",
       "50%        44.000000  44.000000   35.00000   19.000000  \n",
       "75%        65.500000  65.500000   62.50000   24.125000  \n",
       "max        87.000000  87.000000  175.00000   32.000000  "
      ]
     },
     "execution_count": 19,
     "metadata": {},
     "output_type": "execute_result"
    }
   ],
   "source": [
    "dogs.describe()"
   ]
  },
  {
   "cell_type": "markdown",
   "id": "e50d84d4",
   "metadata": {
    "slideshow": {
     "slide_type": "subslide"
    }
   },
   "source": [
    "First, get the string columns (`object`), then describe"
   ]
  },
  {
   "cell_type": "code",
   "execution_count": 20,
   "id": "38967214",
   "metadata": {},
   "outputs": [
    {
     "data": {
      "text/html": [
       "<div>\n",
       "<style scoped>\n",
       "    .dataframe tbody tr th:only-of-type {\n",
       "        vertical-align: middle;\n",
       "    }\n",
       "\n",
       "    .dataframe tbody tr th {\n",
       "        vertical-align: top;\n",
       "    }\n",
       "\n",
       "    .dataframe thead th {\n",
       "        text-align: right;\n",
       "    }\n",
       "</style>\n",
       "<table border=\"1\" class=\"dataframe\">\n",
       "  <thead>\n",
       "    <tr style=\"text-align: right;\">\n",
       "      <th></th>\n",
       "      <th>breed</th>\n",
       "      <th>group</th>\n",
       "      <th>grooming</th>\n",
       "      <th>kids</th>\n",
       "      <th>size</th>\n",
       "    </tr>\n",
       "  </thead>\n",
       "  <tbody>\n",
       "    <tr>\n",
       "      <th>count</th>\n",
       "      <td>172</td>\n",
       "      <td>172</td>\n",
       "      <td>112</td>\n",
       "      <td>112</td>\n",
       "      <td>172</td>\n",
       "    </tr>\n",
       "    <tr>\n",
       "      <th>unique</th>\n",
       "      <td>172</td>\n",
       "      <td>7</td>\n",
       "      <td>3</td>\n",
       "      <td>3</td>\n",
       "      <td>3</td>\n",
       "    </tr>\n",
       "    <tr>\n",
       "      <th>top</th>\n",
       "      <td>Border Collie</td>\n",
       "      <td>terrier</td>\n",
       "      <td>weekly</td>\n",
       "      <td>high</td>\n",
       "      <td>medium</td>\n",
       "    </tr>\n",
       "    <tr>\n",
       "      <th>freq</th>\n",
       "      <td>1</td>\n",
       "      <td>28</td>\n",
       "      <td>88</td>\n",
       "      <td>67</td>\n",
       "      <td>60</td>\n",
       "    </tr>\n",
       "  </tbody>\n",
       "</table>\n",
       "</div>"
      ],
      "text/plain": [
       "                breed    group grooming  kids    size\n",
       "count             172      172      112   112     172\n",
       "unique            172        7        3     3       3\n",
       "top     Border Collie  terrier   weekly  high  medium\n",
       "freq                1       28       88    67      60"
      ]
     },
     "execution_count": 20,
     "metadata": {},
     "output_type": "execute_result"
    }
   ],
   "source": [
    "dogs.select_dtypes(include = [\"object\"]).describe()"
   ]
  },
  {
   "cell_type": "code",
   "execution_count": 21,
   "id": "f6d6bdf4",
   "metadata": {
    "slideshow": {
     "slide_type": "subslide"
    }
   },
   "outputs": [
    {
     "data": {
      "text/html": [
       "<div>\n",
       "<style scoped>\n",
       "    .dataframe tbody tr th:only-of-type {\n",
       "        vertical-align: middle;\n",
       "    }\n",
       "\n",
       "    .dataframe tbody tr th {\n",
       "        vertical-align: top;\n",
       "    }\n",
       "\n",
       "    .dataframe thead th {\n",
       "        text-align: right;\n",
       "    }\n",
       "</style>\n",
       "<table border=\"1\" class=\"dataframe\">\n",
       "  <thead>\n",
       "    <tr style=\"text-align: right;\">\n",
       "      <th></th>\n",
       "      <th>popularity_all</th>\n",
       "    </tr>\n",
       "  </thead>\n",
       "  <tbody>\n",
       "    <tr>\n",
       "      <th>count</th>\n",
       "      <td>172.000000</td>\n",
       "    </tr>\n",
       "    <tr>\n",
       "      <th>mean</th>\n",
       "      <td>87.122093</td>\n",
       "    </tr>\n",
       "    <tr>\n",
       "      <th>std</th>\n",
       "      <td>50.205335</td>\n",
       "    </tr>\n",
       "    <tr>\n",
       "      <th>min</th>\n",
       "      <td>1.000000</td>\n",
       "    </tr>\n",
       "    <tr>\n",
       "      <th>25%</th>\n",
       "      <td>43.750000</td>\n",
       "    </tr>\n",
       "    <tr>\n",
       "      <th>50%</th>\n",
       "      <td>87.500000</td>\n",
       "    </tr>\n",
       "    <tr>\n",
       "      <th>75%</th>\n",
       "      <td>130.250000</td>\n",
       "    </tr>\n",
       "    <tr>\n",
       "      <th>max</th>\n",
       "      <td>173.000000</td>\n",
       "    </tr>\n",
       "  </tbody>\n",
       "</table>\n",
       "</div>"
      ],
      "text/plain": [
       "       popularity_all\n",
       "count      172.000000\n",
       "mean        87.122093\n",
       "std         50.205335\n",
       "min          1.000000\n",
       "25%         43.750000\n",
       "50%         87.500000\n",
       "75%        130.250000\n",
       "max        173.000000"
      ]
     },
     "execution_count": 21,
     "metadata": {},
     "output_type": "execute_result"
    }
   ],
   "source": [
    "dogs.select_dtypes(include = [\"int64\"]).describe()"
   ]
  },
  {
   "cell_type": "markdown",
   "id": "7622994e",
   "metadata": {
    "slideshow": {
     "slide_type": "slide"
    }
   },
   "source": [
    "### Aggregation\n",
    "\n",
    "Pandas also provides several methods for aggregating data, such as `.mean()`, `.median()`, `.std()`, and `.value_counts()`. They ignore missing values by default."
   ]
  },
  {
   "cell_type": "code",
   "execution_count": 22,
   "id": "716f7ee4",
   "metadata": {},
   "outputs": [
    {
     "data": {
      "text/plain": [
       "datadog                  2.71\n",
       "popularity_all          87.50\n",
       "popularity              44.00\n",
       "lifetime_cost        20087.00\n",
       "intelligence_rank       42.00\n",
       "longevity               11.29\n",
       "ailments                 1.00\n",
       "price                  795.00\n",
       "food_cost              466.00\n",
       "megarank_kids           44.00\n",
       "megarank                44.00\n",
       "weight                  35.00\n",
       "height                  19.00\n",
       "dtype: float64"
      ]
     },
     "execution_count": 22,
     "metadata": {},
     "output_type": "execute_result"
    }
   ],
   "source": [
    "dogs.median(numeric_only=True)"
   ]
  },
  {
   "cell_type": "code",
   "execution_count": 23,
   "id": "cf79f1df",
   "metadata": {
    "slideshow": {
     "slide_type": "subslide"
    }
   },
   "outputs": [
    {
     "data": {
      "text/plain": [
       "795.0"
      ]
     },
     "execution_count": 23,
     "metadata": {},
     "output_type": "execute_result"
    }
   ],
   "source": [
    "dogs[\"price\"].median()"
   ]
  },
  {
   "cell_type": "code",
   "execution_count": 24,
   "id": "3af7cf85",
   "metadata": {},
   "outputs": [
    {
     "data": {
      "text/plain": [
       "group\n",
       "terrier         28\n",
       "sporting        28\n",
       "working         27\n",
       "hound           26\n",
       "herding         25\n",
       "toy             19\n",
       "non-sporting    19\n",
       "Name: count, dtype: int64"
      ]
     },
     "execution_count": 24,
     "metadata": {},
     "output_type": "execute_result"
    }
   ],
   "source": [
    "dogs[\"group\"].value_counts() # like R's table() with 1 arg"
   ]
  },
  {
   "cell_type": "markdown",
   "id": "7bc3ad1a",
   "metadata": {
    "slideshow": {
     "slide_type": "subslide"
    }
   },
   "source": [
    "For counting one group against another (crosstabulating), use `pd.crosstab()`."
   ]
  },
  {
   "cell_type": "code",
   "execution_count": 25,
   "id": "38b8e9cd",
   "metadata": {},
   "outputs": [
    {
     "data": {
      "text/html": [
       "<div>\n",
       "<style scoped>\n",
       "    .dataframe tbody tr th:only-of-type {\n",
       "        vertical-align: middle;\n",
       "    }\n",
       "\n",
       "    .dataframe tbody tr th {\n",
       "        vertical-align: top;\n",
       "    }\n",
       "\n",
       "    .dataframe thead th {\n",
       "        text-align: right;\n",
       "    }\n",
       "</style>\n",
       "<table border=\"1\" class=\"dataframe\">\n",
       "  <thead>\n",
       "    <tr style=\"text-align: right;\">\n",
       "      <th>kids</th>\n",
       "      <th>high</th>\n",
       "      <th>low</th>\n",
       "      <th>medium</th>\n",
       "    </tr>\n",
       "    <tr>\n",
       "      <th>group</th>\n",
       "      <th></th>\n",
       "      <th></th>\n",
       "      <th></th>\n",
       "    </tr>\n",
       "  </thead>\n",
       "  <tbody>\n",
       "    <tr>\n",
       "      <th>herding</th>\n",
       "      <td>11</td>\n",
       "      <td>2</td>\n",
       "      <td>3</td>\n",
       "    </tr>\n",
       "    <tr>\n",
       "      <th>hound</th>\n",
       "      <td>8</td>\n",
       "      <td>1</td>\n",
       "      <td>6</td>\n",
       "    </tr>\n",
       "    <tr>\n",
       "      <th>non-sporting</th>\n",
       "      <td>7</td>\n",
       "      <td>0</td>\n",
       "      <td>4</td>\n",
       "    </tr>\n",
       "    <tr>\n",
       "      <th>sporting</th>\n",
       "      <td>17</td>\n",
       "      <td>1</td>\n",
       "      <td>3</td>\n",
       "    </tr>\n",
       "    <tr>\n",
       "      <th>terrier</th>\n",
       "      <td>9</td>\n",
       "      <td>0</td>\n",
       "      <td>9</td>\n",
       "    </tr>\n",
       "    <tr>\n",
       "      <th>toy</th>\n",
       "      <td>3</td>\n",
       "      <td>5</td>\n",
       "      <td>5</td>\n",
       "    </tr>\n",
       "    <tr>\n",
       "      <th>working</th>\n",
       "      <td>12</td>\n",
       "      <td>1</td>\n",
       "      <td>5</td>\n",
       "    </tr>\n",
       "  </tbody>\n",
       "</table>\n",
       "</div>"
      ],
      "text/plain": [
       "kids          high  low  medium\n",
       "group                          \n",
       "herding         11    2       3\n",
       "hound            8    1       6\n",
       "non-sporting     7    0       4\n",
       "sporting        17    1       3\n",
       "terrier          9    0       9\n",
       "toy              3    5       5\n",
       "working         12    1       5"
      ]
     },
     "execution_count": 25,
     "metadata": {},
     "output_type": "execute_result"
    }
   ],
   "source": [
    "pd.crosstab(dogs[\"group\"], dogs[\"kids\"]) # like R's table() with 2+ arg"
   ]
  },
  {
   "cell_type": "markdown",
   "id": "9f63b92e",
   "metadata": {
    "slideshow": {
     "slide_type": "slide"
    }
   },
   "source": [
    "### Applying Functions\n",
    "\n",
    "You can also use Pandas to apply your own aggregation functions to columns or rows.\n",
    "\n",
    "* `.apply()` applies a function column-by-column or row-by-row.\n",
    "* `.applymap()` applies a function element-by-element.\n",
    "\n",
    "This is another way to vectorizing code, but only works for DataFrame. \n"
   ]
  },
  {
   "cell_type": "code",
   "execution_count": 26,
   "id": "d776d49e",
   "metadata": {},
   "outputs": [
    {
     "data": {
      "text/plain": [
       "datadog                  2.65\n",
       "popularity_all         172.00\n",
       "popularity              86.00\n",
       "lifetime_cost        14033.00\n",
       "intelligence_rank       79.00\n",
       "longevity               10.21\n",
       "ailments                 9.00\n",
       "price                 3177.00\n",
       "food_cost             1079.00\n",
       "megarank_kids           86.00\n",
       "megarank                86.00\n",
       "weight                 170.00\n",
       "height                  27.00\n",
       "dtype: float64"
      ]
     },
     "execution_count": 26,
     "metadata": {},
     "output_type": "execute_result"
    }
   ],
   "source": [
    "def spread(x):\n",
    "    '''Returns spread. Input is a single column (or row)'''\n",
    "    return x.max() - x.min()\n",
    "    \n",
    "dogs.select_dtypes(include = [\"float64\", \"int64\"]).apply(spread)"
   ]
  },
  {
   "cell_type": "markdown",
   "id": "dc50033a",
   "metadata": {
    "slideshow": {
     "slide_type": "slide"
    }
   },
   "source": [
    "### Grouping"
   ]
  },
  {
   "cell_type": "markdown",
   "id": "712150c8",
   "metadata": {},
   "source": [
    "Use the `.groupby()` method to group data before computing aggregate statistics."
   ]
  },
  {
   "cell_type": "code",
   "execution_count": 27,
   "id": "5f922682",
   "metadata": {},
   "outputs": [
    {
     "data": {
      "text/html": [
       "<div>\n",
       "<style scoped>\n",
       "    .dataframe tbody tr th:only-of-type {\n",
       "        vertical-align: middle;\n",
       "    }\n",
       "\n",
       "    .dataframe tbody tr th {\n",
       "        vertical-align: top;\n",
       "    }\n",
       "\n",
       "    .dataframe thead th {\n",
       "        text-align: right;\n",
       "    }\n",
       "</style>\n",
       "<table border=\"1\" class=\"dataframe\">\n",
       "  <thead>\n",
       "    <tr style=\"text-align: right;\">\n",
       "      <th></th>\n",
       "      <th>breed</th>\n",
       "      <th>group</th>\n",
       "      <th>datadog</th>\n",
       "      <th>popularity_all</th>\n",
       "      <th>popularity</th>\n",
       "      <th>lifetime_cost</th>\n",
       "      <th>intelligence_rank</th>\n",
       "      <th>longevity</th>\n",
       "      <th>ailments</th>\n",
       "      <th>price</th>\n",
       "      <th>food_cost</th>\n",
       "      <th>grooming</th>\n",
       "      <th>kids</th>\n",
       "      <th>megarank_kids</th>\n",
       "      <th>megarank</th>\n",
       "      <th>size</th>\n",
       "      <th>weight</th>\n",
       "      <th>height</th>\n",
       "    </tr>\n",
       "  </thead>\n",
       "  <tbody>\n",
       "    <tr>\n",
       "      <th>0</th>\n",
       "      <td>Border Collie</td>\n",
       "      <td>herding</td>\n",
       "      <td>3.64</td>\n",
       "      <td>45</td>\n",
       "      <td>39.0</td>\n",
       "      <td>20143.0</td>\n",
       "      <td>1.0</td>\n",
       "      <td>12.52</td>\n",
       "      <td>2.0</td>\n",
       "      <td>623.0</td>\n",
       "      <td>324.0</td>\n",
       "      <td>weekly</td>\n",
       "      <td>low</td>\n",
       "      <td>1.0</td>\n",
       "      <td>29.0</td>\n",
       "      <td>medium</td>\n",
       "      <td>NaN</td>\n",
       "      <td>20.0</td>\n",
       "    </tr>\n",
       "    <tr>\n",
       "      <th>1</th>\n",
       "      <td>Border Terrier</td>\n",
       "      <td>terrier</td>\n",
       "      <td>3.61</td>\n",
       "      <td>80</td>\n",
       "      <td>61.0</td>\n",
       "      <td>22638.0</td>\n",
       "      <td>30.0</td>\n",
       "      <td>14.00</td>\n",
       "      <td>0.0</td>\n",
       "      <td>833.0</td>\n",
       "      <td>324.0</td>\n",
       "      <td>weekly</td>\n",
       "      <td>high</td>\n",
       "      <td>2.0</td>\n",
       "      <td>1.0</td>\n",
       "      <td>small</td>\n",
       "      <td>13.5</td>\n",
       "      <td>NaN</td>\n",
       "    </tr>\n",
       "    <tr>\n",
       "      <th>2</th>\n",
       "      <td>Brittany</td>\n",
       "      <td>sporting</td>\n",
       "      <td>3.54</td>\n",
       "      <td>30</td>\n",
       "      <td>30.0</td>\n",
       "      <td>22589.0</td>\n",
       "      <td>19.0</td>\n",
       "      <td>12.92</td>\n",
       "      <td>0.0</td>\n",
       "      <td>618.0</td>\n",
       "      <td>466.0</td>\n",
       "      <td>weekly</td>\n",
       "      <td>medium</td>\n",
       "      <td>3.0</td>\n",
       "      <td>11.0</td>\n",
       "      <td>medium</td>\n",
       "      <td>35.0</td>\n",
       "      <td>19.0</td>\n",
       "    </tr>\n",
       "    <tr>\n",
       "      <th>3</th>\n",
       "      <td>Cairn Terrier</td>\n",
       "      <td>terrier</td>\n",
       "      <td>3.53</td>\n",
       "      <td>59</td>\n",
       "      <td>48.0</td>\n",
       "      <td>21992.0</td>\n",
       "      <td>35.0</td>\n",
       "      <td>13.84</td>\n",
       "      <td>2.0</td>\n",
       "      <td>435.0</td>\n",
       "      <td>324.0</td>\n",
       "      <td>weekly</td>\n",
       "      <td>high</td>\n",
       "      <td>4.0</td>\n",
       "      <td>2.0</td>\n",
       "      <td>small</td>\n",
       "      <td>14.0</td>\n",
       "      <td>10.0</td>\n",
       "    </tr>\n",
       "    <tr>\n",
       "      <th>4</th>\n",
       "      <td>Welsh Springer Spaniel</td>\n",
       "      <td>sporting</td>\n",
       "      <td>3.34</td>\n",
       "      <td>130</td>\n",
       "      <td>81.0</td>\n",
       "      <td>20224.0</td>\n",
       "      <td>31.0</td>\n",
       "      <td>12.49</td>\n",
       "      <td>1.0</td>\n",
       "      <td>750.0</td>\n",
       "      <td>324.0</td>\n",
       "      <td>weekly</td>\n",
       "      <td>high</td>\n",
       "      <td>5.0</td>\n",
       "      <td>4.0</td>\n",
       "      <td>medium</td>\n",
       "      <td>NaN</td>\n",
       "      <td>18.0</td>\n",
       "    </tr>\n",
       "  </tbody>\n",
       "</table>\n",
       "</div>"
      ],
      "text/plain": [
       "                    breed     group  datadog  popularity_all  popularity  \\\n",
       "0           Border Collie   herding     3.64              45        39.0   \n",
       "1          Border Terrier   terrier     3.61              80        61.0   \n",
       "2                Brittany  sporting     3.54              30        30.0   \n",
       "3           Cairn Terrier   terrier     3.53              59        48.0   \n",
       "4  Welsh Springer Spaniel  sporting     3.34             130        81.0   \n",
       "\n",
       "   lifetime_cost  intelligence_rank  longevity  ailments  price  food_cost  \\\n",
       "0        20143.0                1.0      12.52       2.0  623.0      324.0   \n",
       "1        22638.0               30.0      14.00       0.0  833.0      324.0   \n",
       "2        22589.0               19.0      12.92       0.0  618.0      466.0   \n",
       "3        21992.0               35.0      13.84       2.0  435.0      324.0   \n",
       "4        20224.0               31.0      12.49       1.0  750.0      324.0   \n",
       "\n",
       "  grooming    kids  megarank_kids  megarank    size  weight  height  \n",
       "0   weekly     low            1.0      29.0  medium     NaN    20.0  \n",
       "1   weekly    high            2.0       1.0   small    13.5     NaN  \n",
       "2   weekly  medium            3.0      11.0  medium    35.0    19.0  \n",
       "3   weekly    high            4.0       2.0   small    14.0    10.0  \n",
       "4   weekly    high            5.0       4.0  medium     NaN    18.0  "
      ]
     },
     "execution_count": 27,
     "metadata": {},
     "output_type": "execute_result"
    }
   ],
   "source": [
    "dogs.head()"
   ]
  },
  {
   "cell_type": "code",
   "execution_count": 28,
   "id": "878bd289",
   "metadata": {
    "slideshow": {
     "slide_type": "subslide"
    }
   },
   "outputs": [
    {
     "data": {
      "text/html": [
       "<div>\n",
       "<style scoped>\n",
       "    .dataframe tbody tr th:only-of-type {\n",
       "        vertical-align: middle;\n",
       "    }\n",
       "\n",
       "    .dataframe tbody tr th {\n",
       "        vertical-align: top;\n",
       "    }\n",
       "\n",
       "    .dataframe thead th {\n",
       "        text-align: right;\n",
       "    }\n",
       "</style>\n",
       "<table border=\"1\" class=\"dataframe\">\n",
       "  <thead>\n",
       "    <tr style=\"text-align: right;\">\n",
       "      <th></th>\n",
       "      <th>group</th>\n",
       "      <th>datadog</th>\n",
       "      <th>popularity_all</th>\n",
       "      <th>popularity</th>\n",
       "      <th>lifetime_cost</th>\n",
       "      <th>intelligence_rank</th>\n",
       "      <th>longevity</th>\n",
       "      <th>ailments</th>\n",
       "      <th>price</th>\n",
       "      <th>food_cost</th>\n",
       "      <th>megarank_kids</th>\n",
       "      <th>megarank</th>\n",
       "      <th>weight</th>\n",
       "      <th>height</th>\n",
       "    </tr>\n",
       "  </thead>\n",
       "  <tbody>\n",
       "    <tr>\n",
       "      <th>0</th>\n",
       "      <td>herding</td>\n",
       "      <td>2.732000</td>\n",
       "      <td>99.880000</td>\n",
       "      <td>43.500000</td>\n",
       "      <td>20691.818182</td>\n",
       "      <td>21.812500</td>\n",
       "      <td>11.728824</td>\n",
       "      <td>2.235294</td>\n",
       "      <td>814.941176</td>\n",
       "      <td>490.900000</td>\n",
       "      <td>40.300000</td>\n",
       "      <td>42.600000</td>\n",
       "      <td>36.666667</td>\n",
       "      <td>19.730000</td>\n",
       "    </tr>\n",
       "    <tr>\n",
       "      <th>1</th>\n",
       "      <td>hound</td>\n",
       "      <td>2.373077</td>\n",
       "      <td>104.769231</td>\n",
       "      <td>52.692308</td>\n",
       "      <td>19365.769231</td>\n",
       "      <td>54.904762</td>\n",
       "      <td>10.793529</td>\n",
       "      <td>0.833333</td>\n",
       "      <td>746.571429</td>\n",
       "      <td>514.538462</td>\n",
       "      <td>54.769231</td>\n",
       "      <td>56.153846</td>\n",
       "      <td>63.833333</td>\n",
       "      <td>22.543478</td>\n",
       "    </tr>\n",
       "    <tr>\n",
       "      <th>2</th>\n",
       "      <td>non-sporting</td>\n",
       "      <td>2.488000</td>\n",
       "      <td>82.210526</td>\n",
       "      <td>38.600000</td>\n",
       "      <td>19315.800000</td>\n",
       "      <td>46.714286</td>\n",
       "      <td>10.976000</td>\n",
       "      <td>1.352941</td>\n",
       "      <td>930.500000</td>\n",
       "      <td>409.200000</td>\n",
       "      <td>46.300000</td>\n",
       "      <td>42.800000</td>\n",
       "      <td>27.928571</td>\n",
       "      <td>14.984375</td>\n",
       "    </tr>\n",
       "    <tr>\n",
       "      <th>3</th>\n",
       "      <td>sporting</td>\n",
       "      <td>2.976000</td>\n",
       "      <td>87.428571</td>\n",
       "      <td>46.066667</td>\n",
       "      <td>20299.312500</td>\n",
       "      <td>27.782609</td>\n",
       "      <td>10.895600</td>\n",
       "      <td>1.040000</td>\n",
       "      <td>760.125000</td>\n",
       "      <td>510.866667</td>\n",
       "      <td>27.466667</td>\n",
       "      <td>17.266667</td>\n",
       "      <td>51.966667</td>\n",
       "      <td>21.276786</td>\n",
       "    </tr>\n",
       "    <tr>\n",
       "      <th>4</th>\n",
       "      <td>terrier</td>\n",
       "      <td>2.787500</td>\n",
       "      <td>100.250000</td>\n",
       "      <td>58.416667</td>\n",
       "      <td>20504.333333</td>\n",
       "      <td>44.750000</td>\n",
       "      <td>11.480000</td>\n",
       "      <td>0.653846</td>\n",
       "      <td>905.760000</td>\n",
       "      <td>389.916667</td>\n",
       "      <td>37.166667</td>\n",
       "      <td>39.583333</td>\n",
       "      <td>23.413043</td>\n",
       "      <td>13.780000</td>\n",
       "    </tr>\n",
       "    <tr>\n",
       "      <th>5</th>\n",
       "      <td>toy</td>\n",
       "      <td>2.805385</td>\n",
       "      <td>54.052632</td>\n",
       "      <td>36.769231</td>\n",
       "      <td>19506.076923</td>\n",
       "      <td>48.647059</td>\n",
       "      <td>11.672941</td>\n",
       "      <td>1.000000</td>\n",
       "      <td>686.894737</td>\n",
       "      <td>343.230769</td>\n",
       "      <td>35.076923</td>\n",
       "      <td>49.000000</td>\n",
       "      <td>9.818182</td>\n",
       "      <td>10.533333</td>\n",
       "    </tr>\n",
       "    <tr>\n",
       "      <th>6</th>\n",
       "      <td>working</td>\n",
       "      <td>2.065000</td>\n",
       "      <td>71.111111</td>\n",
       "      <td>32.285714</td>\n",
       "      <td>19164.687500</td>\n",
       "      <td>41.529412</td>\n",
       "      <td>9.465909</td>\n",
       "      <td>1.772727</td>\n",
       "      <td>1235.708333</td>\n",
       "      <td>721.500000</td>\n",
       "      <td>66.571429</td>\n",
       "      <td>62.000000</td>\n",
       "      <td>105.000000</td>\n",
       "      <td>25.388889</td>\n",
       "    </tr>\n",
       "  </tbody>\n",
       "</table>\n",
       "</div>"
      ],
      "text/plain": [
       "          group   datadog  popularity_all  popularity  lifetime_cost  \\\n",
       "0       herding  2.732000       99.880000   43.500000   20691.818182   \n",
       "1         hound  2.373077      104.769231   52.692308   19365.769231   \n",
       "2  non-sporting  2.488000       82.210526   38.600000   19315.800000   \n",
       "3      sporting  2.976000       87.428571   46.066667   20299.312500   \n",
       "4       terrier  2.787500      100.250000   58.416667   20504.333333   \n",
       "5           toy  2.805385       54.052632   36.769231   19506.076923   \n",
       "6       working  2.065000       71.111111   32.285714   19164.687500   \n",
       "\n",
       "   intelligence_rank  longevity  ailments        price   food_cost  \\\n",
       "0          21.812500  11.728824  2.235294   814.941176  490.900000   \n",
       "1          54.904762  10.793529  0.833333   746.571429  514.538462   \n",
       "2          46.714286  10.976000  1.352941   930.500000  409.200000   \n",
       "3          27.782609  10.895600  1.040000   760.125000  510.866667   \n",
       "4          44.750000  11.480000  0.653846   905.760000  389.916667   \n",
       "5          48.647059  11.672941  1.000000   686.894737  343.230769   \n",
       "6          41.529412   9.465909  1.772727  1235.708333  721.500000   \n",
       "\n",
       "   megarank_kids   megarank      weight     height  \n",
       "0      40.300000  42.600000   36.666667  19.730000  \n",
       "1      54.769231  56.153846   63.833333  22.543478  \n",
       "2      46.300000  42.800000   27.928571  14.984375  \n",
       "3      27.466667  17.266667   51.966667  21.276786  \n",
       "4      37.166667  39.583333   23.413043  13.780000  \n",
       "5      35.076923  49.000000    9.818182  10.533333  \n",
       "6      66.571429  62.000000  105.000000  25.388889  "
      ]
     },
     "execution_count": 28,
     "metadata": {},
     "output_type": "execute_result"
    }
   ],
   "source": [
    "dogs.groupby(\"group\").mean(numeric_only=True).reset_index()"
   ]
  },
  {
   "cell_type": "markdown",
   "id": "6a1db5a9",
   "metadata": {
    "slideshow": {
     "slide_type": "subslide"
    }
   },
   "source": [
    "By default, the groups become the index. You can keep them as regular columns by setting `as_index = False` when grouping."
   ]
  },
  {
   "cell_type": "code",
   "execution_count": 29,
   "id": "a3ddcedf",
   "metadata": {},
   "outputs": [
    {
     "data": {
      "text/html": [
       "<div>\n",
       "<style scoped>\n",
       "    .dataframe tbody tr th:only-of-type {\n",
       "        vertical-align: middle;\n",
       "    }\n",
       "\n",
       "    .dataframe tbody tr th {\n",
       "        vertical-align: top;\n",
       "    }\n",
       "\n",
       "    .dataframe thead th {\n",
       "        text-align: right;\n",
       "    }\n",
       "</style>\n",
       "<table border=\"1\" class=\"dataframe\">\n",
       "  <thead>\n",
       "    <tr style=\"text-align: right;\">\n",
       "      <th></th>\n",
       "      <th>group</th>\n",
       "      <th>datadog</th>\n",
       "      <th>popularity_all</th>\n",
       "      <th>popularity</th>\n",
       "      <th>lifetime_cost</th>\n",
       "      <th>intelligence_rank</th>\n",
       "      <th>longevity</th>\n",
       "      <th>ailments</th>\n",
       "      <th>price</th>\n",
       "      <th>food_cost</th>\n",
       "      <th>megarank_kids</th>\n",
       "      <th>megarank</th>\n",
       "      <th>weight</th>\n",
       "      <th>height</th>\n",
       "    </tr>\n",
       "  </thead>\n",
       "  <tbody>\n",
       "    <tr>\n",
       "      <th>0</th>\n",
       "      <td>herding</td>\n",
       "      <td>2.732000</td>\n",
       "      <td>99.880000</td>\n",
       "      <td>43.500000</td>\n",
       "      <td>20691.818182</td>\n",
       "      <td>21.812500</td>\n",
       "      <td>11.728824</td>\n",
       "      <td>2.235294</td>\n",
       "      <td>814.941176</td>\n",
       "      <td>490.900000</td>\n",
       "      <td>40.300000</td>\n",
       "      <td>42.600000</td>\n",
       "      <td>36.666667</td>\n",
       "      <td>19.730000</td>\n",
       "    </tr>\n",
       "    <tr>\n",
       "      <th>1</th>\n",
       "      <td>hound</td>\n",
       "      <td>2.373077</td>\n",
       "      <td>104.769231</td>\n",
       "      <td>52.692308</td>\n",
       "      <td>19365.769231</td>\n",
       "      <td>54.904762</td>\n",
       "      <td>10.793529</td>\n",
       "      <td>0.833333</td>\n",
       "      <td>746.571429</td>\n",
       "      <td>514.538462</td>\n",
       "      <td>54.769231</td>\n",
       "      <td>56.153846</td>\n",
       "      <td>63.833333</td>\n",
       "      <td>22.543478</td>\n",
       "    </tr>\n",
       "    <tr>\n",
       "      <th>2</th>\n",
       "      <td>non-sporting</td>\n",
       "      <td>2.488000</td>\n",
       "      <td>82.210526</td>\n",
       "      <td>38.600000</td>\n",
       "      <td>19315.800000</td>\n",
       "      <td>46.714286</td>\n",
       "      <td>10.976000</td>\n",
       "      <td>1.352941</td>\n",
       "      <td>930.500000</td>\n",
       "      <td>409.200000</td>\n",
       "      <td>46.300000</td>\n",
       "      <td>42.800000</td>\n",
       "      <td>27.928571</td>\n",
       "      <td>14.984375</td>\n",
       "    </tr>\n",
       "    <tr>\n",
       "      <th>3</th>\n",
       "      <td>sporting</td>\n",
       "      <td>2.976000</td>\n",
       "      <td>87.428571</td>\n",
       "      <td>46.066667</td>\n",
       "      <td>20299.312500</td>\n",
       "      <td>27.782609</td>\n",
       "      <td>10.895600</td>\n",
       "      <td>1.040000</td>\n",
       "      <td>760.125000</td>\n",
       "      <td>510.866667</td>\n",
       "      <td>27.466667</td>\n",
       "      <td>17.266667</td>\n",
       "      <td>51.966667</td>\n",
       "      <td>21.276786</td>\n",
       "    </tr>\n",
       "    <tr>\n",
       "      <th>4</th>\n",
       "      <td>terrier</td>\n",
       "      <td>2.787500</td>\n",
       "      <td>100.250000</td>\n",
       "      <td>58.416667</td>\n",
       "      <td>20504.333333</td>\n",
       "      <td>44.750000</td>\n",
       "      <td>11.480000</td>\n",
       "      <td>0.653846</td>\n",
       "      <td>905.760000</td>\n",
       "      <td>389.916667</td>\n",
       "      <td>37.166667</td>\n",
       "      <td>39.583333</td>\n",
       "      <td>23.413043</td>\n",
       "      <td>13.780000</td>\n",
       "    </tr>\n",
       "    <tr>\n",
       "      <th>5</th>\n",
       "      <td>toy</td>\n",
       "      <td>2.805385</td>\n",
       "      <td>54.052632</td>\n",
       "      <td>36.769231</td>\n",
       "      <td>19506.076923</td>\n",
       "      <td>48.647059</td>\n",
       "      <td>11.672941</td>\n",
       "      <td>1.000000</td>\n",
       "      <td>686.894737</td>\n",
       "      <td>343.230769</td>\n",
       "      <td>35.076923</td>\n",
       "      <td>49.000000</td>\n",
       "      <td>9.818182</td>\n",
       "      <td>10.533333</td>\n",
       "    </tr>\n",
       "    <tr>\n",
       "      <th>6</th>\n",
       "      <td>working</td>\n",
       "      <td>2.065000</td>\n",
       "      <td>71.111111</td>\n",
       "      <td>32.285714</td>\n",
       "      <td>19164.687500</td>\n",
       "      <td>41.529412</td>\n",
       "      <td>9.465909</td>\n",
       "      <td>1.772727</td>\n",
       "      <td>1235.708333</td>\n",
       "      <td>721.500000</td>\n",
       "      <td>66.571429</td>\n",
       "      <td>62.000000</td>\n",
       "      <td>105.000000</td>\n",
       "      <td>25.388889</td>\n",
       "    </tr>\n",
       "  </tbody>\n",
       "</table>\n",
       "</div>"
      ],
      "text/plain": [
       "          group   datadog  popularity_all  popularity  lifetime_cost  \\\n",
       "0       herding  2.732000       99.880000   43.500000   20691.818182   \n",
       "1         hound  2.373077      104.769231   52.692308   19365.769231   \n",
       "2  non-sporting  2.488000       82.210526   38.600000   19315.800000   \n",
       "3      sporting  2.976000       87.428571   46.066667   20299.312500   \n",
       "4       terrier  2.787500      100.250000   58.416667   20504.333333   \n",
       "5           toy  2.805385       54.052632   36.769231   19506.076923   \n",
       "6       working  2.065000       71.111111   32.285714   19164.687500   \n",
       "\n",
       "   intelligence_rank  longevity  ailments        price   food_cost  \\\n",
       "0          21.812500  11.728824  2.235294   814.941176  490.900000   \n",
       "1          54.904762  10.793529  0.833333   746.571429  514.538462   \n",
       "2          46.714286  10.976000  1.352941   930.500000  409.200000   \n",
       "3          27.782609  10.895600  1.040000   760.125000  510.866667   \n",
       "4          44.750000  11.480000  0.653846   905.760000  389.916667   \n",
       "5          48.647059  11.672941  1.000000   686.894737  343.230769   \n",
       "6          41.529412   9.465909  1.772727  1235.708333  721.500000   \n",
       "\n",
       "   megarank_kids   megarank      weight     height  \n",
       "0      40.300000  42.600000   36.666667  19.730000  \n",
       "1      54.769231  56.153846   63.833333  22.543478  \n",
       "2      46.300000  42.800000   27.928571  14.984375  \n",
       "3      27.466667  17.266667   51.966667  21.276786  \n",
       "4      37.166667  39.583333   23.413043  13.780000  \n",
       "5      35.076923  49.000000    9.818182  10.533333  \n",
       "6      66.571429  62.000000  105.000000  25.388889  "
      ]
     },
     "execution_count": 29,
     "metadata": {},
     "output_type": "execute_result"
    }
   ],
   "source": [
    "dogs.groupby(\"group\", as_index = False).mean(numeric_only=True)"
   ]
  },
  {
   "cell_type": "markdown",
   "id": "7e50e784",
   "metadata": {
    "slideshow": {
     "slide_type": "subslide"
    }
   },
   "source": [
    "You can group by multiple columns."
   ]
  },
  {
   "cell_type": "code",
   "execution_count": 30,
   "id": "4031cbd1",
   "metadata": {},
   "outputs": [
    {
     "data": {
      "text/html": [
       "<div>\n",
       "<style scoped>\n",
       "    .dataframe tbody tr th:only-of-type {\n",
       "        vertical-align: middle;\n",
       "    }\n",
       "\n",
       "    .dataframe tbody tr th {\n",
       "        vertical-align: top;\n",
       "    }\n",
       "\n",
       "    .dataframe thead th {\n",
       "        text-align: right;\n",
       "    }\n",
       "</style>\n",
       "<table border=\"1\" class=\"dataframe\">\n",
       "  <thead>\n",
       "    <tr style=\"text-align: right;\">\n",
       "      <th></th>\n",
       "      <th></th>\n",
       "      <th>datadog</th>\n",
       "      <th>popularity_all</th>\n",
       "      <th>popularity</th>\n",
       "      <th>lifetime_cost</th>\n",
       "      <th>intelligence_rank</th>\n",
       "      <th>longevity</th>\n",
       "      <th>ailments</th>\n",
       "      <th>price</th>\n",
       "      <th>food_cost</th>\n",
       "      <th>megarank_kids</th>\n",
       "      <th>megarank</th>\n",
       "      <th>weight</th>\n",
       "      <th>height</th>\n",
       "    </tr>\n",
       "    <tr>\n",
       "      <th>group</th>\n",
       "      <th>kids</th>\n",
       "      <th></th>\n",
       "      <th></th>\n",
       "      <th></th>\n",
       "      <th></th>\n",
       "      <th></th>\n",
       "      <th></th>\n",
       "      <th></th>\n",
       "      <th></th>\n",
       "      <th></th>\n",
       "      <th></th>\n",
       "      <th></th>\n",
       "      <th></th>\n",
       "      <th></th>\n",
       "    </tr>\n",
       "  </thead>\n",
       "  <tbody>\n",
       "    <tr>\n",
       "      <th rowspan=\"3\" valign=\"top\">herding</th>\n",
       "      <th>high</th>\n",
       "      <td>2.576667</td>\n",
       "      <td>96.000000</td>\n",
       "      <td>53.500000</td>\n",
       "      <td>21171.142857</td>\n",
       "      <td>26.125</td>\n",
       "      <td>11.702000</td>\n",
       "      <td>2.111111</td>\n",
       "      <td>848.875000</td>\n",
       "      <td>531.166667</td>\n",
       "      <td>48.833333</td>\n",
       "      <td>37.500000</td>\n",
       "      <td>31.0</td>\n",
       "      <td>19.909091</td>\n",
       "    </tr>\n",
       "    <tr>\n",
       "      <th>low</th>\n",
       "      <td>3.445000</td>\n",
       "      <td>52.500000</td>\n",
       "      <td>44.000000</td>\n",
       "      <td>20269.000000</td>\n",
       "      <td>5.500</td>\n",
       "      <td>12.095000</td>\n",
       "      <td>1.500000</td>\n",
       "      <td>576.500000</td>\n",
       "      <td>395.000000</td>\n",
       "      <td>5.000000</td>\n",
       "      <td>40.500000</td>\n",
       "      <td>NaN</td>\n",
       "      <td>19.250000</td>\n",
       "    </tr>\n",
       "    <tr>\n",
       "      <th>medium</th>\n",
       "      <td>2.485000</td>\n",
       "      <td>61.666667</td>\n",
       "      <td>13.000000</td>\n",
       "      <td>19437.000000</td>\n",
       "      <td>22.500</td>\n",
       "      <td>10.936667</td>\n",
       "      <td>5.000000</td>\n",
       "      <td>692.500000</td>\n",
       "      <td>466.000000</td>\n",
       "      <td>50.000000</td>\n",
       "      <td>60.000000</td>\n",
       "      <td>NaN</td>\n",
       "      <td>21.000000</td>\n",
       "    </tr>\n",
       "    <tr>\n",
       "      <th rowspan=\"2\" valign=\"top\">hound</th>\n",
       "      <th>high</th>\n",
       "      <td>2.295000</td>\n",
       "      <td>98.250000</td>\n",
       "      <td>54.166667</td>\n",
       "      <td>20165.500000</td>\n",
       "      <td>56.625</td>\n",
       "      <td>10.678571</td>\n",
       "      <td>1.000000</td>\n",
       "      <td>1028.714286</td>\n",
       "      <td>601.500000</td>\n",
       "      <td>60.666667</td>\n",
       "      <td>49.166667</td>\n",
       "      <td>72.5</td>\n",
       "      <td>22.785714</td>\n",
       "    </tr>\n",
       "    <tr>\n",
       "      <th>low</th>\n",
       "      <td>3.190000</td>\n",
       "      <td>9.000000</td>\n",
       "      <td>9.000000</td>\n",
       "      <td>20113.000000</td>\n",
       "      <td>49.000</td>\n",
       "      <td>12.630000</td>\n",
       "      <td>2.000000</td>\n",
       "      <td>423.000000</td>\n",
       "      <td>324.000000</td>\n",
       "      <td>14.000000</td>\n",
       "      <td>54.000000</td>\n",
       "      <td>24.0</td>\n",
       "      <td>NaN</td>\n",
       "    </tr>\n",
       "  </tbody>\n",
       "</table>\n",
       "</div>"
      ],
      "text/plain": [
       "                 datadog  popularity_all  popularity  lifetime_cost  \\\n",
       "group   kids                                                          \n",
       "herding high    2.576667       96.000000   53.500000   21171.142857   \n",
       "        low     3.445000       52.500000   44.000000   20269.000000   \n",
       "        medium  2.485000       61.666667   13.000000   19437.000000   \n",
       "hound   high    2.295000       98.250000   54.166667   20165.500000   \n",
       "        low     3.190000        9.000000    9.000000   20113.000000   \n",
       "\n",
       "                intelligence_rank  longevity  ailments        price  \\\n",
       "group   kids                                                          \n",
       "herding high               26.125  11.702000  2.111111   848.875000   \n",
       "        low                 5.500  12.095000  1.500000   576.500000   \n",
       "        medium             22.500  10.936667  5.000000   692.500000   \n",
       "hound   high               56.625  10.678571  1.000000  1028.714286   \n",
       "        low                49.000  12.630000  2.000000   423.000000   \n",
       "\n",
       "                 food_cost  megarank_kids   megarank  weight     height  \n",
       "group   kids                                                             \n",
       "herding high    531.166667      48.833333  37.500000    31.0  19.909091  \n",
       "        low     395.000000       5.000000  40.500000     NaN  19.250000  \n",
       "        medium  466.000000      50.000000  60.000000     NaN  21.000000  \n",
       "hound   high    601.500000      60.666667  49.166667    72.5  22.785714  \n",
       "        low     324.000000      14.000000  54.000000    24.0        NaN  "
      ]
     },
     "execution_count": 30,
     "metadata": {},
     "output_type": "execute_result"
    }
   ],
   "source": [
    "dogs.groupby([\"group\", \"kids\"]).mean(numeric_only=True).head()"
   ]
  },
  {
   "cell_type": "markdown",
   "id": "6c671dce",
   "metadata": {
    "slideshow": {
     "slide_type": "subslide"
    }
   },
   "source": [
    "On groups, the `.apply()` method computes group-by-group. It is the most general form of two other methods:\n",
    "\n",
    "* `.agg()`, which applies a function to each group to compute summary statistics\n",
    "* `.transform()`, which applies a function to each group to compute transformations (such as standardization)"
   ]
  },
  {
   "cell_type": "markdown",
   "id": "9076d18e",
   "metadata": {
    "slideshow": {
     "slide_type": "slide"
    }
   },
   "source": [
    "## Tidying a Dataset\n",
    "\n",
    "Do Americans prefer low fat milk over whole milk?\n",
    "\n",
    "The USDA publishes data about dairy production. We can answer the question with the [Milk Sales Dataset](https://www.ers.usda.gov/webdocs/DataFiles/48685/fluidmilk.xlsx?v=5010.6).\n",
    "\n",
    "Many of Python's visualization packages expect [tidy data](https://vita.had.co.nz/papers/tidy-data.pdf), which means:\n",
    "\n",
    "1. Each feature must have its own column.\n",
    "2. Each observation must have its own row.\n",
    "3. Each value must have its own cell.\n",
    "\n",
    "Let's tidy up the Milk Sales Dataset so we can make a line plot that shows how milk sales have changed over time."
   ]
  },
  {
   "cell_type": "code",
   "execution_count": 3,
   "id": "69313cb3",
   "metadata": {
    "slideshow": {
     "slide_type": "subslide"
    }
   },
   "outputs": [
    {
     "name": "stderr",
     "output_type": "stream",
     "text": [
      "/var/folders/nv/5j9xydr90s30r_9rw5pwhf640000gn/T/ipykernel_38948/1662815981.py:2: DeprecationWarning: \n",
      "Pyarrow will become a required dependency of pandas in the next major release of pandas (pandas 3.0),\n",
      "(to allow more performant data types, such as the Arrow string type, and better interoperability with other libraries)\n",
      "but was not found to be installed on your system.\n",
      "If this would cause problems for you,\n",
      "please provide us feedback at https://github.com/pandas-dev/pandas/issues/54466\n",
      "        \n",
      "  import pandas as pd\n"
     ]
    }
   ],
   "source": [
    "import numpy as np\n",
    "import pandas as pd"
   ]
  },
  {
   "cell_type": "code",
   "execution_count": 6,
   "id": "41102177",
   "metadata": {
    "scrolled": false
   },
   "outputs": [
    {
     "data": {
      "text/html": [
       "<div>\n",
       "<style scoped>\n",
       "    .dataframe tbody tr th:only-of-type {\n",
       "        vertical-align: middle;\n",
       "    }\n",
       "\n",
       "    .dataframe tbody tr th {\n",
       "        vertical-align: top;\n",
       "    }\n",
       "\n",
       "    .dataframe thead th {\n",
       "        text-align: right;\n",
       "    }\n",
       "</style>\n",
       "<table border=\"1\" class=\"dataframe\">\n",
       "  <thead>\n",
       "    <tr style=\"text-align: right;\">\n",
       "      <th></th>\n",
       "      <th>Fluid beverage milk sales quantities by product (millions of pounds)</th>\n",
       "      <th>Unnamed: 1</th>\n",
       "      <th>Unnamed: 2</th>\n",
       "      <th>Unnamed: 3</th>\n",
       "      <th>Unnamed: 4</th>\n",
       "      <th>Unnamed: 5</th>\n",
       "      <th>Unnamed: 6</th>\n",
       "      <th>Unnamed: 7</th>\n",
       "      <th>Unnamed: 8</th>\n",
       "      <th>Unnamed: 9</th>\n",
       "    </tr>\n",
       "  </thead>\n",
       "  <tbody>\n",
       "    <tr>\n",
       "      <th>0</th>\n",
       "      <td>NaN</td>\n",
       "      <td>Whole</td>\n",
       "      <td>Reduced-fat \\n(2% milk fat)</td>\n",
       "      <td>Low-fat \\n(1% milk fat)</td>\n",
       "      <td>Skim</td>\n",
       "      <td>Flavored \\nwhole 1</td>\n",
       "      <td>Flavored, \\nother than whole</td>\n",
       "      <td>Buttermilk</td>\n",
       "      <td>Eggnog</td>\n",
       "      <td>Total 2</td>\n",
       "    </tr>\n",
       "    <tr>\n",
       "      <th>1</th>\n",
       "      <td>1975</td>\n",
       "      <td>36188</td>\n",
       "      <td>8726</td>\n",
       "      <td>2742</td>\n",
       "      <td>2480</td>\n",
       "      <td>1366</td>\n",
       "      <td>719</td>\n",
       "      <td>1011</td>\n",
       "      <td>76</td>\n",
       "      <td>53308</td>\n",
       "    </tr>\n",
       "    <tr>\n",
       "      <th>2</th>\n",
       "      <td>1976</td>\n",
       "      <td>35241</td>\n",
       "      <td>9556</td>\n",
       "      <td>2875</td>\n",
       "      <td>2524</td>\n",
       "      <td>1475</td>\n",
       "      <td>864</td>\n",
       "      <td>1021</td>\n",
       "      <td>87</td>\n",
       "      <td>53643</td>\n",
       "    </tr>\n",
       "    <tr>\n",
       "      <th>3</th>\n",
       "      <td>1977</td>\n",
       "      <td>34036</td>\n",
       "      <td>10423</td>\n",
       "      <td>3003</td>\n",
       "      <td>2617</td>\n",
       "      <td>1446</td>\n",
       "      <td>1062</td>\n",
       "      <td>1007</td>\n",
       "      <td>94</td>\n",
       "      <td>53688</td>\n",
       "    </tr>\n",
       "    <tr>\n",
       "      <th>4</th>\n",
       "      <td>1978</td>\n",
       "      <td>33235</td>\n",
       "      <td>11017</td>\n",
       "      <td>3233</td>\n",
       "      <td>2543</td>\n",
       "      <td>1359</td>\n",
       "      <td>1097</td>\n",
       "      <td>983</td>\n",
       "      <td>94</td>\n",
       "      <td>53561</td>\n",
       "    </tr>\n",
       "  </tbody>\n",
       "</table>\n",
       "</div>"
      ],
      "text/plain": [
       "  Fluid beverage milk sales quantities by product (millions of pounds)  \\\n",
       "0                                                NaN                     \n",
       "1                                               1975                     \n",
       "2                                               1976                     \n",
       "3                                               1977                     \n",
       "4                                               1978                     \n",
       "\n",
       "  Unnamed: 1                   Unnamed: 2               Unnamed: 3 Unnamed: 4  \\\n",
       "0      Whole  Reduced-fat \\n(2% milk fat)  Low-fat \\n(1% milk fat)       Skim   \n",
       "1      36188                         8726                     2742       2480   \n",
       "2      35241                         9556                     2875       2524   \n",
       "3      34036                        10423                     3003       2617   \n",
       "4      33235                        11017                     3233       2543   \n",
       "\n",
       "           Unnamed: 5                    Unnamed: 6  Unnamed: 7 Unnamed: 8  \\\n",
       "0  Flavored \\nwhole 1  Flavored, \\nother than whole  Buttermilk     Eggnog   \n",
       "1                1366                           719        1011         76   \n",
       "2                1475                           864        1021         87   \n",
       "3                1446                          1062        1007         94   \n",
       "4                1359                          1097         983         94   \n",
       "\n",
       "  Unnamed: 9  \n",
       "0    Total 2  \n",
       "1      53308  \n",
       "2      53643  \n",
       "3      53688  \n",
       "4      53561  "
      ]
     },
     "execution_count": 6,
     "metadata": {},
     "output_type": "execute_result"
    }
   ],
   "source": [
    "milk = pd.read_excel(\"./fluidmilk.xlsx\")\n",
    "milk.head()"
   ]
  },
  {
   "cell_type": "code",
   "execution_count": null,
   "id": "a31054ea",
   "metadata": {},
   "outputs": [],
   "source": []
  },
  {
   "cell_type": "code",
   "execution_count": 5,
   "id": "2ea8e849",
   "metadata": {
    "scrolled": true,
    "slideshow": {
     "slide_type": "subslide"
    }
   },
   "outputs": [
    {
     "ename": "FileNotFoundError",
     "evalue": "[Errno 2] No such file or directory: '../data/fluidmilk.xlsx'",
     "output_type": "error",
     "traceback": [
      "\u001b[0;31m---------------------------------------------------------------------------\u001b[0m",
      "\u001b[0;31mFileNotFoundError\u001b[0m                         Traceback (most recent call last)",
      "Cell \u001b[0;32mIn[5], line 1\u001b[0m\n\u001b[0;32m----> 1\u001b[0m milk \u001b[39m=\u001b[39m pd\u001b[39m.\u001b[39;49mread_excel(\u001b[39m\"\u001b[39;49m\u001b[39m../data/fluidmilk.xlsx\u001b[39;49m\u001b[39m\"\u001b[39;49m, skiprows \u001b[39m=\u001b[39;49m \u001b[39m1\u001b[39;49m)\n\u001b[1;32m      2\u001b[0m milk\u001b[39m.\u001b[39mhead()\n",
      "File \u001b[0;32m/opt/homebrew/lib/python3.11/site-packages/pandas/io/excel/_base.py:495\u001b[0m, in \u001b[0;36mread_excel\u001b[0;34m(io, sheet_name, header, names, index_col, usecols, dtype, engine, converters, true_values, false_values, skiprows, nrows, na_values, keep_default_na, na_filter, verbose, parse_dates, date_parser, date_format, thousands, decimal, comment, skipfooter, storage_options, dtype_backend, engine_kwargs)\u001b[0m\n\u001b[1;32m    493\u001b[0m \u001b[39mif\u001b[39;00m \u001b[39mnot\u001b[39;00m \u001b[39misinstance\u001b[39m(io, ExcelFile):\n\u001b[1;32m    494\u001b[0m     should_close \u001b[39m=\u001b[39m \u001b[39mTrue\u001b[39;00m\n\u001b[0;32m--> 495\u001b[0m     io \u001b[39m=\u001b[39m ExcelFile(\n\u001b[1;32m    496\u001b[0m         io,\n\u001b[1;32m    497\u001b[0m         storage_options\u001b[39m=\u001b[39;49mstorage_options,\n\u001b[1;32m    498\u001b[0m         engine\u001b[39m=\u001b[39;49mengine,\n\u001b[1;32m    499\u001b[0m         engine_kwargs\u001b[39m=\u001b[39;49mengine_kwargs,\n\u001b[1;32m    500\u001b[0m     )\n\u001b[1;32m    501\u001b[0m \u001b[39melif\u001b[39;00m engine \u001b[39mand\u001b[39;00m engine \u001b[39m!=\u001b[39m io\u001b[39m.\u001b[39mengine:\n\u001b[1;32m    502\u001b[0m     \u001b[39mraise\u001b[39;00m \u001b[39mValueError\u001b[39;00m(\n\u001b[1;32m    503\u001b[0m         \u001b[39m\"\u001b[39m\u001b[39mEngine should not be specified when passing \u001b[39m\u001b[39m\"\u001b[39m\n\u001b[1;32m    504\u001b[0m         \u001b[39m\"\u001b[39m\u001b[39man ExcelFile - ExcelFile already has the engine set\u001b[39m\u001b[39m\"\u001b[39m\n\u001b[1;32m    505\u001b[0m     )\n",
      "File \u001b[0;32m/opt/homebrew/lib/python3.11/site-packages/pandas/io/excel/_base.py:1550\u001b[0m, in \u001b[0;36mExcelFile.__init__\u001b[0;34m(self, path_or_buffer, engine, storage_options, engine_kwargs)\u001b[0m\n\u001b[1;32m   1548\u001b[0m     ext \u001b[39m=\u001b[39m \u001b[39m\"\u001b[39m\u001b[39mxls\u001b[39m\u001b[39m\"\u001b[39m\n\u001b[1;32m   1549\u001b[0m \u001b[39melse\u001b[39;00m:\n\u001b[0;32m-> 1550\u001b[0m     ext \u001b[39m=\u001b[39m inspect_excel_format(\n\u001b[1;32m   1551\u001b[0m         content_or_path\u001b[39m=\u001b[39;49mpath_or_buffer, storage_options\u001b[39m=\u001b[39;49mstorage_options\n\u001b[1;32m   1552\u001b[0m     )\n\u001b[1;32m   1553\u001b[0m     \u001b[39mif\u001b[39;00m ext \u001b[39mis\u001b[39;00m \u001b[39mNone\u001b[39;00m:\n\u001b[1;32m   1554\u001b[0m         \u001b[39mraise\u001b[39;00m \u001b[39mValueError\u001b[39;00m(\n\u001b[1;32m   1555\u001b[0m             \u001b[39m\"\u001b[39m\u001b[39mExcel file format cannot be determined, you must specify \u001b[39m\u001b[39m\"\u001b[39m\n\u001b[1;32m   1556\u001b[0m             \u001b[39m\"\u001b[39m\u001b[39man engine manually.\u001b[39m\u001b[39m\"\u001b[39m\n\u001b[1;32m   1557\u001b[0m         )\n",
      "File \u001b[0;32m/opt/homebrew/lib/python3.11/site-packages/pandas/io/excel/_base.py:1402\u001b[0m, in \u001b[0;36minspect_excel_format\u001b[0;34m(content_or_path, storage_options)\u001b[0m\n\u001b[1;32m   1399\u001b[0m \u001b[39mif\u001b[39;00m \u001b[39misinstance\u001b[39m(content_or_path, \u001b[39mbytes\u001b[39m):\n\u001b[1;32m   1400\u001b[0m     content_or_path \u001b[39m=\u001b[39m BytesIO(content_or_path)\n\u001b[0;32m-> 1402\u001b[0m \u001b[39mwith\u001b[39;00m get_handle(\n\u001b[1;32m   1403\u001b[0m     content_or_path, \u001b[39m\"\u001b[39;49m\u001b[39mrb\u001b[39;49m\u001b[39m\"\u001b[39;49m, storage_options\u001b[39m=\u001b[39;49mstorage_options, is_text\u001b[39m=\u001b[39;49m\u001b[39mFalse\u001b[39;49;00m\n\u001b[1;32m   1404\u001b[0m ) \u001b[39mas\u001b[39;00m handle:\n\u001b[1;32m   1405\u001b[0m     stream \u001b[39m=\u001b[39m handle\u001b[39m.\u001b[39mhandle\n\u001b[1;32m   1406\u001b[0m     stream\u001b[39m.\u001b[39mseek(\u001b[39m0\u001b[39m)\n",
      "File \u001b[0;32m/opt/homebrew/lib/python3.11/site-packages/pandas/io/common.py:882\u001b[0m, in \u001b[0;36mget_handle\u001b[0;34m(path_or_buf, mode, encoding, compression, memory_map, is_text, errors, storage_options)\u001b[0m\n\u001b[1;32m    873\u001b[0m         handle \u001b[39m=\u001b[39m \u001b[39mopen\u001b[39m(\n\u001b[1;32m    874\u001b[0m             handle,\n\u001b[1;32m    875\u001b[0m             ioargs\u001b[39m.\u001b[39mmode,\n\u001b[0;32m   (...)\u001b[0m\n\u001b[1;32m    878\u001b[0m             newline\u001b[39m=\u001b[39m\u001b[39m\"\u001b[39m\u001b[39m\"\u001b[39m,\n\u001b[1;32m    879\u001b[0m         )\n\u001b[1;32m    880\u001b[0m     \u001b[39melse\u001b[39;00m:\n\u001b[1;32m    881\u001b[0m         \u001b[39m# Binary mode\u001b[39;00m\n\u001b[0;32m--> 882\u001b[0m         handle \u001b[39m=\u001b[39m \u001b[39mopen\u001b[39;49m(handle, ioargs\u001b[39m.\u001b[39;49mmode)\n\u001b[1;32m    883\u001b[0m     handles\u001b[39m.\u001b[39mappend(handle)\n\u001b[1;32m    885\u001b[0m \u001b[39m# Convert BytesIO or file objects passed with an encoding\u001b[39;00m\n",
      "\u001b[0;31mFileNotFoundError\u001b[0m: [Errno 2] No such file or directory: '../data/fluidmilk.xlsx'"
     ]
    }
   ],
   "source": [
    "milk = pd.read_excel(\"../data/fluidmilk.xlsx\", skiprows = 1)\n",
    "milk.head()"
   ]
  },
  {
   "cell_type": "code",
   "execution_count": 7,
   "id": "ff62e9f6",
   "metadata": {},
   "outputs": [
    {
     "data": {
      "text/plain": [
       "Index(['Fluid beverage milk sales quantities by product (millions of pounds)',\n",
       "       'Unnamed: 1', 'Unnamed: 2', 'Unnamed: 3', 'Unnamed: 4', 'Unnamed: 5',\n",
       "       'Unnamed: 6', 'Unnamed: 7', 'Unnamed: 8', 'Unnamed: 9'],\n",
       "      dtype='object')"
      ]
     },
     "execution_count": 7,
     "metadata": {},
     "output_type": "execute_result"
    }
   ],
   "source": [
    "milk.columns"
   ]
  },
  {
   "cell_type": "code",
   "execution_count": 8,
   "id": "857b9684",
   "metadata": {
    "scrolled": true,
    "slideshow": {
     "slide_type": "subslide"
    }
   },
   "outputs": [
    {
     "data": {
      "text/html": [
       "<div>\n",
       "<style scoped>\n",
       "    .dataframe tbody tr th:only-of-type {\n",
       "        vertical-align: middle;\n",
       "    }\n",
       "\n",
       "    .dataframe tbody tr th {\n",
       "        vertical-align: top;\n",
       "    }\n",
       "\n",
       "    .dataframe thead th {\n",
       "        text-align: right;\n",
       "    }\n",
       "</style>\n",
       "<table border=\"1\" class=\"dataframe\">\n",
       "  <thead>\n",
       "    <tr style=\"text-align: right;\">\n",
       "      <th></th>\n",
       "      <th>Fluid beverage milk sales quantities by product (millions of pounds)</th>\n",
       "      <th>Unnamed: 1</th>\n",
       "      <th>Unnamed: 2</th>\n",
       "      <th>Unnamed: 3</th>\n",
       "      <th>Unnamed: 4</th>\n",
       "      <th>Unnamed: 5</th>\n",
       "      <th>Unnamed: 6</th>\n",
       "      <th>Unnamed: 7</th>\n",
       "      <th>Unnamed: 8</th>\n",
       "      <th>Unnamed: 9</th>\n",
       "    </tr>\n",
       "  </thead>\n",
       "  <tbody>\n",
       "    <tr>\n",
       "      <th>0</th>\n",
       "      <td>NaN</td>\n",
       "      <td>Whole</td>\n",
       "      <td>Reduced-fat \\n(2% milk fat)</td>\n",
       "      <td>Low-fat \\n(1% milk fat)</td>\n",
       "      <td>Skim</td>\n",
       "      <td>Flavored \\nwhole 1</td>\n",
       "      <td>Flavored, \\nother than whole</td>\n",
       "      <td>Buttermilk</td>\n",
       "      <td>Eggnog</td>\n",
       "      <td>Total 2</td>\n",
       "    </tr>\n",
       "    <tr>\n",
       "      <th>1</th>\n",
       "      <td>1975</td>\n",
       "      <td>36188</td>\n",
       "      <td>8726</td>\n",
       "      <td>2742</td>\n",
       "      <td>2480</td>\n",
       "      <td>1366</td>\n",
       "      <td>719</td>\n",
       "      <td>1011</td>\n",
       "      <td>76</td>\n",
       "      <td>53308</td>\n",
       "    </tr>\n",
       "    <tr>\n",
       "      <th>2</th>\n",
       "      <td>1976</td>\n",
       "      <td>35241</td>\n",
       "      <td>9556</td>\n",
       "      <td>2875</td>\n",
       "      <td>2524</td>\n",
       "      <td>1475</td>\n",
       "      <td>864</td>\n",
       "      <td>1021</td>\n",
       "      <td>87</td>\n",
       "      <td>53643</td>\n",
       "    </tr>\n",
       "    <tr>\n",
       "      <th>3</th>\n",
       "      <td>1977</td>\n",
       "      <td>34036</td>\n",
       "      <td>10423</td>\n",
       "      <td>3003</td>\n",
       "      <td>2617</td>\n",
       "      <td>1446</td>\n",
       "      <td>1062</td>\n",
       "      <td>1007</td>\n",
       "      <td>94</td>\n",
       "      <td>53688</td>\n",
       "    </tr>\n",
       "    <tr>\n",
       "      <th>4</th>\n",
       "      <td>1978</td>\n",
       "      <td>33235</td>\n",
       "      <td>11017</td>\n",
       "      <td>3233</td>\n",
       "      <td>2543</td>\n",
       "      <td>1359</td>\n",
       "      <td>1097</td>\n",
       "      <td>983</td>\n",
       "      <td>94</td>\n",
       "      <td>53561</td>\n",
       "    </tr>\n",
       "  </tbody>\n",
       "</table>\n",
       "</div>"
      ],
      "text/plain": [
       "  Fluid beverage milk sales quantities by product (millions of pounds)  \\\n",
       "0                                                NaN                     \n",
       "1                                               1975                     \n",
       "2                                               1976                     \n",
       "3                                               1977                     \n",
       "4                                               1978                     \n",
       "\n",
       "  Unnamed: 1                   Unnamed: 2               Unnamed: 3 Unnamed: 4  \\\n",
       "0      Whole  Reduced-fat \\n(2% milk fat)  Low-fat \\n(1% milk fat)       Skim   \n",
       "1      36188                         8726                     2742       2480   \n",
       "2      35241                         9556                     2875       2524   \n",
       "3      34036                        10423                     3003       2617   \n",
       "4      33235                        11017                     3233       2543   \n",
       "\n",
       "           Unnamed: 5                    Unnamed: 6  Unnamed: 7 Unnamed: 8  \\\n",
       "0  Flavored \\nwhole 1  Flavored, \\nother than whole  Buttermilk     Eggnog   \n",
       "1                1366                           719        1011         76   \n",
       "2                1475                           864        1021         87   \n",
       "3                1446                          1062        1007         94   \n",
       "4                1359                          1097         983         94   \n",
       "\n",
       "  Unnamed: 9  \n",
       "0    Total 2  \n",
       "1      53308  \n",
       "2      53643  \n",
       "3      53688  \n",
       "4      53561  "
      ]
     },
     "execution_count": 8,
     "metadata": {},
     "output_type": "execute_result"
    }
   ],
   "source": [
    "milk.columns = milk.columns.str.replace('\\n', '')\n",
    "milk.head()"
   ]
  },
  {
   "cell_type": "code",
   "execution_count": null,
   "id": "85abfb81",
   "metadata": {
    "slideshow": {
     "slide_type": "subslide"
    }
   },
   "outputs": [],
   "source": [
    "milk = milk.rename(columns=lambda x: x.strip(' 012'))\n",
    "milk.head()"
   ]
  },
  {
   "cell_type": "code",
   "execution_count": null,
   "id": "8a81ce1e",
   "metadata": {
    "scrolled": true,
    "slideshow": {
     "slide_type": "subslide"
    }
   },
   "outputs": [],
   "source": [
    "milk = milk.rename(columns = {'Unnamed:': 'Year'})\n",
    "milk.head()"
   ]
  },
  {
   "cell_type": "code",
   "execution_count": null,
   "id": "24e9ef5e",
   "metadata": {
    "scrolled": true,
    "slideshow": {
     "slide_type": "subslide"
    }
   },
   "outputs": [],
   "source": [
    "milk.columns.values[[2,3,5,6]] = np.array(['Reduced', 'Low', \n",
    "                                            'Flavored Whole', 'Flavored Other'])"
   ]
  },
  {
   "cell_type": "code",
   "execution_count": null,
   "id": "862fa2fd",
   "metadata": {},
   "outputs": [],
   "source": [
    "milk.head()"
   ]
  },
  {
   "cell_type": "code",
   "execution_count": null,
   "id": "8014a438",
   "metadata": {
    "slideshow": {
     "slide_type": "subslide"
    }
   },
   "outputs": [],
   "source": [
    "milk.dtypes"
   ]
  },
  {
   "cell_type": "code",
   "execution_count": null,
   "id": "dfb94ddc",
   "metadata": {
    "slideshow": {
     "slide_type": "subslide"
    }
   },
   "outputs": [],
   "source": [
    "milk = milk.set_index('Year')  "
   ]
  },
  {
   "cell_type": "code",
   "execution_count": null,
   "id": "0d4232b4",
   "metadata": {},
   "outputs": [],
   "source": [
    "milk.head()"
   ]
  },
  {
   "cell_type": "code",
   "execution_count": null,
   "id": "f6ebaf4c",
   "metadata": {
    "scrolled": true,
    "slideshow": {
     "slide_type": "slide"
    }
   },
   "outputs": [],
   "source": [
    "milk = pd.read_excel(\"../data/fluidmilk.xlsx\", skiprows = 1)\n",
    "milk.columns = milk.columns.str.replace('\\n', '')\n",
    "milk = milk.rename(columns=lambda df: df.strip(' 12'))\n",
    "milk.columns.values[[0,2,3,5,6]] = np.array(['Year', 'Reduced', 'Low', \n",
    "                                             'Flavored Whole', 'Flavored Other'])\n",
    "milk = milk[:-4] # get rid of the last four rows\n",
    "milk = milk.set_index(\"Year\") \n",
    "milk.head()"
   ]
  },
  {
   "cell_type": "code",
   "execution_count": null,
   "id": "d10cb953",
   "metadata": {
    "slideshow": {
     "slide_type": "subslide"
    }
   },
   "outputs": [],
   "source": [
    "milk = milk.stack() \n",
    "milk"
   ]
  },
  {
   "cell_type": "code",
   "execution_count": null,
   "id": "3eb11e1b",
   "metadata": {
    "scrolled": true,
    "slideshow": {
     "slide_type": "subslide"
    }
   },
   "outputs": [],
   "source": [
    "milk.index"
   ]
  },
  {
   "cell_type": "code",
   "execution_count": null,
   "id": "5cc522c5",
   "metadata": {
    "slideshow": {
     "slide_type": "subslide"
    }
   },
   "outputs": [],
   "source": [
    "milk = milk.reset_index()\n",
    "milk"
   ]
  },
  {
   "cell_type": "code",
   "execution_count": null,
   "id": "a053b1c1",
   "metadata": {},
   "outputs": [],
   "source": [
    "milk.columns.values[[False, True, True]] = np.array([\"Kind\", \"Sales\"])"
   ]
  },
  {
   "cell_type": "code",
   "execution_count": null,
   "id": "649c4173",
   "metadata": {
    "slideshow": {
     "slide_type": "subslide"
    }
   },
   "outputs": [],
   "source": [
    "milk.head()"
   ]
  },
  {
   "cell_type": "code",
   "execution_count": null,
   "id": "39a79eca",
   "metadata": {
    "scrolled": true
   },
   "outputs": [],
   "source": [
    "milk.tail()"
   ]
  }
 ],
 "metadata": {
  "celltoolbar": "Slideshow",
  "kernelspec": {
   "display_name": "Python 3",
   "language": "python",
   "name": "python3"
  },
  "language_info": {
   "codemirror_mode": {
    "name": "ipython",
    "version": 3
   },
   "file_extension": ".py",
   "mimetype": "text/x-python",
   "name": "python",
   "nbconvert_exporter": "python",
   "pygments_lexer": "ipython3",
   "version": "3.11.6"
  },
  "rise": {
   "progress": true,
   "scroll": true,
   "theme": "white"
  },
  "vscode": {
   "interpreter": {
    "hash": "b0fa6594d8f4cbf19f97940f81e996739fb7646882a419484c72d19e05852a7e"
   }
  }
 },
 "nbformat": 4,
 "nbformat_minor": 5
}
