{
 "cells": [
  {
   "cell_type": "markdown",
   "metadata": {
    "tags": [
     "header"
    ]
   },
   "source": [
    "# STA 141B Assignment 2\n",
    "\n",
    "Due __Februrary 9, 2024__ by __11:59pm__. Submit your work by uploading it to Gradescope through Canvas.\n",
    "\n",
    "Instructions:\n",
    "\n",
    "1. Provide your solutions in new cells following each exercise description. Create as many new cells as necessary. Use code cells for your Python scripts and Markdown cells for explanatory text or answers to non-coding questions. Answer all textual questions in complete sentences.\n",
    "2. The use of assistive tools is permitted, but must be indicated. You will be graded on you proficiency in coding. Produce high quality code by adhering to proper programming principles. \n",
    "3. Export the .jpynb as .pdf and submit it on Gradescope in time. To facilitate grading, indicate the area of the solution on the submission. Submissions without indication will be marked down. No late submissions accepted. \n",
    "4. If test cases are given, your solution must be in the same format. \n",
    "5. The total number of points is 10. "
   ]
  },
  {
   "cell_type": "markdown",
   "metadata": {
    "tags": [
     "exercise"
    ]
   },
   "source": [
    "__Exercise 1__\n",
    "\n",
    "We will use the [lichess](https://lichess.org/api) API to retrieve some information about the current state of chess in the world. In order to answer below questions, make precise and economical requests. You may use:\n",
    "```\n",
    "import requests\n",
    "import json\n",
    "import pandas\n",
    "\n",
    "from datetime import datetime\n",
    "```"
   ]
  },
  {
   "cell_type": "code",
   "execution_count": 97,
   "metadata": {},
   "outputs": [],
   "source": [
    "import requests\n",
    "import json\n",
    "import pandas\n",
    "from datetime import datetime"
   ]
  },
  {
   "cell_type": "markdown",
   "metadata": {
    "tags": [
     "exercise"
    ]
   },
   "source": [
    "__(a)__ What is the real name of the player `muisback`? "
   ]
  },
  {
   "cell_type": "code",
   "execution_count": 7,
   "metadata": {},
   "outputs": [],
   "source": [
    "###Access API Token\n",
    "def read_key(keyfile):\n",
    "    with open(keyfile) as f:\n",
    "        return f.readline().strip(\"\\n\")\n",
    "key = read_key(\"../hw2/lichessAPItoken.txt\")"
   ]
  },
  {
   "cell_type": "code",
   "execution_count": 3,
   "metadata": {},
   "outputs": [
    {
     "data": {
      "text/plain": [
       "'Rauf, Mamedov'"
      ]
     },
     "execution_count": 3,
     "metadata": {},
     "output_type": "execute_result"
    }
   ],
   "source": [
    "response = requests.get(\"https://lichess.org/api/user/muisback\", params={\"profile\":True}, headers= {\n",
    "    'Authorization' : f'Bearer {key}',\n",
    "})\n",
    "account_data = response.json()\n",
    "full_name = f'{account_data[\"profile\"][\"firstName\"]}, {account_data[\"profile\"][\"lastName\"]}'\n",
    "full_name"
   ]
  },
  {
   "cell_type": "markdown",
   "metadata": {
    "tags": [
     "exercise"
    ]
   },
   "source": [
    "__(b, i)__ Get the username of the last player that played a rapid game against user `athena-pallada` in 2023. __(ii)__ In all games against this user, what is the win-to-loss ratio of `athena-pallada`?"
   ]
  },
  {
   "cell_type": "code",
   "execution_count": 185,
   "metadata": {},
   "outputs": [
    {
     "name": "stdout",
     "output_type": "stream",
     "text": [
      "[Event \"GM athena-pallada simul\"]\n",
      "[Site \"https://lichess.org/FWHyjmqs\"]\n",
      "[Date \"2023.11.26\"]\n",
      "[White \"athena-pallada\"]\n",
      "[Black \"Bacio129\"]\n",
      "[Result \"1-0\"]\n",
      "[UTCDate \"2023.11.26\"]\n",
      "[UTCTime \"17:34:42\"]\n",
      "[WhiteElo \"2837\"]\n",
      "[BlackElo \"1500\"]\n",
      "[WhiteTitle \"GM\"]\n",
      "[Variant \"Standard\"]\n",
      "[TimeControl \"900+0\"]\n",
      "[ECO \"A40\"]\n",
      "[Termination \"Time forfeit\"]\n",
      "\n",
      "1. d4 1-0\n",
      "\n",
      "\n",
      "[Event \"GM athena-pallada simul\"]\n",
      "[Site \"https://lichess.org/fEu5PbLv\"]\n",
      "[Date \"2023.11.26\"]\n",
      "[White \"athena-pallada\"]\n",
      "[Black \"lawrencepl\"]\n",
      "[Result \"1-0\"]\n",
      "[UTCDate \"2023.11.26\"]\n",
      "[UTCTime \"17:34:42\"]\n",
      "[WhiteElo \"2837\"]\n",
      "[BlackElo \"1584\"]\n",
      "[WhiteTitle \"GM\"]\n",
      "[Variant \"Standard\"]\n",
      "[TimeControl \"900+0\"]\n",
      "[ECO \"A00\"]\n",
      "[Termination \"Normal\"]\n",
      "\n",
      "1. b4 Nf6 1-0\n",
      "\n",
      "\n",
      "[Event \"GM athena-pallada simul\"]\n",
      "[Site \"https://lichess.org/0Bo3Zbbd\"]\n",
      "[Date \"2023.11.26\"]\n",
      "[White \"athena-pallada\"]\n",
      "[Black \"wranglerek\"]\n",
      "[Result \"1-0\"]\n",
      "[UTCDate \"2023.11.26\"]\n",
      "[UTCTime \"17:34:42\"]\n",
      "[WhiteElo \"2837\"]\n",
      "[BlackElo \"1665\"]\n",
      "[WhiteTitle \"GM\"]\n",
      "[Variant \"Standard\"]\n",
      "[TimeControl \"900+0\"]\n",
      "[ECO \"C42\"]\n",
      "[Termination \"Normal\"]\n",
      "\n",
      "1. e4 e5 2. Nf3 Nf6 1-0\n",
      "\n",
      "\n",
      "[Event \"GM athena-pallada simul\"]\n",
      "[Site \"https://lichess.org/bI53eGWt\"]\n",
      "[Date \"2023.11.26\"]\n",
      "[White \"athena-pallada\"]\n",
      "[Black \"siber-ai\"]\n",
      "[Result \"1-0\"]\n",
      "[UTCDate \"2023.11.26\"]\n",
      "[UTCTime \"17:34:42\"]\n",
      "[WhiteElo \"2837\"]\n",
      "[BlackElo \"1500\"]\n",
      "[WhiteTitle \"GM\"]\n",
      "[Variant \"Standard\"]\n",
      "[TimeControl \"900+0\"]\n",
      "[ECO \"A45\"]\n",
      "[Termination \"Normal\"]\n",
      "\n",
      "1. d4 Nf6 1-0\n",
      "\n",
      "\n",
      "[Event \"GM athena-pallada simul\"]\n",
      "[Site \"https://lichess.org/scrA1TKt\"]\n",
      "[Date \"2023.11.26\"]\n",
      "[White \"athena-pallada\"]\n",
      "[Black \"al_de_baran\"]\n",
      "[Result \"1-0\"]\n",
      "[UTCDate \"2023.11.26\"]\n",
      "[UTCTime \"17:34:42\"]\n",
      "[WhiteElo \"2837\"]\n",
      "[BlackElo \"2399\"]\n",
      "[WhiteTitle \"GM\"]\n",
      "[Variant \"Standard\"]\n",
      "[TimeControl \"900+0\"]\n",
      "[ECO \"A45\"]\n",
      "[Termination \"Normal\"]\n",
      "\n",
      "1. d4 Nf6 1-0\n",
      "\n",
      "\n"
     ]
    }
   ],
   "source": [
    "response = requests.get(\"https://lichess.org/api/games/user/athena-pallada\", \n",
    "    params={'perfType' : \"rapid\",'max' : 5, 'until' : 1704009600000}, #1704009600000 is 2023 in milliseconds since epoch\n",
    "    headers= {'Authorization' : f'Bearer {key}'})\n",
    "for chunk in response.iter_content(chunk_size=1024):\n",
    "            if chunk:\n",
    "                # Process the chunk as needed (e.g., save to a file)\n",
    "                print(chunk.decode('utf-8'), end='')"
   ]
  },
  {
   "cell_type": "code",
   "execution_count": 186,
   "metadata": {},
   "outputs": [
    {
     "name": "stdout",
     "output_type": "stream",
     "text": [
      "[Event \"GM athena-pallada simul\"]\n",
      "[Site \"https://lichess.org/FWHyjmqs\"]\n",
      "[Date \"2023.11.26\"]\n",
      "[White \"athena-pallada\"]\n",
      "[Black \"Bacio129\"]\n",
      "[Result \"1-0\"]\n",
      "[UTCDate \"2023.11.26\"]\n",
      "[UTCTime \"17:34:42\"]\n",
      "[WhiteElo \"2837\"]\n",
      "[BlackElo \"1500\"]\n",
      "[WhiteTitle \"GM\"]\n",
      "[Variant \"Standard\"]\n",
      "[TimeControl \"900+0\"]\n",
      "[ECO \"A40\"]\n",
      "[Termination \"Time forfeit\"]\n",
      "\n",
      "1. d4 1-0\n",
      "\n",
      "\n",
      "[Event \"GM athena-pallada simul\"]\n",
      "[Site \"https://lichess.org/7BzFYJsB\"]\n",
      "[Date \"2023.11.26\"]\n",
      "[White \"athena-pallada\"]\n",
      "[Black \"Bacio129\"]\n",
      "[Result \"1-0\"]\n",
      "[UTCDate \"2023.11.26\"]\n",
      "[UTCTime \"17:15:14\"]\n",
      "[WhiteElo \"2837\"]\n",
      "[BlackElo \"1500\"]\n",
      "[WhiteTitle \"GM\"]\n",
      "[Variant \"Standard\"]\n",
      "[TimeControl \"900+0\"]\n",
      "[ECO \"A01\"]\n",
      "[Termination \"Time forfeit\"]\n",
      "\n",
      "1. b3 d5 2. Bb2 Nc6 3. e3 e5 4. Bb5 Bd6 5. f4 Bd7 6. Nf3 Nge7 7. Bxc6 Nxc6 8. fxe5 Be7 9. O-O O-O 10. Nc3 Bg4 11. d4 Qd7 12. h3 Bh5 13. Ne2 f6 14. Nf4 Bf7 15. Qe2 fxe5 16. Nxe5 Nxe5 17. dxe5 Be6 18. Rad1 Rad8 19. c4 c6 20. Kh2 Bc5 21. cxd5 cxd5 22. Bd4 Bxd4 23. exd4 Qc6 24. Rc1 Qd7 25. Nxe6 Qxe6 26. Rxf8+ Rxf8 27. Rc7 Qb6 28. Rd7 Qxd4 29. e6 Qf4+ 30. g3 Qd4 31. Kg2 Re8 32. Rxb7 Qc5 33. h4 a5 34. Qg4 Qc2+ 35. Kh3 Qc3 36. Qf5 Qf6 37. Qxf6 gxf6 38. Rd7 Rxe6 39. Rxd5 a4 40. bxa4 Ra6 41. a5 Kf7 42. Rb5 h5 43. Rxh5 Kg6 44. Rb5 Kf7 45. Kg4 Kg6 46. h5+ Kf7 47. Kf5 Rc6 48. Rb7+ Rc7 49. Rxc7+ 1-0\n",
      "\n",
      "\n"
     ]
    }
   ],
   "source": [
    "response = requests.get(\"https://lichess.org/api/games/user/athena-pallada\", \n",
    "    params = {\n",
    "        'vs' : 'Bacio129'\n",
    "    },\n",
    "    headers = {\n",
    "        'Authorization' : f'Bearer {key}'\n",
    "    })\n",
    "for chunk in response.iter_content(chunk_size=1024): #because is not returned as json, iter through response\n",
    "            if chunk:\n",
    "                print(chunk.decode('utf-8'), end='')"
   ]
  },
  {
   "attachments": {},
   "cell_type": "markdown",
   "metadata": {},
   "source": [
    "The user name of the last player athena-pallada has played against is Bacio129. In all the games against this player, which is two games, Athena-Pallada has won both games, so they have a win ratio of 2:0. "
   ]
  },
  {
   "cell_type": "markdown",
   "metadata": {
    "tags": [
     "exercise"
    ]
   },
   "source": [
    "__(c)__ Consider the top ten players in the bullet leaderboard. __(i)__ Which player has the most bullet games overall? __(ii)__ Which player has played the most bullet games relative to account age in days? __(iii)__ Which player has the worst win-to-loss ratio over all formats?"
   ]
  },
  {
   "cell_type": "code",
   "execution_count": 68,
   "metadata": {},
   "outputs": [],
   "source": [
    "response = requests.get('https://lichess.org/api/player/top/10/bullet', \n",
    "    params = {\n",
    "        \n",
    "        }, \n",
    "    headers = {\n",
    "        'Authorization' : f'Bearer {key}'\n",
    "    })\n",
    "top_bullet_players = response.json()"
   ]
  },
  {
   "cell_type": "code",
   "execution_count": 69,
   "metadata": {},
   "outputs": [
    {
     "data": {
      "text/plain": [
       "['RedWarrior25',\n",
       " 'Ediz_Gurel',\n",
       " 'anhghOst24',\n",
       " 'Yulkaaa',\n",
       " 'Zhigalko_Sergei',\n",
       " 'V_M',\n",
       " 'chessmaster2006',\n",
       " 'Italianchessstar',\n",
       " 'HowardXue',\n",
       " 'aaryan_varshney']"
      ]
     },
     "execution_count": 69,
     "metadata": {},
     "output_type": "execute_result"
    }
   ],
   "source": [
    "bullet_player_user = []\n",
    "for i in range(10):\n",
    "    bullet_player_user.append(top_bullet_players['users'][i]['username'])\n",
    "bullet_player_user"
   ]
  },
  {
   "cell_type": "code",
   "execution_count": 70,
   "metadata": {},
   "outputs": [
    {
     "data": {
      "text/plain": [
       "[['RedWarrior25', 761],\n",
       " ['Ediz_Gurel', 5507],\n",
       " ['anhghOst24', 3428],\n",
       " ['Yulkaaa', 785],\n",
       " ['Zhigalko_Sergei', 74408],\n",
       " ['V_M', 2535],\n",
       " ['chessmaster2006', 6674],\n",
       " ['Italianchessstar', 2797],\n",
       " ['HowardXue', 5418],\n",
       " ['aaryan_varshney', 7801]]"
      ]
     },
     "execution_count": 70,
     "metadata": {},
     "output_type": "execute_result"
    }
   ],
   "source": [
    "total_bullet_games = []\n",
    "for player in bullet_player_user:\n",
    "    link = f'https://lichess.org/api/user/{player}/perf/bullet'\n",
    "    indiv_player = requests.get(link, \n",
    "        params = {\n",
    "            \n",
    "        },\n",
    "        headers = {\n",
    "            'Authorization' : f'Bearer {key}'\n",
    "        })\n",
    "    total_bullet_games.append([player, indiv_player.json()['stat']['count']['all']])\n",
    "total_bullet_games\n"
   ]
  },
  {
   "cell_type": "code",
   "execution_count": 71,
   "metadata": {},
   "outputs": [
    {
     "data": {
      "text/plain": [
       "['Zhigalko_Sergei', 74408]"
      ]
     },
     "execution_count": 71,
     "metadata": {},
     "output_type": "execute_result"
    }
   ],
   "source": [
    "max_player = max(total_bullet_games, key=lambda x: x[1])\n",
    "max_player"
   ]
  },
  {
   "cell_type": "code",
   "execution_count": 72,
   "metadata": {},
   "outputs": [],
   "source": [
    "player_counter = 0\n",
    "for player in bullet_player_user:\n",
    "    link = f'https://lichess.org/api/user/{player}'\n",
    "    indiv_player = requests.get(link, \n",
    "        params = {\n",
    "            \n",
    "        },\n",
    "        headers = {\n",
    "            'Authorization' : f'Bearer {key}'\n",
    "        })\n",
    "    account_creation = indiv_player.json()[\"createdAt\"]\n",
    "    date_created = datetime.utcfromtimestamp(account_creation / 1000.0)\n",
    "    curr_date = datetime.strptime('2024-02-05', '%Y-%m-%d')\n",
    "    days_since = (curr_date - date_created).days\n",
    "    total_bullet_games[player_counter].append(days_since)\n",
    "    total_wins = indiv_player.json()[\"count\"][\"win\"]\n",
    "    total_loss = indiv_player.json()[\"count\"][\"loss\"]\n",
    "    total_bullet_games[player_counter].append(total_wins/total_loss)\n",
    "    player_counter += 1\n",
    "    "
   ]
  },
  {
   "cell_type": "code",
   "execution_count": 73,
   "metadata": {},
   "outputs": [
    {
     "data": {
      "text/plain": [
       "[['RedWarrior25', 761, 1709, 4.2],\n",
       " ['Ediz_Gurel', 5507, 326, 2.509646302250804],\n",
       " ['anhghOst24', 3428, 683, 2.428735302552337],\n",
       " ['Yulkaaa', 785, 394, 2.1130434782608694],\n",
       " ['Zhigalko_Sergei', 74408, 1963, 3.883759866060751],\n",
       " ['V_M', 2535, 2861, 1.9012760241773001],\n",
       " ['chessmaster2006', 6674, 2468, 1.9985632183908046],\n",
       " ['Italianchessstar', 2797, 752, 2.0332681017612524],\n",
       " ['HowardXue', 5418, 2206, 1.790632318501171],\n",
       " ['aaryan_varshney', 7801, 1750, 2.4479838709677417]]"
      ]
     },
     "execution_count": 73,
     "metadata": {},
     "output_type": "execute_result"
    }
   ],
   "source": [
    "total_bullet_games"
   ]
  },
  {
   "cell_type": "code",
   "execution_count": 74,
   "metadata": {},
   "outputs": [
    {
     "data": {
      "text/plain": [
       "['Zhigalko_Sergei', 74408, 1963, 3.883759866060751]"
      ]
     },
     "execution_count": 74,
     "metadata": {},
     "output_type": "execute_result"
    }
   ],
   "source": [
    "bullet_games_to_days = max(total_bullet_games, key=lambda x: x[1]/x[2])\n",
    "bullet_games_to_days"
   ]
  },
  {
   "cell_type": "code",
   "execution_count": 77,
   "metadata": {},
   "outputs": [
    {
     "data": {
      "text/plain": [
       "['HowardXue', 5418, 2206, 1.790632318501171]"
      ]
     },
     "execution_count": 77,
     "metadata": {},
     "output_type": "execute_result"
    }
   ],
   "source": [
    "worst_winloss_ratio = min(total_bullet_games, key=lambda x: x[3])\n",
    "worst_winloss_ratio"
   ]
  },
  {
   "cell_type": "markdown",
   "metadata": {},
   "source": [
    "i) Considering the top 10 players in bullet, the player Zhigalko_Sergei has the most bullet games with 74408 bullet games\n",
    "ii) Similarly, Zhigalko_Sergei has the most bullet games played relative to account age in days with 74408 games played in an account age of 1963 days.\n",
    "iii) Across the top 10 players in bullet the played HowardXue has the worst win loss ratio with a win loss ratio of 1.7906."
   ]
  },
  {
   "cell_type": "markdown",
   "metadata": {
    "tags": [
     "exercise"
    ]
   },
   "source": [
    "__(d)__ Get all games from user `manwithavan`. Group them by opening and print the ten most popular. "
   ]
  },
  {
   "cell_type": "code",
   "execution_count": 108,
   "metadata": {},
   "outputs": [],
   "source": [
    "\n",
    "link = f'https://lichess.org/api/games/user/manwithavan'\n",
    "indiv_player = requests.get(link, \n",
    "    params = {\n",
    "        \"opening\" : True,\n",
    "    },\n",
    "    headers = {\n",
    "        'Authorization' : f'Bearer {key}'\n",
    "    })\n"
   ]
  },
  {
   "cell_type": "code",
   "execution_count": 182,
   "metadata": {},
   "outputs": [],
   "source": [
    "openings = []\n",
    "player_text = indiv_player.text.split('\\n')\n",
    "for player in player_text:\n",
    "    if player[:8] == '[Opening':\n",
    "        player = player.strip('[]')[8:]\n",
    "        player = player.strip('\"\"')\n",
    "        openings.append(player)"
   ]
  },
  {
   "cell_type": "code",
   "execution_count": 183,
   "metadata": {},
   "outputs": [],
   "source": [
    "import pandas as pd\n",
    "num_opening = {}\n",
    "for opening in openings:\n",
    "    if opening in num_opening:\n",
    "        num_opening[opening] += 1\n",
    "    else:\n",
    "        num_opening[opening] = 1\n",
    "openings = pd.DataFrame(num_opening.items(), columns=['Opening', 'Occurences'])"
   ]
  },
  {
   "cell_type": "code",
   "execution_count": 184,
   "metadata": {},
   "outputs": [
    {
     "data": {
      "text/html": [
       "<div>\n",
       "<style scoped>\n",
       "    .dataframe tbody tr th:only-of-type {\n",
       "        vertical-align: middle;\n",
       "    }\n",
       "\n",
       "    .dataframe tbody tr th {\n",
       "        vertical-align: top;\n",
       "    }\n",
       "\n",
       "    .dataframe thead th {\n",
       "        text-align: right;\n",
       "    }\n",
       "</style>\n",
       "<table border=\"1\" class=\"dataframe\">\n",
       "  <thead>\n",
       "    <tr style=\"text-align: right;\">\n",
       "      <th></th>\n",
       "      <th>Opening</th>\n",
       "      <th>Occurences</th>\n",
       "    </tr>\n",
       "  </thead>\n",
       "  <tbody>\n",
       "    <tr>\n",
       "      <th>0</th>\n",
       "      <td>Van't Kruijs Opening</td>\n",
       "      <td>7</td>\n",
       "    </tr>\n",
       "    <tr>\n",
       "      <th>1</th>\n",
       "      <td>Nimzo-Larsen Attack: Modern Variation</td>\n",
       "      <td>7</td>\n",
       "    </tr>\n",
       "    <tr>\n",
       "      <th>2</th>\n",
       "      <td>Mieses Opening</td>\n",
       "      <td>6</td>\n",
       "    </tr>\n",
       "    <tr>\n",
       "      <th>3</th>\n",
       "      <td>Pirc Defense</td>\n",
       "      <td>6</td>\n",
       "    </tr>\n",
       "    <tr>\n",
       "      <th>4</th>\n",
       "      <td>Zukertort Opening: Kingside Fianchetto</td>\n",
       "      <td>5</td>\n",
       "    </tr>\n",
       "    <tr>\n",
       "      <th>5</th>\n",
       "      <td>Caro-Kann Defense: Breyer Variation</td>\n",
       "      <td>5</td>\n",
       "    </tr>\n",
       "    <tr>\n",
       "      <th>6</th>\n",
       "      <td>?</td>\n",
       "      <td>5</td>\n",
       "    </tr>\n",
       "    <tr>\n",
       "      <th>7</th>\n",
       "      <td>Nimzo-Larsen Attack</td>\n",
       "      <td>5</td>\n",
       "    </tr>\n",
       "    <tr>\n",
       "      <th>8</th>\n",
       "      <td>Zukertort Opening: Queenside Fianchetto Variation</td>\n",
       "      <td>5</td>\n",
       "    </tr>\n",
       "    <tr>\n",
       "      <th>9</th>\n",
       "      <td>Queen's Pawn Game</td>\n",
       "      <td>5</td>\n",
       "    </tr>\n",
       "  </tbody>\n",
       "</table>\n",
       "</div>"
      ],
      "text/plain": [
       "                                             Opening  Occurences\n",
       "0                               Van't Kruijs Opening           7\n",
       "1              Nimzo-Larsen Attack: Modern Variation           7\n",
       "2                                     Mieses Opening           6\n",
       "3                                       Pirc Defense           6\n",
       "4             Zukertort Opening: Kingside Fianchetto           5\n",
       "5                Caro-Kann Defense: Breyer Variation           5\n",
       "6                                                  ?           5\n",
       "7                                Nimzo-Larsen Attack           5\n",
       "8  Zukertort Opening: Queenside Fianchetto Variation           5\n",
       "9                                  Queen's Pawn Game           5"
      ]
     },
     "execution_count": 184,
     "metadata": {},
     "output_type": "execute_result"
    }
   ],
   "source": [
    "openings = openings.sort_values(by=\"Occurences\",ascending=False)\n",
    "openings = openings.reset_index(drop=True)\n",
    "openings.head(10)"
   ]
  },
  {
   "cell_type": "markdown",
   "metadata": {
    "tags": [
     "exercise"
    ]
   },
   "source": [
    "__Exercise 2__\n",
    "\n",
    "As a public organization, the compensations of employees of all institutions of the University of California are freely accessible. These reports cover UC's career faculty and staff employees, as well as part-time, temporary and student employees. See [here](https://ucannualwage.ucop.edu). Internally, the data requested by the search mask is queried using an undocumented API. For this exercise, you may use: \n",
    "```\n",
    "import requests\n",
    "import pandas\n",
    "\n",
    "from json import loads\n",
    "```\n",
    "\n",
    "_Hint: If you encounter an error when parsing the data, try to use string methods (e.g., `str.replace`) to deal with them._"
   ]
  },
  {
   "cell_type": "markdown",
   "metadata": {
    "tags": [
     "exercise"
    ]
   },
   "source": [
    "__(a)__ Get the compensation information of all UC Davis employees that received a gross pay that exceeded 300000 USD per year for the years 2019 to 2020. Sort the resulting table by year and last name, and print the first six entries."
   ]
  },
  {
   "cell_type": "code",
   "execution_count": 231,
   "metadata": {
    "tags": [
     "test"
    ]
   },
   "outputs": [
    {
     "data": {
      "text/html": [
       "<div>\n",
       "<style scoped>\n",
       "    .dataframe tbody tr th:only-of-type {\n",
       "        vertical-align: middle;\n",
       "    }\n",
       "\n",
       "    .dataframe tbody tr th {\n",
       "        vertical-align: top;\n",
       "    }\n",
       "\n",
       "    .dataframe thead th {\n",
       "        text-align: right;\n",
       "    }\n",
       "</style>\n",
       "<table border=\"1\" class=\"dataframe\">\n",
       "  <thead>\n",
       "    <tr style=\"text-align: right;\">\n",
       "      <th></th>\n",
       "      <th>year</th>\n",
       "      <th>location</th>\n",
       "      <th>firstname</th>\n",
       "      <th>lastname</th>\n",
       "      <th>title</th>\n",
       "      <th>gross</th>\n",
       "      <th>regular</th>\n",
       "      <th>overtime</th>\n",
       "      <th>other</th>\n",
       "    </tr>\n",
       "  </thead>\n",
       "  <tbody>\n",
       "    <tr>\n",
       "      <th>0</th>\n",
       "      <td>2019</td>\n",
       "      <td>Davis</td>\n",
       "      <td>LEONARD</td>\n",
       "      <td>ABBEDUTO</td>\n",
       "      <td>PROF-HCOMP</td>\n",
       "      <td>374157.0</td>\n",
       "      <td>315450.0</td>\n",
       "      <td>0.0</td>\n",
       "      <td>58707.0</td>\n",
       "    </tr>\n",
       "    <tr>\n",
       "      <th>1</th>\n",
       "      <td>2019</td>\n",
       "      <td>Davis</td>\n",
       "      <td>MEHRDAD</td>\n",
       "      <td>ABEDI</td>\n",
       "      <td>PROF OF CLIN-HCOMP</td>\n",
       "      <td>310945.0</td>\n",
       "      <td>173831.0</td>\n",
       "      <td>0.0</td>\n",
       "      <td>137114.0</td>\n",
       "    </tr>\n",
       "  </tbody>\n",
       "</table>\n",
       "</div>"
      ],
      "text/plain": [
       "   year location firstname  lastname               title     gross   regular  \\\n",
       "0  2019    Davis   LEONARD  ABBEDUTO          PROF-HCOMP  374157.0  315450.0   \n",
       "1  2019    Davis   MEHRDAD     ABEDI  PROF OF CLIN-HCOMP  310945.0  173831.0   \n",
       "\n",
       "   overtime     other  \n",
       "0       0.0   58707.0  \n",
       "1       0.0  137114.0  "
      ]
     },
     "execution_count": 231,
     "metadata": {},
     "output_type": "execute_result"
    }
   ],
   "source": [
    "table.head(2)"
   ]
  },
  {
   "cell_type": "markdown",
   "metadata": {
    "tags": [
     "exercise"
    ]
   },
   "source": [
    " __(b)__ Report the mean compensation for each title type: For gross pay, other pay and overtime pay, report the top six titles together with the number of counts. "
   ]
  },
  {
   "cell_type": "code",
   "execution_count": 254,
   "metadata": {
    "tags": [
     "test"
    ]
   },
   "outputs": [
    {
     "data": {
      "text/html": [
       "<div>\n",
       "<style scoped>\n",
       "    .dataframe tbody tr th:only-of-type {\n",
       "        vertical-align: middle;\n",
       "    }\n",
       "\n",
       "    .dataframe tbody tr th {\n",
       "        vertical-align: top;\n",
       "    }\n",
       "\n",
       "    .dataframe thead th {\n",
       "        text-align: right;\n",
       "    }\n",
       "</style>\n",
       "<table border=\"1\" class=\"dataframe\">\n",
       "  <thead>\n",
       "    <tr style=\"text-align: right;\">\n",
       "      <th></th>\n",
       "      <th>gross</th>\n",
       "      <th>regular</th>\n",
       "      <th>overtime</th>\n",
       "      <th>other</th>\n",
       "      <th>count</th>\n",
       "    </tr>\n",
       "    <tr>\n",
       "      <th>title</th>\n",
       "      <th></th>\n",
       "      <th></th>\n",
       "      <th></th>\n",
       "      <th></th>\n",
       "      <th></th>\n",
       "    </tr>\n",
       "  </thead>\n",
       "  <tbody>\n",
       "    <tr>\n",
       "      <th>VC AND DEAN SOM</th>\n",
       "      <td>960075.0</td>\n",
       "      <td>759375.0</td>\n",
       "      <td>0.0</td>\n",
       "      <td>200700.0</td>\n",
       "      <td>1</td>\n",
       "    </tr>\n",
       "    <tr>\n",
       "      <th>COO MED CTR</th>\n",
       "      <td>877439.5</td>\n",
       "      <td>622980.5</td>\n",
       "      <td>0.0</td>\n",
       "      <td>254459.0</td>\n",
       "      <td>2</td>\n",
       "    </tr>\n",
       "  </tbody>\n",
       "</table>\n",
       "</div>"
      ],
      "text/plain": [
       "                    gross   regular  overtime     other  count\n",
       "title                                                         \n",
       "VC AND DEAN SOM  960075.0  759375.0       0.0  200700.0      1\n",
       "COO MED CTR      877439.5  622980.5       0.0  254459.0      2"
      ]
     },
     "execution_count": 254,
     "metadata": {},
     "output_type": "execute_result"
    }
   ],
   "source": [
    "grouped_table.head(2)"
   ]
  }
 ],
 "metadata": {
  "celltoolbar": "Tags",
  "kernelspec": {
   "display_name": "Python 3",
   "language": "python",
   "name": "python3"
  },
  "language_info": {
   "codemirror_mode": {
    "name": "ipython",
    "version": 3
   },
   "file_extension": ".py",
   "mimetype": "text/x-python",
   "name": "python",
   "nbconvert_exporter": "python",
   "pygments_lexer": "ipython3",
   "version": "3.11.4"
  },
  "vscode": {
   "interpreter": {
    "hash": "aee8b7b246df8f9039afb4144a1f6fd8d2ca17a180786b69acc140d282b71a49"
   }
  }
 },
 "nbformat": 4,
 "nbformat_minor": 2
}
