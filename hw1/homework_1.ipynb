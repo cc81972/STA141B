{
 "cells": [
  {
   "cell_type": "markdown",
   "metadata": {
    "tags": [
     "header"
    ]
   },
   "source": [
    "# STA 141B Assignment 1\n",
    "\n",
    "Due __January 26, 2024__ by __11:59pm__. Submit your work by uploading it to Gradescope through Canvas.\n",
    "\n",
    "Instructions:\n",
    "\n",
    "1. Provide your solutions in new cells following each exercise description. Create as many new cells as necessary. Use code cells for your Python scripts and Markdown cells for explanatory text or answers to non-coding questions. Answer all textual questions in complete sentences.\n",
    "2. The use of assistive tools is permitted, but must be indicated. You will be graded on you proficiency in coding. Produce high quality code by adhering to proper programming principles. \n",
    "3. Export the .jpynb as .pdf and submit it on Gradescope in time. To facilitate grading, indicate the area of the solution on the submission. Submissions without indication will be marked down. No late submissions accepted. \n",
    "4. The total number of points is 10. "
   ]
  },
  {
   "cell_type": "markdown",
   "metadata": {
    "tags": [
     "exercise"
    ]
   },
   "source": [
    "__Exercise 1__\n",
    "\n",
    "This exercise will review basic concepts of programming. Only use pure python code and no methods (like `str.find`) that are optimized in, e.g., `C`. Likewise, do not use any packages except those suitable for parallelization in part (c). \n",
    "\n",
    "\n",
    "\n",
    "__(a)__ Write a recursive function `seq_count(x, ...)` that returns length of the longest subsequence of identical elements in the sequence object `x`. Run: \n",
    "```\n",
    "seq_count([[1], [1], [1], 1, 3, 3, 2, 2, 4, 0])\n",
    "seq_count(('G', 'g', 'a', \"a\", \"a\", '''a''', 2, 's', 's'))\n",
    "seq_count([3, 1, int(True), 1, 1, 1, 3, 3])\n",
    "seq_count((1, 3, None, 3, 3, 1, 3, 3, 4, 0))\n",
    "```"
   ]
  },
  {
   "cell_type": "code",
   "execution_count": 2,
   "metadata": {},
   "outputs": [],
   "source": [
    "def seq_count(x, curr_count = 1, max_count = 1, curr_char = None):\n",
    "    if not x:\n",
    "        return max_count\n",
    "    if x[0] == curr_char:\n",
    "        curr_count += 1\n",
    "    else:\n",
    "        curr_count = 1\n",
    "    max_count = max(curr_count, max_count)\n",
    "    return seq_count(x[1:], curr_count, max_count, x[0])\n",
    "    "
   ]
  },
  {
   "cell_type": "code",
   "execution_count": 3,
   "metadata": {
    "tags": [
     "test"
    ]
   },
   "outputs": [
    {
     "data": {
      "text/plain": [
       "3"
      ]
     },
     "execution_count": 3,
     "metadata": {},
     "output_type": "execute_result"
    }
   ],
   "source": [
    "seq_count([1, 3, 1, 1, 3, 3, 4, 4, 4])"
   ]
  },
  {
   "cell_type": "code",
   "execution_count": 8,
   "metadata": {
    "tags": [
     "test"
    ]
   },
   "outputs": [
    {
     "data": {
      "text/plain": [
       "3"
      ]
     },
     "execution_count": 8,
     "metadata": {},
     "output_type": "execute_result"
    }
   ],
   "source": [
    "# seq_count([[1], [1], [1], 1, 3, 3, 2, 2, 4, 0])\n",
    "#seq_count(('G', 'g', 'a', \"a\", \"a\", '''a''', 2, 's', 's'))\n",
    "#seq_count([3, 1, int(True), 1, 1, 1, 3, 3])\n",
    "#seq_count((1, 3, None, 3, 3, 1, 3, 3, 4, 0))\n",
    "seq_count((1, 3, 1, 1, 1, '1', 1, [3, 3, 3, 3], 3, 4, 0))"
   ]
  },
  {
   "cell_type": "markdown",
   "metadata": {
    "tags": [
     "exercise"
    ]
   },
   "source": [
    "__(b)__ Write a function `pattern_count(x, pattern, ...)` that takes the two iterable objects `x` and `pattern` and returns the length of the longest subsequence of `pattern`. Run: \n",
    "```\n",
    "pattern_count('CGGACTACTAGACT', 'ACT')\n",
    "pattern_count((1, (1, 1, 1, 1), 2, 1, 1, 1), [1, 1])\n",
    "pattern_count(['ab', 'ab', 'a', 'a', 'b'], ('ab',))\n",
    "```"
   ]
  },
  {
   "cell_type": "code",
   "execution_count": 70,
   "metadata": {},
   "outputs": [],
   "source": [
    "def pattern_count(sequence, pattern):\n",
    "    # Initialize variables to keep track of current match and longest match\n",
    "    current_count = 0\n",
    "    max_count = 0\n",
    "\n",
    "    # Iterate through the sequence\n",
    "    for item in sequence:\n",
    "        if item == pattern[current_count]:\n",
    "            # If the current item matches the pattern, increment the count\n",
    "            current_count += 1\n",
    "            if current_count == len(pattern):\n",
    "                # If the entire pattern is matched, update the max_count\n",
    "                max_count = max(max_count, current_count)\n",
    "                current_count = 0  # Reset current count for the next potential match\n",
    "        else:\n",
    "            # If there is a mismatch, reset the current count\n",
    "            current_count = 0\n",
    "\n",
    "    return max_count\n",
    "\n",
    "# def pattern_count(x, pattern):\n",
    "#     max_count = 0\n",
    "#     for seq in x:\n",
    "#         n = len(str(seq))\n",
    "#         curr_counter = 0\n",
    "#         if n < len(pattern):\n",
    "#             continue\n",
    "#         for i in range(n):\n",
    "#             if seq[i] == pattern[0]:\n",
    "#                 for j in range(1, len(pattern)):\n",
    "#                     if pattern[j] != seq[i + j]:\n",
    "#                         break\n",
    "#                     curr_counter += 1\n",
    "            \n",
    "\n",
    "#         max_count = max(max_count, curr_counter)\n",
    "#     return max_count\n",
    "        "
   ]
  },
  {
   "cell_type": "code",
   "execution_count": 71,
   "metadata": {
    "tags": [
     "test"
    ]
   },
   "outputs": [
    {
     "data": {
      "text/plain": [
       "2"
      ]
     },
     "execution_count": 71,
     "metadata": {},
     "output_type": "execute_result"
    }
   ],
   "source": [
    "pattern_count([0, 1, 2, 1, 2, 3, 1, 2, 1, 2, 1, 2, 4, 1, 2], (1, 2)) #should be 3"
   ]
  },
  {
   "cell_type": "code",
   "execution_count": 72,
   "metadata": {
    "tags": [
     "test"
    ]
   },
   "outputs": [
    {
     "data": {
      "text/plain": [
       "0"
      ]
     },
     "execution_count": 72,
     "metadata": {},
     "output_type": "execute_result"
    }
   ],
   "source": [
    "pattern_count([], [2])"
   ]
  },
  {
   "cell_type": "code",
   "execution_count": 73,
   "metadata": {
    "tags": [
     "test"
    ]
   },
   "outputs": [
    {
     "data": {
      "text/plain": [
       "0"
      ]
     },
     "execution_count": 73,
     "metadata": {},
     "output_type": "execute_result"
    }
   ],
   "source": [
    "pattern_count(['ab', 'ab', 'a', 'a', 'b'], 'ab') # elements in pattern must be identical to elements in x! "
   ]
  },
  {
   "cell_type": "code",
   "execution_count": 61,
   "metadata": {},
   "outputs": [
    {
     "ename": "TypeError",
     "evalue": "object of type 'int' has no len()",
     "output_type": "error",
     "traceback": [
      "\u001b[0;31m---------------------------------------------------------------------------\u001b[0m",
      "\u001b[0;31mTypeError\u001b[0m                                 Traceback (most recent call last)",
      "Cell \u001b[0;32mIn[61], line 1\u001b[0m\n\u001b[0;32m----> 1\u001b[0m pattern_count((\u001b[39m1\u001b[39;49m, (\u001b[39m1\u001b[39;49m, \u001b[39m1\u001b[39;49m, \u001b[39m1\u001b[39;49m, \u001b[39m1\u001b[39;49m), \u001b[39m2\u001b[39;49m, \u001b[39m1\u001b[39;49m, \u001b[39m1\u001b[39;49m, \u001b[39m1\u001b[39;49m), [\u001b[39m1\u001b[39;49m, \u001b[39m1\u001b[39;49m])\n",
      "Cell \u001b[0;32mIn[57], line 14\u001b[0m, in \u001b[0;36mpattern_count\u001b[0;34m(x, pattern)\u001b[0m\n\u001b[1;32m     12\u001b[0m max_count \u001b[39m=\u001b[39m \u001b[39m0\u001b[39m\n\u001b[1;32m     13\u001b[0m \u001b[39mfor\u001b[39;00m seq \u001b[39min\u001b[39;00m x:\n\u001b[0;32m---> 14\u001b[0m     n \u001b[39m=\u001b[39m \u001b[39mlen\u001b[39;49m(seq)\n\u001b[1;32m     15\u001b[0m     curr_counter \u001b[39m=\u001b[39m \u001b[39m0\u001b[39m\n\u001b[1;32m     16\u001b[0m     \u001b[39mif\u001b[39;00m n \u001b[39m<\u001b[39m \u001b[39mlen\u001b[39m(pattern):\n",
      "\u001b[0;31mTypeError\u001b[0m: object of type 'int' has no len()"
     ]
    }
   ],
   "source": [
    "pattern_count((1, (1, 1, 1, 1), 2, 1, 1, 1), [1, 1])"
   ]
  },
  {
   "cell_type": "markdown",
   "metadata": {
    "tags": [
     "exercise"
    ]
   },
   "source": [
    "__(c)__ For a long string, write code that takes strings `x`, `pattern`, and an integer `n_splits`, and uses a suitable concurrency method to search for repeating patterns using `pattern_count` from (b). \n",
    "To this end, partition `x` into `n_splits` parts and search each of them individually. Make sure not to split where a pattern is present! Run: \n",
    "```\n",
    "from random import choices, seed\n",
    "\n",
    "seed(2024)\n",
    "x = \"\".join(choices('01', k = 5_000))\n",
    "pattern = \"01\"\n",
    "n_splits = 50\n",
    "\n",
    "# here is your code \n",
    "```\n",
    "\n",
    "_Hint: You can use the fast `x.find(pattern)` to check your code._"
   ]
  },
  {
   "cell_type": "code",
   "execution_count": null,
   "metadata": {},
   "outputs": [],
   "source": [
    "from random import choices, seed\n",
    "\n",
    "seed(2024)\n",
    "x = \"\".join(choices('01', k = 5_000))\n",
    "pattern = \"01\"\n",
    "n_splits = 50\n",
    "\n",
    "# here is your code "
   ]
  },
  {
   "cell_type": "markdown",
   "metadata": {
    "tags": [
     "exercise"
    ]
   },
   "source": [
    "__Exercise 2__\n",
    "\n",
    "In this exercise, we will generate (pseudo-)random numbers using the inversion and accept-reject method. In order to generate the random numbers you are only allowed draw from the Uniform distribution and use\n",
    "```\n",
    "from random import uniform\n",
    "from scipy.special import binom\n",
    "from numpy import sqrt, pi, exp, tan, cumsum\n",
    "from scipy.stats import probplot\n",
    "import pandas as pd\n",
    "import matplotlib.pyplot as plt\n",
    "```\n",
    "\n",
    "_Inversion method: Let $F$ be a distribution function from which we want to draw. Define the quantile function $F^{-1}(u) = \\inf\\{x\\colon F(x)\\geq u, 0\\leq u\\leq 1\\}$. Then, if $U\\sim Unif[0,1]$, $F^{-1}(U)$ has distribution function $F$._\n",
    "\n",
    "_Accept-reject: Let $f$ be a density function from which we want to draw and there exists a density $g$ from which we can draw (e.g., via the inversion method) and for which there exists a constant $c$ such that $f(x)\\leq cg(x)$ for all $x$. The following algorithm generates a random variable $X$ with density function $f$._\n",
    "\n",
    "1. Generate a random variable $X$ from density $g$\n",
    "2. Generate a random variable $U\\sim Unif[0,1]$ (independent from $X$)\n",
    "3. If $Ucg(X) \\leq f(X)$, return $X$, otherwise repeat 1.-3.\n",
    "\n",
    "_The number of iterations needed to successfully generate $X$ is itself a random variable,\n",
    "which is geometrically distributed with the success (acceptance) probability $p = P(Ucg(X)\\leq f(X))$. Hence, the expected number of iterations is $1/p$. Some calculations show that $p = 1/c$._\n",
    "\n",
    "\n",
    "__(a)__ Generate $10 000$ samples from $Bin(10, 0.4)$ using __(i)__ the inversion method directly and __(ii)__ using the inversion method to draw corresponding Bernoulli distributed samples. __(iii)__ Plot the resulting empirical distribution functions and add the theoretical distribution function in one figure. "
   ]
  },
  {
   "cell_type": "code",
   "execution_count": 1,
   "metadata": {},
   "outputs": [],
   "source": [
    "from random import uniform\n",
    "from scipy.special import binom\n",
    "from numpy import sqrt, pi, exp, tan, cumsum\n",
    "from scipy.stats import probplot\n",
    "import pandas as pd\n",
    "import matplotlib.pyplot as plt"
   ]
  },
  {
   "cell_type": "markdown",
   "metadata": {
    "tags": [
     "exercise"
    ]
   },
   "source": [
    "__(b)__ Generate $10000$ samples from the standard normal distribution using the accept-reject method with candidate density $g(x) = (\\pi(1+x^2))^{-1}$ with distribution funciton $G(x) = \\tan^{-1}(x)/\\pi$ from the standard Cauchy distribution. To this end, __(i)__ determine (mathematically or via simulation) the value of $c\\geq1$ closest to one so that $f(x)\\leq cg(x)$ for all $x$. __(ii)__ Obtain $10000$ standard normal random variables using the accept-reject method, generating Cauchy distributed random variables using inversion method. \n",
    "__(iii)__ Compare estimated and theoretical acceptance probabilities. \n",
    "__(iv)__ Generate a QQ-plot of the generated sample. "
   ]
  },
  {
   "cell_type": "markdown",
   "metadata": {
    "tags": [
     "exercise"
    ]
   },
   "source": [
    "__Exercise 3__\n",
    "\n",
    "The demographic makeup of regions can offer crucial insights into various socio-economic factors. For policymakers, understanding age distributions can be particularly useful, as it can provide direction for initiatives ranging from educational policy to elderly care. In this section, we will work with a dataset detailing the age distribution across United States counties, broken down into specific age bins.\n",
    "\n",
    "The files `county_age_dist.csv`, `fips_state.csv` and `fips_county.csv` contain information about the age distribution of counties in selected brackets as well as names and [FIPS](https://transition.fcc.gov/oet/info/maps/census/fips/fips.txt) codes and additional information. \n",
    "\n",
    "__(a, i)__ Merge all three data frames into one `pandas.DataFrame` object names `data` with appropriate column names. __(ii)__ Remove the `info` column. Standardize column names and entries to be capitalized according to spelling rules. Remove any preceding whitespace if present for any entries. Run: \n",
    "```\n",
    "data.head(4)\n",
    "```"
   ]
  },
  {
   "cell_type": "code",
   "execution_count": 92,
   "metadata": {},
   "outputs": [
    {
     "name": "stdout",
     "output_type": "stream",
     "text": [
      "   fips   0-17  18-24  25-34  35-44  45-54  55-64  65-74  75-84   85+\n",
      "0  1001  25941  11422  12315  13828  14000  12697   9594   5430  1945\n",
      "1  1003  86587  37568  44133  46730  49675  52405  43252  23262  8854\n",
      "2  1005  11057   6162   6603   5907   6490   6377   5255   2795  1074\n",
      "3  1007   9671   5241   5788   5472   6707   5563   4270   2555   638\n",
      "4  1009  25671  11360  12635  13570  14737  14123  12106   6560  2022     fips             name  info\n",
      "0  01000          Alabama   NaN\n",
      "1  01001   Autauga County   NaN\n",
      "2  01003   Baldwin County   NaN\n",
      "3  01005   Barbour County   NaN\n",
      "4  01007      Bibb County   NaN       FIPS; STATE\n",
      "0     01; ALABAMA\n",
      "1      02; ALASKA\n",
      "2     04; ARIZONA\n",
      "3    05; ARKANSAS\n",
      "4  06; CALIFORNIA\n"
     ]
    },
    {
     "data": {
      "text/html": [
       "<div>\n",
       "<style scoped>\n",
       "    .dataframe tbody tr th:only-of-type {\n",
       "        vertical-align: middle;\n",
       "    }\n",
       "\n",
       "    .dataframe tbody tr th {\n",
       "        vertical-align: top;\n",
       "    }\n",
       "\n",
       "    .dataframe thead th {\n",
       "        text-align: right;\n",
       "    }\n",
       "</style>\n",
       "<table border=\"1\" class=\"dataframe\">\n",
       "  <thead>\n",
       "    <tr style=\"text-align: right;\">\n",
       "      <th></th>\n",
       "      <th>fips</th>\n",
       "      <th>name</th>\n",
       "      <th>info</th>\n",
       "    </tr>\n",
       "  </thead>\n",
       "  <tbody>\n",
       "    <tr>\n",
       "      <th>0</th>\n",
       "      <td>01000</td>\n",
       "      <td>Alabama</td>\n",
       "      <td>NaN</td>\n",
       "    </tr>\n",
       "    <tr>\n",
       "      <th>1</th>\n",
       "      <td>01001</td>\n",
       "      <td>Autauga County</td>\n",
       "      <td>NaN</td>\n",
       "    </tr>\n",
       "    <tr>\n",
       "      <th>2</th>\n",
       "      <td>01003</td>\n",
       "      <td>Baldwin County</td>\n",
       "      <td>NaN</td>\n",
       "    </tr>\n",
       "    <tr>\n",
       "      <th>3</th>\n",
       "      <td>01005</td>\n",
       "      <td>Barbour County</td>\n",
       "      <td>NaN</td>\n",
       "    </tr>\n",
       "    <tr>\n",
       "      <th>4</th>\n",
       "      <td>01007</td>\n",
       "      <td>Bibb County</td>\n",
       "      <td>NaN</td>\n",
       "    </tr>\n",
       "  </tbody>\n",
       "</table>\n",
       "</div>"
      ],
      "text/plain": [
       "    fips             name  info\n",
       "0  01000          Alabama   NaN\n",
       "1  01001   Autauga County   NaN\n",
       "2  01003   Baldwin County   NaN\n",
       "3  01005   Barbour County   NaN\n",
       "4  01007      Bibb County   NaN"
      ]
     },
     "execution_count": 92,
     "metadata": {},
     "output_type": "execute_result"
    }
   ],
   "source": [
    "import pandas as pd\n",
    "county_age = pd.read_csv('county_age_dist.csv') #3220 lines\n",
    "fips_county = pd.read_csv('fips_county.csv') #3199 lines\n",
    "fips_state = pd.read_csv('fips_state.csv') #51 lines\n",
    "print(county_age.head(), fips_county.head(), fips_state.head())\n",
    "\n",
    "\n",
    "\n",
    "\n"
   ]
  },
  {
   "cell_type": "code",
   "execution_count": 93,
   "metadata": {},
   "outputs": [
    {
     "name": "stdout",
     "output_type": "stream",
     "text": [
      "Index(['fips', '0-17', '18-24', '25-34', '35-44', '45-54', '55-64', '65-74',\n",
      "       '75-84', '85+'],\n",
      "      dtype='object') Index(['fips', ' name', ' info'], dtype='object') Index(['FIPS; STATE'], dtype='object')\n"
     ]
    }
   ],
   "source": [
    "print(county_age.columns, fips_county.columns, fips_state.columns)"
   ]
  },
  {
   "cell_type": "code",
   "execution_count": 94,
   "metadata": {},
   "outputs": [],
   "source": [
    "county_age['fips'] = county_age['fips'].astype(str).str.zfill(5)\n",
    "data = pd.merge(county_age, fips_county, how='outer', on='fips')"
   ]
  },
  {
   "cell_type": "code",
   "execution_count": 98,
   "metadata": {},
   "outputs": [],
   "source": [
    "fips_value_placeholder = data['fips']\n",
    "data['fips'] = data['fips'].astype(str).str[:2]\n"
   ]
  },
  {
   "cell_type": "code",
   "execution_count": 103,
   "metadata": {},
   "outputs": [
    {
     "data": {
      "text/html": [
       "<div>\n",
       "<style scoped>\n",
       "    .dataframe tbody tr th:only-of-type {\n",
       "        vertical-align: middle;\n",
       "    }\n",
       "\n",
       "    .dataframe tbody tr th {\n",
       "        vertical-align: top;\n",
       "    }\n",
       "\n",
       "    .dataframe thead th {\n",
       "        text-align: right;\n",
       "    }\n",
       "</style>\n",
       "<table border=\"1\" class=\"dataframe\">\n",
       "  <thead>\n",
       "    <tr style=\"text-align: right;\">\n",
       "      <th></th>\n",
       "      <th>fips</th>\n",
       "      <th>state</th>\n",
       "    </tr>\n",
       "  </thead>\n",
       "  <tbody>\n",
       "    <tr>\n",
       "      <th>0</th>\n",
       "      <td>01</td>\n",
       "      <td>ALABAMA</td>\n",
       "    </tr>\n",
       "    <tr>\n",
       "      <th>1</th>\n",
       "      <td>02</td>\n",
       "      <td>ALASKA</td>\n",
       "    </tr>\n",
       "    <tr>\n",
       "      <th>2</th>\n",
       "      <td>04</td>\n",
       "      <td>ARIZONA</td>\n",
       "    </tr>\n",
       "    <tr>\n",
       "      <th>3</th>\n",
       "      <td>05</td>\n",
       "      <td>ARKANSAS</td>\n",
       "    </tr>\n",
       "    <tr>\n",
       "      <th>4</th>\n",
       "      <td>06</td>\n",
       "      <td>CALIFORNIA</td>\n",
       "    </tr>\n",
       "  </tbody>\n",
       "</table>\n",
       "</div>"
      ],
      "text/plain": [
       "  fips       state\n",
       "0   01     ALABAMA\n",
       "1   02      ALASKA\n",
       "2   04     ARIZONA\n",
       "3   05    ARKANSAS\n",
       "4   06  CALIFORNIA"
      ]
     },
     "execution_count": 103,
     "metadata": {},
     "output_type": "execute_result"
    }
   ],
   "source": [
    "fips_state[['fips', 'state']] = fips_state['FIPS; STATE'].str.split('; ', expand=True)\n",
    "fips_state = fips_state.drop('FIPS; STATE', axis=1)\n",
    "fips_state.head()"
   ]
  },
  {
   "cell_type": "code",
   "execution_count": 104,
   "metadata": {},
   "outputs": [
    {
     "data": {
      "text/html": [
       "<div>\n",
       "<style scoped>\n",
       "    .dataframe tbody tr th:only-of-type {\n",
       "        vertical-align: middle;\n",
       "    }\n",
       "\n",
       "    .dataframe tbody tr th {\n",
       "        vertical-align: top;\n",
       "    }\n",
       "\n",
       "    .dataframe thead th {\n",
       "        text-align: right;\n",
       "    }\n",
       "</style>\n",
       "<table border=\"1\" class=\"dataframe\">\n",
       "  <thead>\n",
       "    <tr style=\"text-align: right;\">\n",
       "      <th></th>\n",
       "      <th>fips</th>\n",
       "      <th>0-17</th>\n",
       "      <th>18-24</th>\n",
       "      <th>25-34</th>\n",
       "      <th>35-44</th>\n",
       "      <th>45-54</th>\n",
       "      <th>55-64</th>\n",
       "      <th>65-74</th>\n",
       "      <th>75-84</th>\n",
       "      <th>85+</th>\n",
       "      <th>name</th>\n",
       "      <th>info</th>\n",
       "      <th>state</th>\n",
       "    </tr>\n",
       "  </thead>\n",
       "  <tbody>\n",
       "    <tr>\n",
       "      <th>0</th>\n",
       "      <td>01</td>\n",
       "      <td>25941.0</td>\n",
       "      <td>11422.0</td>\n",
       "      <td>12315.0</td>\n",
       "      <td>13828.0</td>\n",
       "      <td>14000.0</td>\n",
       "      <td>12697.0</td>\n",
       "      <td>9594.0</td>\n",
       "      <td>5430.0</td>\n",
       "      <td>1945.0</td>\n",
       "      <td>Autauga County</td>\n",
       "      <td>NaN</td>\n",
       "      <td>ALABAMA</td>\n",
       "    </tr>\n",
       "    <tr>\n",
       "      <th>1</th>\n",
       "      <td>01</td>\n",
       "      <td>86587.0</td>\n",
       "      <td>37568.0</td>\n",
       "      <td>44133.0</td>\n",
       "      <td>46730.0</td>\n",
       "      <td>49675.0</td>\n",
       "      <td>52405.0</td>\n",
       "      <td>43252.0</td>\n",
       "      <td>23262.0</td>\n",
       "      <td>8854.0</td>\n",
       "      <td>Baldwin County</td>\n",
       "      <td>NaN</td>\n",
       "      <td>ALABAMA</td>\n",
       "    </tr>\n",
       "    <tr>\n",
       "      <th>2</th>\n",
       "      <td>01</td>\n",
       "      <td>11057.0</td>\n",
       "      <td>6162.0</td>\n",
       "      <td>6603.0</td>\n",
       "      <td>5907.0</td>\n",
       "      <td>6490.0</td>\n",
       "      <td>6377.0</td>\n",
       "      <td>5255.0</td>\n",
       "      <td>2795.0</td>\n",
       "      <td>1074.0</td>\n",
       "      <td>Barbour County</td>\n",
       "      <td>NaN</td>\n",
       "      <td>ALABAMA</td>\n",
       "    </tr>\n",
       "    <tr>\n",
       "      <th>3</th>\n",
       "      <td>01</td>\n",
       "      <td>9671.0</td>\n",
       "      <td>5241.0</td>\n",
       "      <td>5788.0</td>\n",
       "      <td>5472.0</td>\n",
       "      <td>6707.0</td>\n",
       "      <td>5563.0</td>\n",
       "      <td>4270.0</td>\n",
       "      <td>2555.0</td>\n",
       "      <td>638.0</td>\n",
       "      <td>Bibb County</td>\n",
       "      <td>NaN</td>\n",
       "      <td>ALABAMA</td>\n",
       "    </tr>\n",
       "    <tr>\n",
       "      <th>4</th>\n",
       "      <td>01</td>\n",
       "      <td>25671.0</td>\n",
       "      <td>11360.0</td>\n",
       "      <td>12635.0</td>\n",
       "      <td>13570.0</td>\n",
       "      <td>14737.0</td>\n",
       "      <td>14123.0</td>\n",
       "      <td>12106.0</td>\n",
       "      <td>6560.0</td>\n",
       "      <td>2022.0</td>\n",
       "      <td>Blount County</td>\n",
       "      <td>NaN</td>\n",
       "      <td>ALABAMA</td>\n",
       "    </tr>\n",
       "  </tbody>\n",
       "</table>\n",
       "</div>"
      ],
      "text/plain": [
       "  fips     0-17    18-24    25-34    35-44    45-54    55-64    65-74  \\\n",
       "0   01  25941.0  11422.0  12315.0  13828.0  14000.0  12697.0   9594.0   \n",
       "1   01  86587.0  37568.0  44133.0  46730.0  49675.0  52405.0  43252.0   \n",
       "2   01  11057.0   6162.0   6603.0   5907.0   6490.0   6377.0   5255.0   \n",
       "3   01   9671.0   5241.0   5788.0   5472.0   6707.0   5563.0   4270.0   \n",
       "4   01  25671.0  11360.0  12635.0  13570.0  14737.0  14123.0  12106.0   \n",
       "\n",
       "     75-84     85+             name  info    state  \n",
       "0   5430.0  1945.0   Autauga County   NaN  ALABAMA  \n",
       "1  23262.0  8854.0   Baldwin County   NaN  ALABAMA  \n",
       "2   2795.0  1074.0   Barbour County   NaN  ALABAMA  \n",
       "3   2555.0   638.0      Bibb County   NaN  ALABAMA  \n",
       "4   6560.0  2022.0    Blount County   NaN  ALABAMA  "
      ]
     },
     "execution_count": 104,
     "metadata": {},
     "output_type": "execute_result"
    }
   ],
   "source": [
    "data = pd.merge(data, fips_state, how = 'outer', on='fips')\n",
    "data.head()"
   ]
  },
  {
   "cell_type": "code",
   "execution_count": 119,
   "metadata": {},
   "outputs": [
    {
     "data": {
      "text/html": [
       "<div>\n",
       "<style scoped>\n",
       "    .dataframe tbody tr th:only-of-type {\n",
       "        vertical-align: middle;\n",
       "    }\n",
       "\n",
       "    .dataframe tbody tr th {\n",
       "        vertical-align: top;\n",
       "    }\n",
       "\n",
       "    .dataframe thead th {\n",
       "        text-align: right;\n",
       "    }\n",
       "</style>\n",
       "<table border=\"1\" class=\"dataframe\">\n",
       "  <thead>\n",
       "    <tr style=\"text-align: right;\">\n",
       "      <th></th>\n",
       "      <th>FIPS</th>\n",
       "      <th>0-17</th>\n",
       "      <th>18-24</th>\n",
       "      <th>25-34</th>\n",
       "      <th>35-44</th>\n",
       "      <th>45-54</th>\n",
       "      <th>55-64</th>\n",
       "      <th>65-74</th>\n",
       "      <th>75-84</th>\n",
       "      <th>85+</th>\n",
       "      <th>name</th>\n",
       "      <th>state</th>\n",
       "    </tr>\n",
       "  </thead>\n",
       "  <tbody>\n",
       "    <tr>\n",
       "      <th>0</th>\n",
       "      <td>01001</td>\n",
       "      <td>25941.0</td>\n",
       "      <td>11422.0</td>\n",
       "      <td>12315.0</td>\n",
       "      <td>13828.0</td>\n",
       "      <td>14000.0</td>\n",
       "      <td>12697.0</td>\n",
       "      <td>9594.0</td>\n",
       "      <td>5430.0</td>\n",
       "      <td>1945.0</td>\n",
       "      <td>Autauga County</td>\n",
       "      <td>Alabama</td>\n",
       "    </tr>\n",
       "    <tr>\n",
       "      <th>1</th>\n",
       "      <td>01003</td>\n",
       "      <td>86587.0</td>\n",
       "      <td>37568.0</td>\n",
       "      <td>44133.0</td>\n",
       "      <td>46730.0</td>\n",
       "      <td>49675.0</td>\n",
       "      <td>52405.0</td>\n",
       "      <td>43252.0</td>\n",
       "      <td>23262.0</td>\n",
       "      <td>8854.0</td>\n",
       "      <td>Baldwin County</td>\n",
       "      <td>Alabama</td>\n",
       "    </tr>\n",
       "    <tr>\n",
       "      <th>2</th>\n",
       "      <td>01005</td>\n",
       "      <td>11057.0</td>\n",
       "      <td>6162.0</td>\n",
       "      <td>6603.0</td>\n",
       "      <td>5907.0</td>\n",
       "      <td>6490.0</td>\n",
       "      <td>6377.0</td>\n",
       "      <td>5255.0</td>\n",
       "      <td>2795.0</td>\n",
       "      <td>1074.0</td>\n",
       "      <td>Barbour County</td>\n",
       "      <td>Alabama</td>\n",
       "    </tr>\n",
       "    <tr>\n",
       "      <th>3</th>\n",
       "      <td>01007</td>\n",
       "      <td>9671.0</td>\n",
       "      <td>5241.0</td>\n",
       "      <td>5788.0</td>\n",
       "      <td>5472.0</td>\n",
       "      <td>6707.0</td>\n",
       "      <td>5563.0</td>\n",
       "      <td>4270.0</td>\n",
       "      <td>2555.0</td>\n",
       "      <td>638.0</td>\n",
       "      <td>Bibb County</td>\n",
       "      <td>Alabama</td>\n",
       "    </tr>\n",
       "    <tr>\n",
       "      <th>4</th>\n",
       "      <td>01009</td>\n",
       "      <td>25671.0</td>\n",
       "      <td>11360.0</td>\n",
       "      <td>12635.0</td>\n",
       "      <td>13570.0</td>\n",
       "      <td>14737.0</td>\n",
       "      <td>14123.0</td>\n",
       "      <td>12106.0</td>\n",
       "      <td>6560.0</td>\n",
       "      <td>2022.0</td>\n",
       "      <td>Blount County</td>\n",
       "      <td>Alabama</td>\n",
       "    </tr>\n",
       "  </tbody>\n",
       "</table>\n",
       "</div>"
      ],
      "text/plain": [
       "    FIPS     0-17    18-24    25-34    35-44    45-54    55-64    65-74  \\\n",
       "0  01001  25941.0  11422.0  12315.0  13828.0  14000.0  12697.0   9594.0   \n",
       "1  01003  86587.0  37568.0  44133.0  46730.0  49675.0  52405.0  43252.0   \n",
       "2  01005  11057.0   6162.0   6603.0   5907.0   6490.0   6377.0   5255.0   \n",
       "3  01007   9671.0   5241.0   5788.0   5472.0   6707.0   5563.0   4270.0   \n",
       "4  01009  25671.0  11360.0  12635.0  13570.0  14737.0  14123.0  12106.0   \n",
       "\n",
       "     75-84     85+             name    state  \n",
       "0   5430.0  1945.0   Autauga County  Alabama  \n",
       "1  23262.0  8854.0   Baldwin County  Alabama  \n",
       "2   2795.0  1074.0   Barbour County  Alabama  \n",
       "3   2555.0   638.0      Bibb County  Alabama  \n",
       "4   6560.0  2022.0    Blount County  Alabama  "
      ]
     },
     "execution_count": 119,
     "metadata": {},
     "output_type": "execute_result"
    }
   ],
   "source": [
    "data['fips'] = fips_value_placeholder\n",
    "data = data.drop('info', axis = 1)\n",
    "data['state'] = data['state'].str.lower().str.capitalize()\n",
    "data.rename(columns={'fips': 'FIPS'}, inplace=True)\n",
    "data.head()"
   ]
  },
  {
   "cell_type": "markdown",
   "metadata": {
    "tags": [
     "exercise"
    ]
   },
   "source": [
    "__(b)__ For each county and state, compute the proportion of elderly `CPE` and `SPE` (65 and older) to the total population as well as the proportion of young people `CPY` and `SPY` (24 or younger). Add those values to the data frame. You may ignore all FIPS regions that are not in states. Run: \n",
    "```\n",
    "data.head(4)\n",
    "```"
   ]
  },
  {
   "cell_type": "code",
   "execution_count": 135,
   "metadata": {},
   "outputs": [
    {
     "data": {
      "text/plain": [
       "0       25941.0\n",
       "1       86587.0\n",
       "2       11057.0\n",
       "3        9671.0\n",
       "4       25671.0\n",
       "         ...   \n",
       "3281    27016.0\n",
       "3282     4724.0\n",
       "3283    11353.0\n",
       "3284    16068.0\n",
       "3285    17375.0\n",
       "Name: 0-17, Length: 3286, dtype: float64"
      ]
     },
     "execution_count": 135,
     "metadata": {},
     "output_type": "execute_result"
    }
   ],
   "source": [
    "# data.iloc[:, 1:9] = data.iloc[:, 1:9].apply(pd.to_numeric, errors='coerce')\n",
    "data['0-17']"
   ]
  },
  {
   "cell_type": "code",
   "execution_count": 137,
   "metadata": {},
   "outputs": [
    {
     "ename": "TypeError",
     "evalue": "unsupported operand type(s) for +: 'int' and 'str'",
     "output_type": "error",
     "traceback": [
      "\u001b[0;31m---------------------------------------------------------------------------\u001b[0m",
      "\u001b[0;31mTypeError\u001b[0m                                 Traceback (most recent call last)",
      "Cell \u001b[0;32mIn[137], line 1\u001b[0m\n\u001b[0;32m----> 1\u001b[0m data[\u001b[39m'\u001b[39m\u001b[39mCPY\u001b[39m\u001b[39m'\u001b[39m] \u001b[39m=\u001b[39m (\u001b[39msum\u001b[39;49m(data\u001b[39m.\u001b[39;49miloc[:, \u001b[39m1\u001b[39;49m:\u001b[39m6\u001b[39;49m]))\u001b[39m/\u001b[39m (\u001b[39msum\u001b[39m(data\u001b[39m.\u001b[39miloc[:,\u001b[39m1\u001b[39m:\u001b[39m9\u001b[39m]))\n\u001b[1;32m      2\u001b[0m data\u001b[39m.\u001b[39mhead()\n",
      "\u001b[0;31mTypeError\u001b[0m: unsupported operand type(s) for +: 'int' and 'str'"
     ]
    }
   ],
   "source": [
    "data['CPY'] = (sum(data.iloc[:, 1:6]))/ (sum(data.iloc[:,1:9]))\n",
    "data.head()"
   ]
  },
  {
   "cell_type": "code",
   "execution_count": 125,
   "metadata": {
    "tags": [
     "test"
    ]
   },
   "outputs": [
    {
     "data": {
      "text/html": [
       "<div>\n",
       "<style scoped>\n",
       "    .dataframe tbody tr th:only-of-type {\n",
       "        vertical-align: middle;\n",
       "    }\n",
       "\n",
       "    .dataframe tbody tr th {\n",
       "        vertical-align: top;\n",
       "    }\n",
       "\n",
       "    .dataframe thead th {\n",
       "        text-align: right;\n",
       "    }\n",
       "</style>\n",
       "<table border=\"1\" class=\"dataframe\">\n",
       "  <thead>\n",
       "    <tr style=\"text-align: right;\">\n",
       "      <th></th>\n",
       "      <th>FIPS</th>\n",
       "      <th>0-17</th>\n",
       "      <th>18-24</th>\n",
       "      <th>25-34</th>\n",
       "      <th>35-44</th>\n",
       "      <th>45-54</th>\n",
       "      <th>55-64</th>\n",
       "      <th>65-74</th>\n",
       "      <th>75-84</th>\n",
       "      <th>85+</th>\n",
       "      <th>name</th>\n",
       "      <th>state</th>\n",
       "      <th>CPY</th>\n",
       "    </tr>\n",
       "  </thead>\n",
       "  <tbody>\n",
       "    <tr>\n",
       "      <th>1000</th>\n",
       "      <td>21015</td>\n",
       "      <td>254825.0</td>\n",
       "      <td>116058.0</td>\n",
       "      <td>134015.0</td>\n",
       "      <td>115104.0</td>\n",
       "      <td>117175.0</td>\n",
       "      <td>121444.0</td>\n",
       "      <td>80369.0</td>\n",
       "      <td>45953.0</td>\n",
       "      <td>21417.0</td>\n",
       "      <td>Sedgwick County</td>\n",
       "      <td>Kansas</td>\n",
       "      <td>NaN</td>\n",
       "    </tr>\n",
       "    <tr>\n",
       "      <th>1001</th>\n",
       "      <td>21017</td>\n",
       "      <td>13931.0</td>\n",
       "      <td>6183.0</td>\n",
       "      <td>6546.0</td>\n",
       "      <td>5392.0</td>\n",
       "      <td>5194.0</td>\n",
       "      <td>4655.0</td>\n",
       "      <td>2959.0</td>\n",
       "      <td>1777.0</td>\n",
       "      <td>679.0</td>\n",
       "      <td>Seward County</td>\n",
       "      <td>Kansas</td>\n",
       "      <td>NaN</td>\n",
       "    </tr>\n",
       "    <tr>\n",
       "      <th>1002</th>\n",
       "      <td>21019</td>\n",
       "      <td>83441.0</td>\n",
       "      <td>37898.0</td>\n",
       "      <td>43565.0</td>\n",
       "      <td>38611.0</td>\n",
       "      <td>42499.0</td>\n",
       "      <td>46549.0</td>\n",
       "      <td>32866.0</td>\n",
       "      <td>18560.0</td>\n",
       "      <td>9490.0</td>\n",
       "      <td>Shawnee County</td>\n",
       "      <td>Kansas</td>\n",
       "      <td>NaN</td>\n",
       "    </tr>\n",
       "    <tr>\n",
       "      <th>1003</th>\n",
       "      <td>21021</td>\n",
       "      <td>1042.0</td>\n",
       "      <td>393.0</td>\n",
       "      <td>552.0</td>\n",
       "      <td>474.0</td>\n",
       "      <td>541.0</td>\n",
       "      <td>691.0</td>\n",
       "      <td>480.0</td>\n",
       "      <td>392.0</td>\n",
       "      <td>176.0</td>\n",
       "      <td>Sheridan County</td>\n",
       "      <td>Kansas</td>\n",
       "      <td>NaN</td>\n",
       "    </tr>\n",
       "  </tbody>\n",
       "</table>\n",
       "</div>"
      ],
      "text/plain": [
       "       FIPS      0-17     18-24     25-34     35-44     45-54     55-64  \\\n",
       "1000  21015  254825.0  116058.0  134015.0  115104.0  117175.0  121444.0   \n",
       "1001  21017   13931.0    6183.0    6546.0    5392.0    5194.0    4655.0   \n",
       "1002  21019   83441.0   37898.0   43565.0   38611.0   42499.0   46549.0   \n",
       "1003  21021    1042.0     393.0     552.0     474.0     541.0     691.0   \n",
       "\n",
       "        65-74    75-84      85+              name   state  CPY  \n",
       "1000  80369.0  45953.0  21417.0   Sedgwick County  Kansas  NaN  \n",
       "1001   2959.0   1777.0    679.0     Seward County  Kansas  NaN  \n",
       "1002  32866.0  18560.0   9490.0    Shawnee County  Kansas  NaN  \n",
       "1003    480.0    392.0    176.0   Sheridan County  Kansas  NaN  "
      ]
     },
     "execution_count": 125,
     "metadata": {},
     "output_type": "execute_result"
    }
   ],
   "source": [
    "data.iloc[1000:1004,:]"
   ]
  },
  {
   "cell_type": "code",
   "execution_count": null,
   "metadata": {},
   "outputs": [],
   "source": []
  }
 ],
 "metadata": {
  "celltoolbar": "Tags",
  "kernelspec": {
   "display_name": "Python 3 (ipykernel)",
   "language": "python",
   "name": "python3"
  },
  "language_info": {
   "codemirror_mode": {
    "name": "ipython",
    "version": 3
   },
   "file_extension": ".py",
   "mimetype": "text/x-python",
   "name": "python",
   "nbconvert_exporter": "python",
   "pygments_lexer": "ipython3",
   "version": "3.10.7"
  },
  "vscode": {
   "interpreter": {
    "hash": "b0fa6594d8f4cbf19f97940f81e996739fb7646882a419484c72d19e05852a7e"
   }
  }
 },
 "nbformat": 4,
 "nbformat_minor": 2
}
