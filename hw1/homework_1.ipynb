{
 "cells": [
  {
   "cell_type": "markdown",
   "metadata": {
    "tags": [
     "header"
    ]
   },
   "source": [
    "# STA 141B Assignment 1\n",
    "\n",
    "Due __January 26, 2024__ by __11:59pm__. Submit your work by uploading it to Gradescope through Canvas.\n",
    "\n",
    "Instructions:\n",
    "\n",
    "1. Provide your solutions in new cells following each exercise description. Create as many new cells as necessary. Use code cells for your Python scripts and Markdown cells for explanatory text or answers to non-coding questions. Answer all textual questions in complete sentences.\n",
    "2. The use of assistive tools is permitted, but must be indicated. You will be graded on you proficiency in coding. Produce high quality code by adhering to proper programming principles. \n",
    "3. Export the .jpynb as .pdf and submit it on Gradescope in time. To facilitate grading, indicate the area of the solution on the submission. Submissions without indication will be marked down. No late submissions accepted. \n",
    "4. The total number of points is 10. "
   ]
  },
  {
   "cell_type": "markdown",
   "metadata": {
    "tags": [
     "exercise"
    ]
   },
   "source": [
    "__Exercise 1__\n",
    "\n",
    "This exercise will review basic concepts of programming. Only use pure python code and no methods (like `str.find`) that are optimized in, e.g., `C`. Likewise, do not use any packages except those suitable for parallelization in part (c). \n",
    "\n",
    "\n",
    "\n",
    "__(a)__ Write a recursive function `seq_count(x, ...)` that returns length of the longest subsequence of identical elements in the sequence object `x`. Run: \n",
    "```\n",
    "seq_count([[1], [1], [1], 1, 3, 3, 2, 2, 4, 0])\n",
    "seq_count(('G', 'g', 'a', \"a\", \"a\", '''a''', 2, 's', 's'))\n",
    "seq_count([3, 1, int(True), 1, 1, 1, 3, 3])\n",
    "seq_count((1, 3, None, 3, 3, 1, 3, 3, 4, 0))\n",
    "```"
   ]
  },
  {
   "cell_type": "code",
   "execution_count": 2,
   "metadata": {},
   "outputs": [],
   "source": [
    "def seq_count(x, curr_count = 1, max_count = 1, curr_char = None):\n",
    "    if not x:\n",
    "        return max_count\n",
    "    if x[0] == curr_char:\n",
    "        curr_count += 1\n",
    "    else:\n",
    "        curr_count = 1\n",
    "    max_count = max(curr_count, max_count)\n",
    "    return seq_count(x[1:], curr_count, max_count, x[0])\n",
    "    "
   ]
  },
  {
   "cell_type": "code",
   "execution_count": 3,
   "metadata": {
    "tags": [
     "test"
    ]
   },
   "outputs": [
    {
     "data": {
      "text/plain": [
       "3"
      ]
     },
     "execution_count": 3,
     "metadata": {},
     "output_type": "execute_result"
    }
   ],
   "source": [
    "seq_count([1, 3, 1, 1, 3, 3, 4, 4, 4])"
   ]
  },
  {
   "cell_type": "code",
   "execution_count": 8,
   "metadata": {
    "tags": [
     "test"
    ]
   },
   "outputs": [
    {
     "data": {
      "text/plain": [
       "3"
      ]
     },
     "execution_count": 8,
     "metadata": {},
     "output_type": "execute_result"
    }
   ],
   "source": [
    "# seq_count([[1], [1], [1], 1, 3, 3, 2, 2, 4, 0])\n",
    "#seq_count(('G', 'g', 'a', \"a\", \"a\", '''a''', 2, 's', 's'))\n",
    "#seq_count([3, 1, int(True), 1, 1, 1, 3, 3])\n",
    "#seq_count((1, 3, None, 3, 3, 1, 3, 3, 4, 0))\n",
    "seq_count((1, 3, 1, 1, 1, '1', 1, [3, 3, 3, 3], 3, 4, 0))"
   ]
  },
  {
   "cell_type": "markdown",
   "metadata": {
    "tags": [
     "exercise"
    ]
   },
   "source": [
    "__(b)__ Write a function `pattern_count(x, pattern, ...)` that takes the two iterable objects `x` and `pattern` and returns the length of the longest subsequence of `pattern`. Run: \n",
    "```\n",
    "pattern_count('CGGACTACTAGACT', 'ACT')\n",
    "pattern_count((1, (1, 1, 1, 1), 2, 1, 1, 1), [1, 1])\n",
    "pattern_count(['ab', 'ab', 'a', 'a', 'b'], ('ab',))\n",
    "```"
   ]
  },
  {
   "cell_type": "code",
   "execution_count": 81,
   "metadata": {},
   "outputs": [
    {
     "name": "stdout",
     "output_type": "stream",
     "text": [
      "2\n",
      "2\n",
      "2\n"
     ]
    }
   ],
   "source": [
    "def pattern_count(sequence, pattern):\n",
    "    # Initialize variables to keep track of current match and longest match\n",
    "    current_count = 0\n",
    "    max_count = 0\n",
    "    pattern_counter = 0\n",
    "    for i in sequence:\n",
    "        if i == pattern[pattern_counter]:\n",
    "            pattern_counter += 1\n",
    "            if pattern_counter == len(pattern):\n",
    "                current_count += 1\n",
    "                max_count = max(current_count, max_count)\n",
    "                pattern_counter = 0\n",
    "        else:\n",
    "            current_count = 0\n",
    "    return max_count   \n",
    "\n",
    "    # Iterate through the sequence\n",
    "print(pattern_count('CGGACTACTAGACT', 'ACT'))\n",
    "print(pattern_count((1, (1, 1, 1, 1), 2, 1, 1, 1), [1, 1]))\n",
    "print(pattern_count(['ab', 'ab', 'a', 'a', 'b'], ('ab',))) \n",
    "        "
   ]
  },
  {
   "cell_type": "code",
   "execution_count": 77,
   "metadata": {
    "tags": [
     "test"
    ]
   },
   "outputs": [
    {
     "data": {
      "text/plain": [
       "3"
      ]
     },
     "execution_count": 77,
     "metadata": {},
     "output_type": "execute_result"
    }
   ],
   "source": [
    "pattern_count([0, 1, 2, 1, 2, 3, 1, 2, 1, 2, 1, 2, 4, 1, 2], (1, 2)) #should be 3"
   ]
  },
  {
   "cell_type": "code",
   "execution_count": 78,
   "metadata": {
    "tags": [
     "test"
    ]
   },
   "outputs": [
    {
     "data": {
      "text/plain": [
       "0"
      ]
     },
     "execution_count": 78,
     "metadata": {},
     "output_type": "execute_result"
    }
   ],
   "source": [
    "pattern_count([], [2])"
   ]
  },
  {
   "cell_type": "code",
   "execution_count": 82,
   "metadata": {
    "tags": [
     "test"
    ]
   },
   "outputs": [
    {
     "data": {
      "text/plain": [
       "1"
      ]
     },
     "execution_count": 82,
     "metadata": {},
     "output_type": "execute_result"
    }
   ],
   "source": [
    "pattern_count(['ab', 'ab', 'a', 'a', 'b'], 'ab') # elements in pattern must be identical to elements in x! "
   ]
  },
  {
   "cell_type": "code",
   "execution_count": 80,
   "metadata": {},
   "outputs": [
    {
     "data": {
      "text/plain": [
       "2"
      ]
     },
     "execution_count": 80,
     "metadata": {},
     "output_type": "execute_result"
    }
   ],
   "source": [
    "pattern_count((1, (1, 1, 1, 1), 2, 1, 1, 1), [1, 1])"
   ]
  },
  {
   "cell_type": "markdown",
   "metadata": {
    "tags": [
     "exercise"
    ]
   },
   "source": [
    "__(c)__ For a long string, write code that takes strings `x`, `pattern`, and an integer `n_splits`, and uses a suitable concurrency method to search for repeating patterns using `pattern_count` from (b). \n",
    "To this end, partition `x` into `n_splits` parts and search each of them individually. Make sure not to split where a pattern is present! Run: \n",
    "```\n",
    "from random import choices, seed\n",
    "\n",
    "seed(2024)\n",
    "x = \"\".join(choices('01', k = 5_000))\n",
    "pattern = \"01\"\n",
    "n_splits = 50\n",
    "\n",
    "# here is your code \n",
    "```\n",
    "\n",
    "_Hint: You can use the fast `x.find(pattern)` to check your code._"
   ]
  },
  {
   "cell_type": "code",
   "execution_count": null,
   "metadata": {},
   "outputs": [],
   "source": [
    "from random import choices, seed\n",
    "\n",
    "seed(2024)\n",
    "x = \"\".join(choices('01', k = 5_000))\n",
    "pattern = \"01\"\n",
    "n_splits = 50\n",
    "def long_pattern(x, pattern, n_splits):\n",
    "    per_sec_count = len(x)/n_splits\n",
    "    \n",
    "# here is your code "
   ]
  },
  {
   "cell_type": "markdown",
   "metadata": {
    "tags": [
     "exercise"
    ]
   },
   "source": [
    "__Exercise 2__\n",
    "\n",
    "In this exercise, we will generate (pseudo-)random numbers using the inversion and accept-reject method. In order to generate the random numbers you are only allowed draw from the Uniform distribution and use\n",
    "```\n",
    "from random import uniform\n",
    "from scipy.special import binom\n",
    "from numpy import sqrt, pi, exp, tan, cumsum\n",
    "from scipy.stats import probplot\n",
    "import pandas as pd\n",
    "import matplotlib.pyplot as plt\n",
    "```\n",
    "\n",
    "_Inversion method: Let $F$ be a distribution function from which we want to draw. Define the quantile function $F^{-1}(u) = \\inf\\{x\\colon F(x)\\geq u, 0\\leq u\\leq 1\\}$. Then, if $U\\sim Unif[0,1]$, $F^{-1}(U)$ has distribution function $F$._\n",
    "\n",
    "_Accept-reject: Let $f$ be a density function from which we want to draw and there exists a density $g$ from which we can draw (e.g., via the inversion method) and for which there exists a constant $c$ such that $f(x)\\leq cg(x)$ for all $x$. The following algorithm generates a random variable $X$ with density function $f$._\n",
    "\n",
    "1. Generate a random variable $X$ from density $g$\n",
    "2. Generate a random variable $U\\sim Unif[0,1]$ (independent from $X$)\n",
    "3. If $Ucg(X) \\leq f(X)$, return $X$, otherwise repeat 1.-3.\n",
    "\n",
    "_The number of iterations needed to successfully generate $X$ is itself a random variable,\n",
    "which is geometrically distributed with the success (acceptance) probability $p = P(Ucg(X)\\leq f(X))$. Hence, the expected number of iterations is $1/p$. Some calculations show that $p = 1/c$._\n",
    "\n",
    "\n",
    "__(a)__ Generate $10 000$ samples from $Bin(10, 0.4)$ using __(i)__ the inversion method directly and __(ii)__ using the inversion method to draw corresponding Bernoulli distributed samples. __(iii)__ Plot the resulting empirical distribution functions and add the theoretical distribution function in one figure. "
   ]
  },
  {
   "cell_type": "code",
   "execution_count": 7,
   "metadata": {},
   "outputs": [],
   "source": [
    "from random import uniform\n",
    "from scipy.special import binom\n",
    "from numpy import sqrt, pi, exp, tan, cumsum\n",
    "from scipy.stats import probplot, binom\n",
    "import pandas as pd\n",
    "import matplotlib.pyplot as plt"
   ]
  },
  {
   "cell_type": "code",
   "execution_count": 8,
   "metadata": {},
   "outputs": [],
   "source": [
    "def direct_inverse_method(n, p, sample_size):\n",
    "    values = []\n",
    "    for i in range(sample_size):\n",
    "        u = uniform(0,1)\n",
    "        inversed_u = binom.ppf(u, n, p) #this gives the inverse cdf of each value\n",
    "        values.append(inversed_u)\n",
    "    return values\n",
    "\n",
    "direct_inverse_samples = direct_inverse_method(10, 0.4, 10000)"
   ]
  },
  {
   "cell_type": "markdown",
   "metadata": {},
   "source": [
    "We will first get values using the inverse method function defined in part 1. Then, divide each value by 10 to get a probability value, and if those values are greater than 0.4 which is the threshold earlier defined, it will take a value of 1 (success) or else a 0 (fail)"
   ]
  },
  {
   "cell_type": "code",
   "execution_count": 47,
   "metadata": {},
   "outputs": [],
   "source": [
    "inverse_samples = direct_inverse_method(10, 0.4, 10000)\n",
    "new_inverse_samples = list(map(lambda x: x/10, inverse_samples))\n",
    "bernoulli_samples = list(map(lambda x: 1 if x >= 0.4 else 0, new_inverse_samples))\n",
    "    "
   ]
  },
  {
   "cell_type": "code",
   "execution_count": null,
   "metadata": {},
   "outputs": [],
   "source": [
    "plt.figure(figsize=(8, 5))\n",
    "plt.hist(direct_inverse_samples, density=True, alpha=0.5)\n",
    "plt.plot([0,1,2,3,4,5,6,7,8,9,10], binom.pmf(x, 10, 0.4), 'go-')\n",
    "plt.title('Direct Inverse Method')\n",
    "plt.show()\n"
   ]
  },
  {
   "cell_type": "code",
   "execution_count": null,
   "metadata": {},
   "outputs": [],
   "source": [
    "plt.hist(bernoulli_samples, density=True)\n",
    "plt.title('Inverse Bernoulli Samples')"
   ]
  },
  {
   "cell_type": "markdown",
   "metadata": {
    "tags": [
     "exercise"
    ]
   },
   "source": [
    "__(b)__ Generate $10000$ samples from the standard normal distribution using the accept-reject method with candidate density $g(x) = (\\pi(1+x^2))^{-1}$ with distribution funciton $G(x) = \\tan^{-1}(x)/\\pi$ from the standard Cauchy distribution. To this end, __(i)__ determine (mathematically or via simulation) the value of $c\\geq1$ closest to one so that $f(x)\\leq cg(x)$ for all $x$. __(ii)__ Obtain $10000$ standard normal random variables using the accept-reject method, generating Cauchy distributed random variables using inversion method. \n",
    "__(iii)__ Compare estimated and theoretical acceptance probabilities. \n",
    "__(iv)__ Generate a QQ-plot of the generated sample. "
   ]
  },
  {
   "cell_type": "code",
   "execution_count": 92,
   "metadata": {},
   "outputs": [
    {
     "name": "stdout",
     "output_type": "stream",
     "text": [
      "1.520346901066281\n"
     ]
    }
   ],
   "source": [
    "#To find c, simulate 10,000 x values and find the max ratio where c >= f(x) / g(x)\n",
    "sim_x  = [-5 + (i/(1000)) for i in range(10000)]\n",
    "sim_x = pd.Series(sim_x)\n",
    "def ratio_calc(x):\n",
    "    f_x = exp(-x**2 / 2) / sqrt(2 * pi)\n",
    "    g_x = 1 / (pi * (1 + x**2))\n",
    "    return f_x/g_x\n",
    "result_x = sim_x.apply(ratio_calc)\n",
    "c = max(result_x)\n",
    "print(c)\n"
   ]
  },
  {
   "cell_type": "markdown",
   "metadata": {},
   "source": [
    "Using a simulation where we generating equally spaced values from -5 to 5, we put each value into the f(x) and g(x), took the ratio of the two for each x value and got the maximum ratio from all 10000 values to get a c value of approximately 1.5203\n"
   ]
  },
  {
   "cell_type": "code",
   "execution_count": 96,
   "metadata": {},
   "outputs": [
    {
     "name": "stdout",
     "output_type": "stream",
     "text": [
      "15196\n"
     ]
    }
   ],
   "source": [
    "#part 2 (ii)\n",
    "#inverse of G(x) is tan(pi * u)\n",
    "nums = []\n",
    "tot_generated = 0\n",
    "c = 1.52034\n",
    "while len(nums) < 10000:\n",
    "    init_val = uniform(0,1)\n",
    "    X = tan(pi * init_val)\n",
    "    U = uniform(0,1)\n",
    "    Ucg = U * c * (pi*(1 + (X**2)))**(-1)\n",
    "    fx = (1/sqrt(2*pi))* exp(-(X**2)/2)\n",
    "    if Ucg <= fx:\n",
    "        nums.append(X)\n",
    "    tot_generated += 1\n",
    "print(tot_generated)  \n",
    "\n",
    "\n"
   ]
  },
  {
   "cell_type": "markdown",
   "metadata": {},
   "source": [
    "iii\\)  As can be seen previously, in order to generate 10000 values, 15196 total values were generated. 10000/15196 = 0.65806 which means about a 66% acceptance rate. The theoretical acceptance rate is approximately 1/c, which is 1/1.52034 = 0.65775 which is also about a 66% acceptance rate, so they are pretty similar."
   ]
  },
  {
   "cell_type": "code",
   "execution_count": 98,
   "metadata": {},
   "outputs": [
    {
     "data": {
      "image/png": "[encoded data removed]",
      "text/plain": [
       "<Figure size 640x480 with 1 Axes>"
      ]
     },
     "metadata": {},
     "output_type": "display_data"
    }
   ],
   "source": [
    "theor_quant = probplot(nums, plot=plt)[0][0]\n",
    "plt.scatter(theor_quant, nums, color='blue', alpha=0.5)\n",
    "plt.title('QQ Plot')\n",
    "plt.show()"
   ]
  },
  {
   "cell_type": "markdown",
   "metadata": {
    "tags": [
     "exercise"
    ]
   },
   "source": [
    "__Exercise 3__\n",
    "\n",
    "The demographic makeup of regions can offer crucial insights into various socio-economic factors. For policymakers, understanding age distributions can be particularly useful, as it can provide direction for initiatives ranging from educational policy to elderly care. In this section, we will work with a dataset detailing the age distribution across United States counties, broken down into specific age bins.\n",
    "\n",
    "The files `county_age_dist.csv`, `fips_state.csv` and `fips_county.csv` contain information about the age distribution of counties in selected brackets as well as names and [FIPS](https://transition.fcc.gov/oet/info/maps/census/fips/fips.txt) codes and additional information. \n",
    "\n",
    "__(a, i)__ Merge all three data frames into one `pandas.DataFrame` object names `data` with appropriate column names. __(ii)__ Remove the `info` column. Standardize column names and entries to be capitalized according to spelling rules. Remove any preceding whitespace if present for any entries. Run: \n",
    "```\n",
    "data.head(4)\n",
    "```"
   ]
  },
  {
   "cell_type": "code",
   "execution_count": 254,
   "metadata": {},
   "outputs": [
    {
     "name": "stdout",
     "output_type": "stream",
     "text": [
      "   fips   0-17  18-24  25-34  35-44  45-54  55-64  65-74  75-84   85+\n",
      "0  1001  25941  11422  12315  13828  14000  12697   9594   5430  1945\n",
      "1  1003  86587  37568  44133  46730  49675  52405  43252  23262  8854\n",
      "2  1005  11057   6162   6603   5907   6490   6377   5255   2795  1074\n",
      "3  1007   9671   5241   5788   5472   6707   5563   4270   2555   638\n",
      "4  1009  25671  11360  12635  13570  14737  14123  12106   6560  2022     fips             name  info\n",
      "0  01000          Alabama   NaN\n",
      "1  01001   Autauga County   NaN\n",
      "2  01003   Baldwin County   NaN\n",
      "3  01005   Barbour County   NaN\n",
      "4  01007      Bibb County   NaN       FIPS; STATE\n",
      "0     01; ALABAMA\n",
      "1      02; ALASKA\n",
      "2     04; ARIZONA\n",
      "3    05; ARKANSAS\n",
      "4  06; CALIFORNIA\n"
     ]
    }
   ],
   "source": [
    "import pandas as pd\n",
    "county_age = pd.read_csv('county_age_dist.csv') #3220 lines\n",
    "fips_county = pd.read_csv('fips_county.csv') #3199 lines\n",
    "fips_state = pd.read_csv('fips_state.csv') #51 lines\n",
    "print(county_age.head(), fips_county.head(), fips_state.head())"
   ]
  },
  {
   "cell_type": "code",
   "execution_count": 255,
   "metadata": {},
   "outputs": [
    {
     "name": "stdout",
     "output_type": "stream",
     "text": [
      "Index(['fips', '0-17', '18-24', '25-34', '35-44', '45-54', '55-64', '65-74',\n",
      "       '75-84', '85+'],\n",
      "      dtype='object') Index(['fips', ' name', ' info'], dtype='object') Index(['FIPS; STATE'], dtype='object')\n"
     ]
    }
   ],
   "source": [
    "print(county_age.columns, fips_county.columns, fips_state.columns)"
   ]
  },
  {
   "cell_type": "code",
   "execution_count": 256,
   "metadata": {},
   "outputs": [],
   "source": [
    "county_age['fips'] = county_age['fips'].astype(str).str.zfill(5)\n",
    "data = pd.merge(county_age, fips_county, how='outer', on='fips')"
   ]
  },
  {
   "cell_type": "code",
   "execution_count": 257,
   "metadata": {},
   "outputs": [],
   "source": [
    "fips_value_placeholder = data['fips']\n",
    "data['fips'] = data['fips'].astype(str).str[:2]\n"
   ]
  },
  {
   "cell_type": "code",
   "execution_count": 258,
   "metadata": {},
   "outputs": [
    {
     "data": {
      "text/html": [
       "<div>\n",
       "<style scoped>\n",
       "    .dataframe tbody tr th:only-of-type {\n",
       "        vertical-align: middle;\n",
       "    }\n",
       "\n",
       "    .dataframe tbody tr th {\n",
       "        vertical-align: top;\n",
       "    }\n",
       "\n",
       "    .dataframe thead th {\n",
       "        text-align: right;\n",
       "    }\n",
       "</style>\n",
       "<table border=\"1\" class=\"dataframe\">\n",
       "  <thead>\n",
       "    <tr style=\"text-align: right;\">\n",
       "      <th></th>\n",
       "      <th>fips</th>\n",
       "      <th>state</th>\n",
       "    </tr>\n",
       "  </thead>\n",
       "  <tbody>\n",
       "    <tr>\n",
       "      <th>0</th>\n",
       "      <td>01</td>\n",
       "      <td>ALABAMA</td>\n",
       "    </tr>\n",
       "    <tr>\n",
       "      <th>1</th>\n",
       "      <td>02</td>\n",
       "      <td>ALASKA</td>\n",
       "    </tr>\n",
       "    <tr>\n",
       "      <th>2</th>\n",
       "      <td>04</td>\n",
       "      <td>ARIZONA</td>\n",
       "    </tr>\n",
       "    <tr>\n",
       "      <th>3</th>\n",
       "      <td>05</td>\n",
       "      <td>ARKANSAS</td>\n",
       "    </tr>\n",
       "    <tr>\n",
       "      <th>4</th>\n",
       "      <td>06</td>\n",
       "      <td>CALIFORNIA</td>\n",
       "    </tr>\n",
       "  </tbody>\n",
       "</table>\n",
       "</div>"
      ],
      "text/plain": [
       "  fips       state\n",
       "0   01     ALABAMA\n",
       "1   02      ALASKA\n",
       "2   04     ARIZONA\n",
       "3   05    ARKANSAS\n",
       "4   06  CALIFORNIA"
      ]
     },
     "execution_count": 258,
     "metadata": {},
     "output_type": "execute_result"
    }
   ],
   "source": [
    "fips_state[['fips', 'state']] = fips_state['FIPS; STATE'].str.split('; ', expand=True)\n",
    "fips_state = fips_state.drop('FIPS; STATE', axis=1)\n",
    "fips_state.head()"
   ]
  },
  {
   "cell_type": "code",
   "execution_count": 259,
   "metadata": {},
   "outputs": [
    {
     "data": {
      "text/html": [
       "<div>\n",
       "<style scoped>\n",
       "    .dataframe tbody tr th:only-of-type {\n",
       "        vertical-align: middle;\n",
       "    }\n",
       "\n",
       "    .dataframe tbody tr th {\n",
       "        vertical-align: top;\n",
       "    }\n",
       "\n",
       "    .dataframe thead th {\n",
       "        text-align: right;\n",
       "    }\n",
       "</style>\n",
       "<table border=\"1\" class=\"dataframe\">\n",
       "  <thead>\n",
       "    <tr style=\"text-align: right;\">\n",
       "      <th></th>\n",
       "      <th>fips</th>\n",
       "      <th>0-17</th>\n",
       "      <th>18-24</th>\n",
       "      <th>25-34</th>\n",
       "      <th>35-44</th>\n",
       "      <th>45-54</th>\n",
       "      <th>55-64</th>\n",
       "      <th>65-74</th>\n",
       "      <th>75-84</th>\n",
       "      <th>85+</th>\n",
       "      <th>name</th>\n",
       "      <th>info</th>\n",
       "      <th>state</th>\n",
       "    </tr>\n",
       "  </thead>\n",
       "  <tbody>\n",
       "    <tr>\n",
       "      <th>0</th>\n",
       "      <td>01</td>\n",
       "      <td>25941.0</td>\n",
       "      <td>11422.0</td>\n",
       "      <td>12315.0</td>\n",
       "      <td>13828.0</td>\n",
       "      <td>14000.0</td>\n",
       "      <td>12697.0</td>\n",
       "      <td>9594.0</td>\n",
       "      <td>5430.0</td>\n",
       "      <td>1945.0</td>\n",
       "      <td>Autauga County</td>\n",
       "      <td>NaN</td>\n",
       "      <td>ALABAMA</td>\n",
       "    </tr>\n",
       "    <tr>\n",
       "      <th>1</th>\n",
       "      <td>01</td>\n",
       "      <td>86587.0</td>\n",
       "      <td>37568.0</td>\n",
       "      <td>44133.0</td>\n",
       "      <td>46730.0</td>\n",
       "      <td>49675.0</td>\n",
       "      <td>52405.0</td>\n",
       "      <td>43252.0</td>\n",
       "      <td>23262.0</td>\n",
       "      <td>8854.0</td>\n",
       "      <td>Baldwin County</td>\n",
       "      <td>NaN</td>\n",
       "      <td>ALABAMA</td>\n",
       "    </tr>\n",
       "    <tr>\n",
       "      <th>2</th>\n",
       "      <td>01</td>\n",
       "      <td>11057.0</td>\n",
       "      <td>6162.0</td>\n",
       "      <td>6603.0</td>\n",
       "      <td>5907.0</td>\n",
       "      <td>6490.0</td>\n",
       "      <td>6377.0</td>\n",
       "      <td>5255.0</td>\n",
       "      <td>2795.0</td>\n",
       "      <td>1074.0</td>\n",
       "      <td>Barbour County</td>\n",
       "      <td>NaN</td>\n",
       "      <td>ALABAMA</td>\n",
       "    </tr>\n",
       "    <tr>\n",
       "      <th>3</th>\n",
       "      <td>01</td>\n",
       "      <td>9671.0</td>\n",
       "      <td>5241.0</td>\n",
       "      <td>5788.0</td>\n",
       "      <td>5472.0</td>\n",
       "      <td>6707.0</td>\n",
       "      <td>5563.0</td>\n",
       "      <td>4270.0</td>\n",
       "      <td>2555.0</td>\n",
       "      <td>638.0</td>\n",
       "      <td>Bibb County</td>\n",
       "      <td>NaN</td>\n",
       "      <td>ALABAMA</td>\n",
       "    </tr>\n",
       "    <tr>\n",
       "      <th>4</th>\n",
       "      <td>01</td>\n",
       "      <td>25671.0</td>\n",
       "      <td>11360.0</td>\n",
       "      <td>12635.0</td>\n",
       "      <td>13570.0</td>\n",
       "      <td>14737.0</td>\n",
       "      <td>14123.0</td>\n",
       "      <td>12106.0</td>\n",
       "      <td>6560.0</td>\n",
       "      <td>2022.0</td>\n",
       "      <td>Blount County</td>\n",
       "      <td>NaN</td>\n",
       "      <td>ALABAMA</td>\n",
       "    </tr>\n",
       "  </tbody>\n",
       "</table>\n",
       "</div>"
      ],
      "text/plain": [
       "  fips     0-17    18-24    25-34    35-44    45-54    55-64    65-74  \\\n",
       "0   01  25941.0  11422.0  12315.0  13828.0  14000.0  12697.0   9594.0   \n",
       "1   01  86587.0  37568.0  44133.0  46730.0  49675.0  52405.0  43252.0   \n",
       "2   01  11057.0   6162.0   6603.0   5907.0   6490.0   6377.0   5255.0   \n",
       "3   01   9671.0   5241.0   5788.0   5472.0   6707.0   5563.0   4270.0   \n",
       "4   01  25671.0  11360.0  12635.0  13570.0  14737.0  14123.0  12106.0   \n",
       "\n",
       "     75-84     85+             name  info    state  \n",
       "0   5430.0  1945.0   Autauga County   NaN  ALABAMA  \n",
       "1  23262.0  8854.0   Baldwin County   NaN  ALABAMA  \n",
       "2   2795.0  1074.0   Barbour County   NaN  ALABAMA  \n",
       "3   2555.0   638.0      Bibb County   NaN  ALABAMA  \n",
       "4   6560.0  2022.0    Blount County   NaN  ALABAMA  "
      ]
     },
     "execution_count": 259,
     "metadata": {},
     "output_type": "execute_result"
    }
   ],
   "source": [
    "data = pd.merge(data, fips_state, how = 'outer', on='fips')\n",
    "data.head()"
   ]
  },
  {
   "cell_type": "code",
   "execution_count": 260,
   "metadata": {},
   "outputs": [
    {
     "data": {
      "text/html": [
       "<div>\n",
       "<style scoped>\n",
       "    .dataframe tbody tr th:only-of-type {\n",
       "        vertical-align: middle;\n",
       "    }\n",
       "\n",
       "    .dataframe tbody tr th {\n",
       "        vertical-align: top;\n",
       "    }\n",
       "\n",
       "    .dataframe thead th {\n",
       "        text-align: right;\n",
       "    }\n",
       "</style>\n",
       "<table border=\"1\" class=\"dataframe\">\n",
       "  <thead>\n",
       "    <tr style=\"text-align: right;\">\n",
       "      <th></th>\n",
       "      <th>FIPS</th>\n",
       "      <th>0-17</th>\n",
       "      <th>18-24</th>\n",
       "      <th>25-34</th>\n",
       "      <th>35-44</th>\n",
       "      <th>45-54</th>\n",
       "      <th>55-64</th>\n",
       "      <th>65-74</th>\n",
       "      <th>75-84</th>\n",
       "      <th>85+</th>\n",
       "      <th>Name</th>\n",
       "      <th>State</th>\n",
       "    </tr>\n",
       "  </thead>\n",
       "  <tbody>\n",
       "    <tr>\n",
       "      <th>0</th>\n",
       "      <td>01001</td>\n",
       "      <td>25941.0</td>\n",
       "      <td>11422.0</td>\n",
       "      <td>12315.0</td>\n",
       "      <td>13828.0</td>\n",
       "      <td>14000.0</td>\n",
       "      <td>12697.0</td>\n",
       "      <td>9594.0</td>\n",
       "      <td>5430.0</td>\n",
       "      <td>1945.0</td>\n",
       "      <td>Autauga County</td>\n",
       "      <td>Alabama</td>\n",
       "    </tr>\n",
       "    <tr>\n",
       "      <th>1</th>\n",
       "      <td>01003</td>\n",
       "      <td>86587.0</td>\n",
       "      <td>37568.0</td>\n",
       "      <td>44133.0</td>\n",
       "      <td>46730.0</td>\n",
       "      <td>49675.0</td>\n",
       "      <td>52405.0</td>\n",
       "      <td>43252.0</td>\n",
       "      <td>23262.0</td>\n",
       "      <td>8854.0</td>\n",
       "      <td>Baldwin County</td>\n",
       "      <td>Alabama</td>\n",
       "    </tr>\n",
       "    <tr>\n",
       "      <th>2</th>\n",
       "      <td>01005</td>\n",
       "      <td>11057.0</td>\n",
       "      <td>6162.0</td>\n",
       "      <td>6603.0</td>\n",
       "      <td>5907.0</td>\n",
       "      <td>6490.0</td>\n",
       "      <td>6377.0</td>\n",
       "      <td>5255.0</td>\n",
       "      <td>2795.0</td>\n",
       "      <td>1074.0</td>\n",
       "      <td>Barbour County</td>\n",
       "      <td>Alabama</td>\n",
       "    </tr>\n",
       "    <tr>\n",
       "      <th>3</th>\n",
       "      <td>01007</td>\n",
       "      <td>9671.0</td>\n",
       "      <td>5241.0</td>\n",
       "      <td>5788.0</td>\n",
       "      <td>5472.0</td>\n",
       "      <td>6707.0</td>\n",
       "      <td>5563.0</td>\n",
       "      <td>4270.0</td>\n",
       "      <td>2555.0</td>\n",
       "      <td>638.0</td>\n",
       "      <td>Bibb County</td>\n",
       "      <td>Alabama</td>\n",
       "    </tr>\n",
       "    <tr>\n",
       "      <th>4</th>\n",
       "      <td>01009</td>\n",
       "      <td>25671.0</td>\n",
       "      <td>11360.0</td>\n",
       "      <td>12635.0</td>\n",
       "      <td>13570.0</td>\n",
       "      <td>14737.0</td>\n",
       "      <td>14123.0</td>\n",
       "      <td>12106.0</td>\n",
       "      <td>6560.0</td>\n",
       "      <td>2022.0</td>\n",
       "      <td>Blount County</td>\n",
       "      <td>Alabama</td>\n",
       "    </tr>\n",
       "  </tbody>\n",
       "</table>\n",
       "</div>"
      ],
      "text/plain": [
       "    FIPS     0-17    18-24    25-34    35-44    45-54    55-64    65-74  \\\n",
       "0  01001  25941.0  11422.0  12315.0  13828.0  14000.0  12697.0   9594.0   \n",
       "1  01003  86587.0  37568.0  44133.0  46730.0  49675.0  52405.0  43252.0   \n",
       "2  01005  11057.0   6162.0   6603.0   5907.0   6490.0   6377.0   5255.0   \n",
       "3  01007   9671.0   5241.0   5788.0   5472.0   6707.0   5563.0   4270.0   \n",
       "4  01009  25671.0  11360.0  12635.0  13570.0  14737.0  14123.0  12106.0   \n",
       "\n",
       "     75-84     85+             Name    State  \n",
       "0   5430.0  1945.0   Autauga County  Alabama  \n",
       "1  23262.0  8854.0   Baldwin County  Alabama  \n",
       "2   2795.0  1074.0   Barbour County  Alabama  \n",
       "3   2555.0   638.0      Bibb County  Alabama  \n",
       "4   6560.0  2022.0    Blount County  Alabama  "
      ]
     },
     "execution_count": 260,
     "metadata": {},
     "output_type": "execute_result"
    }
   ],
   "source": [
    "data['fips'] = fips_value_placeholder\n",
    "data = data.drop(' info', axis = 1)\n",
    "data['state'] = data['state'].str.lower().str.capitalize()\n",
    "data.rename(columns={'fips': 'FIPS'}, inplace=True)\n",
    "data.rename(columns={' name': 'Name'}, inplace=True)\n",
    "data.rename(columns={'state': 'State'}, inplace=True)\n",
    "data.head()"
   ]
  },
  {
   "cell_type": "markdown",
   "metadata": {
    "tags": [
     "exercise"
    ]
   },
   "source": [
    "__(b)__ For each county and state, compute the proportion of elderly `CPE` and `SPE` (65 and older) to the total population as well as the proportion of young people `CPY` and `SPY` (24 or younger). Add those values to the data frame. You may ignore all FIPS regions that are not in states. Run: \n",
    "```\n",
    "data.head(4)\n",
    "```"
   ]
  },
  {
   "cell_type": "code",
   "execution_count": 261,
   "metadata": {},
   "outputs": [
    {
     "data": {
      "text/plain": [
       "<bound method NDFrame.head of        FIPS     0-17    18-24    25-34    35-44    45-54    55-64    65-74  \\\n",
       "0     01001  25941.0  11422.0  12315.0  13828.0  14000.0  12697.0   9594.0   \n",
       "1     01003  86587.0  37568.0  44133.0  46730.0  49675.0  52405.0  43252.0   \n",
       "2     01005  11057.0   6162.0   6603.0   5907.0   6490.0   6377.0   5255.0   \n",
       "3     01007   9671.0   5241.0   5788.0   5472.0   6707.0   5563.0   4270.0   \n",
       "4     01009  25671.0  11360.0  12635.0  13570.0  14737.0  14123.0  12106.0   \n",
       "...     ...      ...      ...      ...      ...      ...      ...      ...   \n",
       "3281   1990  27016.0  14455.0  14882.0  14168.0  15026.0  14450.0  11928.0   \n",
       "3282  53000   4724.0   2727.0   2092.0   2356.0   2496.0   2972.0   2364.0   \n",
       "3283  54000  11353.0   6431.0   5521.0   5319.0   5788.0   6228.0   4631.0   \n",
       "3284  55000  16068.0   9025.0   8465.0   9199.0   9548.0   9805.0   7926.0   \n",
       "3285  56000  17375.0   8974.0   9422.0   9457.0  10028.0  10672.0   8571.0   \n",
       "\n",
       "        75-84     85+             Name    State  \n",
       "0      5430.0  1945.0   Autauga County  Alabama  \n",
       "1     23262.0  8854.0   Baldwin County  Alabama  \n",
       "2      2795.0  1074.0   Barbour County  Alabama  \n",
       "3      2555.0   638.0      Bibb County  Alabama  \n",
       "4      6560.0  2022.0    Blount County  Alabama  \n",
       "...       ...     ...              ...      ...  \n",
       "3281   6139.0  3159.0              NaN      NaN  \n",
       "3282   1498.0   479.0              NaN      NaN  \n",
       "3283   2218.0   859.0              NaN      NaN  \n",
       "3284   3784.0  2103.0              NaN      NaN  \n",
       "3285   4620.0  2346.0              NaN      NaN  \n",
       "\n",
       "[3286 rows x 12 columns]>"
      ]
     },
     "execution_count": 261,
     "metadata": {},
     "output_type": "execute_result"
    }
   ],
   "source": [
    "data.iloc[:, 1:10] = data.iloc[:, 1:10].apply(pd.to_numeric, errors='coerce')\n",
    "data.head"
   ]
  },
  {
   "cell_type": "code",
   "execution_count": 262,
   "metadata": {},
   "outputs": [
    {
     "data": {
      "text/html": [
       "<div>\n",
       "<style scoped>\n",
       "    .dataframe tbody tr th:only-of-type {\n",
       "        vertical-align: middle;\n",
       "    }\n",
       "\n",
       "    .dataframe tbody tr th {\n",
       "        vertical-align: top;\n",
       "    }\n",
       "\n",
       "    .dataframe thead th {\n",
       "        text-align: right;\n",
       "    }\n",
       "</style>\n",
       "<table border=\"1\" class=\"dataframe\">\n",
       "  <thead>\n",
       "    <tr style=\"text-align: right;\">\n",
       "      <th></th>\n",
       "      <th>FIPS</th>\n",
       "      <th>0-17</th>\n",
       "      <th>18-24</th>\n",
       "      <th>25-34</th>\n",
       "      <th>35-44</th>\n",
       "      <th>45-54</th>\n",
       "      <th>55-64</th>\n",
       "      <th>65-74</th>\n",
       "      <th>75-84</th>\n",
       "      <th>85+</th>\n",
       "      <th>Name</th>\n",
       "      <th>State</th>\n",
       "      <th>CPY</th>\n",
       "      <th>CPE</th>\n",
       "    </tr>\n",
       "  </thead>\n",
       "  <tbody>\n",
       "    <tr>\n",
       "      <th>0</th>\n",
       "      <td>01001</td>\n",
       "      <td>25941.0</td>\n",
       "      <td>11422.0</td>\n",
       "      <td>12315.0</td>\n",
       "      <td>13828.0</td>\n",
       "      <td>14000.0</td>\n",
       "      <td>12697.0</td>\n",
       "      <td>9594.0</td>\n",
       "      <td>5430.0</td>\n",
       "      <td>1945.0</td>\n",
       "      <td>Autauga County</td>\n",
       "      <td>Alabama</td>\n",
       "      <td>0.723193</td>\n",
       "      <td>0.276807</td>\n",
       "    </tr>\n",
       "    <tr>\n",
       "      <th>1</th>\n",
       "      <td>01003</td>\n",
       "      <td>86587.0</td>\n",
       "      <td>37568.0</td>\n",
       "      <td>44133.0</td>\n",
       "      <td>46730.0</td>\n",
       "      <td>49675.0</td>\n",
       "      <td>52405.0</td>\n",
       "      <td>43252.0</td>\n",
       "      <td>23262.0</td>\n",
       "      <td>8854.0</td>\n",
       "      <td>Baldwin County</td>\n",
       "      <td>Alabama</td>\n",
       "      <td>0.674435</td>\n",
       "      <td>0.325565</td>\n",
       "    </tr>\n",
       "    <tr>\n",
       "      <th>2</th>\n",
       "      <td>01005</td>\n",
       "      <td>11057.0</td>\n",
       "      <td>6162.0</td>\n",
       "      <td>6603.0</td>\n",
       "      <td>5907.0</td>\n",
       "      <td>6490.0</td>\n",
       "      <td>6377.0</td>\n",
       "      <td>5255.0</td>\n",
       "      <td>2795.0</td>\n",
       "      <td>1074.0</td>\n",
       "      <td>Barbour County</td>\n",
       "      <td>Alabama</td>\n",
       "      <td>0.700290</td>\n",
       "      <td>0.299710</td>\n",
       "    </tr>\n",
       "    <tr>\n",
       "      <th>3</th>\n",
       "      <td>01007</td>\n",
       "      <td>9671.0</td>\n",
       "      <td>5241.0</td>\n",
       "      <td>5788.0</td>\n",
       "      <td>5472.0</td>\n",
       "      <td>6707.0</td>\n",
       "      <td>5563.0</td>\n",
       "      <td>4270.0</td>\n",
       "      <td>2555.0</td>\n",
       "      <td>638.0</td>\n",
       "      <td>Bibb County</td>\n",
       "      <td>Alabama</td>\n",
       "      <td>0.716240</td>\n",
       "      <td>0.283760</td>\n",
       "    </tr>\n",
       "    <tr>\n",
       "      <th>4</th>\n",
       "      <td>01009</td>\n",
       "      <td>25671.0</td>\n",
       "      <td>11360.0</td>\n",
       "      <td>12635.0</td>\n",
       "      <td>13570.0</td>\n",
       "      <td>14737.0</td>\n",
       "      <td>14123.0</td>\n",
       "      <td>12106.0</td>\n",
       "      <td>6560.0</td>\n",
       "      <td>2022.0</td>\n",
       "      <td>Blount County</td>\n",
       "      <td>Alabama</td>\n",
       "      <td>0.691348</td>\n",
       "      <td>0.308652</td>\n",
       "    </tr>\n",
       "  </tbody>\n",
       "</table>\n",
       "</div>"
      ],
      "text/plain": [
       "    FIPS     0-17    18-24    25-34    35-44    45-54    55-64    65-74  \\\n",
       "0  01001  25941.0  11422.0  12315.0  13828.0  14000.0  12697.0   9594.0   \n",
       "1  01003  86587.0  37568.0  44133.0  46730.0  49675.0  52405.0  43252.0   \n",
       "2  01005  11057.0   6162.0   6603.0   5907.0   6490.0   6377.0   5255.0   \n",
       "3  01007   9671.0   5241.0   5788.0   5472.0   6707.0   5563.0   4270.0   \n",
       "4  01009  25671.0  11360.0  12635.0  13570.0  14737.0  14123.0  12106.0   \n",
       "\n",
       "     75-84     85+             Name    State       CPY       CPE  \n",
       "0   5430.0  1945.0   Autauga County  Alabama  0.723193  0.276807  \n",
       "1  23262.0  8854.0   Baldwin County  Alabama  0.674435  0.325565  \n",
       "2   2795.0  1074.0   Barbour County  Alabama  0.700290  0.299710  \n",
       "3   2555.0   638.0      Bibb County  Alabama  0.716240  0.283760  \n",
       "4   6560.0  2022.0    Blount County  Alabama  0.691348  0.308652  "
      ]
     },
     "execution_count": 262,
     "metadata": {},
     "output_type": "execute_result"
    }
   ],
   "source": [
    "data['CPY'] = (data.iloc[:, 1:6].sum(axis = 1)) / (data.iloc[:,1:10].sum(axis = 1))\n",
    "data['CPE'] = (data.iloc[:, 6:10].sum(axis = 1)) / (data.iloc[:,1:10].sum(axis = 1))\n",
    "data.head()"
   ]
  },
  {
   "cell_type": "code",
   "execution_count": 263,
   "metadata": {},
   "outputs": [],
   "source": [
    "pop_by_state = data.groupby('State')[['0-17', '18-24', '25-34', '35-44', '45-54', '55-64', '65-74', '75-84', '85+']].sum()\n",
    "pop_by_state['Total Pop'] = pop_by_state.iloc[:,:].sum(axis=1)\n",
    "pop_by_state = pop_by_state.drop(pop_by_state.columns[:9], axis=1)"
   ]
  },
  {
   "cell_type": "code",
   "execution_count": 264,
   "metadata": {},
   "outputs": [
    {
     "data": {
      "text/html": [
       "<div>\n",
       "<style scoped>\n",
       "    .dataframe tbody tr th:only-of-type {\n",
       "        vertical-align: middle;\n",
       "    }\n",
       "\n",
       "    .dataframe tbody tr th {\n",
       "        vertical-align: top;\n",
       "    }\n",
       "\n",
       "    .dataframe thead th {\n",
       "        text-align: right;\n",
       "    }\n",
       "</style>\n",
       "<table border=\"1\" class=\"dataframe\">\n",
       "  <thead>\n",
       "    <tr style=\"text-align: right;\">\n",
       "      <th></th>\n",
       "      <th>Total Pop</th>\n",
       "    </tr>\n",
       "    <tr>\n",
       "      <th>State</th>\n",
       "      <th></th>\n",
       "    </tr>\n",
       "  </thead>\n",
       "  <tbody>\n",
       "    <tr>\n",
       "      <th>Alabama</th>\n",
       "      <td>9670608.0</td>\n",
       "    </tr>\n",
       "    <tr>\n",
       "      <th>Alaska</th>\n",
       "      <td>1383156.0</td>\n",
       "    </tr>\n",
       "    <tr>\n",
       "      <th>Arizona</th>\n",
       "      <td>13149489.0</td>\n",
       "    </tr>\n",
       "    <tr>\n",
       "      <th>Arkansas</th>\n",
       "      <td>5947364.0</td>\n",
       "    </tr>\n",
       "    <tr>\n",
       "      <th>California</th>\n",
       "      <td>74746038.0</td>\n",
       "    </tr>\n",
       "    <tr>\n",
       "      <th>Colorado</th>\n",
       "      <td>10366853.0</td>\n",
       "    </tr>\n",
       "    <tr>\n",
       "      <th>Connecticut</th>\n",
       "      <td>7212616.0</td>\n",
       "    </tr>\n",
       "    <tr>\n",
       "      <th>Delaware</th>\n",
       "      <td>1782091.0</td>\n",
       "    </tr>\n",
       "    <tr>\n",
       "      <th>District of columbia</th>\n",
       "      <td>1312611.0</td>\n",
       "    </tr>\n",
       "    <tr>\n",
       "      <th>Florida</th>\n",
       "      <td>39432216.0</td>\n",
       "    </tr>\n",
       "    <tr>\n",
       "      <th>Georgia</th>\n",
       "      <td>19729216.0</td>\n",
       "    </tr>\n",
       "    <tr>\n",
       "      <th>Hawaii</th>\n",
       "      <td>2678974.0</td>\n",
       "    </tr>\n",
       "    <tr>\n",
       "      <th>Idaho</th>\n",
       "      <td>3113537.0</td>\n",
       "    </tr>\n",
       "    <tr>\n",
       "      <th>Illinois</th>\n",
       "      <td>25354026.0</td>\n",
       "    </tr>\n",
       "    <tr>\n",
       "      <th>Indiana</th>\n",
       "      <td>12982214.0</td>\n",
       "    </tr>\n",
       "    <tr>\n",
       "      <th>Iowa</th>\n",
       "      <td>5921751.0</td>\n",
       "    </tr>\n",
       "    <tr>\n",
       "      <th>Kansas</th>\n",
       "      <td>5658103.0</td>\n",
       "    </tr>\n",
       "    <tr>\n",
       "      <th>Kentucky</th>\n",
       "      <td>8757532.0</td>\n",
       "    </tr>\n",
       "    <tr>\n",
       "      <th>Louisiana</th>\n",
       "      <td>9597495.0</td>\n",
       "    </tr>\n",
       "    <tr>\n",
       "      <th>Maine</th>\n",
       "      <td>2600418.0</td>\n",
       "    </tr>\n",
       "    <tr>\n",
       "      <th>Maryland</th>\n",
       "      <td>11601841.0</td>\n",
       "    </tr>\n",
       "    <tr>\n",
       "      <th>Massachusetts</th>\n",
       "      <td>13685494.0</td>\n",
       "    </tr>\n",
       "    <tr>\n",
       "      <th>Michigan</th>\n",
       "      <td>19257846.0</td>\n",
       "    </tr>\n",
       "    <tr>\n",
       "      <th>Minnesota</th>\n",
       "      <td>9942928.0</td>\n",
       "    </tr>\n",
       "    <tr>\n",
       "      <th>Mississippi</th>\n",
       "      <td>6177970.0</td>\n",
       "    </tr>\n",
       "    <tr>\n",
       "      <th>Missouri</th>\n",
       "      <td>11958891.0</td>\n",
       "    </tr>\n",
       "    <tr>\n",
       "      <th>Montana</th>\n",
       "      <td>2006991.0</td>\n",
       "    </tr>\n",
       "    <tr>\n",
       "      <th>Nebraska</th>\n",
       "      <td>3611268.0</td>\n",
       "    </tr>\n",
       "    <tr>\n",
       "      <th>Nevada</th>\n",
       "      <td>5626036.0</td>\n",
       "    </tr>\n",
       "    <tr>\n",
       "      <th>New hampshire</th>\n",
       "      <td>2590979.0</td>\n",
       "    </tr>\n",
       "    <tr>\n",
       "      <th>New jersey</th>\n",
       "      <td>17802603.0</td>\n",
       "    </tr>\n",
       "    <tr>\n",
       "      <th>New mexico</th>\n",
       "      <td>4187275.0</td>\n",
       "    </tr>\n",
       "    <tr>\n",
       "      <th>New york</th>\n",
       "      <td>40095320.0</td>\n",
       "    </tr>\n",
       "    <tr>\n",
       "      <th>North carolina</th>\n",
       "      <td>19389348.0</td>\n",
       "    </tr>\n",
       "    <tr>\n",
       "      <th>North dakota</th>\n",
       "      <td>1350668.0</td>\n",
       "    </tr>\n",
       "    <tr>\n",
       "      <th>Ohio</th>\n",
       "      <td>23225879.0</td>\n",
       "    </tr>\n",
       "    <tr>\n",
       "      <th>Oklahoma</th>\n",
       "      <td>7155000.0</td>\n",
       "    </tr>\n",
       "    <tr>\n",
       "      <th>Oregon</th>\n",
       "      <td>7876967.0</td>\n",
       "    </tr>\n",
       "    <tr>\n",
       "      <th>Pennsylvania</th>\n",
       "      <td>24744520.0</td>\n",
       "    </tr>\n",
       "    <tr>\n",
       "      <th>Rhode island</th>\n",
       "      <td>2182415.0</td>\n",
       "    </tr>\n",
       "    <tr>\n",
       "      <th>South carolina</th>\n",
       "      <td>9528410.0</td>\n",
       "    </tr>\n",
       "    <tr>\n",
       "      <th>South dakota</th>\n",
       "      <td>1582886.0</td>\n",
       "    </tr>\n",
       "    <tr>\n",
       "      <th>Tennessee</th>\n",
       "      <td>12857371.0</td>\n",
       "    </tr>\n",
       "    <tr>\n",
       "      <th>Texas</th>\n",
       "      <td>53200892.0</td>\n",
       "    </tr>\n",
       "    <tr>\n",
       "      <th>Utah</th>\n",
       "      <td>5429984.0</td>\n",
       "    </tr>\n",
       "    <tr>\n",
       "      <th>Vermont</th>\n",
       "      <td>1169004.0</td>\n",
       "    </tr>\n",
       "    <tr>\n",
       "      <th>Virginia</th>\n",
       "      <td>16112775.0</td>\n",
       "    </tr>\n",
       "    <tr>\n",
       "      <th>Washington</th>\n",
       "      <td>14044143.0</td>\n",
       "    </tr>\n",
       "    <tr>\n",
       "      <th>West virginia</th>\n",
       "      <td>3842001.0</td>\n",
       "    </tr>\n",
       "    <tr>\n",
       "      <th>Wisconsin</th>\n",
       "      <td>10684137.0</td>\n",
       "    </tr>\n",
       "    <tr>\n",
       "      <th>Wyoming</th>\n",
       "      <td>1158930.0</td>\n",
       "    </tr>\n",
       "  </tbody>\n",
       "</table>\n",
       "</div>"
      ],
      "text/plain": [
       "                       Total Pop\n",
       "State                           \n",
       "Alabama                9670608.0\n",
       "Alaska                 1383156.0\n",
       "Arizona               13149489.0\n",
       "Arkansas               5947364.0\n",
       "California            74746038.0\n",
       "Colorado              10366853.0\n",
       "Connecticut            7212616.0\n",
       "Delaware               1782091.0\n",
       "District of columbia   1312611.0\n",
       "Florida               39432216.0\n",
       "Georgia               19729216.0\n",
       "Hawaii                 2678974.0\n",
       "Idaho                  3113537.0\n",
       "Illinois              25354026.0\n",
       "Indiana               12982214.0\n",
       "Iowa                   5921751.0\n",
       "Kansas                 5658103.0\n",
       "Kentucky               8757532.0\n",
       "Louisiana              9597495.0\n",
       "Maine                  2600418.0\n",
       "Maryland              11601841.0\n",
       "Massachusetts         13685494.0\n",
       "Michigan              19257846.0\n",
       "Minnesota              9942928.0\n",
       "Mississippi            6177970.0\n",
       "Missouri              11958891.0\n",
       "Montana                2006991.0\n",
       "Nebraska               3611268.0\n",
       "Nevada                 5626036.0\n",
       "New hampshire          2590979.0\n",
       "New jersey            17802603.0\n",
       "New mexico             4187275.0\n",
       "New york              40095320.0\n",
       "North carolina        19389348.0\n",
       "North dakota           1350668.0\n",
       "Ohio                  23225879.0\n",
       "Oklahoma               7155000.0\n",
       "Oregon                 7876967.0\n",
       "Pennsylvania          24744520.0\n",
       "Rhode island           2182415.0\n",
       "South carolina         9528410.0\n",
       "South dakota           1582886.0\n",
       "Tennessee             12857371.0\n",
       "Texas                 53200892.0\n",
       "Utah                   5429984.0\n",
       "Vermont                1169004.0\n",
       "Virginia              16112775.0\n",
       "Washington            14044143.0\n",
       "West virginia          3842001.0\n",
       "Wisconsin             10684137.0\n",
       "Wyoming                1158930.0"
      ]
     },
     "execution_count": 264,
     "metadata": {},
     "output_type": "execute_result"
    }
   ],
   "source": [
    "pop_by_state"
   ]
  },
  {
   "cell_type": "code",
   "execution_count": 265,
   "metadata": {},
   "outputs": [
    {
     "data": {
      "text/html": [
       "<div>\n",
       "<style scoped>\n",
       "    .dataframe tbody tr th:only-of-type {\n",
       "        vertical-align: middle;\n",
       "    }\n",
       "\n",
       "    .dataframe tbody tr th {\n",
       "        vertical-align: top;\n",
       "    }\n",
       "\n",
       "    .dataframe thead th {\n",
       "        text-align: right;\n",
       "    }\n",
       "</style>\n",
       "<table border=\"1\" class=\"dataframe\">\n",
       "  <thead>\n",
       "    <tr style=\"text-align: right;\">\n",
       "      <th></th>\n",
       "      <th>FIPS</th>\n",
       "      <th>0-17</th>\n",
       "      <th>18-24</th>\n",
       "      <th>25-34</th>\n",
       "      <th>35-44</th>\n",
       "      <th>45-54</th>\n",
       "      <th>55-64</th>\n",
       "      <th>65-74</th>\n",
       "      <th>75-84</th>\n",
       "      <th>85+</th>\n",
       "      <th>Name</th>\n",
       "      <th>State</th>\n",
       "      <th>CPY</th>\n",
       "      <th>CPE</th>\n",
       "      <th>Total Pop</th>\n",
       "    </tr>\n",
       "  </thead>\n",
       "  <tbody>\n",
       "    <tr>\n",
       "      <th>0</th>\n",
       "      <td>01001</td>\n",
       "      <td>25941.0</td>\n",
       "      <td>11422.0</td>\n",
       "      <td>12315.0</td>\n",
       "      <td>13828.0</td>\n",
       "      <td>14000.0</td>\n",
       "      <td>12697.0</td>\n",
       "      <td>9594.0</td>\n",
       "      <td>5430.0</td>\n",
       "      <td>1945.0</td>\n",
       "      <td>Autauga County</td>\n",
       "      <td>Alabama</td>\n",
       "      <td>0.723193</td>\n",
       "      <td>0.276807</td>\n",
       "      <td>9670608.0</td>\n",
       "    </tr>\n",
       "    <tr>\n",
       "      <th>1</th>\n",
       "      <td>01003</td>\n",
       "      <td>86587.0</td>\n",
       "      <td>37568.0</td>\n",
       "      <td>44133.0</td>\n",
       "      <td>46730.0</td>\n",
       "      <td>49675.0</td>\n",
       "      <td>52405.0</td>\n",
       "      <td>43252.0</td>\n",
       "      <td>23262.0</td>\n",
       "      <td>8854.0</td>\n",
       "      <td>Baldwin County</td>\n",
       "      <td>Alabama</td>\n",
       "      <td>0.674435</td>\n",
       "      <td>0.325565</td>\n",
       "      <td>9670608.0</td>\n",
       "    </tr>\n",
       "    <tr>\n",
       "      <th>2</th>\n",
       "      <td>01005</td>\n",
       "      <td>11057.0</td>\n",
       "      <td>6162.0</td>\n",
       "      <td>6603.0</td>\n",
       "      <td>5907.0</td>\n",
       "      <td>6490.0</td>\n",
       "      <td>6377.0</td>\n",
       "      <td>5255.0</td>\n",
       "      <td>2795.0</td>\n",
       "      <td>1074.0</td>\n",
       "      <td>Barbour County</td>\n",
       "      <td>Alabama</td>\n",
       "      <td>0.700290</td>\n",
       "      <td>0.299710</td>\n",
       "      <td>9670608.0</td>\n",
       "    </tr>\n",
       "    <tr>\n",
       "      <th>3</th>\n",
       "      <td>01007</td>\n",
       "      <td>9671.0</td>\n",
       "      <td>5241.0</td>\n",
       "      <td>5788.0</td>\n",
       "      <td>5472.0</td>\n",
       "      <td>6707.0</td>\n",
       "      <td>5563.0</td>\n",
       "      <td>4270.0</td>\n",
       "      <td>2555.0</td>\n",
       "      <td>638.0</td>\n",
       "      <td>Bibb County</td>\n",
       "      <td>Alabama</td>\n",
       "      <td>0.716240</td>\n",
       "      <td>0.283760</td>\n",
       "      <td>9670608.0</td>\n",
       "    </tr>\n",
       "    <tr>\n",
       "      <th>4</th>\n",
       "      <td>01009</td>\n",
       "      <td>25671.0</td>\n",
       "      <td>11360.0</td>\n",
       "      <td>12635.0</td>\n",
       "      <td>13570.0</td>\n",
       "      <td>14737.0</td>\n",
       "      <td>14123.0</td>\n",
       "      <td>12106.0</td>\n",
       "      <td>6560.0</td>\n",
       "      <td>2022.0</td>\n",
       "      <td>Blount County</td>\n",
       "      <td>Alabama</td>\n",
       "      <td>0.691348</td>\n",
       "      <td>0.308652</td>\n",
       "      <td>9670608.0</td>\n",
       "    </tr>\n",
       "  </tbody>\n",
       "</table>\n",
       "</div>"
      ],
      "text/plain": [
       "    FIPS     0-17    18-24    25-34    35-44    45-54    55-64    65-74  \\\n",
       "0  01001  25941.0  11422.0  12315.0  13828.0  14000.0  12697.0   9594.0   \n",
       "1  01003  86587.0  37568.0  44133.0  46730.0  49675.0  52405.0  43252.0   \n",
       "2  01005  11057.0   6162.0   6603.0   5907.0   6490.0   6377.0   5255.0   \n",
       "3  01007   9671.0   5241.0   5788.0   5472.0   6707.0   5563.0   4270.0   \n",
       "4  01009  25671.0  11360.0  12635.0  13570.0  14737.0  14123.0  12106.0   \n",
       "\n",
       "     75-84     85+             Name    State       CPY       CPE  Total Pop  \n",
       "0   5430.0  1945.0   Autauga County  Alabama  0.723193  0.276807  9670608.0  \n",
       "1  23262.0  8854.0   Baldwin County  Alabama  0.674435  0.325565  9670608.0  \n",
       "2   2795.0  1074.0   Barbour County  Alabama  0.700290  0.299710  9670608.0  \n",
       "3   2555.0   638.0      Bibb County  Alabama  0.716240  0.283760  9670608.0  \n",
       "4   6560.0  2022.0    Blount County  Alabama  0.691348  0.308652  9670608.0  "
      ]
     },
     "execution_count": 265,
     "metadata": {},
     "output_type": "execute_result"
    }
   ],
   "source": [
    "data = data.merge(pop_by_state, on='State', how='left' )\n",
    "data.head()"
   ]
  },
  {
   "cell_type": "code",
   "execution_count": 266,
   "metadata": {},
   "outputs": [
    {
     "data": {
      "text/html": [
       "<div>\n",
       "<style scoped>\n",
       "    .dataframe tbody tr th:only-of-type {\n",
       "        vertical-align: middle;\n",
       "    }\n",
       "\n",
       "    .dataframe tbody tr th {\n",
       "        vertical-align: top;\n",
       "    }\n",
       "\n",
       "    .dataframe thead th {\n",
       "        text-align: right;\n",
       "    }\n",
       "</style>\n",
       "<table border=\"1\" class=\"dataframe\">\n",
       "  <thead>\n",
       "    <tr style=\"text-align: right;\">\n",
       "      <th></th>\n",
       "      <th>FIPS</th>\n",
       "      <th>0-17</th>\n",
       "      <th>18-24</th>\n",
       "      <th>25-34</th>\n",
       "      <th>35-44</th>\n",
       "      <th>45-54</th>\n",
       "      <th>55-64</th>\n",
       "      <th>65-74</th>\n",
       "      <th>75-84</th>\n",
       "      <th>85+</th>\n",
       "      <th>Name</th>\n",
       "      <th>State</th>\n",
       "      <th>CPY</th>\n",
       "      <th>CPE</th>\n",
       "      <th>Total Pop</th>\n",
       "      <th>SPY</th>\n",
       "      <th>SPE</th>\n",
       "    </tr>\n",
       "  </thead>\n",
       "  <tbody>\n",
       "    <tr>\n",
       "      <th>0</th>\n",
       "      <td>01001</td>\n",
       "      <td>25941.0</td>\n",
       "      <td>11422.0</td>\n",
       "      <td>12315.0</td>\n",
       "      <td>13828.0</td>\n",
       "      <td>14000.0</td>\n",
       "      <td>12697.0</td>\n",
       "      <td>9594.0</td>\n",
       "      <td>5430.0</td>\n",
       "      <td>1945.0</td>\n",
       "      <td>Autauga County</td>\n",
       "      <td>Alabama</td>\n",
       "      <td>0.723193</td>\n",
       "      <td>0.276807</td>\n",
       "      <td>9670608.0</td>\n",
       "      <td>0.008015</td>\n",
       "      <td>3.701497e+06</td>\n",
       "    </tr>\n",
       "    <tr>\n",
       "      <th>1</th>\n",
       "      <td>01003</td>\n",
       "      <td>86587.0</td>\n",
       "      <td>37568.0</td>\n",
       "      <td>44133.0</td>\n",
       "      <td>46730.0</td>\n",
       "      <td>49675.0</td>\n",
       "      <td>52405.0</td>\n",
       "      <td>43252.0</td>\n",
       "      <td>23262.0</td>\n",
       "      <td>8854.0</td>\n",
       "      <td>Baldwin County</td>\n",
       "      <td>Alabama</td>\n",
       "      <td>0.674435</td>\n",
       "      <td>0.325565</td>\n",
       "      <td>9670608.0</td>\n",
       "      <td>0.027371</td>\n",
       "      <td>4.668210e+06</td>\n",
       "    </tr>\n",
       "    <tr>\n",
       "      <th>2</th>\n",
       "      <td>01005</td>\n",
       "      <td>11057.0</td>\n",
       "      <td>6162.0</td>\n",
       "      <td>6603.0</td>\n",
       "      <td>5907.0</td>\n",
       "      <td>6490.0</td>\n",
       "      <td>6377.0</td>\n",
       "      <td>5255.0</td>\n",
       "      <td>2795.0</td>\n",
       "      <td>1074.0</td>\n",
       "      <td>Barbour County</td>\n",
       "      <td>Alabama</td>\n",
       "      <td>0.700290</td>\n",
       "      <td>0.299710</td>\n",
       "      <td>9670608.0</td>\n",
       "      <td>0.003745</td>\n",
       "      <td>4.138825e+06</td>\n",
       "    </tr>\n",
       "    <tr>\n",
       "      <th>3</th>\n",
       "      <td>01007</td>\n",
       "      <td>9671.0</td>\n",
       "      <td>5241.0</td>\n",
       "      <td>5788.0</td>\n",
       "      <td>5472.0</td>\n",
       "      <td>6707.0</td>\n",
       "      <td>5563.0</td>\n",
       "      <td>4270.0</td>\n",
       "      <td>2555.0</td>\n",
       "      <td>638.0</td>\n",
       "      <td>Bibb County</td>\n",
       "      <td>Alabama</td>\n",
       "      <td>0.716240</td>\n",
       "      <td>0.283760</td>\n",
       "      <td>9670608.0</td>\n",
       "      <td>0.003400</td>\n",
       "      <td>3.831301e+06</td>\n",
       "    </tr>\n",
       "    <tr>\n",
       "      <th>4</th>\n",
       "      <td>01009</td>\n",
       "      <td>25671.0</td>\n",
       "      <td>11360.0</td>\n",
       "      <td>12635.0</td>\n",
       "      <td>13570.0</td>\n",
       "      <td>14737.0</td>\n",
       "      <td>14123.0</td>\n",
       "      <td>12106.0</td>\n",
       "      <td>6560.0</td>\n",
       "      <td>2022.0</td>\n",
       "      <td>Blount County</td>\n",
       "      <td>Alabama</td>\n",
       "      <td>0.691348</td>\n",
       "      <td>0.308652</td>\n",
       "      <td>9670608.0</td>\n",
       "      <td>0.008063</td>\n",
       "      <td>4.317437e+06</td>\n",
       "    </tr>\n",
       "  </tbody>\n",
       "</table>\n",
       "</div>"
      ],
      "text/plain": [
       "    FIPS     0-17    18-24    25-34    35-44    45-54    55-64    65-74  \\\n",
       "0  01001  25941.0  11422.0  12315.0  13828.0  14000.0  12697.0   9594.0   \n",
       "1  01003  86587.0  37568.0  44133.0  46730.0  49675.0  52405.0  43252.0   \n",
       "2  01005  11057.0   6162.0   6603.0   5907.0   6490.0   6377.0   5255.0   \n",
       "3  01007   9671.0   5241.0   5788.0   5472.0   6707.0   5563.0   4270.0   \n",
       "4  01009  25671.0  11360.0  12635.0  13570.0  14737.0  14123.0  12106.0   \n",
       "\n",
       "     75-84     85+             Name    State       CPY       CPE  Total Pop  \\\n",
       "0   5430.0  1945.0   Autauga County  Alabama  0.723193  0.276807  9670608.0   \n",
       "1  23262.0  8854.0   Baldwin County  Alabama  0.674435  0.325565  9670608.0   \n",
       "2   2795.0  1074.0   Barbour County  Alabama  0.700290  0.299710  9670608.0   \n",
       "3   2555.0   638.0      Bibb County  Alabama  0.716240  0.283760  9670608.0   \n",
       "4   6560.0  2022.0    Blount County  Alabama  0.691348  0.308652  9670608.0   \n",
       "\n",
       "        SPY           SPE  \n",
       "0  0.008015  3.701497e+06  \n",
       "1  0.027371  4.668210e+06  \n",
       "2  0.003745  4.138825e+06  \n",
       "3  0.003400  3.831301e+06  \n",
       "4  0.008063  4.317437e+06  "
      ]
     },
     "execution_count": 266,
     "metadata": {},
     "output_type": "execute_result"
    }
   ],
   "source": [
    "data['SPY'] = (data.iloc[:,1:6].sum(axis=1)) / (data.iloc[:,-1])\n",
    "data['SPE'] = (data.iloc[:,6:10].sum(axis=1)) / (data.iloc[:,-1])\n",
    "data.head()"
   ]
  },
  {
   "cell_type": "code",
   "execution_count": 267,
   "metadata": {},
   "outputs": [],
   "source": [
    "data = data.drop('Total Pop', axis = 1)"
   ]
  },
  {
   "cell_type": "code",
   "execution_count": 276,
   "metadata": {
    "tags": [
     "test"
    ]
   },
   "outputs": [
    {
     "data": {
      "text/html": [
       "<div>\n",
       "<style scoped>\n",
       "    .dataframe tbody tr th:only-of-type {\n",
       "        vertical-align: middle;\n",
       "    }\n",
       "\n",
       "    .dataframe tbody tr th {\n",
       "        vertical-align: top;\n",
       "    }\n",
       "\n",
       "    .dataframe thead th {\n",
       "        text-align: right;\n",
       "    }\n",
       "</style>\n",
       "<table border=\"1\" class=\"dataframe\">\n",
       "  <thead>\n",
       "    <tr style=\"text-align: right;\">\n",
       "      <th></th>\n",
       "      <th>FIPS</th>\n",
       "      <th>0-17</th>\n",
       "      <th>18-24</th>\n",
       "      <th>25-34</th>\n",
       "      <th>35-44</th>\n",
       "      <th>45-54</th>\n",
       "      <th>55-64</th>\n",
       "      <th>65-74</th>\n",
       "      <th>75-84</th>\n",
       "      <th>85+</th>\n",
       "      <th>Name</th>\n",
       "      <th>State</th>\n",
       "      <th>CPY</th>\n",
       "      <th>CPE</th>\n",
       "      <th>SPY</th>\n",
       "      <th>SPE</th>\n",
       "    </tr>\n",
       "  </thead>\n",
       "  <tbody>\n",
       "    <tr>\n",
       "      <th>1027</th>\n",
       "      <td>21069</td>\n",
       "      <td>59756.0</td>\n",
       "      <td>23101.0</td>\n",
       "      <td>28431.0</td>\n",
       "      <td>30991.0</td>\n",
       "      <td>30735.0</td>\n",
       "      <td>27651.0</td>\n",
       "      <td>18464.0</td>\n",
       "      <td>8927.0</td>\n",
       "      <td>3291.0</td>\n",
       "      <td>Boone County</td>\n",
       "      <td>Kentucky</td>\n",
       "      <td>0.747855</td>\n",
       "      <td>0.252145</td>\n",
       "      <td>0.019756</td>\n",
       "      <td>2.952669e+06</td>\n",
       "    </tr>\n",
       "    <tr>\n",
       "      <th>1028</th>\n",
       "      <td>21071</td>\n",
       "      <td>8817.0</td>\n",
       "      <td>4008.0</td>\n",
       "      <td>4419.0</td>\n",
       "      <td>4414.0</td>\n",
       "      <td>5382.0</td>\n",
       "      <td>5203.0</td>\n",
       "      <td>4145.0</td>\n",
       "      <td>2505.0</td>\n",
       "      <td>928.0</td>\n",
       "      <td>Bourbon County</td>\n",
       "      <td>Kentucky</td>\n",
       "      <td>0.679039</td>\n",
       "      <td>0.320961</td>\n",
       "      <td>0.003088</td>\n",
       "      <td>4.139424e+06</td>\n",
       "    </tr>\n",
       "    <tr>\n",
       "      <th>1029</th>\n",
       "      <td>21073</td>\n",
       "      <td>20700.0</td>\n",
       "      <td>9781.0</td>\n",
       "      <td>11381.0</td>\n",
       "      <td>11861.0</td>\n",
       "      <td>12383.0</td>\n",
       "      <td>13059.0</td>\n",
       "      <td>9861.0</td>\n",
       "      <td>5498.0</td>\n",
       "      <td>2987.0</td>\n",
       "      <td>Boyd County</td>\n",
       "      <td>Kentucky</td>\n",
       "      <td>0.677934</td>\n",
       "      <td>0.322066</td>\n",
       "      <td>0.007548</td>\n",
       "      <td>4.160444e+06</td>\n",
       "    </tr>\n",
       "    <tr>\n",
       "      <th>1030</th>\n",
       "      <td>21075</td>\n",
       "      <td>11693.0</td>\n",
       "      <td>8112.0</td>\n",
       "      <td>5945.0</td>\n",
       "      <td>6435.0</td>\n",
       "      <td>7132.0</td>\n",
       "      <td>7345.0</td>\n",
       "      <td>5766.0</td>\n",
       "      <td>3434.0</td>\n",
       "      <td>1599.0</td>\n",
       "      <td>Boyle County</td>\n",
       "      <td>Kentucky</td>\n",
       "      <td>0.684238</td>\n",
       "      <td>0.315762</td>\n",
       "      <td>0.004490</td>\n",
       "      <td>4.041424e+06</td>\n",
       "    </tr>\n",
       "  </tbody>\n",
       "</table>\n",
       "</div>"
      ],
      "text/plain": [
       "       FIPS     0-17    18-24    25-34    35-44    45-54    55-64    65-74  \\\n",
       "1027  21069  59756.0  23101.0  28431.0  30991.0  30735.0  27651.0  18464.0   \n",
       "1028  21071   8817.0   4008.0   4419.0   4414.0   5382.0   5203.0   4145.0   \n",
       "1029  21073  20700.0   9781.0  11381.0  11861.0  12383.0  13059.0   9861.0   \n",
       "1030  21075  11693.0   8112.0   5945.0   6435.0   7132.0   7345.0   5766.0   \n",
       "\n",
       "       75-84     85+             Name     State       CPY       CPE       SPY  \\\n",
       "1027  8927.0  3291.0     Boone County  Kentucky  0.747855  0.252145  0.019756   \n",
       "1028  2505.0   928.0   Bourbon County  Kentucky  0.679039  0.320961  0.003088   \n",
       "1029  5498.0  2987.0      Boyd County  Kentucky  0.677934  0.322066  0.007548   \n",
       "1030  3434.0  1599.0     Boyle County  Kentucky  0.684238  0.315762  0.004490   \n",
       "\n",
       "               SPE  \n",
       "1027  2.952669e+06  \n",
       "1028  4.139424e+06  \n",
       "1029  4.160444e+06  \n",
       "1030  4.041424e+06  "
      ]
     },
     "execution_count": 276,
     "metadata": {},
     "output_type": "execute_result"
    }
   ],
   "source": [
    "data.iloc[1027:1031,:] #different from the sample because i believe the sample did not account for total population"
   ]
  },
  {
   "cell_type": "code",
   "execution_count": null,
   "metadata": {},
   "outputs": [],
   "source": []
  }
 ],
 "metadata": {
  "celltoolbar": "Tags",
  "kernelspec": {
   "display_name": "Python 3 (ipykernel)",
   "language": "python",
   "name": "python3"
  },
  "language_info": {
   "codemirror_mode": {
    "name": "ipython",
    "version": 3
   },
   "file_extension": ".py",
   "mimetype": "text/x-python",
   "name": "python",
   "nbconvert_exporter": "python",
   "pygments_lexer": "ipython3",
   "version": "3.11.7"
  },
  "vscode": {
   "interpreter": {
    "hash": "b0fa6594d8f4cbf19f97940f81e996739fb7646882a419484c72d19e05852a7e"
   }
  }
 },
 "nbformat": 4,
 "nbformat_minor": 2
}
