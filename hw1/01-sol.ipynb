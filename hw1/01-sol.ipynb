{
 "cells": [
  {
   "cell_type": "markdown",
   "metadata": {
    "tags": [
     "header"
    ]
   },
   "source": [
    "# STA 141B Assignment 1\n",
    "\n",
    "Due __January 26, 2024__ by __11:59pm__. Submit your work by uploading it to Gradescope through Canvas.\n",
    "\n",
    "Instructions:\n",
    "\n",
    "1. Provide your solutions in new cells following each exercise description. Create as many new cells as necessary. Use code cells for your Python scripts and Markdown cells for explanatory text or answers to non-coding questions. Answer all textual questions in complete sentences.\n",
    "2. The use of assistive tools is permitted, but must be indicated. You will be graded on you proficiency in coding. Produce high quality code by adhering to proper programming principles. \n",
    "3. Export the .jpynb as .pdf and submit it on Gradescope in time. To facilitate grading, indicate the area of the solution on the submission. Submissions without indication will be marked down. No late submissions accepted. \n",
    "4. The total number of points is 10. "
   ]
  },
  {
   "cell_type": "markdown",
   "metadata": {
    "tags": [
     "exercise"
    ]
   },
   "source": [
    "__Exercise 1__\n",
    "\n",
    "This exercise will review basic concepts of programming. Only use pure python code and no methods (like `str.find`) that are optimized in, e.g., `C`. Likewise, do not use any packages except those suitable for parallelization in part (c). \n",
    "\n",
    "\n",
    "\n",
    "__(a)__ Write a recursive function `seq_count(x, ...)` that returns length of the longest subsequence of identical elements in the sequence object `x`. Run: \n",
    "```\n",
    "seq_count([[1], [1], [1], 1, 3, 3, 2, 2, 4, 0])\n",
    "seq_count(('G', 'g', 'a', \"a\", \"a\", '''a''', 2, 's', 's'))\n",
    "seq_count([3, 1, int(True), 1, 1, 1, 3, 3])\n",
    "seq_count((1, 3, None, 3, 3, 1, 3, 3, 4, 0))\n",
    "```"
   ]
  },
  {
   "cell_type": "code",
   "execution_count": 1,
   "metadata": {
    "tags": [
     "solution"
    ]
   },
   "outputs": [],
   "source": [
    "def seq_count(x, position = 1, current_length = 1, max_length = 1): \n",
    "    if len(x) <= position:\n",
    "        return max_length\n",
    "    elif x[position - 1] is x[position]:\n",
    "        return seq_count(x, position + 1, current_length + 1, max(current_length + 1, max_length))\n",
    "    else: \n",
    "        return seq_count(x, position + 1, 1, max_length)"
   ]
  },
  {
   "cell_type": "code",
   "execution_count": 2,
   "metadata": {
    "tags": [
     "test"
    ]
   },
   "outputs": [
    {
     "data": {
      "text/plain": [
       "3"
      ]
     },
     "execution_count": 2,
     "metadata": {},
     "output_type": "execute_result"
    }
   ],
   "source": [
    "seq_count([1, 3, 1, 1, 3, 3, 4, 4, 4])"
   ]
  },
  {
   "cell_type": "code",
   "execution_count": 3,
   "metadata": {
    "tags": [
     "test"
    ]
   },
   "outputs": [
    {
     "data": {
      "text/plain": [
       "3"
      ]
     },
     "execution_count": 3,
     "metadata": {},
     "output_type": "execute_result"
    }
   ],
   "source": [
    "seq_count((1, 3, 1, 1, 1, '1', 1, [3, 3, 3, 3], 3, 4, 0))"
   ]
  },
  {
   "cell_type": "code",
   "execution_count": 2,
   "metadata": {
    "tags": [
     "solution"
    ]
   },
   "outputs": [
    {
     "data": {
      "text/plain": [
       "2"
      ]
     },
     "execution_count": 2,
     "metadata": {},
     "output_type": "execute_result"
    }
   ],
   "source": [
    "seq_count([[1], [1], [1], 1, 3, 3, 2, 2, 4, 0])"
   ]
  },
  {
   "cell_type": "code",
   "execution_count": 5,
   "metadata": {
    "tags": [
     "solution"
    ]
   },
   "outputs": [
    {
     "data": {
      "text/plain": [
       "4"
      ]
     },
     "execution_count": 5,
     "metadata": {},
     "output_type": "execute_result"
    }
   ],
   "source": [
    "seq_count(('G', 'g', 'a', \"a\", \"a\", '''a''', 2, 's', 's'))"
   ]
  },
  {
   "cell_type": "code",
   "execution_count": 6,
   "metadata": {
    "tags": [
     "solution"
    ]
   },
   "outputs": [
    {
     "data": {
      "text/plain": [
       "5"
      ]
     },
     "execution_count": 6,
     "metadata": {},
     "output_type": "execute_result"
    }
   ],
   "source": [
    "seq_count([3, 1, int(True), 1, 1, 1, 3, 3])"
   ]
  },
  {
   "cell_type": "code",
   "execution_count": 7,
   "metadata": {
    "tags": [
     "solution"
    ]
   },
   "outputs": [
    {
     "data": {
      "text/plain": [
       "2"
      ]
     },
     "execution_count": 7,
     "metadata": {},
     "output_type": "execute_result"
    }
   ],
   "source": [
    "seq_count((1, 3, None, 3, 3, 1, 3, 3, 4, 0))"
   ]
  },
  {
   "cell_type": "markdown",
   "metadata": {
    "tags": [
     "exercise"
    ]
   },
   "source": [
    "__(b)__ Write a function `pattern_count(x, pattern, ...)` that takes the two iterable objects `x` and `pattern` and returns the length of the longest subsequence of `pattern`. Run: \n",
    "```\n",
    "pattern_count('CGGACTACTAGACT', 'ACT')\n",
    "pattern_count((1, (1, 1, 1, 1), 2, 1, 1, 1), [1, 1])\n",
    "pattern_count(['ab', 'ab', 'a', 'a', 'b'], ('ab',))\n",
    "```"
   ]
  },
  {
   "cell_type": "code",
   "execution_count": 8,
   "metadata": {
    "tags": [
     "solution"
    ]
   },
   "outputs": [],
   "source": [
    "def pattern_count(x, pattern, position = 0, current_length = 0, max_length = 0): \n",
    "    pattern_length = len(pattern)\n",
    "    if len(x) < position + pattern_length:\n",
    "        return max_length\n",
    "    elif all([j is pattern[i] for i, j in enumerate(x[position:(position + pattern_length)])]):\n",
    "        return pattern_count(x, pattern, \n",
    "                             position + pattern_length, current_length + 1, \n",
    "                             max(current_length + 1, max_length))\n",
    "    else: \n",
    "        return pattern_count(x, pattern, position + 1, 0, max_length)"
   ]
  },
  {
   "cell_type": "code",
   "execution_count": 9,
   "metadata": {
    "tags": [
     "test"
    ]
   },
   "outputs": [
    {
     "data": {
      "text/plain": [
       "3"
      ]
     },
     "execution_count": 9,
     "metadata": {},
     "output_type": "execute_result"
    }
   ],
   "source": [
    "pattern_count([0, 1, 2, 1, 2, 3, 1, 2, 1, 2, 1, 2, 4, 1, 2], (1, 2))"
   ]
  },
  {
   "cell_type": "code",
   "execution_count": 10,
   "metadata": {
    "tags": [
     "test"
    ]
   },
   "outputs": [
    {
     "data": {
      "text/plain": [
       "0"
      ]
     },
     "execution_count": 10,
     "metadata": {},
     "output_type": "execute_result"
    }
   ],
   "source": [
    "pattern_count([], [2])"
   ]
  },
  {
   "cell_type": "code",
   "execution_count": 11,
   "metadata": {
    "tags": [
     "test"
    ]
   },
   "outputs": [
    {
     "data": {
      "text/plain": [
       "1"
      ]
     },
     "execution_count": 11,
     "metadata": {},
     "output_type": "execute_result"
    }
   ],
   "source": [
    "pattern_count(['ab', 'ab', 'a', 'a', 'b'], 'ab') # elements in pattern must be identical to elements in x! "
   ]
  },
  {
   "cell_type": "code",
   "execution_count": 12,
   "metadata": {
    "tags": [
     "solution"
    ]
   },
   "outputs": [
    {
     "data": {
      "text/plain": [
       "2"
      ]
     },
     "execution_count": 12,
     "metadata": {},
     "output_type": "execute_result"
    }
   ],
   "source": [
    "pattern_count('CGGACTACTAGACT', 'ACT')"
   ]
  },
  {
   "cell_type": "code",
   "execution_count": 13,
   "metadata": {
    "tags": [
     "solution"
    ]
   },
   "outputs": [
    {
     "data": {
      "text/plain": [
       "1"
      ]
     },
     "execution_count": 13,
     "metadata": {},
     "output_type": "execute_result"
    }
   ],
   "source": [
    "pattern_count((1, (1, 1, 1, 1), 2, 1, 1, 1), [1, 1])"
   ]
  },
  {
   "cell_type": "code",
   "execution_count": 14,
   "metadata": {
    "tags": [
     "solution"
    ]
   },
   "outputs": [
    {
     "data": {
      "text/plain": [
       "2"
      ]
     },
     "execution_count": 14,
     "metadata": {},
     "output_type": "execute_result"
    }
   ],
   "source": [
    "pattern_count(['ab', 'ab', 'a', 'a', 'b'], ('ab',))"
   ]
  },
  {
   "cell_type": "code",
   "execution_count": 15,
   "metadata": {
    "tags": [
     "comments"
    ]
   },
   "outputs": [],
   "source": [
    "def simple_pattern_count(x, pattern, current_pattern = None, max_length = 0): \n",
    "    if current_pattern is None: \n",
    "        current_pattern = pattern\n",
    "    if x.find(current_pattern) >= 0: \n",
    "        return simple_pattern_count(x, pattern, current_pattern + pattern, max_length + 1)\n",
    "    else: \n",
    "        return max_length"
   ]
  },
  {
   "cell_type": "code",
   "execution_count": 16,
   "metadata": {
    "tags": [
     "comments"
    ]
   },
   "outputs": [
    {
     "name": "stdout",
     "output_type": "stream",
     "text": [
      "6.694851167\n",
      "0.03094037500000013\n"
     ]
    }
   ],
   "source": [
    "from timeit import timeit\n",
    "from random import choices\n",
    "\n",
    "x = \"\".join(choices('acgt', k=1_000))\n",
    "print(timeit('pattern_count(x, \"t\")', number=10_000, globals=globals()))\n",
    "print(timeit('simple_pattern_count(x, \"t\")', number=10_000, globals=globals()))"
   ]
  },
  {
   "cell_type": "markdown",
   "metadata": {
    "scrolled": true,
    "tags": [
     "comments"
    ]
   },
   "source": [
    "`simple_pattern_count` is much faster, because the `str.find` method is efficiently implemented in C."
   ]
  },
  {
   "cell_type": "markdown",
   "metadata": {
    "tags": [
     "exercise"
    ]
   },
   "source": [
    "__(c)__ For a long string, write code that takes strings `x`, `pattern`, and an integer `n_splits`, and uses a suitable concurrency method to search for repeating patterns using `pattern_count` from (b). \n",
    "To this end, partition `x` into `n_splits` parts and search each of them individually. Make sure not to split where a pattern is present! Run: \n",
    "```\n",
    "from random import choices, seed\n",
    "\n",
    "seed(2024)\n",
    "x = \"\".join(choices('01', k = 5_000))\n",
    "pattern = \"01\"\n",
    "n_splits = 50\n",
    "\n",
    "# here is your code \n",
    "```\n",
    "\n",
    "_Hint: You can use the fast `x.find(pattern)` to check your code._"
   ]
  },
  {
   "cell_type": "code",
   "execution_count": 17,
   "metadata": {
    "tags": [
     "solution"
    ]
   },
   "outputs": [],
   "source": [
    "def check_for_pattern(position, pattern, x):\n",
    "    '''\n",
    "    returns True if pattern is found at breaking position\n",
    "    '''\n",
    "    pattern_length = len(pattern)\n",
    "    y = x[(position - pattern_length + 1):(position + pattern_length)]\n",
    "    pattern_found = False\n",
    "    for i in range(len(y) - pattern_length):\n",
    "        if all([j is pattern[i] for i, j in enumerate(y[i:(i + pattern_length)])]):\n",
    "            pattern_found = True\n",
    "            break\n",
    "    return pattern_found\n",
    "\n",
    "def split_x(x, n_splits, pattern): \n",
    "    '''\n",
    "    partitions x into n_splits parts, but does not interrupt a pattern\n",
    "    '''\n",
    "    \n",
    "    # gather list of candidate break points\n",
    "    indices = [(i + 1) * int(len(x) / n_splits) for i in range(n_splits - 1)]\n",
    "\n",
    "    # shift them to the right if pattern is present\n",
    "    for i, position in enumerate(indices):\n",
    "        while check_for_pattern(position, pattern, x): \n",
    "            position += len(pattern)\n",
    "        indices[i] = position\n",
    "        \n",
    "    print()\n",
    "\n",
    "    # split x by indices\n",
    "    y = [x[i:j] for i, j in zip([0]+indices, indices+[None])]\n",
    "    \n",
    "    return y"
   ]
  },
  {
   "cell_type": "code",
   "execution_count": 18,
   "metadata": {
    "tags": [
     "solution"
    ]
   },
   "outputs": [
    {
     "name": "stdout",
     "output_type": "stream",
     "text": [
      "\n"
     ]
    },
    {
     "data": {
      "text/plain": [
       "7"
      ]
     },
     "execution_count": 18,
     "metadata": {},
     "output_type": "execute_result"
    }
   ],
   "source": [
    "from random import choices, seed\n",
    "\n",
    "seed(2024)\n",
    "x = \"\".join(choices('01', k = 5_000))\n",
    "pattern = \"01\"\n",
    "n_splits = 50\n",
    "\n",
    "import multiprocessing\n",
    "multiprocessing.set_start_method(\"fork\", True) # just for macos (?)\n",
    "    \n",
    "# define the function here to avoid pickling error   \n",
    "def specific_pattern_count(x): \n",
    "    return pattern_count(x, '01')\n",
    "\n",
    "pool = multiprocessing.Pool()\n",
    "max(pool.map(specific_pattern_count, split_x(x, n_splits, '01')))"
   ]
  },
  {
   "cell_type": "markdown",
   "metadata": {
    "tags": [
     "exercise"
    ]
   },
   "source": [
    "__Exercise 2__\n",
    "\n",
    "In this exercise, we will generate (pseudo-)random numbers using the inversion and accept-reject method. In order to generate the random numbers you are only allowed draw from the Uniform distribution and use\n",
    "```\n",
    "from random import uniform\n",
    "from scipy.special import binom\n",
    "from numpy import sqrt, pi, exp, tan, cumsum\n",
    "from scipy.stats import probplot\n",
    "import pandas as pd\n",
    "import matplotlib.pyplot as plt\n",
    "```\n",
    "\n",
    "_Inversion method: Let $F$ be a distribution function from which we want to draw. Define the quantile function $F^{-1}(u) = \\inf\\{x\\colon F(x)\\geq u, 0\\leq u\\leq 1\\}$. Then, if $U\\sim Unif[0,1]$, $F^{-1}(U)$ has distribution function $F$._\n",
    "\n",
    "_Accept-reject: Let $f$ be a density function from which we want to draw and there exists a density $g$ from which we can draw (e.g., via the inversion method) and for which there exists a constant $c$ such that $f(x)\\leq cg(x)$ for all $x$. The following algorithm generates a random variable $X$ with density function $f$._\n",
    "\n",
    "1. Generate a random variable $X$ from density $g$\n",
    "2. Generate a random variable $U\\sim Unif[0,1]$ (independent from $X$)\n",
    "3. If $Ucg(X) \\leq f(X)$, return $X$, otherwise repeat 1.-3.\n",
    "\n",
    "_The number of iterations needed to successfully generate $X$ is itself a random variable,\n",
    "which is geometrically distributed with the success (acceptance) probability $p = P(Ucg(X)\\leq f(X))$. Hence, the expected number of iterations is $1/p$. Some calculations show that $p = 1/c$._\n",
    "\n",
    "\n",
    "__(a)__ Generate $10 000$ samples from $Bin(10, 0.4)$ using __(i)__ the inversion method directly and __(ii)__ using the inversion method to draw corresponding Bernoulli distributed samples. __(iii)__ Plot the resulting empirical distribution functions and add the theoretical distribution function in one figure. "
   ]
  },
  {
   "cell_type": "code",
   "execution_count": 19,
   "metadata": {
    "tags": [
     "solution"
    ]
   },
   "outputs": [
    {
     "data": {
      "image/png": "[encoded data removed]",
      "text/plain": [
       "<Figure size 640x480 with 1 Axes>"
      ]
     },
     "metadata": {},
     "output_type": "display_data"
    }
   ],
   "source": [
    "from random import uniform\n",
    "from scipy.special import binom\n",
    "from numpy import sqrt, pi, exp, tan, cumsum\n",
    "import pandas as pd\n",
    "\n",
    "n = 10\n",
    "p = 0.4\n",
    "\n",
    "# (i)\n",
    "F = cumsum([binom(n, k) * p ** k * (1 - p) ** (n - k) for k in range(n + 1)])\n",
    "binomial = lambda u: sum(u > F)\n",
    "variant1 = [binomial(uniform(0, 1)) for _ in range(10_000)]\n",
    "\n",
    "# (ii)\n",
    "bern = lambda u: True if u < p else False\n",
    "variant2 = [sum([bern(uniform(0, 1)) for i in range(n)]) for _ in range(10_000)]\n",
    "\n",
    "# (iii) \n",
    "F = pd.Series(F)\n",
    "F1 = cumsum(pd.Series(variant1).value_counts().sort_index()) / 10_000\n",
    "F2 = cumsum(pd.Series(variant2).value_counts().sort_index()) / 10_000\n",
    "\n",
    "import matplotlib.pyplot as plt\n",
    "plt.step(F.index, F.values, label = \"theoretical\") \n",
    "plt.step(F1.index, F1.values, label = \"direct inversion\") \n",
    "plt.step(F2.index, F2.values, label = \"bernoulli inversion\") \n",
    "plt.legend() \n",
    "plt.show()"
   ]
  },
  {
   "cell_type": "markdown",
   "metadata": {
    "tags": [
     "exercise"
    ]
   },
   "source": [
    "__(b)__ Generate $10000$ samples from the standard normal distribution using the accept-reject method with candidate density $g(x) = (\\pi(1+x^2))^{-1}$ with distribution funciton $G(x) = \\tan^{-1}(x)/\\pi$ from the standard Cauchy distribution. To this end, __(i)__ determine (mathematically or via simulation) the value of $c\\geq1$ closest to one so that $f(x)\\leq cg(x)$ for all $x$. __(ii)__ Obtain $10000$ standard normal random variables using the accept-reject method, generating Cauchy distributed random variables using inversion method. \n",
    "__(iii)__ Compare estimated and theoretical acceptance probabilities. \n",
    "__(iv)__ Generate a QQ-plot of the generated sample. "
   ]
  },
  {
   "cell_type": "markdown",
   "metadata": {
    "tags": [
     "solution"
    ]
   },
   "source": [
    "__(a)__ We want to maximize \n",
    "$$c = \\frac{f(x)}{g(x)} = \\sqrt{\\frac{\\pi}{2}}\\exp(-x^2 / 2)(1 + x^2).$$\n",
    "Taking derivatives and setting to zero gives: \n",
    "$$\\exp(-x^2/2) (x - x^3) = 0 \\Rightarrow x \\in \\{-1, 0, 1\\}$$\n",
    "A second derivative reveals that the maxima are at one and negative one. Thus: \n",
    "$$\n",
    "c = \\sqrt{\\frac{2\\pi}{\\exp(1)}}\n",
    "$$"
   ]
  },
  {
   "cell_type": "code",
   "execution_count": 20,
   "metadata": {
    "tags": [
     "solution"
    ]
   },
   "outputs": [
    {
     "name": "stdout",
     "output_type": "stream",
     "text": [
      "1.520346901066281\n"
     ]
    },
    {
     "data": {
      "text/plain": [
       "1.520346901066281"
      ]
     },
     "execution_count": 20,
     "metadata": {},
     "output_type": "execute_result"
    }
   ],
   "source": [
    "f = lambda x: exp(-x**2 / 2) / sqrt(2 * pi)\n",
    "g = lambda x: 1 / (pi * (1 + x ** 2))\n",
    "print(f(1) / g(1))\n",
    "\n",
    "c = sqrt(2 * pi / exp(1))\n",
    "c"
   ]
  },
  {
   "cell_type": "code",
   "execution_count": 21,
   "metadata": {
    "tags": [
     "solution"
    ]
   },
   "outputs": [
    {
     "name": "stdout",
     "output_type": "stream",
     "text": [
      "0.6618133686300464\n",
      "0.6577446234794568\n"
     ]
    }
   ],
   "source": [
    "# (ii)\n",
    "Ginv = lambda u: tan(u * pi) # inverse of G\n",
    "count = 0\n",
    "\n",
    "def accept_reject(): \n",
    "    global count\n",
    "    while True: \n",
    "        count += 1\n",
    "        X = Ginv(uniform(0, 1))\n",
    "        U = uniform(0, 1)\n",
    "        if U * c * g(X) <= f(X): \n",
    "            break\n",
    "    return X\n",
    "\n",
    "X = [accept_reject() for _ in range(10_000)]\n",
    "\n",
    "# (iii) \n",
    "print(10_000 / count) # empirical success prob\n",
    "print(1 / c) # theoretical success prob"
   ]
  },
  {
   "cell_type": "code",
   "execution_count": 22,
   "metadata": {
    "tags": [
     "solution"
    ]
   },
   "outputs": [
    {
     "data": {
      "image/png": "[encoded data removed]",
      "text/plain": [
       "<Figure size 640x480 with 1 Axes>"
      ]
     },
     "metadata": {},
     "output_type": "display_data"
    }
   ],
   "source": [
    "# (iv)\n",
    "\n",
    "from scipy.stats import probplot\n",
    "\n",
    "probplot(X, dist=\"norm\", plot=plt)\n",
    "plt.show()"
   ]
  },
  {
   "cell_type": "markdown",
   "metadata": {
    "tags": [
     "exercise"
    ]
   },
   "source": [
    "__Exercise 3__\n",
    "\n",
    "The demographic makeup of regions can offer crucial insights into various socio-economic factors. For policymakers, understanding age distributions can be particularly useful, as it can provide direction for initiatives ranging from educational policy to elderly care. In this section, we will work with a dataset detailing the age distribution across United States counties, broken down into specific age bins.\n",
    "\n",
    "The files `county_age_dist.csv`, `fips_state.csv` and `fips_county.csv` contain information about the age distribution of counties in selected brackets as well as names and [FIPS](https://transition.fcc.gov/oet/info/maps/census/fips/fips.txt) codes and additional information. \n",
    "\n",
    "__(a, i)__ Merge all three data frames into one `pandas.DataFrame` object names `data` with appropriate column names. __(ii)__ Remove the `info` column. Standardize column names and entries to be capitalized according to spelling rules. Remove any preceding whitespace if present for any entries. Run: \n",
    "```\n",
    "data.head(4)\n",
    "```"
   ]
  },
  {
   "cell_type": "code",
   "execution_count": 1,
   "metadata": {
    "tags": [
     "solution"
    ]
   },
   "outputs": [],
   "source": [
    "import pandas as pd\n",
    "import numpy as np\n",
    "\n",
    "# load data and standardize FIPS codes in order to join by them. \n",
    "county_age = pd.read_csv('../data/county_age_dist.csv', dtype={'fips':str})\n",
    "\n",
    "fips_state = pd.read_csv('../data/fips_state.csv', sep = ';', dtype={'FIPS':str})\n",
    "fips_state['FIPS'] = fips_state['FIPS'].str.zfill(2)\n",
    "\n",
    "fips_county = pd.read_csv('../data/fips_county.csv', sep = ',', dtype={'FIPS':str})\n",
    "\n",
    "# merge county_age and fips_county\n",
    "data = county_age.set_index('fips').join(fips_county.set_index('fips')).reset_index() # add county info\n",
    "\n",
    "# merge data and fips_state\n",
    "data.set_index(keys = pd.Index([string[:2] for string in data['fips']]), inplace = True)\n",
    "data = data.join(fips_state.set_index('FIPS')).reset_index(drop = True)"
   ]
  },
  {
   "cell_type": "code",
   "execution_count": 24,
   "metadata": {
    "tags": [
     "solution"
    ]
   },
   "outputs": [],
   "source": [
    "data = data.drop(columns = ' info')\n",
    "data = data.rename(columns={\" name\": \"County\", \"fips\": \"FIPS\", \" STATE\": \"State\"})\n",
    "\n",
    "def string_cleaner(string): \n",
    "    '''\n",
    "    removes leading whitespace and capitalized first letter only. \n",
    "    '''\n",
    "    \n",
    "    if isinstance(string, str): \n",
    "    \n",
    "        # make lowercase\n",
    "        string = string.lower()\n",
    "\n",
    "        # remove leading whitespace\n",
    "        string = string.lstrip()\n",
    "\n",
    "        # split string by whitespace, capitalize, and join again\n",
    "        string = \" \".join([s.capitalize() for s in string.split(\" \")])\n",
    "    \n",
    "    return string\n",
    "\n",
    "data[['County','State']] = data[['County','State']].apply(lambda x: [string_cleaner(string) for string in x])"
   ]
  },
  {
   "cell_type": "code",
   "execution_count": 25,
   "metadata": {
    "tags": [
     "solution"
    ]
   },
   "outputs": [
    {
     "data": {
      "text/html": [
       "<div>\n",
       "<style scoped>\n",
       "    .dataframe tbody tr th:only-of-type {\n",
       "        vertical-align: middle;\n",
       "    }\n",
       "\n",
       "    .dataframe tbody tr th {\n",
       "        vertical-align: top;\n",
       "    }\n",
       "\n",
       "    .dataframe thead th {\n",
       "        text-align: right;\n",
       "    }\n",
       "</style>\n",
       "<table border=\"1\" class=\"dataframe\">\n",
       "  <thead>\n",
       "    <tr style=\"text-align: right;\">\n",
       "      <th></th>\n",
       "      <th>FIPS</th>\n",
       "      <th>0-17</th>\n",
       "      <th>18-24</th>\n",
       "      <th>25-34</th>\n",
       "      <th>35-44</th>\n",
       "      <th>45-54</th>\n",
       "      <th>55-64</th>\n",
       "      <th>65-74</th>\n",
       "      <th>75-84</th>\n",
       "      <th>85+</th>\n",
       "      <th>County</th>\n",
       "      <th>State</th>\n",
       "    </tr>\n",
       "  </thead>\n",
       "  <tbody>\n",
       "    <tr>\n",
       "      <th>0</th>\n",
       "      <td>01001</td>\n",
       "      <td>25941</td>\n",
       "      <td>11422</td>\n",
       "      <td>12315</td>\n",
       "      <td>13828</td>\n",
       "      <td>14000</td>\n",
       "      <td>12697</td>\n",
       "      <td>9594</td>\n",
       "      <td>5430</td>\n",
       "      <td>1945</td>\n",
       "      <td>Autauga County</td>\n",
       "      <td>Alabama</td>\n",
       "    </tr>\n",
       "    <tr>\n",
       "      <th>1</th>\n",
       "      <td>01003</td>\n",
       "      <td>86587</td>\n",
       "      <td>37568</td>\n",
       "      <td>44133</td>\n",
       "      <td>46730</td>\n",
       "      <td>49675</td>\n",
       "      <td>52405</td>\n",
       "      <td>43252</td>\n",
       "      <td>23262</td>\n",
       "      <td>8854</td>\n",
       "      <td>Baldwin County</td>\n",
       "      <td>Alabama</td>\n",
       "    </tr>\n",
       "    <tr>\n",
       "      <th>2</th>\n",
       "      <td>01005</td>\n",
       "      <td>11057</td>\n",
       "      <td>6162</td>\n",
       "      <td>6603</td>\n",
       "      <td>5907</td>\n",
       "      <td>6490</td>\n",
       "      <td>6377</td>\n",
       "      <td>5255</td>\n",
       "      <td>2795</td>\n",
       "      <td>1074</td>\n",
       "      <td>Barbour County</td>\n",
       "      <td>Alabama</td>\n",
       "    </tr>\n",
       "    <tr>\n",
       "      <th>3</th>\n",
       "      <td>01007</td>\n",
       "      <td>9671</td>\n",
       "      <td>5241</td>\n",
       "      <td>5788</td>\n",
       "      <td>5472</td>\n",
       "      <td>6707</td>\n",
       "      <td>5563</td>\n",
       "      <td>4270</td>\n",
       "      <td>2555</td>\n",
       "      <td>638</td>\n",
       "      <td>Bibb County</td>\n",
       "      <td>Alabama</td>\n",
       "    </tr>\n",
       "  </tbody>\n",
       "</table>\n",
       "</div>"
      ],
      "text/plain": [
       "    FIPS   0-17  18-24  25-34  35-44  45-54  55-64  65-74  75-84   85+  \\\n",
       "0  01001  25941  11422  12315  13828  14000  12697   9594   5430  1945   \n",
       "1  01003  86587  37568  44133  46730  49675  52405  43252  23262  8854   \n",
       "2  01005  11057   6162   6603   5907   6490   6377   5255   2795  1074   \n",
       "3  01007   9671   5241   5788   5472   6707   5563   4270   2555   638   \n",
       "\n",
       "           County    State  \n",
       "0  Autauga County  Alabama  \n",
       "1  Baldwin County  Alabama  \n",
       "2  Barbour County  Alabama  \n",
       "3     Bibb County  Alabama  "
      ]
     },
     "execution_count": 25,
     "metadata": {},
     "output_type": "execute_result"
    }
   ],
   "source": [
    "data.head(4)"
   ]
  },
  {
   "cell_type": "markdown",
   "metadata": {
    "tags": [
     "exercise"
    ]
   },
   "source": [
    "__(c)__ For each county and state, compute the proportion of elderly `CPE` and `SPE` (65 and older) to the total population as well as the proportion of young people `CPY` and `SPY` (24 or younger). Add those values to the data frame. You may ignore all FIPS regions that are not in states. Run: \n",
    "```\n",
    "data.head(4)\n",
    "```"
   ]
  },
  {
   "cell_type": "code",
   "execution_count": 26,
   "metadata": {
    "tags": [
     "solution"
    ]
   },
   "outputs": [],
   "source": [
    "proportion = lambda x: [x[0:1].sum(), x[7:9].sum()] / x.sum()\n",
    "\n",
    "# for counties... \n",
    "county = data.iloc[:, 1:10].apply(lambda x: proportion(x), axis = 1)\n",
    "data[['CPY', 'CPE']] = pd.DataFrame.from_dict(dict(zip(county.index, county.values))).T\n",
    "\n",
    "# ... and for states\n",
    "state = data.groupby('State').sum(numeric_only = False).iloc[:, 1:10].apply(lambda x: proportion(x), axis = 1)\n",
    "state_df = pd.DataFrame.from_dict(dict(zip(state.index, state.values))).T\n",
    "state_df = state_df.reset_index()\n",
    "state_df = state_df.rename(columns={'index': 'State', 0: \"SPY\", 1: \"SPE\"})\n",
    "data = data.merge(state_df, on = 'State')"
   ]
  },
  {
   "cell_type": "code",
   "execution_count": 27,
   "metadata": {
    "tags": [
     "solution"
    ]
   },
   "outputs": [
    {
     "data": {
      "text/html": [
       "<div>\n",
       "<style scoped>\n",
       "    .dataframe tbody tr th:only-of-type {\n",
       "        vertical-align: middle;\n",
       "    }\n",
       "\n",
       "    .dataframe tbody tr th {\n",
       "        vertical-align: top;\n",
       "    }\n",
       "\n",
       "    .dataframe thead th {\n",
       "        text-align: right;\n",
       "    }\n",
       "</style>\n",
       "<table border=\"1\" class=\"dataframe\">\n",
       "  <thead>\n",
       "    <tr style=\"text-align: right;\">\n",
       "      <th></th>\n",
       "      <th>FIPS</th>\n",
       "      <th>0-17</th>\n",
       "      <th>18-24</th>\n",
       "      <th>25-34</th>\n",
       "      <th>35-44</th>\n",
       "      <th>45-54</th>\n",
       "      <th>55-64</th>\n",
       "      <th>65-74</th>\n",
       "      <th>75-84</th>\n",
       "      <th>85+</th>\n",
       "      <th>County</th>\n",
       "      <th>State</th>\n",
       "      <th>CPY</th>\n",
       "      <th>CPE</th>\n",
       "      <th>SPY</th>\n",
       "      <th>SPE</th>\n",
       "    </tr>\n",
       "  </thead>\n",
       "  <tbody>\n",
       "    <tr>\n",
       "      <th>0</th>\n",
       "      <td>01001</td>\n",
       "      <td>25941</td>\n",
       "      <td>11422</td>\n",
       "      <td>12315</td>\n",
       "      <td>13828</td>\n",
       "      <td>14000</td>\n",
       "      <td>12697</td>\n",
       "      <td>9594</td>\n",
       "      <td>5430</td>\n",
       "      <td>1945</td>\n",
       "      <td>Autauga County</td>\n",
       "      <td>Alabama</td>\n",
       "      <td>0.242050</td>\n",
       "      <td>0.068815</td>\n",
       "      <td>0.224207</td>\n",
       "      <td>0.073172</td>\n",
       "    </tr>\n",
       "    <tr>\n",
       "      <th>1</th>\n",
       "      <td>01003</td>\n",
       "      <td>86587</td>\n",
       "      <td>37568</td>\n",
       "      <td>44133</td>\n",
       "      <td>46730</td>\n",
       "      <td>49675</td>\n",
       "      <td>52405</td>\n",
       "      <td>43252</td>\n",
       "      <td>23262</td>\n",
       "      <td>8854</td>\n",
       "      <td>Baldwin County</td>\n",
       "      <td>Alabama</td>\n",
       "      <td>0.220623</td>\n",
       "      <td>0.081831</td>\n",
       "      <td>0.224207</td>\n",
       "      <td>0.073172</td>\n",
       "    </tr>\n",
       "    <tr>\n",
       "      <th>2</th>\n",
       "      <td>01005</td>\n",
       "      <td>11057</td>\n",
       "      <td>6162</td>\n",
       "      <td>6603</td>\n",
       "      <td>5907</td>\n",
       "      <td>6490</td>\n",
       "      <td>6377</td>\n",
       "      <td>5255</td>\n",
       "      <td>2795</td>\n",
       "      <td>1074</td>\n",
       "      <td>Barbour County</td>\n",
       "      <td>Alabama</td>\n",
       "      <td>0.213786</td>\n",
       "      <td>0.074807</td>\n",
       "      <td>0.224207</td>\n",
       "      <td>0.073172</td>\n",
       "    </tr>\n",
       "    <tr>\n",
       "      <th>3</th>\n",
       "      <td>01007</td>\n",
       "      <td>9671</td>\n",
       "      <td>5241</td>\n",
       "      <td>5788</td>\n",
       "      <td>5472</td>\n",
       "      <td>6707</td>\n",
       "      <td>5563</td>\n",
       "      <td>4270</td>\n",
       "      <td>2555</td>\n",
       "      <td>638</td>\n",
       "      <td>Bibb County</td>\n",
       "      <td>Alabama</td>\n",
       "      <td>0.210674</td>\n",
       "      <td>0.069557</td>\n",
       "      <td>0.224207</td>\n",
       "      <td>0.073172</td>\n",
       "    </tr>\n",
       "  </tbody>\n",
       "</table>\n",
       "</div>"
      ],
      "text/plain": [
       "    FIPS   0-17  18-24  25-34  35-44  45-54  55-64  65-74  75-84   85+  \\\n",
       "0  01001  25941  11422  12315  13828  14000  12697   9594   5430  1945   \n",
       "1  01003  86587  37568  44133  46730  49675  52405  43252  23262  8854   \n",
       "2  01005  11057   6162   6603   5907   6490   6377   5255   2795  1074   \n",
       "3  01007   9671   5241   5788   5472   6707   5563   4270   2555   638   \n",
       "\n",
       "           County    State       CPY       CPE       SPY       SPE  \n",
       "0  Autauga County  Alabama  0.242050  0.068815  0.224207  0.073172  \n",
       "1  Baldwin County  Alabama  0.220623  0.081831  0.224207  0.073172  \n",
       "2  Barbour County  Alabama  0.213786  0.074807  0.224207  0.073172  \n",
       "3     Bibb County  Alabama  0.210674  0.069557  0.224207  0.073172  "
      ]
     },
     "execution_count": 27,
     "metadata": {},
     "output_type": "execute_result"
    }
   ],
   "source": [
    "data.head(4)"
   ]
  },
  {
   "cell_type": "code",
   "execution_count": 28,
   "metadata": {
    "tags": [
     "test"
    ]
   },
   "outputs": [
    {
     "data": {
      "text/html": [
       "<div>\n",
       "<style scoped>\n",
       "    .dataframe tbody tr th:only-of-type {\n",
       "        vertical-align: middle;\n",
       "    }\n",
       "\n",
       "    .dataframe tbody tr th {\n",
       "        vertical-align: top;\n",
       "    }\n",
       "\n",
       "    .dataframe thead th {\n",
       "        text-align: right;\n",
       "    }\n",
       "</style>\n",
       "<table border=\"1\" class=\"dataframe\">\n",
       "  <thead>\n",
       "    <tr style=\"text-align: right;\">\n",
       "      <th></th>\n",
       "      <th>FIPS</th>\n",
       "      <th>0-17</th>\n",
       "      <th>18-24</th>\n",
       "      <th>25-34</th>\n",
       "      <th>35-44</th>\n",
       "      <th>45-54</th>\n",
       "      <th>55-64</th>\n",
       "      <th>65-74</th>\n",
       "      <th>75-84</th>\n",
       "      <th>85+</th>\n",
       "      <th>County</th>\n",
       "      <th>State</th>\n",
       "      <th>CPY</th>\n",
       "      <th>CPE</th>\n",
       "      <th>SPY</th>\n",
       "      <th>SPE</th>\n",
       "    </tr>\n",
       "  </thead>\n",
       "  <tbody>\n",
       "    <tr>\n",
       "      <th>1000</th>\n",
       "      <td>21015</td>\n",
       "      <td>59756</td>\n",
       "      <td>23101</td>\n",
       "      <td>28431</td>\n",
       "      <td>30991</td>\n",
       "      <td>30735</td>\n",
       "      <td>27651</td>\n",
       "      <td>18464</td>\n",
       "      <td>8927</td>\n",
       "      <td>3291</td>\n",
       "      <td>Boone County</td>\n",
       "      <td>Kentucky</td>\n",
       "      <td>0.258296</td>\n",
       "      <td>0.052812</td>\n",
       "      <td>0.224512</td>\n",
       "      <td>0.072382</td>\n",
       "    </tr>\n",
       "    <tr>\n",
       "      <th>1001</th>\n",
       "      <td>21017</td>\n",
       "      <td>8817</td>\n",
       "      <td>4008</td>\n",
       "      <td>4419</td>\n",
       "      <td>4414</td>\n",
       "      <td>5382</td>\n",
       "      <td>5203</td>\n",
       "      <td>4145</td>\n",
       "      <td>2505</td>\n",
       "      <td>928</td>\n",
       "      <td>Bourbon County</td>\n",
       "      <td>Kentucky</td>\n",
       "      <td>0.221416</td>\n",
       "      <td>0.086211</td>\n",
       "      <td>0.224512</td>\n",
       "      <td>0.072382</td>\n",
       "    </tr>\n",
       "    <tr>\n",
       "      <th>1002</th>\n",
       "      <td>21019</td>\n",
       "      <td>20700</td>\n",
       "      <td>9781</td>\n",
       "      <td>11381</td>\n",
       "      <td>11861</td>\n",
       "      <td>12383</td>\n",
       "      <td>13059</td>\n",
       "      <td>9861</td>\n",
       "      <td>5498</td>\n",
       "      <td>2987</td>\n",
       "      <td>Boyd County</td>\n",
       "      <td>Kentucky</td>\n",
       "      <td>0.212284</td>\n",
       "      <td>0.087016</td>\n",
       "      <td>0.224512</td>\n",
       "      <td>0.072382</td>\n",
       "    </tr>\n",
       "    <tr>\n",
       "      <th>1003</th>\n",
       "      <td>21021</td>\n",
       "      <td>11693</td>\n",
       "      <td>8112</td>\n",
       "      <td>5945</td>\n",
       "      <td>6435</td>\n",
       "      <td>7132</td>\n",
       "      <td>7345</td>\n",
       "      <td>5766</td>\n",
       "      <td>3434</td>\n",
       "      <td>1599</td>\n",
       "      <td>Boyle County</td>\n",
       "      <td>Kentucky</td>\n",
       "      <td>0.203495</td>\n",
       "      <td>0.087590</td>\n",
       "      <td>0.224512</td>\n",
       "      <td>0.072382</td>\n",
       "    </tr>\n",
       "  </tbody>\n",
       "</table>\n",
       "</div>"
      ],
      "text/plain": [
       "       FIPS   0-17  18-24  25-34  35-44  45-54  55-64  65-74  75-84   85+  \\\n",
       "1000  21015  59756  23101  28431  30991  30735  27651  18464   8927  3291   \n",
       "1001  21017   8817   4008   4419   4414   5382   5203   4145   2505   928   \n",
       "1002  21019  20700   9781  11381  11861  12383  13059   9861   5498  2987   \n",
       "1003  21021  11693   8112   5945   6435   7132   7345   5766   3434  1599   \n",
       "\n",
       "              County     State       CPY       CPE       SPY       SPE  \n",
       "1000    Boone County  Kentucky  0.258296  0.052812  0.224512  0.072382  \n",
       "1001  Bourbon County  Kentucky  0.221416  0.086211  0.224512  0.072382  \n",
       "1002     Boyd County  Kentucky  0.212284  0.087016  0.224512  0.072382  \n",
       "1003    Boyle County  Kentucky  0.203495  0.087590  0.224512  0.072382  "
      ]
     },
     "execution_count": 28,
     "metadata": {},
     "output_type": "execute_result"
    }
   ],
   "source": [
    "data.iloc[1000:1004,:]"
   ]
  }
 ],
 "metadata": {
  "celltoolbar": "Tags",
  "kernelspec": {
   "display_name": "Python 3",
   "language": "python",
   "name": "python3"
  },
  "language_info": {
   "codemirror_mode": {
    "name": "ipython",
    "version": 3
   },
   "file_extension": ".py",
   "mimetype": "text/x-python",
   "name": "python",
   "nbconvert_exporter": "python",
   "pygments_lexer": "ipython3",
   "version": "3.7.16"
  }
 },
 "nbformat": 4,
 "nbformat_minor": 2
}
