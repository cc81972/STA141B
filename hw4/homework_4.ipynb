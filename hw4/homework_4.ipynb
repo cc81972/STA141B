{
 "cells": [
  {
   "cell_type": "markdown",
   "id": "7b4bee3a",
   "metadata": {
    "tags": [
     "header"
    ]
   },
   "source": [
    "# STA 141B Assignment 4\n",
    "\n",
    "Due __March 8, 2024__ by __11:59pm__. Submit your work by uploading it to Gradescope through Canvas.\n",
    "\n",
    "Instructions:\n",
    "\n",
    "1. Provide your solutions in new cells following each exercise description. Create as many new cells as necessary. Use code cells for your Python scripts and Markdown cells for explanatory text or answers to non-coding questions. Answer all textual questions in complete sentences.\n",
    "2. The use of assistive tools is permitted, but must be indicated. You will be graded on you proficiency in coding. Produce high quality code by adhering to proper programming principles. \n",
    "3. Export the .jpynb as .pdf and submit it on Gradescope in time. To facilitate grading, indicate the area of the solution on the submission. Submissions without indication will be marked down. No late submissions accepted. \n",
    "4. If test cases are given, your solution must be in the same format. \n",
    "5. The total number of points is 10. "
   ]
  },
  {
   "cell_type": "markdown",
   "id": "17c77449",
   "metadata": {
    "tags": [
     "exercise"
    ]
   },
   "source": [
    "__(a, i)__ Write a function that retrieves all links to movies in the database by scraping the _alphabetical_ section on [imsdb.com](https://imsdb.com/) and retrieve the links. _How many links did you find?_ __(ii)__ Write a function `fetch_script` that, given the link of a movie retrieved in (i), returns a dictionary that contains all relevant information of the movie: \n",
    "\n",
    "```python\n",
    "fetch_script('/Movie Scripts/10 Things I Hate About You Script.html')\n",
    "\n",
    ">>> {'title': '10 Things I Hate About You',\n",
    "     'writers': ['Karen McCullah Lutz', 'Kirsten Smith', 'William Shakespeare'],\n",
    "     'genres': ['Comedy', 'Romance'],\n",
    "     'date': 1997,\n",
    "     'script': '...'}\n",
    "```\n",
    "\n",
    "The `script` field contains a string of the scraped script. Retrieve the information for all movies. _How many scripts did you retrieve?_"
   ]
  },
  {
   "cell_type": "code",
   "execution_count": 2,
   "id": "5a5e8483",
   "metadata": {},
   "outputs": [],
   "source": [
    "import requests\n",
    "import requests_cache\n",
    "import lxml.html as lx\n",
    "import re"
   ]
  },
  {
   "cell_type": "code",
   "execution_count": 157,
   "id": "dd2c01d7",
   "metadata": {},
   "outputs": [
    {
     "name": "stdout",
     "output_type": "stream",
     "text": [
      "['/scripts/8-Mile.pdf']\n"
     ]
    }
   ],
   "source": [
    "###Testing x paths\n",
    "curr_link = 'https://imsdb.com/Movie%20Scripts/8%20Mile%20Script.html'\n",
    "response = requests.get(curr_link)\n",
    "page = lx.fromstring(response.text)\n",
    "movie_script_link = page.xpath('//table[@class = \"script-details\"]//tr[2]/td[2]//a[last()]/@href')\n",
    "# script_page = lx.fromstring(requests.get('https://imsdb.com' + movie_script_link[0]).text)\n",
    "# print(script_page.xpath('//*[@class = \"scrtext\"]/pre[1]//*/text()'))\n",
    "script_page = lx.fromstring(requests.get('https://imsdb.com' + movie_script_link[0]).text)\n",
    "script_page.xpath('//*[@class = \"scrtext\"]//text()')\n",
    "print(movie_script_link)"
   ]
  },
  {
   "cell_type": "code",
   "execution_count": 80,
   "id": "47e485e4",
   "metadata": {},
   "outputs": [
    {
     "data": {
      "text/plain": [
       "1221"
      ]
     },
     "execution_count": 80,
     "metadata": {},
     "output_type": "execute_result"
    }
   ],
   "source": [
    "requests_cache.install_cache(\"imdb_cache\")\n",
    "def fetch_movie_links():\n",
    "    link_template = 'https://imsdb.com/alphabetical/'\n",
    "    curr_link = ''\n",
    "    movie_links = []\n",
    "    for i in range(64,91):\n",
    "        if i == 64:\n",
    "            curr_link = link_template + '0'\n",
    "        else:\n",
    "            curr_link = link_template + chr(i)\n",
    "        response = requests.get(curr_link)\n",
    "        page = lx.fromstring(response.text)\n",
    "        page_links = page.xpath('//td/p//@href')\n",
    "        page_links = [link.replace(' ', '%20') for link in page_links]\n",
    "        [movie_links.append('https://imsdb.com' + i) for i in page_links]\n",
    "    return movie_links\n",
    "total = fetch_movie_links()\n",
    "len(total)\n",
    "        "
   ]
  },
  {
   "cell_type": "code",
   "execution_count": 153,
   "id": "351cd5e2",
   "metadata": {},
   "outputs": [],
   "source": [
    "def fetch_script(link): \n",
    "    movie_info = {'title': None, 'writers': None, 'genres': None, 'date': None, 'script': None}\n",
    "    response = requests.get(link)\n",
    "    page = lx.fromstring(response.text)\n",
    "    movie_info['title'] = page.xpath('//table[@class = \"script-details\"]//tr[1]/td/h1/text()')[0].replace(' Script', '') #Get title\n",
    "    movie_info['writers'] = page.xpath('//table[@class = \"script-details\"]//tr[2]/td[2]/a[following-sibling::b[contains(text(), \"Genres\")]]/text()')\n",
    "    movie_info['genres'] = page.xpath('//table[@class = \"script-details\"]//tr[2]/td[2]/a[preceding-sibling::b[contains(text(), \"Genres\")] and following-sibling::b[contains(text(), \"Date\")]]/text()')\n",
    "    date = page.xpath('//table[@class=\"script-details\"]//tr[2]/td[2]//b[contains(text(), \"Date\")]/following-sibling::text()[1]')\n",
    "    if date:\n",
    "        date = date[0].replace(' : ', '')\n",
    "    movie_info['date'] = date\n",
    "    movie_script_link = page.xpath('//table[@class = \"script-details\"]//tr[2]/td[2]//a[last()]/@href')\n",
    "    if movie_script_link:\n",
    "        script_page = lx.fromstring(requests.get('https://imsdb.com' + movie_script_link[0]).text)\n",
    "        movie_info['script'] = script_page.xpath('//*[@class = \"scrtext\"]//text()')\n",
    "    else:\n",
    "        movie_info['script'] = movie_script_link\n",
    "    return movie_info\n",
    "    "
   ]
  },
  {
   "cell_type": "code",
   "execution_count": 158,
   "id": "38941f01",
   "metadata": {},
   "outputs": [
    {
     "name": "stdout",
     "output_type": "stream",
     "text": [
      "https://imsdb.com/Movie%20Scripts/8%20Mile%20Script.html\n",
      "https://imsdb.com/Movie%20Scripts/A.I.%20Script.html\n",
      "https://imsdb.com/Movie%20Scripts/Back%20to%20the%20Future%20Script.html\n",
      "https://imsdb.com/Movie%20Scripts/Back%20to%20the%20Future%20II%20%2526%20III%20Script.html\n",
      "https://imsdb.com/Movie%20Scripts/Batman%20and%20Robin%20Script.html\n",
      "https://imsdb.com/Movie%20Scripts/Batman%20Begins%20Script.html\n",
      "https://imsdb.com/Movie%20Scripts/Batman%20Forever%20Script.html\n",
      "https://imsdb.com/Movie%20Scripts/Batman%20Returns%20Script.html\n",
      "https://imsdb.com/Movie%20Scripts/Blues%20Brothers,%20The%20Script.html\n",
      "https://imsdb.com/Movie%20Scripts/Casablanca%20Script.html\n",
      "https://imsdb.com/Movie%20Scripts/Clockwork%20Orange,%20A%20Script.html\n",
      "https://imsdb.com/Movie%20Scripts/Contact%20Script.html\n",
      "https://imsdb.com/Movie%20Scripts/Courage%20Under%20Fire%20Script.html\n",
      "https://imsdb.com/Movie%20Scripts/Dark%20Knight,%20The%20Script.html\n",
      "https://imsdb.com/Movie%20Scripts/Donnie%20Darko%20Script.html\n",
      "https://imsdb.com/Movie%20Scripts/Equilibrium%20Script.html\n",
      "https://imsdb.com/Movie%20Scripts/Executive%20Decision%20Script.html\n",
      "https://imsdb.com/Movie%20Scripts/Eyes%20Wide%20Shut%20Script.html\n",
      "https://imsdb.com/Movie%20Scripts/Full%20Metal%20Jacket%20Script.html\n",
      "https://imsdb.com/Movie%20Scripts/Fury%20Script.html\n",
      "https://imsdb.com/Movie%20Scripts/Ginger%20Snaps%20Script.html\n",
      "https://imsdb.com/Movie%20Scripts/Goodfellas%20Script.html\n",
      "https://imsdb.com/Movie%20Scripts/Harry%20Potter%20and%20the%20Chamber%20of%20Secrets%20Script.html\n",
      "https://imsdb.com/Movie%20Scripts/Harry%20Potter%20and%20the%20Deathly%20Hallows%20Part%201%20Script.html\n",
      "https://imsdb.com/Movie%20Scripts/Harry%20Potter%20and%20the%20Goblet%20of%20Fire%20Script.html\n",
      "https://imsdb.com/Movie%20Scripts/Harry%20Potter%20and%20the%20Half-Blood%20Prince%20Script.html\n",
      "https://imsdb.com/Movie%20Scripts/Harry%20Potter%20and%20the%20Prisoner%20of%20Azkaban%20Script.html\n",
      "https://imsdb.com/Movie%20Scripts/Harry%20Potter%20and%20the%20Sorcerer's%20Stone%20Script.html\n",
      "https://imsdb.com/Movie%20Scripts/Innerspace%20Script.html\n",
      "https://imsdb.com/Movie%20Scripts/Jade%20Script.html\n",
      "https://imsdb.com/Movie%20Scripts/Kiss%20of%20the%20Spider%20Woman%20Script.html\n",
      "https://imsdb.com/Movie%20Scripts/Lethal%20Weapon%20Script.html\n",
      "https://imsdb.com/Movie%20Scripts/Lethal%20Weapon%204%20Script.html\n",
      "https://imsdb.com/Movie%20Scripts/Lion%20King,%20The%20Script.html\n",
      "https://imsdb.com/Movie%20Scripts/Matchstick%20Men%20Script.html\n",
      "https://imsdb.com/Movie%20Scripts/Monster's%20Ball%20Script.html\n",
      "https://imsdb.com/Movie%20Scripts/Mr.%20Holland's%20Opus%20Script.html\n",
      "https://imsdb.com/Movie%20Scripts/Officer%20and%20a%20Gentleman,%20An%20Script.html\n",
      "https://imsdb.com/Movie%20Scripts/Outbreak%20Script.html\n",
      "https://imsdb.com/Movie%20Scripts/Robocop%20Script.html\n",
      "https://imsdb.com/Movie%20Scripts/Shadow%20of%20the%20Vampire%20Script.html\n",
      "https://imsdb.com/Movie%20Scripts/Sneakers%20Script.html\n",
      "https://imsdb.com/Movie%20Scripts/Speed%20Script.html\n",
      "https://imsdb.com/Movie%20Scripts/Superfights%20Script.html\n",
      "https://imsdb.com/Movie%20Scripts/Troy%20Script.html\n",
      "https://imsdb.com/Movie%20Scripts/Unforgiven%20Script.html\n",
      "https://imsdb.com/Movie%20Scripts/Valentine's%20Day%20Script.html\n",
      "https://imsdb.com/Movie%20Scripts/Vertigo%20Script.html\n",
      "https://imsdb.com/Movie%20Scripts/When%20Harry%20Met%20Sally%20Script.html\n"
     ]
    },
    {
     "data": {
      "text/plain": [
       "1172"
      ]
     },
     "execution_count": 158,
     "metadata": {},
     "output_type": "execute_result"
    }
   ],
   "source": [
    "requests_cache.install_cache(\"imdb_cache\")\n",
    "counter = 0\n",
    "for link in total:\n",
    "    movie_info = fetch_script(link)\n",
    "    if movie_info['script'] != []:\n",
    "        counter += 1\n",
    "    else:\n",
    "        print(link)\n",
    "counter"
   ]
  },
  {
   "cell_type": "markdown",
   "id": "9b612cdc",
   "metadata": {
    "tags": [
     "exercise"
    ]
   },
   "source": [
    "__(b)__ We are interested in the genres `'Musical'`, `'Horror'`, and `'Romance'`. Craft a barplot displaying the absolute counts for each of these categories. In each bar, color-code the movies that are also counted in the other two genres. "
   ]
  },
  {
   "cell_type": "markdown",
   "id": "8358fa83",
   "metadata": {
    "tags": [
     "exercise"
    ]
   },
   "source": [
    "__(c, i)__ Using only regex, write a function `tokenizer` that returns bigrams of all non-whitespace and non-punctuation characters, according to the test case below: \n",
    "\n",
    "```python\n",
    "test = '''\n",
    "    Neque porro quisquam est, qui dolorem ipsum quia dolor sit amet, \n",
    "    consectetur, adipisci velit, sed quia non numquam eius modi tempora \n",
    "    incidunt ut labore et dolore magnam aliquam quaerat voluptatem.\n",
    "'''\n",
    "tokenizer(test)\n",
    ">>> ['neque porro',\n",
    " 'porro quisquam',\n",
    " 'quisquam est',\n",
    " 'qui dolorem',\n",
    " 'dolorem ipsum',\n",
    " 'ipsum quia',\n",
    " 'quia dolor',\n",
    " 'dolor sit',\n",
    " 'sit amet',\n",
    " 'adipisci velit',\n",
    " 'sed quia',\n",
    " 'quia non',\n",
    " 'non numquam',\n",
    " 'numquam eius',\n",
    " 'eius modi',\n",
    " 'modi tempora',\n",
    " 'incidunt ut',\n",
    " 'ut labore',\n",
    " 'labore et',\n",
    " 'et dolore',\n",
    " 'dolore magnam',\n",
    " 'magnam aliquam',\n",
    " 'aliquam quaerat',\n",
    " 'quaerat voluptatem']\n",
    " ```"
   ]
  },
  {
   "cell_type": "code",
   "execution_count": 14,
   "id": "8e29a21c",
   "metadata": {
    "tags": [
     "test"
    ]
   },
   "outputs": [
    {
     "data": {
      "text/plain": [
       "['neque porro',\n",
       " 'porro quisquam',\n",
       " 'quisquam est',\n",
       " 'qui dolorem',\n",
       " 'dolorem ipsum',\n",
       " 'ipsum quia',\n",
       " 'quia dolor',\n",
       " 'dolor sit',\n",
       " 'sit amet',\n",
       " 'adipisci velit',\n",
       " 'sed quia',\n",
       " 'quia non',\n",
       " 'non numquam',\n",
       " 'numquam eius',\n",
       " 'eius modi',\n",
       " 'modi tempora',\n",
       " 'incidunt ut',\n",
       " 'ut labore',\n",
       " 'labore et',\n",
       " 'et dolore',\n",
       " 'dolore magnam',\n",
       " 'magnam aliquam',\n",
       " 'aliquam quaerat',\n",
       " 'quaerat voluptatem']"
      ]
     },
     "execution_count": 14,
     "metadata": {},
     "output_type": "execute_result"
    }
   ],
   "source": [
    "test = '''\n",
    "    Neque porro quisquam est, qui dolorem ipsum quia dolor sit amet, \n",
    "    consectetur, adipisci velit, sed quia non numquam eius modi tempora \n",
    "    incidunt ut labore et dolore magnam aliquam quaerat voluptatem.\n",
    "'''\n",
    "tokenizer(test)"
   ]
  },
  {
   "cell_type": "markdown",
   "id": "1241f210",
   "metadata": {
    "tags": [
     "exercise"
    ]
   },
   "source": [
    "__(ii)__ Use the tokenizer to obtain a tf-idf vector for each movie. Perform a (non-centered) principal component analysis (`sklearn.decomposition.TruncatedSVD`). _What fraction of variation is explained by the first principal component?_ __(iii)__ Generate a strip-plot for the first principal components versus all three genres. Does visualization indicate that a good classification could result from this approach? "
   ]
  }
 ],
 "metadata": {
  "celltoolbar": "Tags",
  "kernelspec": {
   "display_name": "venv",
   "language": "python",
   "name": "python3"
  },
  "language_info": {
   "codemirror_mode": {
    "name": "ipython",
    "version": 3
   },
   "file_extension": ".py",
   "mimetype": "text/x-python",
   "name": "python",
   "nbconvert_exporter": "python",
   "pygments_lexer": "ipython3",
   "version": "3.11.6"
  },
  "vscode": {
   "interpreter": {
    "hash": "9a6f6de4d8afe0ca01d20dfdc98a6258415054431dfe21163eb1f023bb742319"
   }
  }
 },
 "nbformat": 4,
 "nbformat_minor": 5
}
