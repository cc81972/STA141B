{
 "cells": [
  {
   "cell_type": "markdown",
   "id": "7b4bee3a",
   "metadata": {
    "tags": [
     "header"
    ]
   },
   "source": [
    "# STA 141B Assignment 4\n",
    "\n",
    "Due __March 8, 2024__ by __11:59pm__. Submit your work by uploading it to Gradescope through Canvas.\n",
    "\n",
    "Instructions:\n",
    "\n",
    "1. Provide your solutions in new cells following each exercise description. Create as many new cells as necessary. Use code cells for your Python scripts and Markdown cells for explanatory text or answers to non-coding questions. Answer all textual questions in complete sentences.\n",
    "2. The use of assistive tools is permitted, but must be indicated. You will be graded on you proficiency in coding. Produce high quality code by adhering to proper programming principles. \n",
    "3. Export the .jpynb as .pdf and submit it on Gradescope in time. To facilitate grading, indicate the area of the solution on the submission. Submissions without indication will be marked down. No late submissions accepted. \n",
    "4. If test cases are given, your solution must be in the same format. \n",
    "5. The total number of points is 10. "
   ]
  },
  {
   "cell_type": "markdown",
   "id": "17c77449",
   "metadata": {
    "tags": [
     "exercise"
    ]
   },
   "source": [
    "__(a, i)__ Write a function that retrieves all links to movies in the database by scraping the _alphabetical_ section on [imsdb.com](https://imsdb.com/) and retrieve the links. _How many links did you find?_ __(ii)__ Write a function `fetch_script` that, given the link of a movie retrieved in (i), returns a dictionary that contains all relevant information of the movie: \n",
    "\n",
    "```python\n",
    "fetch_script('/Movie Scripts/10 Things I Hate About You Script.html')\n",
    "\n",
    ">>> {'title': '10 Things I Hate About You',\n",
    "     'writers': ['Karen McCullah Lutz', 'Kirsten Smith', 'William Shakespeare'],\n",
    "     'genres': ['Comedy', 'Romance'],\n",
    "     'date': 1997,\n",
    "     'script': '...'}\n",
    "```\n",
    "\n",
    "The `script` field contains a string of the scraped script. Retrieve the information for all movies. _How many scripts did you retrieve?_"
   ]
  },
  {
   "cell_type": "code",
   "execution_count": 2,
   "id": "5a5e8483",
   "metadata": {},
   "outputs": [],
   "source": [
    "import requests\n",
    "import requests_cache\n",
    "import lxml.html as lx\n",
    "import re"
   ]
  },
  {
   "cell_type": "code",
   "execution_count": 3,
   "id": "dd2c01d7",
   "metadata": {},
   "outputs": [
    {
     "name": "stdout",
     "output_type": "stream",
     "text": [
      "['/scripts/8-Mile.pdf']\n"
     ]
    }
   ],
   "source": [
    "###Testing x paths\n",
    "curr_link = 'https://imsdb.com/Movie%20Scripts/8%20Mile%20Script.html'\n",
    "response = requests.get(curr_link)\n",
    "page = lx.fromstring(response.text)\n",
    "movie_script_link = page.xpath('//table[@class = \"script-details\"]//tr[2]/td[2]//a[last()]/@href')\n",
    "# script_page = lx.fromstring(requests.get('https://imsdb.com' + movie_script_link[0]).text)\n",
    "# print(script_page.xpath('//*[@class = \"scrtext\"]/pre[1]//*/text()'))\n",
    "script_page = lx.fromstring(requests.get('https://imsdb.com' + movie_script_link[0]).text)\n",
    "script_page.xpath('//*[@class = \"scrtext\"]//text()')\n",
    "print(movie_script_link)"
   ]
  },
  {
   "cell_type": "code",
   "execution_count": 4,
   "id": "47e485e4",
   "metadata": {},
   "outputs": [
    {
     "data": {
      "text/plain": [
       "1221"
      ]
     },
     "execution_count": 4,
     "metadata": {},
     "output_type": "execute_result"
    }
   ],
   "source": [
    "requests_cache.install_cache(\"imdb_cache\")\n",
    "def fetch_movie_links():\n",
    "    link_template = 'https://imsdb.com/alphabetical/'\n",
    "    curr_link = ''\n",
    "    movie_links = []\n",
    "    for i in range(64,91):\n",
    "        if i == 64:\n",
    "            curr_link = link_template + '0'\n",
    "        else:\n",
    "            curr_link = link_template + chr(i)\n",
    "        response = requests.get(curr_link)\n",
    "        page = lx.fromstring(response.text)\n",
    "        page_links = page.xpath('//td/p//@href')\n",
    "        page_links = [link.replace(' ', '%20') for link in page_links]\n",
    "        [movie_links.append('https://imsdb.com' + i) for i in page_links]\n",
    "    return movie_links\n",
    "total = fetch_movie_links()\n",
    "len(total)\n",
    "        "
   ]
  },
  {
   "cell_type": "code",
   "execution_count": 5,
   "id": "351cd5e2",
   "metadata": {},
   "outputs": [],
   "source": [
    "def fetch_script(link): \n",
    "    movie_info = {'title': None, 'writers': None, 'genres': None, 'date': None, 'script': None}\n",
    "    response = requests.get(link)\n",
    "    page = lx.fromstring(response.text)\n",
    "    movie_info['title'] = page.xpath('//table[@class = \"script-details\"]//tr[1]/td/h1/text()')[0].replace(' Script', '') #Get title\n",
    "    movie_info['writers'] = page.xpath('//table[@class = \"script-details\"]//tr[2]/td[2]/a[following-sibling::b[contains(text(), \"Genres\")]]/text()')\n",
    "    movie_info['genres'] = page.xpath('//table[@class = \"script-details\"]//tr[2]/td[2]/a[preceding-sibling::b[contains(text(), \"Genres\")] and following-sibling::b[contains(text(), \"Date\")]]/text()')\n",
    "    date = page.xpath('//table[@class=\"script-details\"]//tr[2]/td[2]//b[contains(text(), \"Date\")]/following-sibling::text()[1]')\n",
    "    if date:\n",
    "        date = date[0].replace(' : ', '')\n",
    "    movie_info['date'] = date\n",
    "    movie_script_link = page.xpath('//table[@class = \"script-details\"]//tr[2]/td[2]//a[last()]/@href')\n",
    "    if movie_script_link:\n",
    "        script_page = lx.fromstring(requests.get('https://imsdb.com' + movie_script_link[0]).text)\n",
    "        movie_info['script'] = script_page.xpath('//*[@class = \"scrtext\"]//text()')\n",
    "    else:\n",
    "        movie_info['script'] = movie_script_link\n",
    "    return movie_info\n",
    "    "
   ]
  },
  {
   "cell_type": "code",
   "execution_count": 5,
   "id": "f250fbe8",
   "metadata": {},
   "outputs": [
    {
     "data": {
      "text/plain": [
       "['Drama', 'Musical']"
      ]
     },
     "execution_count": 5,
     "metadata": {},
     "output_type": "execute_result"
    }
   ],
   "source": [
    "fetch_script('https://imsdb.com/Movie%20Scripts/8%20Mile%20Script.html')['genres']"
   ]
  },
  {
   "cell_type": "code",
   "execution_count": null,
   "id": "38941f01",
   "metadata": {},
   "outputs": [],
   "source": [
    "requests_cache.install_cache(\"imdb_cache\")\n",
    "counter = 0\n",
    "for link in total:\n",
    "    movie_info = fetch_script(link)\n",
    "    if movie_info['script'] != []:\n",
    "        counter += 1\n",
    "counter"
   ]
  },
  {
   "cell_type": "markdown",
   "id": "9b612cdc",
   "metadata": {
    "tags": [
     "exercise"
    ]
   },
   "source": [
    "__(b)__ We are interested in the genres `'Musical'`, `'Horror'`, and `'Romance'`. Craft a barplot displaying the absolute counts for each of these categories. In each bar, color-code the movies that are also counted in the other two genres. "
   ]
  },
  {
   "cell_type": "code",
   "execution_count": 28,
   "id": "38d47269",
   "metadata": {},
   "outputs": [
    {
     "data": {
      "text/html": [
       "<div>\n",
       "<style scoped>\n",
       "    .dataframe tbody tr th:only-of-type {\n",
       "        vertical-align: middle;\n",
       "    }\n",
       "\n",
       "    .dataframe tbody tr th {\n",
       "        vertical-align: top;\n",
       "    }\n",
       "\n",
       "    .dataframe thead th {\n",
       "        text-align: right;\n",
       "    }\n",
       "</style>\n",
       "<table border=\"1\" class=\"dataframe\">\n",
       "  <thead>\n",
       "    <tr style=\"text-align: right;\">\n",
       "      <th></th>\n",
       "      <th>Musical</th>\n",
       "      <th>Horror</th>\n",
       "      <th>Romance</th>\n",
       "    </tr>\n",
       "    <tr>\n",
       "      <th>Movie</th>\n",
       "      <th></th>\n",
       "      <th></th>\n",
       "      <th></th>\n",
       "    </tr>\n",
       "  </thead>\n",
       "  <tbody>\n",
       "    <tr>\n",
       "      <th>10 Things I Hate About You</th>\n",
       "      <td>0</td>\n",
       "      <td>0</td>\n",
       "      <td>1</td>\n",
       "    </tr>\n",
       "    <tr>\n",
       "      <th>12</th>\n",
       "      <td>0</td>\n",
       "      <td>0</td>\n",
       "      <td>0</td>\n",
       "    </tr>\n",
       "    <tr>\n",
       "      <th>12 and Holding</th>\n",
       "      <td>0</td>\n",
       "      <td>0</td>\n",
       "      <td>0</td>\n",
       "    </tr>\n",
       "    <tr>\n",
       "      <th>12 Monkeys</th>\n",
       "      <td>0</td>\n",
       "      <td>0</td>\n",
       "      <td>0</td>\n",
       "    </tr>\n",
       "    <tr>\n",
       "      <th>12 Years a Slave</th>\n",
       "      <td>0</td>\n",
       "      <td>0</td>\n",
       "      <td>0</td>\n",
       "    </tr>\n",
       "    <tr>\n",
       "      <th>...</th>\n",
       "      <td>...</td>\n",
       "      <td>...</td>\n",
       "      <td>...</td>\n",
       "    </tr>\n",
       "    <tr>\n",
       "      <th>You've Got Mail</th>\n",
       "      <td>0</td>\n",
       "      <td>0</td>\n",
       "      <td>1</td>\n",
       "    </tr>\n",
       "    <tr>\n",
       "      <th>Youth in Revolt</th>\n",
       "      <td>0</td>\n",
       "      <td>0</td>\n",
       "      <td>1</td>\n",
       "    </tr>\n",
       "    <tr>\n",
       "      <th>Zero Dark Thirty</th>\n",
       "      <td>0</td>\n",
       "      <td>0</td>\n",
       "      <td>0</td>\n",
       "    </tr>\n",
       "    <tr>\n",
       "      <th>Zerophilia</th>\n",
       "      <td>0</td>\n",
       "      <td>0</td>\n",
       "      <td>1</td>\n",
       "    </tr>\n",
       "    <tr>\n",
       "      <th>Zootopia</th>\n",
       "      <td>0</td>\n",
       "      <td>0</td>\n",
       "      <td>0</td>\n",
       "    </tr>\n",
       "  </tbody>\n",
       "</table>\n",
       "<p>1221 rows × 3 columns</p>\n",
       "</div>"
      ],
      "text/plain": [
       "                            Musical  Horror  Romance\n",
       "Movie                                               \n",
       "10 Things I Hate About You        0       0        1\n",
       "12                                0       0        0\n",
       "12 and Holding                    0       0        0\n",
       "12 Monkeys                        0       0        0\n",
       "12 Years a Slave                  0       0        0\n",
       "...                             ...     ...      ...\n",
       "You've Got Mail                   0       0        1\n",
       "Youth in Revolt                   0       0        1\n",
       "Zero Dark Thirty                  0       0        0\n",
       "Zerophilia                        0       0        1\n",
       "Zootopia                          0       0        0\n",
       "\n",
       "[1221 rows x 3 columns]"
      ]
     },
     "execution_count": 28,
     "metadata": {},
     "output_type": "execute_result"
    }
   ],
   "source": [
    "requests_cache.install_cache(\"imdb_cache\")\n",
    "genre_df = pd.DataFrame(columns=['Movie', 'Musical', 'Horror', 'Romance'])\n",
    "counter = 0\n",
    "for link in total:\n",
    "    curr_movie = fetch_script(link)\n",
    "    curr_movie_genres = curr_movie['genres']\n",
    "    curr_movie_info = {'Movie': curr_movie['title'], 'Musical': 0, 'Horror': 0, 'Romance': 0}\n",
    "    for genre in curr_movie_genres:\n",
    "        if genre in ['Musical', 'Horror', 'Romance']:\n",
    "            curr_movie_info[genre] = 1\n",
    "    genre_df.loc[counter] = curr_movie_info\n",
    "    counter += 1\n",
    "genre_df.set_index('Movie', inplace=True)\n",
    "genre_df"
   ]
  },
  {
   "cell_type": "code",
   "execution_count": 29,
   "id": "7bac28d0",
   "metadata": {},
   "outputs": [
    {
     "data": {
      "text/plain": [
       "Musical     26\n",
       "Horror     124\n",
       "Romance    180\n",
       "dtype: int64"
      ]
     },
     "execution_count": 29,
     "metadata": {},
     "output_type": "execute_result"
    }
   ],
   "source": [
    "genre_counts = genre_df.sum()\n",
    "genre_counts"
   ]
  },
  {
   "cell_type": "code",
   "execution_count": 31,
   "id": "59c89e63",
   "metadata": {},
   "outputs": [
    {
     "data": {
      "image/png": "[encoded data removed]",
      "text/plain": [
       "<Figure size 1000x600 with 1 Axes>"
      ]
     },
     "metadata": {},
     "output_type": "display_data"
    }
   ],
   "source": [
    "import matplotlib.pyplot as plt\n",
    "plt.figure(figsize=(10, 6))\n",
    "bottom = None\n",
    "colors = ['blue', 'green', 'red']\n",
    "\n",
    "for i, genre in enumerate(genre_counts.index):\n",
    "    counts = genre_df[genre_df[genre] == 1].count()\n",
    "    plt.bar(genre, counts[genre], bottom=bottom, color=colors[i])\n",
    "    if bottom is None:\n",
    "        bottom = counts[genre]\n",
    "    else:\n",
    "        bottom += counts[genre]\n",
    "\n",
    "plt.xlabel('Genre')\n",
    "plt.ylabel('Number of Movies')\n",
    "plt.title('Number of Movies by Genre')\n",
    "plt.legend(genre_counts.index)\n",
    "plt.show()"
   ]
  },
  {
   "cell_type": "markdown",
   "id": "8358fa83",
   "metadata": {
    "tags": [
     "exercise"
    ]
   },
   "source": [
    "__(c, i)__ Using only regex, write a function `tokenizer` that returns bigrams of all non-whitespace and non-punctuation characters, according to the test case below: \n",
    "\n",
    "```python\n",
    "test = '''\n",
    "    Neque porro quisquam est, qui dolorem ipsum quia dolor sit amet, \n",
    "    consectetur, adipisci velit, sed quia non numquam eius modi tempora \n",
    "    incidunt ut labore et dolore magnam aliquam quaerat voluptatem.\n",
    "'''\n",
    "tokenizer(test)\n",
    ">>> ['neque porro',\n",
    " 'porro quisquam',\n",
    " 'quisquam est',\n",
    " 'qui dolorem',\n",
    " 'dolorem ipsum',\n",
    " 'ipsum quia',\n",
    " 'quia dolor',\n",
    " 'dolor sit',\n",
    " 'sit amet',\n",
    " 'adipisci velit',\n",
    " 'sed quia',\n",
    " 'quia non',\n",
    " 'non numquam',\n",
    " 'numquam eius',\n",
    " 'eius modi',\n",
    " 'modi tempora',\n",
    " 'incidunt ut',\n",
    " 'ut labore',\n",
    " 'labore et',\n",
    " 'et dolore',\n",
    " 'dolore magnam',\n",
    " 'magnam aliquam',\n",
    " 'aliquam quaerat',\n",
    " 'quaerat voluptatem']\n",
    " ```"
   ]
  },
  {
   "cell_type": "code",
   "execution_count": 49,
   "id": "9caf551b",
   "metadata": {},
   "outputs": [],
   "source": [
    "import re\n",
    "\n",
    "def tokenizer(text):\n",
    "    text = re.sub(r'\\n|\\s{2,}|[^\\w\\s]','', text.lower())\n",
    "    bigram = []\n",
    "    match = re.match(r'\\b(\\w+\\s+\\w+)\\b', text)\n",
    "    if match:\n",
    "        first_word_len = len(re.match(r'\\b(\\w+)\\b', text).group(1))\n",
    "        bigram.append(match.group(1))\n",
    "        bigram.extend(tokenizer(text[first_word_len+1:]))\n",
    "    return bigram"
   ]
  },
  {
   "cell_type": "code",
   "execution_count": 42,
   "id": "8a8142f2",
   "metadata": {},
   "outputs": [
    {
     "name": "stdout",
     "output_type": "stream",
     "text": [
      "1\n"
     ]
    }
   ],
   "source": [
    "text = ''\n",
    "text = re.sub(r'\\n|\\s{2,}|[^\\w\\s]','', text.lower())\n",
    "if not re.match(r'\\b(\\w+\\s+\\w+)\\b', text):\n",
    "    print(1)"
   ]
  },
  {
   "cell_type": "code",
   "execution_count": 50,
   "id": "4876d217",
   "metadata": {},
   "outputs": [
    {
     "data": {
      "text/plain": [
       "['neque porro',\n",
       " 'porro quisquam',\n",
       " 'quisquam est',\n",
       " 'est qui',\n",
       " 'qui dolorem',\n",
       " 'dolorem ipsum',\n",
       " 'ipsum quia',\n",
       " 'quia dolor',\n",
       " 'dolor sit',\n",
       " 'sit ametconsectetur',\n",
       " 'ametconsectetur adipisci',\n",
       " 'adipisci velit',\n",
       " 'velit sed',\n",
       " 'sed quia',\n",
       " 'quia non',\n",
       " 'non numquam',\n",
       " 'numquam eius',\n",
       " 'eius modi',\n",
       " 'modi temporaincidunt',\n",
       " 'temporaincidunt ut',\n",
       " 'ut labore',\n",
       " 'labore et',\n",
       " 'et dolore',\n",
       " 'dolore magnam',\n",
       " 'magnam aliquam',\n",
       " 'aliquam quaerat',\n",
       " 'quaerat voluptatem']"
      ]
     },
     "execution_count": 50,
     "metadata": {},
     "output_type": "execute_result"
    }
   ],
   "source": [
    "test = '''\n",
    "    Neque porro quisquam est, qui dolorem ipsum quia dolor sit amet, \n",
    "    consectetur, adipisci velit, sed quia non numquam eius modi tempora \n",
    "    incidunt ut labore et dolore magnam aliquam quaerat voluptatem.\n",
    "'''\n",
    "tokenizer(test)"
   ]
  },
  {
   "cell_type": "code",
   "execution_count": 14,
   "id": "8e29a21c",
   "metadata": {
    "tags": [
     "test"
    ]
   },
   "outputs": [
    {
     "data": {
      "text/plain": [
       "['neque porro',\n",
       " 'porro quisquam',\n",
       " 'quisquam est',\n",
       " 'qui dolorem',\n",
       " 'dolorem ipsum',\n",
       " 'ipsum quia',\n",
       " 'quia dolor',\n",
       " 'dolor sit',\n",
       " 'sit amet',\n",
       " 'adipisci velit',\n",
       " 'sed quia',\n",
       " 'quia non',\n",
       " 'non numquam',\n",
       " 'numquam eius',\n",
       " 'eius modi',\n",
       " 'modi tempora',\n",
       " 'incidunt ut',\n",
       " 'ut labore',\n",
       " 'labore et',\n",
       " 'et dolore',\n",
       " 'dolore magnam',\n",
       " 'magnam aliquam',\n",
       " 'aliquam quaerat',\n",
       " 'quaerat voluptatem']"
      ]
     },
     "execution_count": 14,
     "metadata": {},
     "output_type": "execute_result"
    }
   ],
   "source": [
    "test = '''\n",
    "    Neque porro quisquam est, qui dolorem ipsum quia dolor sit amet, \n",
    "    consectetur, adipisci velit, sed quia non numquam eius modi tempora \n",
    "    incidunt ut labore et dolore magnam aliquam quaerat voluptatem.\n",
    "'''\n",
    "tokenizer(test)"
   ]
  },
  {
   "cell_type": "markdown",
   "id": "1241f210",
   "metadata": {
    "tags": [
     "exercise"
    ]
   },
   "source": [
    "__(ii)__ Use the tokenizer to obtain a tf-idf vector for each movie. Perform a (non-centered) principal component analysis (`sklearn.decomposition.TruncatedSVD`). _What fraction of variation is explained by the first principal component?_ __(iii)__ Generate a strip-plot for the first principal components versus all three genres. Does visualization indicate that a good classification could result from this approach? "
   ]
  }
 ],
 "metadata": {
  "celltoolbar": "Tags",
  "kernelspec": {
   "display_name": "venv",
   "language": "python",
   "name": "python3"
  },
  "language_info": {
   "codemirror_mode": {
    "name": "ipython",
    "version": 3
   },
   "file_extension": ".py",
   "mimetype": "text/x-python",
   "name": "python",
   "nbconvert_exporter": "python",
   "pygments_lexer": "ipython3",
   "version": "3.11.4"
  },
  "vscode": {
   "interpreter": {
    "hash": "9a6f6de4d8afe0ca01d20dfdc98a6258415054431dfe21163eb1f023bb742319"
   }
  }
 },
 "nbformat": 4,
 "nbformat_minor": 5
}
