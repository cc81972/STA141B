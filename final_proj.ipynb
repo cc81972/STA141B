{
 "cells": [
  {
   "cell_type": "code",
   "execution_count": 1,
   "metadata": {},
   "outputs": [],
   "source": [
    "import requests\n",
    "import lxml.html as lx\n",
    "base_link = 'https://tracker.gg'\n",
    "challengers_prof = []\n",
    "for i in range(5):\n",
    "    response = requests.get('https://tracker.gg/lol/leaderboards/stats/all/LeaguePoints?region=NA&queueType=RANKED_SOLO_5x5&page={i}')\n",
    "    page = lx.fromstring(response.text)\n",
    "    curr_challengers = page.xpath('//*[@id=\"app\"]/div[2]/div[3]/div/main/div[3]/div[2]/div/div/div[1]/div/table/tbody/tr//div[contains(@class, \"text\")]/a/@href')\n",
    "    for link in curr_challengers:\n",
    "        if link.startswith('/lol/profile'):\n",
    "            challengers_prof.append(base_link + link)"
   ]
  },
  {
   "cell_type": "code",
   "execution_count": 2,
   "metadata": {},
   "outputs": [
    {
     "data": {
      "text/plain": [
       "[]"
      ]
     },
     "execution_count": 2,
     "metadata": {},
     "output_type": "execute_result"
    }
   ],
   "source": [
    "challengers_prof"
   ]
  },
  {
   "cell_type": "code",
   "execution_count": null,
   "metadata": {},
   "outputs": [],
   "source": []
  }
 ],
 "metadata": {
  "kernelspec": {
   "display_name": "Python 3",
   "language": "python",
   "name": "python3"
  },
  "language_info": {
   "codemirror_mode": {
    "name": "ipython",
    "version": 3
   },
   "file_extension": ".py",
   "mimetype": "text/x-python",
   "name": "python",
   "nbconvert_exporter": "python",
   "pygments_lexer": "ipython3",
   "version": "3.11.4"
  }
 },
 "nbformat": 4,
 "nbformat_minor": 2
}
